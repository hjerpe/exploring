{
 "cells": [
  {
   "cell_type": "markdown",
   "id": "326768d4-0cb0-46d5-ae3e-33d10ca6e19a",
   "metadata": {},
   "source": [
    "# Training a Diffusion Model with Weights and Biases (W&B)\r\n",
    "\r\n",
    "<!--- @wandbcode{dlai_02} -->\r\n",
    "\r\n",
    "In this notebooks we will instrument the training of a diffusion model with W&B. We will use the Lab3 notebook from the [\"How diffusion models work\"](https://www.deeplearning.ai/short-courses/how-diffusion-models-work/) course. \r\n",
    "We will add:\r\n",
    "- Logging of the training loss and metrics\r\n",
    "- Sampling from the model during training and uploading the samples to W&B\r\n",
    "- Saving the model checkpoints to W&Beffectively."
   ]
  },
  {
   "cell_type": "code",
   "execution_count": null,
   "id": "33027d3d-e657-435e-9c78-c48ce527d894",
   "metadata": {},
   "outputs": [],
   "source": [
    "from types import SimpleNamespace\n",
    "from pathlib import Path\n",
    "from tqdm.notebook import tqdm\n",
    "import torch\n",
    "import torch.nn.functional as F\n",
    "from torch.utils.data import DataLoader\n",
    "import numpy as np\n",
    "from utilities import *\n",
    "\n",
    "import wandb"
   ]
  },
  {
   "cell_type": "code",
   "execution_count": null,
   "id": "b80cbdc7-3a8e-4be6-a724-123c6ea33086",
   "metadata": {},
   "outputs": [],
   "source": [
    "os.getcwd()"
   ]
  },
  {
   "cell_type": "markdown",
   "id": "f1032581-287a-494c-a176-1499fd8c4c4f",
   "metadata": {},
   "source": [
    "We encourage you to create an account to get the full user experience from W&B"
   ]
  },
  {
   "cell_type": "markdown",
   "id": "ecd82258-684b-44eb-805c-2088bacace54",
   "metadata": {},
   "source": [
    "## Setting Things Up"
   ]
  },
  {
   "cell_type": "code",
   "execution_count": null,
   "id": "f6f9f548-074b-4c25-a0cc-e4bed26c7be4",
   "metadata": {},
   "outputs": [],
   "source": [
    "# we are storing the parameters to be logged to wandb\n",
    "DATA_DIR = Path('./data/')\n",
    "SAVE_DIR = Path('./data/weights/')\n",
    "SAVE_DIR.mkdir(exist_ok=True, parents=True)\n",
    "DEVICE = \"cuda\" if torch.cuda.is_available() else \"cpu\"\n",
    "\n",
    "config = SimpleNamespace(\n",
    "    # hyperparameters\n",
    "    num_samples = 30,\n",
    "\n",
    "    # diffusion hyperparameters\n",
    "    timesteps = 500,\n",
    "    beta1 = 1e-4,\n",
    "    beta2 = 0.02,\n",
    "\n",
    "    # network hyperparameters\n",
    "    n_feat = 64, # 64 hidden dimension feature\n",
    "    n_cfeat = 5, # context vector is of size 5\n",
    "    height = 16, # 16x16 image\n",
    "    \n",
    "    # training hyperparameters\n",
    "    batch_size = 100,\n",
    "    n_epoch = 32,\n",
    "    lrate = 1e-3,\n",
    ")"
   ]
  },
  {
   "cell_type": "markdown",
   "id": "4b08a576-f3e0-4dc1-b401-43c359649e41",
   "metadata": {},
   "source": [
    "### Setup DDPM noise scheduler and sampler (same as in the Diffusion course). \r\n",
    "- perturb_input: Adds noise to the input image at the corresponding timestep on the schedule\r\n",
    "- sample_ddpm_context: Generate images using the DDPM sampler, we will use this function during training to sample from the model regularly and see how our training is progressing"
   ]
  },
  {
   "cell_type": "code",
   "execution_count": null,
   "id": "2ab31b07-f8f8-4b0d-a680-0349fdd4b2a8",
   "metadata": {},
   "outputs": [],
   "source": [
    "# setup ddpm sampler functions\n",
    "perturb_input, sample_ddpm_context = setup_ddpm(config.beta1, \n",
    "                                                config.beta2, \n",
    "                                                config.timesteps, \n",
    "                                                DEVICE)"
   ]
  },
  {
   "cell_type": "code",
   "execution_count": null,
   "id": "77014791-0b3c-426c-ad88-9e00693ff98d",
   "metadata": {},
   "outputs": [],
   "source": [
    "# construct model\n",
    "nn_model = ContextUnet(in_channels=3, \n",
    "                       n_feat=config.n_feat, \n",
    "                       n_cfeat=config.n_cfeat, \n",
    "                       height=config.height).to(DEVICE)"
   ]
  },
  {
   "cell_type": "code",
   "execution_count": null,
   "id": "4ff50b5f-0022-4053-902b-41e79dc9b694",
   "metadata": {},
   "outputs": [],
   "source": [
    "# load dataset and construct optimizer\n",
    "dataset = CustomDataset.from_np(path=DATA_DIR)\n",
    "dataloader = DataLoader(dataset, \n",
    "                        batch_size=config.batch_size, \n",
    "                        shuffle=True)\n",
    "optim = torch.optim.Adam(nn_model.parameters(), lr=config.lrate)"
   ]
  },
  {
   "cell_type": "markdown",
   "id": "976d0549-cf48-46f5-b620-269236e16ef1",
   "metadata": {},
   "source": [
    "## Training"
   ]
  },
  {
   "cell_type": "markdown",
   "id": "2284b52c-20cf-425c-bd01-6bb47dbb7b64",
   "metadata": {},
   "source": [
    "We choose a fixed context vector with 6 samples of each class to guide our diffusion"
   ]
  },
  {
   "cell_type": "code",
   "execution_count": null,
   "id": "6203aa9e-a8ef-4451-97e3-a0f23301e51e",
   "metadata": {},
   "outputs": [],
   "source": [
    "# Noise vector\n",
    "# x_T ~ N(0, 1), sample initial noise\n",
    "noises = torch.randn(config.num_samples, 3, \n",
    "                     config.height, config.height).to(DEVICE)  \n",
    "\n",
    "# A fixed context vector to sample from\n",
    "ctx_vector = F.one_hot(torch.tensor([0,0,0,0,0,0,   # hero\n",
    "                                     1,1,1,1,1,1,   # non-hero\n",
    "                                     2,2,2,2,2,2,   # food\n",
    "                                     3,3,3,3,3,3,   # spell\n",
    "                                     4,4,4,4,4,4]), # side-facing \n",
    "                       5).to(DEVICE).float()"
   ]
  },
  {
   "cell_type": "markdown",
   "id": "cec7e717-54e6-4b67-8c1e-78a00dd7a487",
   "metadata": {},
   "source": [
    "The following training cell takes very long to run on CPU, we have already trained the model for you on a GPU equipped machine.\r\n",
    "\r\n",
    "### You can visit the result of this >> [training here](https://wandb.ai/dlai-course/dlai_sprite_diffusion/runs/pzs3gsyo) <<"
   ]
  },
  {
   "cell_type": "markdown",
   "id": "02f1597d-8bb8-4c6f-b19b-3eb92dcb607d",
   "metadata": {},
   "source": [
    "#### TODO: Add own model training on Colab"
   ]
  },
  {
   "cell_type": "code",
   "execution_count": null,
   "id": "4348cdf5-80bb-4054-92c6-f1dacd916d83",
   "metadata": {},
   "outputs": [],
   "source": [
    "# create a wandb run\n",
    "run = wandb.init(project=\"dlai_sprite_diffusion\", \n",
    "                 job_type=\"train\", \n",
    "                 config=config)\n",
    "\n",
    "# we pass the config back from W&B\n",
    "config = wandb.config\n",
    "\n",
    "for ep in tqdm(range(config.n_epoch), leave=True, total=config.n_epoch):\n",
    "    # set into train mode\n",
    "    nn_model.train()\n",
    "    optim.param_groups[0]['lr'] = config.lrate*(1-ep/config.n_epoch)\n",
    "    \n",
    "    pbar = tqdm(dataloader, leave=False)\n",
    "    for x, c in pbar:   # x: images  c: context\n",
    "        optim.zero_grad()\n",
    "        x = x.to(DEVICE)\n",
    "        c = c.to(DEVICE)   \n",
    "        context_mask = torch.bernoulli(torch.zeros(c.shape[0]) + 0.8).to(DEVICE)\n",
    "        c = c * context_mask.unsqueeze(-1)        \n",
    "        noise = torch.randn_like(x)\n",
    "        t = torch.randint(1, config.timesteps + 1, (x.shape[0],)).to(DEVICE) \n",
    "        x_pert = perturb_input(x, t, noise)      \n",
    "        pred_noise = nn_model(x_pert, t / config.timesteps, c=c)      \n",
    "        loss = F.mse_loss(pred_noise, noise)\n",
    "        loss.backward()    \n",
    "        optim.step()\n",
    "\n",
    "        wandb.log({\"loss\": loss.item(),\n",
    "                   \"lr\": optim.param_groups[0]['lr'],\n",
    "                   \"epoch\": ep})\n",
    "\n",
    "\n",
    "    # save model periodically\n",
    "    if ep%4==0 or ep == int(config.n_epoch-1):\n",
    "        nn_model.eval()\n",
    "        ckpt_file = SAVE_DIR/f\"context_model.pth\"\n",
    "        torch.save(nn_model.state_dict(), ckpt_file)\n",
    "\n",
    "        artifact_name = f\"{wandb.run.id}_context_model\"\n",
    "        at = wandb.Artifact(artifact_name, type=\"model\")\n",
    "        at.add_file(ckpt_file)\n",
    "        wandb.log_artifact(at, aliases=[f\"epoch_{ep}\"])\n",
    "\n",
    "        samples, _ = sample_ddpm_context(nn_model, \n",
    "                                         noises, \n",
    "                                         ctx_vector[:config.num_samples])\n",
    "        wandb.log({\n",
    "            \"train_samples\": [\n",
    "                wandb.Image(img) for img in samples.split(1)\n",
    "            ]})\n",
    "        \n",
    "# finish W&B run\n",
    "wandb.finish()"
   ]
  },
  {
   "cell_type": "code",
   "execution_count": null,
   "id": "3b579c94-0234-4e20-83b1-3037802a855b",
   "metadata": {},
   "outputs": [],
   "source": []
  }
 ],
 "metadata": {
  "kernelspec": {
   "display_name": "default_venv",
   "language": "python",
   "name": "default_venv"
  },
  "language_info": {
   "codemirror_mode": {
    "name": "ipython",
    "version": 3
   },
   "file_extension": ".py",
   "mimetype": "text/x-python",
   "name": "python",
   "nbconvert_exporter": "python",
   "pygments_lexer": "ipython3",
   "version": "3.10.12"
  }
 },
 "nbformat": 4,
 "nbformat_minor": 5
}
