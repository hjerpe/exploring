{
 "cells": [
  {
   "cell_type": "code",
   "execution_count": 40,
   "id": "a6e3aa13-153a-442d-b9a6-e87544c48f83",
   "metadata": {},
   "outputs": [],
   "source": [
    "import os\n",
    "from transformers import pipeline"
   ]
  },
  {
   "cell_type": "markdown",
   "id": "38aa3a4f-0c4e-4a14-a0d3-b8e5de746cc0",
   "metadata": {},
   "source": [
    "### TOC\n",
    "1. [Behind the pipeline](#behind_the_pipeline)\n",
    "2. [Models](#models)\n",
    "3. [Tokenizers](#tokenizers)\n",
    "4. [Handling multiple sequences](#handling_multiple_sequences)\n",
    "5. [Putting it all together](#putting_it_all_together)"
   ]
  },
  {
   "cell_type": "markdown",
   "id": "18919cdf-8fa3-4f2e-9bea-8f0805cc8fce",
   "metadata": {},
   "source": [
    "### Behind the pipeline <a id=\"behind_the_pipeline\"></a>"
   ]
  },
  {
   "cell_type": "code",
   "execution_count": 41,
   "id": "765ba9ea-0048-4e2a-af62-67aefcec95d7",
   "metadata": {},
   "outputs": [
    {
     "name": "stderr",
     "output_type": "stream",
     "text": [
      "No model was supplied, defaulted to distilbert-base-uncased-finetuned-sst-2-english and revision af0f99b (https://huggingface.co/distilbert-base-uncased-finetuned-sst-2-english).\n",
      "Using a pipeline without specifying a model name and revision in production is not recommended.\n",
      "Xformers is not installed correctly. If you want to use memory_efficient_attention to accelerate training use the following command to install Xformers\n",
      "pip install xformers.\n"
     ]
    },
    {
     "data": {
      "text/plain": [
       "[{'label': 'POSITIVE', 'score': 0.9598048329353333},\n",
       " {'label': 'NEGATIVE', 'score': 0.9994558691978455}]"
      ]
     },
     "execution_count": 41,
     "metadata": {},
     "output_type": "execute_result"
    }
   ],
   "source": [
    "from transformers import pipeline\n",
    "\n",
    "classifier = pipeline(\"sentiment-analysis\")\n",
    "classifier(\n",
    "    [\n",
    "        \"I've been waiting for a HuggingFace course my whole life.\",\n",
    "        \"I hate this so much!\",\n",
    "    ]\n",
    ")"
   ]
  },
  {
   "cell_type": "markdown",
   "id": "67918c14-f54c-441a-bb4d-4ade9d4714e2",
   "metadata": {},
   "source": [
    "<img src=\"images/2_using_transformers/full_nlp_pipeline.svg\" alt=\"Alternative text\" />"
   ]
  },
  {
   "cell_type": "markdown",
   "id": "bea332c9-5cec-48e5-b150-a3520e36746a",
   "metadata": {},
   "source": [
    "#### Preprocessing with a tokenizer"
   ]
  },
  {
   "cell_type": "markdown",
   "id": "638d6300-3862-422d-a8f5-4c596550cf83",
   "metadata": {},
   "source": [
    "Like other neural networks, Transformer models can’t process raw text directly, so the first step of our pipeline is to convert the text inputs into numbers that the model can make sense of. To do this we use a tokenizer, which will be responsible for:\n",
    "\n",
    "* Splitting the input into words, subwords, or symbols (like punctuation) that are called tokens\n",
    "* Mapping each token to an integer\n",
    "* Adding additional inputs that may be useful to the model\n",
    "* All this preprocessing needs to be done in exactly the same way as when the model was pretrained, so we first need to download that information from the Model Hub. To do this, we use the AutoTokenizer class and its from_pretrained() method. Using the checkpoint name of our model, it will automatically fetch the data associated with the model’s tokenizer and cache it (so it’s only downloaded the first time you run the code below).\n",
    "\n",
    "Since the default checkpoint of the sentiment-analysis pipeline is distilbert-base-uncased-finetuned-sst-2-english (you can see its model card here), we run the following:"
   ]
  },
  {
   "cell_type": "code",
   "execution_count": 42,
   "id": "949ce59a-39c6-48eb-9c5d-2d3551160f2d",
   "metadata": {},
   "outputs": [],
   "source": [
    "from transformers import AutoTokenizer\n",
    "\n",
    "checkpoint = \"distilbert-base-uncased-finetuned-sst-2-english\"\n",
    "tokenizer = AutoTokenizer.from_pretrained(checkpoint)"
   ]
  },
  {
   "cell_type": "code",
   "execution_count": 43,
   "id": "b3ea429a-dd76-4b10-8012-a6fe8e487f66",
   "metadata": {},
   "outputs": [
    {
     "name": "stdout",
     "output_type": "stream",
     "text": [
      "{'input_ids': tensor([[  101,  1045,  1005,  2310,  2042,  3403,  2005,  1037, 17662, 12172,\n",
      "          2607,  2026,  2878,  2166,  1012,   102],\n",
      "        [  101,  1045,  5223,  2023,  2061,  2172,   999,   102,     0,     0,\n",
      "             0,     0,     0,     0,     0,     0]]), 'attention_mask': tensor([[1, 1, 1, 1, 1, 1, 1, 1, 1, 1, 1, 1, 1, 1, 1, 1],\n",
      "        [1, 1, 1, 1, 1, 1, 1, 1, 0, 0, 0, 0, 0, 0, 0, 0]])}\n"
     ]
    }
   ],
   "source": [
    "raw_inputs = [\n",
    "    \"I've been waiting for a HuggingFace course my whole life.\",\n",
    "    \"I hate this so much!\",\n",
    "]\n",
    "inputs = tokenizer(raw_inputs, padding=True, truncation=True, return_tensors=\"pt\")\n",
    "print(inputs)"
   ]
  },
  {
   "cell_type": "code",
   "execution_count": null,
   "id": "e01e0861-0583-43f0-925c-bbaf056060a4",
   "metadata": {},
   "outputs": [],
   "source": [
    "[  101,  1045,  5223,  2023,  2061,  2172,   999,   102,     0,     0,"
   ]
  },
  {
   "cell_type": "markdown",
   "id": "da84170c-2f9f-43f4-ada9-9f75e30cbf58",
   "metadata": {},
   "source": [
    "#### Going through the model"
   ]
  },
  {
   "cell_type": "code",
   "execution_count": 44,
   "id": "6d2d9904-01b4-4572-8017-8596c0227357",
   "metadata": {},
   "outputs": [],
   "source": [
    "from transformers import AutoModel\n",
    "\n",
    "checkpoint = \"distilbert-base-uncased-finetuned-sst-2-english\"\n",
    "model = AutoModel.from_pretrained(checkpoint)"
   ]
  },
  {
   "cell_type": "markdown",
   "id": "2d318dd1-6241-4cf7-870d-52c4a9a99a4f",
   "metadata": {},
   "source": [
    "In this code snippet, we have downloaded the same checkpoint we used in our pipeline before (it should actually have been cached already) and instantiated a model with it.\r\n",
    "\r\n",
    "This architecture contains only the base Transformer module: given some inputs, it outputs what we’ll call hidden states, also known as features. For each model input, we’ll retrieve a high-dimensional vector representing the contextual understanding of that input by the Transformer model.\r\n",
    "\r\n",
    "If this doesn’t make sense, don’t worry about it. We’ll explain it all later.\r\n",
    "\r\n",
    "While these hidden states can be useful on their own, they’re usually inputs to another part of the model, known as the head. In Chapter 1, the different tasks could have been performed with the same architecture, but each of these tasks will have a different head associated with it."
   ]
  },
  {
   "cell_type": "markdown",
   "id": "825eb5a3-619e-41ba-bc55-f67c8e41453b",
   "metadata": {},
   "source": [
    "##### A high-dimensional vector?\n",
    "The vector output by the Transformer module is usually large. It generally has three dimensions:\n",
    "\n",
    "Batch size: The number of sequences processed at a time (2 in our example).\n",
    "Sequence length: The length of the numerical representation of the sequence (16 in our example).\n",
    "Hidden size: The vector dimension of each model input.\n",
    "It is said to be “high dimensional” because of the last value. The hidden size can be very large (768 is common for smaller models, and in larger models this can reach 3072 or more).\n",
    "\n",
    "We can see this if we feed the inputs we preprocessed to our model:"
   ]
  },
  {
   "cell_type": "code",
   "execution_count": 45,
   "id": "617a0c38-6732-413d-9b1a-ee777b3bcfad",
   "metadata": {},
   "outputs": [
    {
     "data": {
      "text/plain": [
       "{'input_ids': tensor([[  101,  1045,  1005,  2310,  2042,  3403,  2005,  1037, 17662, 12172,\n",
       "          2607,  2026,  2878,  2166,  1012,   102],\n",
       "        [  101,  1045,  5223,  2023,  2061,  2172,   999,   102,     0,     0,\n",
       "             0,     0,     0,     0,     0,     0]]), 'attention_mask': tensor([[1, 1, 1, 1, 1, 1, 1, 1, 1, 1, 1, 1, 1, 1, 1, 1],\n",
       "        [1, 1, 1, 1, 1, 1, 1, 1, 0, 0, 0, 0, 0, 0, 0, 0]])}"
      ]
     },
     "execution_count": 45,
     "metadata": {},
     "output_type": "execute_result"
    }
   ],
   "source": [
    "inputs"
   ]
  },
  {
   "cell_type": "code",
   "execution_count": 46,
   "id": "4bddfc10-00aa-489f-b3e5-7a5ef90b6eb1",
   "metadata": {},
   "outputs": [
    {
     "name": "stdout",
     "output_type": "stream",
     "text": [
      "BaseModelOutput(last_hidden_state=tensor([[[-0.1798,  0.2333,  0.6321,  ..., -0.3017,  0.5008,  0.1481],\n",
      "         [ 0.2758,  0.6497,  0.3200,  ..., -0.0760,  0.5136,  0.1329],\n",
      "         [ 0.9046,  0.0985,  0.2950,  ...,  0.3352, -0.1407, -0.6464],\n",
      "         ...,\n",
      "         [ 0.1466,  0.5661,  0.3235,  ..., -0.3376,  0.5100, -0.0561],\n",
      "         [ 0.7500,  0.0487,  0.1738,  ...,  0.4684,  0.0030, -0.6084],\n",
      "         [ 0.0519,  0.3729,  0.5223,  ...,  0.3584,  0.6500, -0.3883]],\n",
      "\n",
      "        [[-0.2937,  0.7283, -0.1497,  ..., -0.1187, -1.0227, -0.0422],\n",
      "         [-0.2206,  0.9384, -0.0951,  ..., -0.3643, -0.6605,  0.2407],\n",
      "         [-0.1536,  0.8988, -0.0728,  ..., -0.2189, -0.8528,  0.0710],\n",
      "         ...,\n",
      "         [-0.3017,  0.9002, -0.0200,  ..., -0.1082, -0.8412, -0.0861],\n",
      "         [-0.3338,  0.9674, -0.0729,  ..., -0.1952, -0.8181, -0.0634],\n",
      "         [-0.3454,  0.8824, -0.0426,  ..., -0.0993, -0.8329, -0.1065]]],\n",
      "       grad_fn=<NativeLayerNormBackward0>), hidden_states=None, attentions=None)\n",
      "torch.Size([2, 16, 768])\n"
     ]
    }
   ],
   "source": [
    "outputs = model(**inputs)\n",
    "print(outputs)\n",
    "print(outputs.last_hidden_state.shape)"
   ]
  },
  {
   "cell_type": "markdown",
   "id": "1a8aafd1-7bc5-48ee-b1fc-a29da552813a",
   "metadata": {},
   "source": [
    "##### Model heads: Making sense out of numbers\n",
    "The model heads take the high-dimensional vector of hidden states as input and project them onto a different dimension. They are usually composed of one or a few linear layers:"
   ]
  },
  {
   "cell_type": "markdown",
   "id": "dcec4fd7-3769-48e2-9312-781083865443",
   "metadata": {},
   "source": [
    "<img src=\"images/2_using_transformers/transformer_and_head.svg\" alt=\"Alternative text\" />"
   ]
  },
  {
   "cell_type": "markdown",
   "id": "b4047865-1375-4dfb-8fbb-33b54372f103",
   "metadata": {},
   "source": [
    "There are many different architectures available in Transformers, with each one designed around tackling a specific task. Here is a non-exhaustive list:\r\n",
    "Model (retrieve the hidden states)\r\n",
    "\r\n",
    "* ForCausalLM\r\n",
    "* ForMaskedLM\r\n",
    "* ForMultipleChoice\r\n",
    "* ForQuestionAnswering\r\n",
    "* ForSequenceClassification\r\n",
    "* ForTokenClassification and others"
   ]
  },
  {
   "cell_type": "markdown",
   "id": "a6991b97-a8ae-4c5d-b7f9-8e14d0e0ca95",
   "metadata": {},
   "source": [
    "For our example, we will need a model with a sequence classification head (to be able to classify the sentences as positive or negative). So, we won’t actually use the AutoModel class, but AutoModelForSequenceClassification:"
   ]
  },
  {
   "cell_type": "code",
   "execution_count": 47,
   "id": "e4872ee0-8976-49a0-b292-38d7aecd32d4",
   "metadata": {},
   "outputs": [],
   "source": [
    "from transformers import AutoModelForSequenceClassification\n",
    "\n",
    "checkpoint = \"distilbert-base-uncased-finetuned-sst-2-english\"\n",
    "model = AutoModelForSequenceClassification.from_pretrained(checkpoint)\n",
    "outputs = model(**inputs)"
   ]
  },
  {
   "cell_type": "code",
   "execution_count": 48,
   "id": "48a1ddc1-3070-411e-8af8-bc42ac03d440",
   "metadata": {},
   "outputs": [
    {
     "name": "stdout",
     "output_type": "stream",
     "text": [
      "torch.Size([2, 2])\n"
     ]
    }
   ],
   "source": [
    "print(outputs.logits.shape)"
   ]
  },
  {
   "cell_type": "markdown",
   "id": "acedc2ab-d82c-45b5-887b-c431b3932650",
   "metadata": {},
   "source": [
    "Since we have just two sentences and two labels, the result we get from our model is of shape 2 x 2."
   ]
  },
  {
   "cell_type": "markdown",
   "id": "a8a9a11c-4f69-40b6-b588-d0af16ae1544",
   "metadata": {},
   "source": [
    "##### Postprocessing the output\n",
    "The values we get as output from our model don’t necessarily make sense by themselves. Let’s take a look:"
   ]
  },
  {
   "cell_type": "code",
   "execution_count": 49,
   "id": "a45da27f-95d5-477c-a397-abe82d93ce00",
   "metadata": {},
   "outputs": [
    {
     "name": "stdout",
     "output_type": "stream",
     "text": [
      "tensor([[-1.5607,  1.6123],\n",
      "        [ 4.1692, -3.3464]], grad_fn=<AddmmBackward0>)\n"
     ]
    }
   ],
   "source": [
    "print(outputs.logits)"
   ]
  },
  {
   "cell_type": "markdown",
   "id": "df6254f1-b458-4382-8958-2f62df9ca73c",
   "metadata": {},
   "source": [
    "Our model predicted [-1.5607, 1.6123] for the first sentence and [ 4.1692, -3.3464] for the second one. Those are not probabilities but logits, the raw, unnormalized scores outputted by the last layer of the model. To be converted to probabilities, they need to go through a SoftMax layer (all 🤗 Transformers models output the logits, as the loss function for training will generally fuse the last activation function, such as SoftMax, with the actual loss function, such as cross entropy):"
   ]
  },
  {
   "cell_type": "code",
   "execution_count": 50,
   "id": "8b1313bc-8266-4d82-a05a-9919ac921c5d",
   "metadata": {},
   "outputs": [
    {
     "name": "stdout",
     "output_type": "stream",
     "text": [
      "tensor([[4.0195e-02, 9.5980e-01],\n",
      "        [9.9946e-01, 5.4418e-04]], grad_fn=<SoftmaxBackward0>)\n"
     ]
    }
   ],
   "source": [
    "import torch\n",
    "predictions = torch.nn.functional.softmax(outputs.logits, dim=-1)\n",
    "print(predictions)"
   ]
  },
  {
   "cell_type": "code",
   "execution_count": 51,
   "id": "78c08196-42ee-411f-ac2c-6e21aaecb2fa",
   "metadata": {},
   "outputs": [
    {
     "data": {
      "text/plain": [
       "{0: 'NEGATIVE', 1: 'POSITIVE'}"
      ]
     },
     "execution_count": 51,
     "metadata": {},
     "output_type": "execute_result"
    }
   ],
   "source": [
    "model.config.id2label"
   ]
  },
  {
   "cell_type": "markdown",
   "id": "8c50dc7d-1b57-4246-98ef-a04d6f4adb58",
   "metadata": {},
   "source": [
    "Now we can conclude that the model predicted the following:\r\n",
    "\r\n",
    "* First sentence: NEGATIVE: 0.0402, POSITIVE: 0.9598\r\n",
    "* Second sentence: NEGATIVE: 0.9995, POSITIVE: 0.0005"
   ]
  },
  {
   "cell_type": "markdown",
   "id": "6c30616f-b325-4011-98c5-3b54b96c04e9",
   "metadata": {},
   "source": [
    "### Models <a id=\"models\"></a>"
   ]
  },
  {
   "cell_type": "markdown",
   "id": "0c6be00c-fee4-49fb-81d2-ae647ba11db8",
   "metadata": {},
   "source": [
    "##### Creating a Transformer\r\n",
    "The first thing we’ll need to do to initialize a BERT model is load a configuration object:"
   ]
  },
  {
   "cell_type": "code",
   "execution_count": 52,
   "id": "a7d52c3b-3ad5-48e8-a97c-1bf5c434089f",
   "metadata": {},
   "outputs": [],
   "source": [
    "from transformers import BertConfig, BertModel\n",
    "\n",
    "# Building the config\n",
    "config = BertConfig()\n",
    "\n",
    "# Building the model from the config\n",
    "model = BertModel(config)"
   ]
  },
  {
   "cell_type": "code",
   "execution_count": 53,
   "id": "b7cb1656-c28f-4548-b8f6-5cace6fb6843",
   "metadata": {},
   "outputs": [
    {
     "name": "stdout",
     "output_type": "stream",
     "text": [
      "BertConfig {\n",
      "  \"attention_probs_dropout_prob\": 0.1,\n",
      "  \"classifier_dropout\": null,\n",
      "  \"hidden_act\": \"gelu\",\n",
      "  \"hidden_dropout_prob\": 0.1,\n",
      "  \"hidden_size\": 768,\n",
      "  \"initializer_range\": 0.02,\n",
      "  \"intermediate_size\": 3072,\n",
      "  \"layer_norm_eps\": 1e-12,\n",
      "  \"max_position_embeddings\": 512,\n",
      "  \"model_type\": \"bert\",\n",
      "  \"num_attention_heads\": 12,\n",
      "  \"num_hidden_layers\": 12,\n",
      "  \"pad_token_id\": 0,\n",
      "  \"position_embedding_type\": \"absolute\",\n",
      "  \"transformers_version\": \"4.31.0\",\n",
      "  \"type_vocab_size\": 2,\n",
      "  \"use_cache\": true,\n",
      "  \"vocab_size\": 30522\n",
      "}\n",
      "\n"
     ]
    }
   ],
   "source": [
    "print(config)"
   ]
  },
  {
   "cell_type": "markdown",
   "id": "4949436d-3a27-41a3-9e16-565e08128722",
   "metadata": {},
   "source": [
    "##### Different loading methods\r\n",
    "Creating a model from the default configuration initializes it with random values:"
   ]
  },
  {
   "cell_type": "code",
   "execution_count": 54,
   "id": "1fb56b74-2d76-4a78-b04b-6c7e11d4d2e9",
   "metadata": {},
   "outputs": [
    {
     "name": "stdout",
     "output_type": "stream",
     "text": [
      "BertConfig {\n",
      "  \"attention_probs_dropout_prob\": 0.1,\n",
      "  \"classifier_dropout\": null,\n",
      "  \"hidden_act\": \"gelu\",\n",
      "  \"hidden_dropout_prob\": 0.1,\n",
      "  \"hidden_size\": 768,\n",
      "  \"initializer_range\": 0.02,\n",
      "  \"intermediate_size\": 3072,\n",
      "  \"layer_norm_eps\": 1e-12,\n",
      "  \"max_position_embeddings\": 512,\n",
      "  \"model_type\": \"bert\",\n",
      "  \"num_attention_heads\": 12,\n",
      "  \"num_hidden_layers\": 12,\n",
      "  \"pad_token_id\": 0,\n",
      "  \"position_embedding_type\": \"absolute\",\n",
      "  \"transformers_version\": \"4.31.0\",\n",
      "  \"type_vocab_size\": 2,\n",
      "  \"use_cache\": true,\n",
      "  \"vocab_size\": 30522\n",
      "}\n",
      "\n"
     ]
    }
   ],
   "source": [
    "from transformers import BertConfig, BertModel\n",
    "\n",
    "config = BertConfig()\n",
    "model = BertModel(config)\n",
    "print(config)\n",
    "# Model is randomly initialized!"
   ]
  },
  {
   "cell_type": "markdown",
   "id": "640e5265-3296-4595-9851-ac865eaad5c9",
   "metadata": {},
   "source": [
    "The model can be used in this state, but it will output gibberish; it needs to be trained first. We could train the model from scratch on the task at hand, but as you saw in Chapter 1, this would require a long time and a lot of data, and it would have a non-negligible environmental impact. To avoid unnecessary and duplicated effort, it’s imperative to be able to share and reuse models that have already been trained.\r\n",
    "\r\n",
    "Loading a Transformer model that is already trained is simple — we can do this using the from_pretrained() method:"
   ]
  },
  {
   "cell_type": "code",
   "execution_count": 55,
   "id": "86bf80f3-01f1-43ac-897d-daa8135e41e5",
   "metadata": {},
   "outputs": [
    {
     "name": "stderr",
     "output_type": "stream",
     "text": [
      "Downloading model.safetensors: 100%|████████████████████████████████████████████████████████████████████████████| 436M/436M [00:25<00:00, 16.9MB/s]\n"
     ]
    }
   ],
   "source": [
    "from transformers import BertModel\n",
    "\n",
    "model = BertModel.from_pretrained(\"bert-base-cased\")"
   ]
  },
  {
   "cell_type": "markdown",
   "id": "bb10141c-5e4e-4415-a27f-a75df5df96e5",
   "metadata": {},
   "source": [
    "As you saw earlier, we could replace BertModel with the equivalent AutoModel class. We’ll do this from now on as this produces checkpoint-agnostic code; if your code works for one checkpoint, it should work seamlessly with another. This applies even if the architecture is different, as long as the checkpoint was trained for a similar task (for example, a sentiment analysis task).\n",
    "\n",
    "In the code sample above we didn’t use BertConfig, and instead loaded a pretrained model via the bert-base-cased identifier. This is a model checkpoint that was trained by the authors of BERT themselves; you can find more details about it in its model card.\n",
    "\n",
    "This model is now initialized with all the weights of the checkpoint. It can be used directly for inference on the tasks it was trained on, and it can also be fine-tuned on a new task. By training with pretrained weights rather than from scratch, we can quickly achieve good results.\n",
    "\n",
    "The weights have been downloaded and cached (so future calls to the from_pretrained() method won’t re-download them) in the cache folder, which defaults to ~/.cache/huggingface/transformers. You can customize your cache folder by setting the HF_HOME environment variable.\n",
    "\n",
    "The identifier used to load the model can be the identifier of any model on the Model Hub, as long as it is compatible with the BERT architecture. The entire list of available BERT checkpoints can be found here."
   ]
  },
  {
   "cell_type": "markdown",
   "id": "7478b312-3a90-452f-b164-5c7d0beccadb",
   "metadata": {},
   "source": [
    "##### Saving methods\n",
    "Saving a model is as easy as loading one — we use the save_pretrained() method, which is analogous to the from_pretrained() method:"
   ]
  },
  {
   "cell_type": "code",
   "execution_count": 56,
   "id": "0f3e5bb0-aab9-419b-a7af-079beab32d27",
   "metadata": {},
   "outputs": [],
   "source": [
    "model.save_pretrained(\"directory_on_my_computer\")"
   ]
  },
  {
   "cell_type": "code",
   "execution_count": 57,
   "id": "027f26bc-e7f8-460d-8ab7-a04e48b43d3a",
   "metadata": {},
   "outputs": [
    {
     "name": "stdout",
     "output_type": "stream",
     "text": [
      "{\n",
      "  \"_name_or_path\": \"bert-base-cased\",\n",
      "  \"architectures\": [\n",
      "    \"BertModel\"\n",
      "  ],\n",
      "  \"attention_probs_dropout_prob\": 0.1,\n",
      "  \"classifier_dropout\": null,\n",
      "  \"gradient_checkpointing\": false,\n",
      "  \"hidden_act\": \"gelu\",\n",
      "  \"hidden_dropout_prob\": 0.1,\n",
      "  \"hidden_size\": 768,\n",
      "  \"initializer_range\": 0.02,\n",
      "  \"intermediate_size\": 3072,\n",
      "  \"layer_norm_eps\": 1e-12,\n",
      "  \"max_position_embeddings\": 512,\n",
      "  \"model_type\": \"bert\",\n",
      "  \"num_attention_heads\": 12,\n",
      "  \"num_hidden_layers\": 12,\n",
      "  \"pad_token_id\": 0,\n",
      "  \"position_embedding_type\": \"absolute\",\n",
      "  \"torch_dtype\": \"float32\",\n",
      "  \"transformers_version\": \"4.31.0\",\n",
      "  \"type_vocab_size\": 2,\n",
      "  \"use_cache\": true,\n",
      "  \"vocab_size\": 28996\n",
      "}\n"
     ]
    }
   ],
   "source": [
    "! cat directory_on_my_computer/config.json"
   ]
  },
  {
   "cell_type": "markdown",
   "id": "573c9af3-13c3-47bd-a084-34f77e374f86",
   "metadata": {},
   "source": [
    "If you take a look at the config.json file, you’ll recognize the attributes necessary to build the model architecture. This file also contains some metadata, such as where the checkpoint originated and what 🤗 Transformers version you were using when you last saved the checkpoint.\n",
    "\n",
    "The pytorch_model.bin file is known as the state dictionary; it contains all your model’s weights. The two files go hand in hand; the configuration is necessary to know your model’s architecture, while the model weights are your model’s parameters."
   ]
  },
  {
   "cell_type": "markdown",
   "id": "5eff7ffa-4746-49b5-9f72-29108b628ab4",
   "metadata": {},
   "source": [
    "##### Using a Transformer model for inference\n",
    "Now that you know how to load and save a model, let’s try using it to make some predictions. Transformer models can only process numbers — numbers that the tokenizer generates. But before we discuss tokenizers, let’s explore what inputs the model accepts.\r\n",
    "\r\n",
    "Tokenizers can take care of casting the inputs to the appropriate framework’s tensors, but to help you understand what’s going on, we’ll take a quick look at what must be done before sending the inputs to the model.\r\n",
    "\r\n",
    "Let’s say we have a couple of sequences:"
   ]
  },
  {
   "cell_type": "code",
   "execution_count": 58,
   "id": "d133eeef-596a-4862-87fd-b1d4a78f7f78",
   "metadata": {},
   "outputs": [],
   "source": [
    "sequences = [\"Hello!\", \"Cool.\", \"Nice!\"]"
   ]
  },
  {
   "cell_type": "markdown",
   "id": "98aed2c1-0c21-415b-9440-f4addbd8472c",
   "metadata": {},
   "source": [
    "The tokenizer converts these to vocabulary indices which are typically called input IDs. Each sequence is now a list of numbers! The resulting output is:"
   ]
  },
  {
   "cell_type": "code",
   "execution_count": 59,
   "id": "44e1969d-731f-473f-82d3-09c42f5588bf",
   "metadata": {},
   "outputs": [],
   "source": [
    "encoded_sequences = [\n",
    "    [101, 7592, 999, 102],\n",
    "    [101, 4658, 1012, 102],\n",
    "    [101, 3835, 999, 102],\n",
    "]"
   ]
  },
  {
   "cell_type": "markdown",
   "id": "180cd45a-9b5d-488c-889b-630fb5099d6f",
   "metadata": {},
   "source": [
    "This is a list of encoded sequences: a list of lists. Tensors only accept rectangular shapes (think matrices). This “array” is already of rectangular shape, so converting it to a tensor is easy:"
   ]
  },
  {
   "cell_type": "code",
   "execution_count": 60,
   "id": "5f7b824c-e0d5-4c76-86c1-6e582d3caac1",
   "metadata": {},
   "outputs": [
    {
     "data": {
      "text/plain": [
       "tensor([[ 101, 7592,  999,  102],\n",
       "        [ 101, 4658, 1012,  102],\n",
       "        [ 101, 3835,  999,  102]])"
      ]
     },
     "execution_count": 60,
     "metadata": {},
     "output_type": "execute_result"
    }
   ],
   "source": [
    "import torch\n",
    "\n",
    "model_inputs = torch.tensor(encoded_sequences)\n",
    "model_inputs"
   ]
  },
  {
   "cell_type": "markdown",
   "id": "d71593fc-2840-4389-99fa-ff0a7d55695b",
   "metadata": {},
   "source": [
    "##### Using the tensors as inputs to the model\n",
    "Making use of the tensors with the model is extremely simple — we just call the model with the inputs:"
   ]
  },
  {
   "cell_type": "code",
   "execution_count": 61,
   "id": "3dceebf6-c654-43d1-be7f-c2510518ba24",
   "metadata": {},
   "outputs": [
    {
     "data": {
      "text/plain": [
       "BaseModelOutputWithPoolingAndCrossAttentions(last_hidden_state=tensor([[[ 4.4496e-01,  4.8276e-01,  2.7797e-01,  ..., -5.4032e-02,\n",
       "           3.9394e-01, -9.4770e-02],\n",
       "         [ 2.4943e-01, -4.4093e-01,  8.1772e-01,  ..., -3.1917e-01,\n",
       "           2.2992e-01, -4.1172e-02],\n",
       "         [ 1.3668e-01,  2.2518e-01,  1.4502e-01,  ..., -4.6915e-02,\n",
       "           2.8224e-01,  7.5566e-02],\n",
       "         [ 1.1789e+00,  1.6738e-01, -1.8187e-01,  ...,  2.4671e-01,\n",
       "           1.0441e+00, -6.1970e-03]],\n",
       "\n",
       "        [[ 3.6436e-01,  3.2464e-02,  2.0258e-01,  ...,  6.0111e-02,\n",
       "           3.2451e-01, -2.0995e-02],\n",
       "         [ 7.1866e-01, -4.8725e-01,  5.1740e-01,  ..., -4.4012e-01,\n",
       "           1.4553e-01, -3.7545e-02],\n",
       "         [ 3.3223e-01, -2.3271e-01,  9.4877e-02,  ..., -2.5268e-01,\n",
       "           3.2172e-01,  8.1079e-04],\n",
       "         [ 1.2523e+00,  3.5754e-01, -5.1320e-02,  ..., -3.7840e-01,\n",
       "           1.0526e+00, -5.6255e-01]],\n",
       "\n",
       "        [[ 2.4042e-01,  1.4718e-01,  1.2110e-01,  ...,  7.6062e-02,\n",
       "           3.3564e-01,  2.8262e-01],\n",
       "         [ 6.5701e-01, -3.2787e-01,  2.4968e-01,  ..., -2.5920e-01,\n",
       "           2.0175e-01,  3.3275e-01],\n",
       "         [ 2.0160e-01,  1.5783e-01,  9.8974e-03,  ..., -3.8850e-01,\n",
       "           4.1308e-01,  3.9732e-01],\n",
       "         [ 1.0175e+00,  6.4387e-01, -7.8147e-01,  ..., -4.2109e-01,\n",
       "           1.0925e+00, -4.8456e-02]]], grad_fn=<NativeLayerNormBackward0>), pooler_output=tensor([[-0.6856,  0.5262,  1.0000,  ...,  1.0000, -0.6112,  0.9971],\n",
       "        [-0.6055,  0.4997,  0.9998,  ...,  0.9999, -0.6753,  0.9769],\n",
       "        [-0.7702,  0.5447,  0.9999,  ...,  1.0000, -0.4655,  0.9894]],\n",
       "       grad_fn=<TanhBackward0>), hidden_states=None, past_key_values=None, attentions=None, cross_attentions=None)"
      ]
     },
     "execution_count": 61,
     "metadata": {},
     "output_type": "execute_result"
    }
   ],
   "source": [
    "output = model(model_inputs)\n",
    "output"
   ]
  },
  {
   "cell_type": "markdown",
   "id": "f18d9a92-1f54-4c99-828e-88b6e128d018",
   "metadata": {},
   "source": [
    "### Tokenizers <a id=\"tokenizers\"></a>"
   ]
  },
  {
   "cell_type": "markdown",
   "id": "5bea5274-34ea-4d95-b0f5-8742f7ea00d0",
   "metadata": {},
   "source": [
    "Tokenizers are one of the core components of the NLP pipeline. They serve one purpose: to translate text into data that can be processed by the model. Models can only process numbers, so tokenizers need to convert our text inputs to numerical data. In this section, we’ll explore exactly what happens in the tokenization pipeline.\n",
    "\n",
    "In NLP tasks, the data that is generally processed is raw text. Here’s an example of such text:"
   ]
  },
  {
   "cell_type": "markdown",
   "id": "6a0d5c9b-8114-437e-a677-4c079d5431d4",
   "metadata": {},
   "source": [
    "#### Word-based"
   ]
  },
  {
   "cell_type": "code",
   "execution_count": 62,
   "id": "5730cb1e-190e-4924-b626-34974c0b9dc9",
   "metadata": {},
   "outputs": [
    {
     "name": "stdout",
     "output_type": "stream",
     "text": [
      "['Jim', 'Henson', 'was', 'a', 'puppeteer']\n"
     ]
    }
   ],
   "source": [
    "tokenized_text = \"Jim Henson was a puppeteer\".split()\n",
    "print(tokenized_text)"
   ]
  },
  {
   "cell_type": "markdown",
   "id": "77c013a3-f01d-4774-a0e8-eacfda4e0d5c",
   "metadata": {},
   "source": [
    "#### Character based"
   ]
  },
  {
   "cell_type": "markdown",
   "id": "ddf0297b-97d7-481d-be20-e58a2a8c3e55",
   "metadata": {},
   "source": [
    "Character-based tokenizers split the text into characters, rather than words. This has two primary benefits:\n",
    "\n",
    "The vocabulary is much smaller.\n",
    "There are much fewer out-of-vocabulary (unknown) tokens, since every word can be built from characters.\n",
    "But here too some questions arise concerning spaces and punctuation:"
   ]
  },
  {
   "cell_type": "code",
   "execution_count": 63,
   "id": "a76768f5-f3b9-432e-9e9e-34dc89d21f10",
   "metadata": {},
   "outputs": [
    {
     "name": "stdout",
     "output_type": "stream",
     "text": [
      "['J', 'i', 'm', 'H', 'e', 'n', 's', 'o', 'n', 'w', 'a', 's', 'a', 'p', 'u', 'p', 'p', 'e', 't', 'e', 'e', 'r']\n"
     ]
    }
   ],
   "source": [
    "tokenized_text_chars = [*\"\".join(tokenized_text)]\n",
    "print(tokenized_text_chars)"
   ]
  },
  {
   "cell_type": "markdown",
   "id": "416b2fdc-357c-42cc-bc72-022736de12ec",
   "metadata": {},
   "source": [
    "This approach isn’t perfect either. Since the representation is now based on characters rather than words, one could argue that, intuitively, it’s less meaningful: each character doesn’t mean a lot on its own, whereas that is the case with words. However, this again differs according to the language; in Chinese, for example, each character carries more information than a character in a Latin language.\n",
    "\n",
    "Another thing to consider is that we’ll end up with a very large amount of tokens to be processed by our model: whereas a word would only be a single token with a word-based tokenizer, it can easily turn into 10 or more tokens when converted into characters.\n",
    "\n",
    "To get the best of both worlds, we can use a third technique that combines the two approaches: _subword tokenization_."
   ]
  },
  {
   "cell_type": "markdown",
   "id": "fbb1a6b6-1138-4979-ac84-48de5d613819",
   "metadata": {},
   "source": [
    "#### Subword tokenization"
   ]
  },
  {
   "cell_type": "markdown",
   "id": "7defd502-90b4-4076-a746-42fc34211f5f",
   "metadata": {},
   "source": [
    "Subword tokenization algorithms rely on the principle that frequently used words should not be split into smaller subwords, but rare words should be decomposed into meaningful subwords.\r\n",
    "\r\n",
    "For instance, “annoyingly” might be considered a rare word and could be decomposed into “annoying” and “ly”. These are both likely to appear more frequently as standalone subwords, while at the same time the meaning of “annoyingly” is kept by the composite meaning of “annoying” and “ly”.\r\n",
    "\r\n",
    "Here is an example showing how a subword tokenization algorithm would tokenize the sequence “Let’s do tokenization!“:"
   ]
  },
  {
   "cell_type": "markdown",
   "id": "a2be8895-497b-46c1-a2da-8c665ddab958",
   "metadata": {},
   "source": [
    "<img src=\"images/2_using_transformers/bpe_subword.svg\" alt=\"Alternative text\" />"
   ]
  },
  {
   "cell_type": "markdown",
   "id": "410bd4d2-9eaa-4006-bd23-9bc672c1817f",
   "metadata": {},
   "source": [
    "These subwords end up providing a lot of semantic meaning: for instance, in the example above “tokenization” was split into “token” and “ization”, two tokens that have a semantic meaning while being space-efficient (only two tokens are needed to represent a long word). This allows us to have relatively good coverage with small vocabularies, and close to no unknown tokens.\n",
    "\n",
    "This approach is especially useful in agglutinative languages such as Turkish, where you can form (almost) arbitrarily long complex words by stringing together subwords."
   ]
  },
  {
   "cell_type": "markdown",
   "id": "a4b624bb-8a72-47b9-9b6d-a490987d1960",
   "metadata": {},
   "source": [
    "#### And more!"
   ]
  },
  {
   "cell_type": "markdown",
   "id": "741d0332-6786-4ac6-a8a5-4cf53236bf3b",
   "metadata": {},
   "source": [
    "Unsurprisingly, there are many more techniques out there. To name a few:\n",
    "\n",
    "* Byte-level BPE, as used in GPT-2\n",
    "* WordPiece, as used in BERT\n",
    "* SentencePiece or Unigram, as used in several multilingual models\n",
    "\n",
    "You should now have sufficient knowledge of how tokenizers work to get started with the API."
   ]
  },
  {
   "cell_type": "markdown",
   "id": "011f38e4-b3ff-4de2-af1f-1977be9247ac",
   "metadata": {},
   "source": [
    "#### Loading and saving"
   ]
  },
  {
   "cell_type": "code",
   "execution_count": 64,
   "id": "0e745f56-a59c-43da-aae2-172ff30b5cfc",
   "metadata": {},
   "outputs": [],
   "source": [
    "from transformers import BertTokenizer\n",
    "\n",
    "tokenizer = BertTokenizer.from_pretrained(\"bert-base-cased\")"
   ]
  },
  {
   "cell_type": "markdown",
   "id": "4f8d8e9e-0596-49b3-8b2f-72c7736aa00b",
   "metadata": {},
   "source": [
    "Similar to AutoModel, the AutoTokenizer class will grab the proper tokenizer class in the library based on the checkpoint name, and can be used directly with any checkpoint:"
   ]
  },
  {
   "cell_type": "code",
   "execution_count": 65,
   "id": "b6d1f91b-4b81-4b13-a841-cacbb61c11a5",
   "metadata": {},
   "outputs": [],
   "source": [
    "from transformers import AutoTokenizer\n",
    "\n",
    "tokenizer = AutoTokenizer.from_pretrained(\"bert-base-cased\")"
   ]
  },
  {
   "cell_type": "code",
   "execution_count": 66,
   "id": "ef1a7810-ab5a-4948-8a1d-4af33f3d2c30",
   "metadata": {},
   "outputs": [
    {
     "data": {
      "text/plain": [
       "{'input_ids': [101, 7993, 170, 13809, 23763, 2443, 1110, 3014, 102], 'token_type_ids': [0, 0, 0, 0, 0, 0, 0, 0, 0], 'attention_mask': [1, 1, 1, 1, 1, 1, 1, 1, 1]}"
      ]
     },
     "execution_count": 66,
     "metadata": {},
     "output_type": "execute_result"
    }
   ],
   "source": [
    "tokenizer(\"Using a Transformer network is simple\")"
   ]
  },
  {
   "cell_type": "code",
   "execution_count": 67,
   "id": "82496365-f045-435a-89fc-99daba34da9e",
   "metadata": {},
   "outputs": [
    {
     "data": {
      "text/plain": [
       "('tokenizer/tokenizer_config.json',\n",
       " 'tokenizer/special_tokens_map.json',\n",
       " 'tokenizer/vocab.txt',\n",
       " 'tokenizer/added_tokens.json',\n",
       " 'tokenizer/tokenizer.json')"
      ]
     },
     "execution_count": 67,
     "metadata": {},
     "output_type": "execute_result"
    }
   ],
   "source": [
    "tokenizer.save_pretrained(\"tokenizer\")"
   ]
  },
  {
   "cell_type": "markdown",
   "id": "33892c55-e301-4ab4-af07-d282e2ed0d7d",
   "metadata": {},
   "source": [
    "#### Encoding"
   ]
  },
  {
   "cell_type": "markdown",
   "id": "0f13d051-a1d4-4c7c-989a-9934132e0d9a",
   "metadata": {},
   "source": [
    "Translating text to numbers is known as encoding. Encoding is done in a two-step process: the tokenization, followed by the conversion to input IDs.\r\n",
    "\r\n",
    "As we’ve seen, the first step is to split the text into words (or parts of words, punctuation symbols, etc.), usually called tokens. There are multiple rules that can govern that process, which is why we need to instantiate the tokenizer using the name of the model, to make sure we use the same rules that were used when the model was pretrained.\r\n",
    "\r\n",
    "The second step is to convert those tokens into numbers, so we can build a tensor out of them and feed them to the model. To do this, the tokenizer has a vocabulary, which is the part we download when we instantiate it with the from_pretrained() method. Again, we need to use the same vocabulary used when the model was pretrained.\r\n",
    "\r\n",
    "To get a better understanding of the two steps, we’ll explore them separately. Note that we will use some methods that perform parts of the tokenization pipeline separately to show you the intermediate results of those steps, but in practice, you should call the tokenizer directly on your inputs (as shown in the section 2)."
   ]
  },
  {
   "cell_type": "markdown",
   "id": "a4e5ba1b-9caa-45d3-a5b1-4133d3ff4d41",
   "metadata": {},
   "source": [
    "#### Tokenization"
   ]
  },
  {
   "cell_type": "markdown",
   "id": "f2e9d080-1a66-4d12-bcd5-a4269de99b96",
   "metadata": {},
   "source": [
    "The tokenization process is done by the tokenize() method of the tokenizer:"
   ]
  },
  {
   "cell_type": "code",
   "execution_count": 68,
   "id": "7f3de787-c47d-4a9f-9dfe-3ead9b1034f0",
   "metadata": {},
   "outputs": [
    {
     "name": "stdout",
     "output_type": "stream",
     "text": [
      "['Using', 'a', 'Trans', '##former', 'network', 'is', 'simple']\n"
     ]
    }
   ],
   "source": [
    "from transformers import AutoTokenizer\n",
    "\n",
    "tokenizer = AutoTokenizer.from_pretrained(\"bert-base-cased\")\n",
    "\n",
    "sequence = \"Using a Transformer network is simple\"\n",
    "tokens = tokenizer.tokenize(sequence)\n",
    "\n",
    "print(tokens)"
   ]
  },
  {
   "cell_type": "markdown",
   "id": "2c5c2cb4-ba23-479b-909e-c8776eb15cb2",
   "metadata": {},
   "source": [
    "This tokenizer is a subword tokenizer: it splits the words until it obtains tokens that can be represented by its vocabulary. That’s the case here with transformer, which is split into two tokens: transform and ##er."
   ]
  },
  {
   "cell_type": "markdown",
   "id": "dfd207af-8854-48f0-b354-5183c0042027",
   "metadata": {},
   "source": [
    "#### From tokens to input IDs"
   ]
  },
  {
   "cell_type": "markdown",
   "id": "cf7cb2c8-246b-4391-a28d-5e94c845863f",
   "metadata": {},
   "source": [
    "The conversion to input IDs is handled by the convert_tokens_to_ids() tokenizer method:"
   ]
  },
  {
   "cell_type": "code",
   "execution_count": 69,
   "id": "8b342b1e-3ca0-4442-8a94-82da92466dd1",
   "metadata": {},
   "outputs": [
    {
     "name": "stdout",
     "output_type": "stream",
     "text": [
      "[7993, 170, 13809, 23763, 2443, 1110, 3014]\n"
     ]
    }
   ],
   "source": [
    "ids = tokenizer.convert_tokens_to_ids(tokens)\n",
    "\n",
    "print(ids)"
   ]
  },
  {
   "cell_type": "markdown",
   "id": "a1033bff-c7d0-480b-a1b0-73de577aa2b2",
   "metadata": {},
   "source": [
    "#### Decoding"
   ]
  },
  {
   "cell_type": "markdown",
   "id": "fdf28a6a-7635-44bc-87dd-76c10b9a0bd2",
   "metadata": {},
   "source": [
    "Decoding is going the other way around: from vocabulary indices, we want to get a string. This can be done with the decode() method as follows:"
   ]
  },
  {
   "cell_type": "code",
   "execution_count": 70,
   "id": "24e057ef-aad1-4a27-9c7e-045e84b5465a",
   "metadata": {},
   "outputs": [
    {
     "name": "stdout",
     "output_type": "stream",
     "text": [
      "Using a transformer network is simple\n"
     ]
    }
   ],
   "source": [
    "decoded_string = tokenizer.decode([7993, 170, 11303, 1200, 2443, 1110, 3014])\n",
    "print(decoded_string)"
   ]
  },
  {
   "cell_type": "markdown",
   "id": "9173d6ea-98e2-4183-9018-a5c16edaf398",
   "metadata": {},
   "source": [
    "Note that the decode method not only converts the indices back to tokens, but also groups together the tokens that were part of the same words to produce a readable sentence. This behavior will be extremely useful when we use models that predict new text (either text generated from a prompt, or for sequence-to-sequence problems like translation or summarization).\n",
    "\n",
    "By now you should understand the atomic operations a tokenizer can handle: tokenization, conversion to IDs, and converting IDs back to a string. However, we’ve just scraped the tip of the iceberg. In the following section, we’ll take our approach to its limits and take a look at how to overcome them."
   ]
  },
  {
   "cell_type": "markdown",
   "id": "18574f68-d5c7-4458-9b62-9141e150f575",
   "metadata": {},
   "source": [
    "### Handling multiple sequences <a id=\"handling_multiple_sequences\"></a>"
   ]
  },
  {
   "cell_type": "markdown",
   "id": "75644c9f-bc7c-459a-9179-664c0e758d8f",
   "metadata": {},
   "source": [
    "In the previous section, we explored the simplest of use cases: doing inference on a single sequence of a small length. However, some questions emerge already:"
   ]
  },
  {
   "cell_type": "markdown",
   "id": "b3551e23-4c33-4086-85a2-69eec3dcab2b",
   "metadata": {},
   "source": [
    "* How do we handle multiple sequences?\n",
    "* How do we handle multiple sequences of different lengths?\n",
    "* Are vocabulary indices the only inputs that allow a model to work well?\n",
    "* Is there such a thing as too long a sequence?"
   ]
  },
  {
   "cell_type": "markdown",
   "id": "4707a2eb-f101-43e2-90f9-e2913a34f7cb",
   "metadata": {},
   "source": [
    "Let’s see what kinds of problems these questions pose, and how we can solve them using the 🤗 Transformers API."
   ]
  },
  {
   "cell_type": "markdown",
   "id": "e6090dd4-9c76-43cc-98ed-4b6522988afb",
   "metadata": {},
   "source": [
    "#### Models expect a batch of inputs"
   ]
  },
  {
   "cell_type": "code",
   "execution_count": 71,
   "id": "539ea9f6-1eb2-4700-a07f-12c1f5f0b78d",
   "metadata": {},
   "outputs": [
    {
     "ename": "RuntimeError",
     "evalue": "The size of tensor a (14) must match the size of tensor b (512) at non-singleton dimension 1",
     "output_type": "error",
     "traceback": [
      "\u001b[0;31m---------------------------------------------------------------------------\u001b[0m",
      "\u001b[0;31mRuntimeError\u001b[0m                              Traceback (most recent call last)",
      "Cell \u001b[0;32mIn[71], line 14\u001b[0m\n\u001b[1;32m     12\u001b[0m input_ids \u001b[38;5;241m=\u001b[39m torch\u001b[38;5;241m.\u001b[39mtensor(ids)\n\u001b[1;32m     13\u001b[0m \u001b[38;5;66;03m# This line will fail.\u001b[39;00m\n\u001b[0;32m---> 14\u001b[0m \u001b[43mmodel\u001b[49m\u001b[43m(\u001b[49m\u001b[43minput_ids\u001b[49m\u001b[43m)\u001b[49m\n",
      "File \u001b[0;32m~/.local/lib/python3.10/site-packages/torch/nn/modules/module.py:1501\u001b[0m, in \u001b[0;36mModule._call_impl\u001b[0;34m(self, *args, **kwargs)\u001b[0m\n\u001b[1;32m   1496\u001b[0m \u001b[38;5;66;03m# If we don't have any hooks, we want to skip the rest of the logic in\u001b[39;00m\n\u001b[1;32m   1497\u001b[0m \u001b[38;5;66;03m# this function, and just call forward.\u001b[39;00m\n\u001b[1;32m   1498\u001b[0m \u001b[38;5;28;01mif\u001b[39;00m \u001b[38;5;129;01mnot\u001b[39;00m (\u001b[38;5;28mself\u001b[39m\u001b[38;5;241m.\u001b[39m_backward_hooks \u001b[38;5;129;01mor\u001b[39;00m \u001b[38;5;28mself\u001b[39m\u001b[38;5;241m.\u001b[39m_backward_pre_hooks \u001b[38;5;129;01mor\u001b[39;00m \u001b[38;5;28mself\u001b[39m\u001b[38;5;241m.\u001b[39m_forward_hooks \u001b[38;5;129;01mor\u001b[39;00m \u001b[38;5;28mself\u001b[39m\u001b[38;5;241m.\u001b[39m_forward_pre_hooks\n\u001b[1;32m   1499\u001b[0m         \u001b[38;5;129;01mor\u001b[39;00m _global_backward_pre_hooks \u001b[38;5;129;01mor\u001b[39;00m _global_backward_hooks\n\u001b[1;32m   1500\u001b[0m         \u001b[38;5;129;01mor\u001b[39;00m _global_forward_hooks \u001b[38;5;129;01mor\u001b[39;00m _global_forward_pre_hooks):\n\u001b[0;32m-> 1501\u001b[0m     \u001b[38;5;28;01mreturn\u001b[39;00m \u001b[43mforward_call\u001b[49m\u001b[43m(\u001b[49m\u001b[38;5;241;43m*\u001b[39;49m\u001b[43margs\u001b[49m\u001b[43m,\u001b[49m\u001b[43m \u001b[49m\u001b[38;5;241;43m*\u001b[39;49m\u001b[38;5;241;43m*\u001b[39;49m\u001b[43mkwargs\u001b[49m\u001b[43m)\u001b[49m\n\u001b[1;32m   1502\u001b[0m \u001b[38;5;66;03m# Do not call functions when jit is used\u001b[39;00m\n\u001b[1;32m   1503\u001b[0m full_backward_hooks, non_full_backward_hooks \u001b[38;5;241m=\u001b[39m [], []\n",
      "File \u001b[0;32m~/.local/lib/python3.10/site-packages/transformers/models/distilbert/modeling_distilbert.py:788\u001b[0m, in \u001b[0;36mDistilBertForSequenceClassification.forward\u001b[0;34m(self, input_ids, attention_mask, head_mask, inputs_embeds, labels, output_attentions, output_hidden_states, return_dict)\u001b[0m\n\u001b[1;32m    780\u001b[0m \u001b[38;5;250m\u001b[39m\u001b[38;5;124mr\u001b[39m\u001b[38;5;124;03m\"\"\"\u001b[39;00m\n\u001b[1;32m    781\u001b[0m \u001b[38;5;124;03mlabels (`torch.LongTensor` of shape `(batch_size,)`, *optional*):\u001b[39;00m\n\u001b[1;32m    782\u001b[0m \u001b[38;5;124;03m    Labels for computing the sequence classification/regression loss. Indices should be in `[0, ...,\u001b[39;00m\n\u001b[1;32m    783\u001b[0m \u001b[38;5;124;03m    config.num_labels - 1]`. If `config.num_labels == 1` a regression loss is computed (Mean-Square loss), If\u001b[39;00m\n\u001b[1;32m    784\u001b[0m \u001b[38;5;124;03m    `config.num_labels > 1` a classification loss is computed (Cross-Entropy).\u001b[39;00m\n\u001b[1;32m    785\u001b[0m \u001b[38;5;124;03m\"\"\"\u001b[39;00m\n\u001b[1;32m    786\u001b[0m return_dict \u001b[38;5;241m=\u001b[39m return_dict \u001b[38;5;28;01mif\u001b[39;00m return_dict \u001b[38;5;129;01mis\u001b[39;00m \u001b[38;5;129;01mnot\u001b[39;00m \u001b[38;5;28;01mNone\u001b[39;00m \u001b[38;5;28;01melse\u001b[39;00m \u001b[38;5;28mself\u001b[39m\u001b[38;5;241m.\u001b[39mconfig\u001b[38;5;241m.\u001b[39muse_return_dict\n\u001b[0;32m--> 788\u001b[0m distilbert_output \u001b[38;5;241m=\u001b[39m \u001b[38;5;28;43mself\u001b[39;49m\u001b[38;5;241;43m.\u001b[39;49m\u001b[43mdistilbert\u001b[49m\u001b[43m(\u001b[49m\n\u001b[1;32m    789\u001b[0m \u001b[43m    \u001b[49m\u001b[43minput_ids\u001b[49m\u001b[38;5;241;43m=\u001b[39;49m\u001b[43minput_ids\u001b[49m\u001b[43m,\u001b[49m\n\u001b[1;32m    790\u001b[0m \u001b[43m    \u001b[49m\u001b[43mattention_mask\u001b[49m\u001b[38;5;241;43m=\u001b[39;49m\u001b[43mattention_mask\u001b[49m\u001b[43m,\u001b[49m\n\u001b[1;32m    791\u001b[0m \u001b[43m    \u001b[49m\u001b[43mhead_mask\u001b[49m\u001b[38;5;241;43m=\u001b[39;49m\u001b[43mhead_mask\u001b[49m\u001b[43m,\u001b[49m\n\u001b[1;32m    792\u001b[0m \u001b[43m    \u001b[49m\u001b[43minputs_embeds\u001b[49m\u001b[38;5;241;43m=\u001b[39;49m\u001b[43minputs_embeds\u001b[49m\u001b[43m,\u001b[49m\n\u001b[1;32m    793\u001b[0m \u001b[43m    \u001b[49m\u001b[43moutput_attentions\u001b[49m\u001b[38;5;241;43m=\u001b[39;49m\u001b[43moutput_attentions\u001b[49m\u001b[43m,\u001b[49m\n\u001b[1;32m    794\u001b[0m \u001b[43m    \u001b[49m\u001b[43moutput_hidden_states\u001b[49m\u001b[38;5;241;43m=\u001b[39;49m\u001b[43moutput_hidden_states\u001b[49m\u001b[43m,\u001b[49m\n\u001b[1;32m    795\u001b[0m \u001b[43m    \u001b[49m\u001b[43mreturn_dict\u001b[49m\u001b[38;5;241;43m=\u001b[39;49m\u001b[43mreturn_dict\u001b[49m\u001b[43m,\u001b[49m\n\u001b[1;32m    796\u001b[0m \u001b[43m\u001b[49m\u001b[43m)\u001b[49m\n\u001b[1;32m    797\u001b[0m hidden_state \u001b[38;5;241m=\u001b[39m distilbert_output[\u001b[38;5;241m0\u001b[39m]  \u001b[38;5;66;03m# (bs, seq_len, dim)\u001b[39;00m\n\u001b[1;32m    798\u001b[0m pooled_output \u001b[38;5;241m=\u001b[39m hidden_state[:, \u001b[38;5;241m0\u001b[39m]  \u001b[38;5;66;03m# (bs, dim)\u001b[39;00m\n",
      "File \u001b[0;32m~/.local/lib/python3.10/site-packages/torch/nn/modules/module.py:1501\u001b[0m, in \u001b[0;36mModule._call_impl\u001b[0;34m(self, *args, **kwargs)\u001b[0m\n\u001b[1;32m   1496\u001b[0m \u001b[38;5;66;03m# If we don't have any hooks, we want to skip the rest of the logic in\u001b[39;00m\n\u001b[1;32m   1497\u001b[0m \u001b[38;5;66;03m# this function, and just call forward.\u001b[39;00m\n\u001b[1;32m   1498\u001b[0m \u001b[38;5;28;01mif\u001b[39;00m \u001b[38;5;129;01mnot\u001b[39;00m (\u001b[38;5;28mself\u001b[39m\u001b[38;5;241m.\u001b[39m_backward_hooks \u001b[38;5;129;01mor\u001b[39;00m \u001b[38;5;28mself\u001b[39m\u001b[38;5;241m.\u001b[39m_backward_pre_hooks \u001b[38;5;129;01mor\u001b[39;00m \u001b[38;5;28mself\u001b[39m\u001b[38;5;241m.\u001b[39m_forward_hooks \u001b[38;5;129;01mor\u001b[39;00m \u001b[38;5;28mself\u001b[39m\u001b[38;5;241m.\u001b[39m_forward_pre_hooks\n\u001b[1;32m   1499\u001b[0m         \u001b[38;5;129;01mor\u001b[39;00m _global_backward_pre_hooks \u001b[38;5;129;01mor\u001b[39;00m _global_backward_hooks\n\u001b[1;32m   1500\u001b[0m         \u001b[38;5;129;01mor\u001b[39;00m _global_forward_hooks \u001b[38;5;129;01mor\u001b[39;00m _global_forward_pre_hooks):\n\u001b[0;32m-> 1501\u001b[0m     \u001b[38;5;28;01mreturn\u001b[39;00m \u001b[43mforward_call\u001b[49m\u001b[43m(\u001b[49m\u001b[38;5;241;43m*\u001b[39;49m\u001b[43margs\u001b[49m\u001b[43m,\u001b[49m\u001b[43m \u001b[49m\u001b[38;5;241;43m*\u001b[39;49m\u001b[38;5;241;43m*\u001b[39;49m\u001b[43mkwargs\u001b[49m\u001b[43m)\u001b[49m\n\u001b[1;32m   1502\u001b[0m \u001b[38;5;66;03m# Do not call functions when jit is used\u001b[39;00m\n\u001b[1;32m   1503\u001b[0m full_backward_hooks, non_full_backward_hooks \u001b[38;5;241m=\u001b[39m [], []\n",
      "File \u001b[0;32m~/.local/lib/python3.10/site-packages/transformers/models/distilbert/modeling_distilbert.py:606\u001b[0m, in \u001b[0;36mDistilBertModel.forward\u001b[0;34m(self, input_ids, attention_mask, head_mask, inputs_embeds, output_attentions, output_hidden_states, return_dict)\u001b[0m\n\u001b[1;32m    603\u001b[0m \u001b[38;5;66;03m# Prepare head mask if needed\u001b[39;00m\n\u001b[1;32m    604\u001b[0m head_mask \u001b[38;5;241m=\u001b[39m \u001b[38;5;28mself\u001b[39m\u001b[38;5;241m.\u001b[39mget_head_mask(head_mask, \u001b[38;5;28mself\u001b[39m\u001b[38;5;241m.\u001b[39mconfig\u001b[38;5;241m.\u001b[39mnum_hidden_layers)\n\u001b[0;32m--> 606\u001b[0m embeddings \u001b[38;5;241m=\u001b[39m \u001b[38;5;28;43mself\u001b[39;49m\u001b[38;5;241;43m.\u001b[39;49m\u001b[43membeddings\u001b[49m\u001b[43m(\u001b[49m\u001b[43minput_ids\u001b[49m\u001b[43m,\u001b[49m\u001b[43m \u001b[49m\u001b[43minputs_embeds\u001b[49m\u001b[43m)\u001b[49m  \u001b[38;5;66;03m# (bs, seq_length, dim)\u001b[39;00m\n\u001b[1;32m    608\u001b[0m \u001b[38;5;28;01mreturn\u001b[39;00m \u001b[38;5;28mself\u001b[39m\u001b[38;5;241m.\u001b[39mtransformer(\n\u001b[1;32m    609\u001b[0m     x\u001b[38;5;241m=\u001b[39membeddings,\n\u001b[1;32m    610\u001b[0m     attn_mask\u001b[38;5;241m=\u001b[39mattention_mask,\n\u001b[0;32m   (...)\u001b[0m\n\u001b[1;32m    614\u001b[0m     return_dict\u001b[38;5;241m=\u001b[39mreturn_dict,\n\u001b[1;32m    615\u001b[0m )\n",
      "File \u001b[0;32m~/.local/lib/python3.10/site-packages/torch/nn/modules/module.py:1501\u001b[0m, in \u001b[0;36mModule._call_impl\u001b[0;34m(self, *args, **kwargs)\u001b[0m\n\u001b[1;32m   1496\u001b[0m \u001b[38;5;66;03m# If we don't have any hooks, we want to skip the rest of the logic in\u001b[39;00m\n\u001b[1;32m   1497\u001b[0m \u001b[38;5;66;03m# this function, and just call forward.\u001b[39;00m\n\u001b[1;32m   1498\u001b[0m \u001b[38;5;28;01mif\u001b[39;00m \u001b[38;5;129;01mnot\u001b[39;00m (\u001b[38;5;28mself\u001b[39m\u001b[38;5;241m.\u001b[39m_backward_hooks \u001b[38;5;129;01mor\u001b[39;00m \u001b[38;5;28mself\u001b[39m\u001b[38;5;241m.\u001b[39m_backward_pre_hooks \u001b[38;5;129;01mor\u001b[39;00m \u001b[38;5;28mself\u001b[39m\u001b[38;5;241m.\u001b[39m_forward_hooks \u001b[38;5;129;01mor\u001b[39;00m \u001b[38;5;28mself\u001b[39m\u001b[38;5;241m.\u001b[39m_forward_pre_hooks\n\u001b[1;32m   1499\u001b[0m         \u001b[38;5;129;01mor\u001b[39;00m _global_backward_pre_hooks \u001b[38;5;129;01mor\u001b[39;00m _global_backward_hooks\n\u001b[1;32m   1500\u001b[0m         \u001b[38;5;129;01mor\u001b[39;00m _global_forward_hooks \u001b[38;5;129;01mor\u001b[39;00m _global_forward_pre_hooks):\n\u001b[0;32m-> 1501\u001b[0m     \u001b[38;5;28;01mreturn\u001b[39;00m \u001b[43mforward_call\u001b[49m\u001b[43m(\u001b[49m\u001b[38;5;241;43m*\u001b[39;49m\u001b[43margs\u001b[49m\u001b[43m,\u001b[49m\u001b[43m \u001b[49m\u001b[38;5;241;43m*\u001b[39;49m\u001b[38;5;241;43m*\u001b[39;49m\u001b[43mkwargs\u001b[49m\u001b[43m)\u001b[49m\n\u001b[1;32m   1502\u001b[0m \u001b[38;5;66;03m# Do not call functions when jit is used\u001b[39;00m\n\u001b[1;32m   1503\u001b[0m full_backward_hooks, non_full_backward_hooks \u001b[38;5;241m=\u001b[39m [], []\n",
      "File \u001b[0;32m~/.local/lib/python3.10/site-packages/transformers/models/distilbert/modeling_distilbert.py:135\u001b[0m, in \u001b[0;36mEmbeddings.forward\u001b[0;34m(self, input_ids, input_embeds)\u001b[0m\n\u001b[1;32m    131\u001b[0m     position_ids \u001b[38;5;241m=\u001b[39m position_ids\u001b[38;5;241m.\u001b[39munsqueeze(\u001b[38;5;241m0\u001b[39m)\u001b[38;5;241m.\u001b[39mexpand_as(input_ids)  \u001b[38;5;66;03m# (bs, max_seq_length)\u001b[39;00m\n\u001b[1;32m    133\u001b[0m position_embeddings \u001b[38;5;241m=\u001b[39m \u001b[38;5;28mself\u001b[39m\u001b[38;5;241m.\u001b[39mposition_embeddings(position_ids)  \u001b[38;5;66;03m# (bs, max_seq_length, dim)\u001b[39;00m\n\u001b[0;32m--> 135\u001b[0m embeddings \u001b[38;5;241m=\u001b[39m \u001b[43minput_embeds\u001b[49m\u001b[43m \u001b[49m\u001b[38;5;241;43m+\u001b[39;49m\u001b[43m \u001b[49m\u001b[43mposition_embeddings\u001b[49m  \u001b[38;5;66;03m# (bs, max_seq_length, dim)\u001b[39;00m\n\u001b[1;32m    136\u001b[0m embeddings \u001b[38;5;241m=\u001b[39m \u001b[38;5;28mself\u001b[39m\u001b[38;5;241m.\u001b[39mLayerNorm(embeddings)  \u001b[38;5;66;03m# (bs, max_seq_length, dim)\u001b[39;00m\n\u001b[1;32m    137\u001b[0m embeddings \u001b[38;5;241m=\u001b[39m \u001b[38;5;28mself\u001b[39m\u001b[38;5;241m.\u001b[39mdropout(embeddings)  \u001b[38;5;66;03m# (bs, max_seq_length, dim)\u001b[39;00m\n",
      "\u001b[0;31mRuntimeError\u001b[0m: The size of tensor a (14) must match the size of tensor b (512) at non-singleton dimension 1"
     ]
    }
   ],
   "source": [
    "import torch\n",
    "from transformers import AutoTokenizer, AutoModelForSequenceClassification\n",
    "\n",
    "checkpoint = \"distilbert-base-uncased-finetuned-sst-2-english\"\n",
    "tokenizer = AutoTokenizer.from_pretrained(checkpoint)\n",
    "model = AutoModelForSequenceClassification.from_pretrained(checkpoint)\n",
    "\n",
    "sequence = \"I've been waiting for a HuggingFace course my whole life.\"\n",
    "\n",
    "tokens = tokenizer.tokenize(sequence)\n",
    "ids = tokenizer.convert_tokens_to_ids(tokens)\n",
    "input_ids = torch.tensor(ids)\n",
    "# This line will fail.\n",
    "model(input_ids)"
   ]
  },
  {
   "cell_type": "markdown",
   "id": "02013969-6837-410f-a8e4-f094d7d95e77",
   "metadata": {},
   "source": [
    "Oh no! Why did this fail? “We followed the steps from the pipeline in section 2.\r\n",
    "\r\n",
    "The problem is that we sent a single sequence to the model, whereas 🤗 Transformers models expect multiple sentences by default. Here we tried to do everything the tokenizer did behind the scenes when we applied it to a sequence. But if you look closely, you’ll see that the tokenizer didn’t just convert the list of input IDs into a tensor, it added a dimension on top of it:"
   ]
  },
  {
   "cell_type": "code",
   "execution_count": null,
   "id": "f3db07b0-b360-4a57-9c8e-e34e5f1495f7",
   "metadata": {},
   "outputs": [],
   "source": [
    "tokenized_inputs = tokenizer(sequence, return_tensors=\"pt\")\n",
    "print(tokenized_inputs[\"input_ids\"])"
   ]
  },
  {
   "cell_type": "code",
   "execution_count": null,
   "id": "d50226ed-e96d-4876-94a7-81bd4d3a92df",
   "metadata": {},
   "outputs": [],
   "source": [
    "import torch\n",
    "from transformers import AutoTokenizer, AutoModelForSequenceClassification\n",
    "\n",
    "checkpoint = \"distilbert-base-uncased-finetuned-sst-2-english\"\n",
    "tokenizer = AutoTokenizer.from_pretrained(checkpoint)\n",
    "model = AutoModelForSequenceClassification.from_pretrained(checkpoint)\n",
    "\n",
    "sequence = \"I've been waiting for a HuggingFace course my whole life.\"\n",
    "\n",
    "tokens = tokenizer.tokenize(sequence)\n",
    "ids = tokenizer.convert_tokens_to_ids(tokens)\n",
    "\n",
    "input_ids = torch.tensor([ids])\n",
    "print(\"Input IDs:\", input_ids)\n",
    "\n",
    "output = model(input_ids)\n",
    "print(\"Logits:\", output.logits)"
   ]
  },
  {
   "cell_type": "code",
   "execution_count": null,
   "id": "3360f96e-7e6b-4653-9ac3-37dc8e5c9ec7",
   "metadata": {},
   "outputs": [],
   "source": [
    "print(ids)"
   ]
  },
  {
   "cell_type": "code",
   "execution_count": null,
   "id": "7c69ad6c-a767-4c62-b493-2eb0dbced6b5",
   "metadata": {},
   "outputs": [],
   "source": [
    "batched_ids = [ids, ids]"
   ]
  },
  {
   "cell_type": "code",
   "execution_count": 90,
   "id": "8dad9e78-dc9a-4c4c-816f-56f93b30cbed",
   "metadata": {},
   "outputs": [
    {
     "name": "stdout",
     "output_type": "stream",
     "text": [
      "Input IDs: tensor([[ 1045,  1005,  2310,  2042,  3403,  2005,  1037, 17662, 12172,  2607,\n",
      "          2026,  2878,  2166,  1012],\n",
      "        [ 1045,  5223,  2023,  2061,  2172,   999,     0,     0,     0,     0,\n",
      "             0,     0,     0,     0]])\n",
      "Logits: tensor([[-2.7276,  2.8789],\n",
      "        [ 2.5423, -2.1265]], grad_fn=<AddmmBackward0>)\n"
     ]
    }
   ],
   "source": [
    "import torch\n",
    "from transformers import AutoTokenizer, AutoModelForSequenceClassification\n",
    "\n",
    "checkpoint = \"distilbert-base-uncased-finetuned-sst-2-english\"\n",
    "tokenizer = AutoTokenizer.from_pretrained(checkpoint)\n",
    "model = AutoModelForSequenceClassification.from_pretrained(checkpoint)\n",
    "\n",
    "input_ids = torch.tensor(batched_ids)\n",
    "print(\"Input IDs:\", input_ids)\n",
    "\n",
    "output = model(input_ids)\n",
    "print(\"Logits:\", output.logits)"
   ]
  },
  {
   "cell_type": "markdown",
   "id": "471770c1-650c-4c36-8927-32743e30c39b",
   "metadata": {},
   "source": [
    "Batching allows the model to work when you feed it multiple sentences. Using multiple sequences is just as simple as building a batch with a single sequence. There’s a second issue, though. When you’re trying to batch together two (or more) sentences, they might be of different lengths. If you’ve ever worked with tensors before, you know that they need to be of rectangular shape, so you won’t be able to convert the list of input IDs into a tensor directly. To work around this problem, we usually pad the inputs."
   ]
  },
  {
   "cell_type": "markdown",
   "id": "3290262f-8607-4673-b7bb-ea55193a0212",
   "metadata": {},
   "source": [
    "#### Padding the inputs"
   ]
  },
  {
   "cell_type": "code",
   "execution_count": null,
   "id": "8bd8ecdf-8606-4159-9ce9-56f0136a9a8a",
   "metadata": {},
   "outputs": [],
   "source": [
    "batched_ids = [\n",
    "    [200, 200, 200],\n",
    "    [200, 200]\n",
    "]"
   ]
  },
  {
   "cell_type": "markdown",
   "id": "7baf3acb-b8e4-405e-9d29-4e59a6e28564",
   "metadata": {},
   "source": [
    "\n",
    "In order to work around this, we’ll use padding to make our tensors have a rectangular shape. Padding makes sure all our sentences have the same length by adding a special word called the padding token to the sentences with fewer values. For example, if you have 10 sentences with 10 words and 1 sentence with 20 words, padding will ensure all the sentences have 20 words. In our example, the resulting tensor looks like this:"
   ]
  },
  {
   "cell_type": "code",
   "execution_count": null,
   "id": "1429f2d9-feec-4572-b90b-dea2e914d106",
   "metadata": {},
   "outputs": [],
   "source": [
    "padding_id = 100\n",
    "\n",
    "batched_ids = [\n",
    "    [200, 200, 200],\n",
    "    [200, 200, padding_id],\n",
    "]"
   ]
  },
  {
   "cell_type": "code",
   "execution_count": null,
   "id": "dccfccfe-9c59-496c-b7e3-3ef3c73bed2c",
   "metadata": {},
   "outputs": [],
   "source": [
    "model = AutoModelForSequenceClassification.from_pretrained(checkpoint)\n",
    "\n",
    "sequence1_ids = [[200, 200, 200]]\n",
    "sequence2_ids = [[200, 200]]\n",
    "batched_ids = [\n",
    "    [200, 200, 200],\n",
    "    [200, 200, tokenizer.pad_token_id],\n",
    "]\n",
    "\n",
    "print(model(torch.tensor(sequence1_ids)).logits)\n",
    "print(model(torch.tensor(sequence2_ids)).logits)\n",
    "print(model(torch.tensor(batched_ids)).logits)"
   ]
  },
  {
   "cell_type": "markdown",
   "id": "38f04d20-ca26-477a-909d-7877208a73d0",
   "metadata": {},
   "source": [
    "There’s something wrong with the logits in our batched predictions: the second row should be the same as the logits for the second sentence, but we’ve got completely different values!\n",
    "\n",
    "This is because the key feature of Transformer models is attention layers that contextualize each token. These will take into account the padding tokens since they attend to all of the tokens of a sequence. To get the same result when passing individual sentences of different lengths through the model or when passing a batch with the same sentences and padding applied, we need to tell those attention layers to ignore the padding tokens. This is done by using an attention mask."
   ]
  },
  {
   "cell_type": "markdown",
   "id": "bf383dcf-17a7-4bd1-a6de-c452498de583",
   "metadata": {},
   "source": [
    "#### Attention masks"
   ]
  },
  {
   "cell_type": "markdown",
   "id": "990b3ef2-af78-480e-912f-b335881bf3db",
   "metadata": {},
   "source": [
    "Attention masks are tensors with the exact same shape as the input IDs tensor, filled with 0s and 1s: 1s indicate the corresponding tokens should be attended to, and 0s indicate the corresponding tokens should not be attended to (i.e., they should be ignored by the attention layers of the model).\n",
    "\n",
    "Let’s complete the previous example with an attention mask:"
   ]
  },
  {
   "cell_type": "code",
   "execution_count": null,
   "id": "a4551552-b7a6-4d3f-aa5e-e770d6bb48bc",
   "metadata": {},
   "outputs": [],
   "source": [
    "batched_ids = [\n",
    "    [200, 200, 200],\n",
    "    [200, 200, tokenizer.pad_token_id],\n",
    "]\n",
    "\n",
    "attention_mask = [\n",
    "    [1, 1, 1],\n",
    "    [1, 1, 0],\n",
    "]"
   ]
  },
  {
   "cell_type": "code",
   "execution_count": null,
   "id": "a4fb1a2e-f059-4c11-b31a-d6a48229f96d",
   "metadata": {},
   "outputs": [],
   "source": [
    "outputs = model(torch.tensor(batched_ids), attention_mask=torch.tensor(attention_mask))\n",
    "print(outputs.logits)"
   ]
  },
  {
   "cell_type": "markdown",
   "id": "5931ebb8-b6a0-489e-a813-e10f7bbfa373",
   "metadata": {},
   "source": [
    "##### Example manual padding"
   ]
  },
  {
   "cell_type": "code",
   "execution_count": 103,
   "id": "b7d5f93b-a6c4-43f3-9144-6588e4877140",
   "metadata": {},
   "outputs": [
    {
     "data": {
      "text/plain": [
       "{'unk_token': '[UNK]',\n",
       " 'sep_token': '[SEP]',\n",
       " 'pad_token': '[PAD]',\n",
       " 'cls_token': '[CLS]',\n",
       " 'mask_token': '[MASK]'}"
      ]
     },
     "execution_count": 103,
     "metadata": {},
     "output_type": "execute_result"
    }
   ],
   "source": [
    "tokenizer.special_tokens_map"
   ]
  },
  {
   "cell_type": "code",
   "execution_count": 106,
   "id": "b18eb35b-4a24-4491-8e29-ca26273eb5a5",
   "metadata": {},
   "outputs": [
    {
     "data": {
      "text/plain": [
       "101"
      ]
     },
     "execution_count": 106,
     "metadata": {},
     "output_type": "execute_result"
    }
   ],
   "source": [
    "tokenizer.cls_token_id"
   ]
  },
  {
   "cell_type": "code",
   "execution_count": 107,
   "id": "fcfea69e-deaa-4dc9-a582-29ea6efac0ce",
   "metadata": {},
   "outputs": [
    {
     "data": {
      "text/plain": [
       "102"
      ]
     },
     "execution_count": 107,
     "metadata": {},
     "output_type": "execute_result"
    }
   ],
   "source": [
    "tokenizer.sep_token_id"
   ]
  },
  {
   "cell_type": "code",
   "execution_count": null,
   "id": "f50740f0-55ca-483a-8f8e-c584c8acc30d",
   "metadata": {},
   "outputs": [],
   "source": [
    "tokenizer.cls_token_id"
   ]
  },
  {
   "cell_type": "code",
   "execution_count": 109,
   "id": "84753f4c-2b46-4a45-a714-073144d11e00",
   "metadata": {},
   "outputs": [
    {
     "name": "stdout",
     "output_type": "stream",
     "text": [
      "[101, 1045, 1005, 2310, 2042, 3403, 2005, 1037, 17662, 12172, 2607, 2026, 2878, 2166, 1012, 102]\n",
      "[101, 1045, 5223, 2023, 2061, 2172, 999, 102]\n",
      "[101, 1045, 5223, 2023, 2061, 2172, 999, 102, 0, 0, 0, 0, 0, 0, 0, 0]\n",
      "16\n",
      "16\n",
      "[1, 1, 1, 1, 1, 1, 1, 1, 1, 1, 1, 1, 1, 1, 1, 1]\n",
      "[1, 1, 1, 1, 1, 1, 1, 1, 0, 0, 0, 0, 0, 0, 0, 0]\n",
      "SequenceClassifierOutput(loss=None, logits=tensor([[-1.5607,  1.6123],\n",
      "        [ 4.1692, -3.3464]], grad_fn=<AddmmBackward0>), hidden_states=None, attentions=None)\n"
     ]
    }
   ],
   "source": [
    "checkpoint = \"distilbert-base-uncased-finetuned-sst-2-english\"\n",
    "tokenizer = AutoTokenizer.from_pretrained(checkpoint)\n",
    "model = AutoModelForSequenceClassification.from_pretrained(checkpoint)\n",
    "\n",
    "sequence1 = \"I've been waiting for a HuggingFace course my whole life.\"\n",
    "sequence2 = \"I hate this so much!\"\n",
    "\n",
    "tokens1 = tokenizer.tokenize(sequence1)\n",
    "ids1 = [tokenizer.cls_token_id] + tokenizer.convert_tokens_to_ids(tokens1) + [tokenizer.sep_token_id]\n",
    "\n",
    "tokens2 = tokenizer.tokenize(sequence2)\n",
    "ids2 = [tokenizer.cls_token_id] + tokenizer.convert_tokens_to_ids(tokens2) + [tokenizer.sep_token_id]\n",
    "\n",
    "print(ids1)\n",
    "print(ids2)\n",
    "\n",
    "ids1 = ids1\n",
    "ids2_padded = ids2 + [tokenizer.pad_token_id for _ in range(len(ids2), len(ids1))]\n",
    "print(ids2_padded)\n",
    "\n",
    "print(len(ids1))\n",
    "print(len(ids2_padded))\n",
    "\n",
    "batched_ids = [\n",
    "    ids1,\n",
    "    ids2_padded,\n",
    "]\n",
    "\n",
    "attention_mask = [\n",
    "    [1 for _ in range(len(ids1))],\n",
    "    [1 for _ in range(len(ids2))] + [0 for _ in range(len(ids2), len(ids2_padded))],\n",
    "]\n",
    "\n",
    "for row in attention_mask:\n",
    "    print(row)\n",
    "\n",
    "outputs = model(torch.tensor(batched_ids), attention_mask=torch.tensor(attention_mask))\n",
    "print(outputs)"
   ]
  },
  {
   "cell_type": "markdown",
   "id": "1aedcf12-d989-4e96-b49d-7525b2fbc277",
   "metadata": {},
   "source": [
    "#### Longer sequences"
   ]
  },
  {
   "cell_type": "markdown",
   "id": "bc565d34-bafb-4817-83c1-fbf60c19c72c",
   "metadata": {},
   "source": [
    "With Transformer models, there is a limit to the lengths of the sequences we can pass the models. Most models handle sequences of up to 512 or 1024 tokens, and will crash when asked to process longer sequences. There are two solutions to this problem:"
   ]
  },
  {
   "cell_type": "markdown",
   "id": "cbd1674a-d191-47c6-b26f-128fa8e7459c",
   "metadata": {},
   "source": [
    "* Use a model with a longer supported sequence length.\n",
    "* Truncate your sequences."
   ]
  },
  {
   "cell_type": "markdown",
   "id": "2ec020ff-b779-4193-be0d-b3be24a8b643",
   "metadata": {},
   "source": [
    "Models have different supported sequence lengths, and some specialize in handling very long sequences. Longformer is one example, and another is LED. If you’re working on a task that requires very long sequences, we recommend you take a look at those models.\n",
    "\n",
    "Otherwise, we recommend you truncate your sequences by specifying the max_sequence_length param"
   ]
  },
  {
   "cell_type": "code",
   "execution_count": null,
   "id": "c5151230-1031-41a1-a12f-df755706637c",
   "metadata": {},
   "outputs": [],
   "source": [
    "max_sequence_length = 5\n",
    "sequence = sequence[:max_sequence_length]\n",
    "sequence"
   ]
  },
  {
   "cell_type": "markdown",
   "id": "017f6423-6789-4ad8-ac6e-12df63e828f1",
   "metadata": {},
   "source": [
    "### Putting it all together <a id=\"putting_it_all_together\"></a>"
   ]
  },
  {
   "cell_type": "markdown",
   "id": "fc74784e-ea96-4f87-9423-511ad0906120",
   "metadata": {},
   "source": [
    "In the last few sections, we’ve been trying our best to do most of the work by hand. We’ve explored how tokenizers work and looked at tokenization, conversion to input IDs, padding, truncation, and attention masks.\r\n",
    "\r\n",
    "However, as we saw in section 2, the 🤗 Transformers API can handle all of this for us with a high-level function that we’ll dive into here. When you call your tokenizer directly on the sentence, you get back inputs that are ready to pass through your model:"
   ]
  },
  {
   "cell_type": "code",
   "execution_count": 73,
   "id": "14a54f91-eddf-4c06-8625-695e01fc23e5",
   "metadata": {},
   "outputs": [
    {
     "data": {
      "text/plain": [
       "{'input_ids': [101, 1045, 1005, 2310, 2042, 3403, 2005, 1037, 17662, 12172, 2607, 2026, 2878, 2166, 1012, 102], 'attention_mask': [1, 1, 1, 1, 1, 1, 1, 1, 1, 1, 1, 1, 1, 1, 1, 1]}"
      ]
     },
     "execution_count": 73,
     "metadata": {},
     "output_type": "execute_result"
    }
   ],
   "source": [
    "from transformers import AutoTokenizer\n",
    "\n",
    "checkpoint = \"distilbert-base-uncased-finetuned-sst-2-english\"\n",
    "tokenizer = AutoTokenizer.from_pretrained(checkpoint)\n",
    "\n",
    "sequence = \"I've been waiting for a HuggingFace course my whole life.\"\n",
    "\n",
    "model_inputs = tokenizer(sequence)\n",
    "model_inputs"
   ]
  },
  {
   "cell_type": "markdown",
   "id": "ae7f1c20-11fa-495a-9cd5-564369295f5e",
   "metadata": {},
   "source": [
    "Here, the model_inputs variable contains everything that’s necessary for a model to operate well. For DistilBERT, that includes the input IDs as well as the attention mask. Other models that accept additional inputs will also have those output by the tokenizer object."
   ]
  },
  {
   "cell_type": "code",
   "execution_count": 74,
   "id": "8e5d1b69-4145-4cab-b5bc-7c940c4bf953",
   "metadata": {},
   "outputs": [
    {
     "name": "stdout",
     "output_type": "stream",
     "text": [
      "{'input_ids': [[101, 1045, 1005, 2310, 2042, 3403, 2005, 1037, 17662, 12172, 2607, 2026, 2878, 2166, 1012, 102], [101, 2061, 2031, 1045, 999, 102]], 'attention_mask': [[1, 1, 1, 1, 1, 1, 1, 1, 1, 1, 1, 1, 1, 1, 1, 1], [1, 1, 1, 1, 1, 1]]}\n"
     ]
    }
   ],
   "source": [
    "sequences = [\"I've been waiting for a HuggingFace course my whole life.\", \"So have I!\"]\n",
    "model_inputs = tokenizer(sequences)\n",
    "print(model_inputs)"
   ]
  },
  {
   "cell_type": "code",
   "execution_count": 75,
   "id": "90a3f2cf-f150-40c4-aaa9-a660d84b6c3b",
   "metadata": {},
   "outputs": [],
   "source": [
    "# Will pad the sequences up to the maximum sequence length\n",
    "model_inputs = tokenizer(sequences, padding=\"longest\")\n",
    "\n",
    "# Will pad the sequences up to the model max length\n",
    "# (512 for BERT or DistilBERT)\n",
    "model_inputs = tokenizer(sequences, padding=\"max_length\")\n",
    "\n",
    "# Will pad the sequences up to the specified max length\n",
    "model_inputs = tokenizer(sequences, padding=\"max_length\", max_length=8)"
   ]
  },
  {
   "cell_type": "code",
   "execution_count": 79,
   "id": "3710a3ca-7ff8-48b8-a1d8-094bafbc512f",
   "metadata": {},
   "outputs": [
    {
     "name": "stdout",
     "output_type": "stream",
     "text": [
      "{'input_ids': [[101, 1045, 1005, 2310, 2042, 3403, 2005, 1037, 17662, 12172, 2607, 2026, 2878, 2166, 1012, 102], [101, 2061, 2031, 1045, 999, 102]], 'attention_mask': [[1, 1, 1, 1, 1, 1, 1, 1, 1, 1, 1, 1, 1, 1, 1, 1], [1, 1, 1, 1, 1, 1]]}\n",
      "\n",
      "\n",
      "{'input_ids': [[101, 1045, 1005, 2310, 2042, 3403, 2005, 102], [101, 2061, 2031, 1045, 999, 102]], 'attention_mask': [[1, 1, 1, 1, 1, 1, 1, 1], [1, 1, 1, 1, 1, 1]]}\n"
     ]
    }
   ],
   "source": [
    "sequences = [\"I've been waiting for a HuggingFace course my whole life.\", \"So have I!\"]\n",
    "\n",
    "# Will truncate the sequences that are longer than the model max length\n",
    "# (512 for BERT or DistilBERT)\n",
    "model_inputs = tokenizer(sequences, truncation=True)\n",
    "print(model_inputs)\n",
    "print(\"\\n\")\n",
    "\n",
    "# Will truncate the sequences that are longer than the specified max length\n",
    "model_inputs = tokenizer(sequences, max_length=8, truncation=True)\n",
    "print(model_inputs)"
   ]
  },
  {
   "cell_type": "markdown",
   "id": "a6c7f4df-039e-40c8-999d-9571b21363fc",
   "metadata": {},
   "source": [
    "he tokenizer object can handle the conversion to specific framework tensors, which can then be directly sent to the model. For example, in the following code sample we are prompting the tokenizer to return tensors from the different frameworks — \"pt\" returns PyTorch tensors, \"tf\" returns TensorFlow tensors, and \"np\" returns NumPy arrays:"
   ]
  },
  {
   "cell_type": "code",
   "execution_count": 81,
   "id": "aeeb6b9a-d777-4ac7-8d1f-958d3bebfbe5",
   "metadata": {},
   "outputs": [
    {
     "name": "stdout",
     "output_type": "stream",
     "text": [
      "{'input_ids': tensor([[  101,  1045,  1005,  2310,  2042,  3403,  2005,  1037, 17662, 12172,\n",
      "          2607,  2026,  2878,  2166,  1012,   102],\n",
      "        [  101,  2061,  2031,  1045,   999,   102,     0,     0,     0,     0,\n",
      "             0,     0,     0,     0,     0,     0]]), 'attention_mask': tensor([[1, 1, 1, 1, 1, 1, 1, 1, 1, 1, 1, 1, 1, 1, 1, 1],\n",
      "        [1, 1, 1, 1, 1, 1, 0, 0, 0, 0, 0, 0, 0, 0, 0, 0]])}\n",
      "{'input_ids': <tf.Tensor: shape=(2, 16), dtype=int32, numpy=\n",
      "array([[  101,  1045,  1005,  2310,  2042,  3403,  2005,  1037, 17662,\n",
      "        12172,  2607,  2026,  2878,  2166,  1012,   102],\n",
      "       [  101,  2061,  2031,  1045,   999,   102,     0,     0,     0,\n",
      "            0,     0,     0,     0,     0,     0,     0]], dtype=int32)>, 'attention_mask': <tf.Tensor: shape=(2, 16), dtype=int32, numpy=\n",
      "array([[1, 1, 1, 1, 1, 1, 1, 1, 1, 1, 1, 1, 1, 1, 1, 1],\n",
      "       [1, 1, 1, 1, 1, 1, 0, 0, 0, 0, 0, 0, 0, 0, 0, 0]], dtype=int32)>}\n",
      "{'input_ids': array([[  101,  1045,  1005,  2310,  2042,  3403,  2005,  1037, 17662,\n",
      "        12172,  2607,  2026,  2878,  2166,  1012,   102],\n",
      "       [  101,  2061,  2031,  1045,   999,   102,     0,     0,     0,\n",
      "            0,     0,     0,     0,     0,     0,     0]]), 'attention_mask': array([[1, 1, 1, 1, 1, 1, 1, 1, 1, 1, 1, 1, 1, 1, 1, 1],\n",
      "       [1, 1, 1, 1, 1, 1, 0, 0, 0, 0, 0, 0, 0, 0, 0, 0]])}\n"
     ]
    }
   ],
   "source": [
    "sequences = [\"I've been waiting for a HuggingFace course my whole life.\", \"So have I!\"]\n",
    "\n",
    "# Returns PyTorch tensors\n",
    "model_inputs = tokenizer(sequences, padding=True, return_tensors=\"pt\")\n",
    "print(model_inputs)\n",
    "\n",
    "# Returns TensorFlow tensors\n",
    "model_inputs = tokenizer(sequences, padding=True, return_tensors=\"tf\")\n",
    "print(model_inputs)\n",
    "\n",
    "# Returns NumPy arrays\n",
    "model_inputs = tokenizer(sequences, padding=True, return_tensors=\"np\")\n",
    "print(model_inputs)"
   ]
  },
  {
   "cell_type": "markdown",
   "id": "603ee849-f02d-4545-9b8e-286083e2698d",
   "metadata": {},
   "source": [
    "If we take a look at the input IDs returned by the tokenizer, we will see they are a tiny bit different from what we had earlier:"
   ]
  },
  {
   "cell_type": "code",
   "execution_count": 82,
   "id": "eb4dce67-8658-47a0-b46d-308d45b314e9",
   "metadata": {},
   "outputs": [
    {
     "name": "stdout",
     "output_type": "stream",
     "text": [
      "[101, 1045, 1005, 2310, 2042, 3403, 2005, 1037, 17662, 12172, 2607, 2026, 2878, 2166, 1012, 102]\n",
      "[1045, 1005, 2310, 2042, 3403, 2005, 1037, 17662, 12172, 2607, 2026, 2878, 2166, 1012]\n"
     ]
    }
   ],
   "source": [
    "sequence = \"I've been waiting for a HuggingFace course my whole life.\"\n",
    "\n",
    "model_inputs = tokenizer(sequence)\n",
    "print(model_inputs[\"input_ids\"])\n",
    "\n",
    "tokens = tokenizer.tokenize(sequence)\n",
    "ids = tokenizer.convert_tokens_to_ids(tokens)\n",
    "print(ids)"
   ]
  },
  {
   "cell_type": "markdown",
   "id": "86b82d28-9d8c-44b3-acc5-97626e513df8",
   "metadata": {},
   "source": [
    "One token ID was added at the beginning, and one at the end. Let’s decode the two sequences of IDs above to see what this is about:"
   ]
  },
  {
   "cell_type": "code",
   "execution_count": 84,
   "id": "85b0819c-97fc-4efe-9e08-6f34e87bda39",
   "metadata": {},
   "outputs": [
    {
     "name": "stdout",
     "output_type": "stream",
     "text": [
      "[CLS] i've been waiting for a huggingface course my whole life. [SEP]\n",
      "i've been waiting for a huggingface course my whole life.\n"
     ]
    }
   ],
   "source": [
    "print(tokenizer.decode(model_inputs[\"input_ids\"]))\n",
    "print(tokenizer.decode(ids))"
   ]
  },
  {
   "cell_type": "markdown",
   "id": "1370ed54-bfe5-4e37-9236-19e486848a03",
   "metadata": {},
   "source": [
    "The tokenizer added the special word [CLS] at the beginning and the special word [SEP] at the end. This is because the model was pretrained with those, so to get the same results for inference we need to add them as well. Note that some models don’t add special words, or add different ones; models may also add these special words only at the beginning, or only at the end. In any case, the tokenizer knows which ones are expected and will deal with this for you."
   ]
  },
  {
   "cell_type": "markdown",
   "id": "1e46e36b-8b75-4f58-afa1-da744cf5f2a7",
   "metadata": {},
   "source": [
    "#### Wrapping up: From tokenizer to model"
   ]
  },
  {
   "cell_type": "markdown",
   "id": "9746cf34-756d-4948-9f7f-618f9cd3bd23",
   "metadata": {},
   "source": [
    "Now that we’ve seen all the individual steps the tokenizer object uses when applied on texts, let’s see one final time how it can handle multiple sequences (padding!), very long sequences (truncation!), and multiple types of tensors with its main API:"
   ]
  },
  {
   "cell_type": "code",
   "execution_count": 92,
   "id": "aae325c2-3253-4d61-8dfc-dd35dc5229dc",
   "metadata": {},
   "outputs": [
    {
     "name": "stdout",
     "output_type": "stream",
     "text": [
      "{'input_ids': tensor([[  101,  1045,  1005,  2310,  2042,  3403,  2005,  1037, 17662, 12172,\n",
      "          2607,  2026,  2878,  2166,  1012,   102],\n",
      "        [  101,  2061,  2031,  1045,   999,   102,     0,     0,     0,     0,\n",
      "             0,     0,     0,     0,     0,     0],\n",
      "        [  101,  1045,  5223,  2023,  2061,  2172,   999,   102,     0,     0,\n",
      "             0,     0,     0,     0,     0,     0]]), 'attention_mask': tensor([[1, 1, 1, 1, 1, 1, 1, 1, 1, 1, 1, 1, 1, 1, 1, 1],\n",
      "        [1, 1, 1, 1, 1, 1, 0, 0, 0, 0, 0, 0, 0, 0, 0, 0],\n",
      "        [1, 1, 1, 1, 1, 1, 1, 1, 0, 0, 0, 0, 0, 0, 0, 0]])}\n",
      "SequenceClassifierOutput(loss=None, logits=tensor([[-1.5607,  1.6123],\n",
      "        [-3.6183,  3.9137],\n",
      "        [ 4.1692, -3.3464]], grad_fn=<AddmmBackward0>), hidden_states=None, attentions=None)\n"
     ]
    }
   ],
   "source": [
    "import torch\n",
    "from transformers import AutoTokenizer, AutoModelForSequenceClassification\n",
    "\n",
    "checkpoint = \"distilbert-base-uncased-finetuned-sst-2-english\"\n",
    "tokenizer = AutoTokenizer.from_pretrained(checkpoint)\n",
    "model = AutoModelForSequenceClassification.from_pretrained(checkpoint)\n",
    "sequences = [\"I've been waiting for a HuggingFace course my whole life.\", \n",
    "             \"So have I!\", \n",
    "             \"I hate this so much!\"]\n",
    "\n",
    "tokens = tokenizer(sequences, padding=True, truncation=True, return_tensors=\"pt\")\n",
    "print(tokens)\n",
    "output = model(**tokens)\n",
    "print(output)"
   ]
  },
  {
   "cell_type": "code",
   "execution_count": 111,
   "id": "8363592b-d4e9-4156-9e3d-ef6f01a75588",
   "metadata": {},
   "outputs": [
    {
     "data": {
      "text/plain": [
       "BaseModelOutputWithPastAndCrossAttentions(last_hidden_state=tensor([[[-0.2816, -0.0865, -0.1578,  ..., -0.1158, -0.0344,  0.0383],\n",
       "         [-0.0805, -0.3172,  0.7473,  ...,  0.2464, -0.2204,  0.4280],\n",
       "         [-0.7610, -0.0245,  0.5968,  ..., -0.1758, -0.1370,  0.5040],\n",
       "         [-0.9626, -0.3005,  1.5238,  ...,  0.1323, -0.1324,  0.7614]]],\n",
       "       grad_fn=<ViewBackward0>), past_key_values=((tensor([[[[-1.3976,  2.2337,  0.7093,  ..., -0.8463, -0.6613,  2.1477],\n",
       "          [-0.7917,  2.2520,  1.3571,  ..., -0.8278, -0.8271,  2.4111],\n",
       "          [-1.5846,  2.5497,  2.2565,  ..., -0.7929, -1.4142,  1.8329],\n",
       "          [-0.9971,  3.4001,  1.1505,  ..., -0.8303, -1.9594,  2.0930]],\n",
       "\n",
       "         [[ 0.4733, -0.3813, -1.4860,  ..., -0.6437,  1.3960,  1.1182],\n",
       "          [ 0.2444, -0.3169, -1.8641,  ..., -1.7196,  3.4611,  1.5116],\n",
       "          [ 0.7750, -2.8194, -0.7080,  ..., -0.4369,  0.6255,  1.4880],\n",
       "          [ 0.0708, -1.3873, -0.3489,  ..., -2.3093,  2.7824, -0.2689]],\n",
       "\n",
       "         [[-0.2884, -0.2564,  1.4315,  ..., -1.8624, -1.4088,  0.4182],\n",
       "          [ 1.1735,  0.0093,  1.1546,  ..., -2.3344, -0.0821,  1.8351],\n",
       "          [ 0.8315, -0.5896,  0.6181,  ..., -2.4581,  0.2956,  1.6340],\n",
       "          [ 0.5803,  0.7481,  0.2789,  ..., -2.2185, -0.1376,  0.5187]],\n",
       "\n",
       "         ...,\n",
       "\n",
       "         [[ 0.4551, -0.2427, -0.0386,  ...,  0.0500,  0.5915,  0.1745],\n",
       "          [ 0.1409, -0.1162,  0.5309,  ...,  0.7812,  0.6322, -0.0057],\n",
       "          [ 0.1829,  0.3532, -0.5206,  ...,  0.1705, -0.2931,  0.2895],\n",
       "          [-0.4914,  0.4947,  0.1832,  ...,  0.1696,  0.4253,  0.3761]],\n",
       "\n",
       "         [[ 1.0454,  1.0992, -0.4474,  ..., -0.1957,  0.9394, -0.6959],\n",
       "          [ 0.9147,  0.3806,  0.6348,  ..., -0.3728,  1.0410, -1.1351],\n",
       "          [ 0.4955, -0.4038, -0.4624,  ..., -0.8664,  0.6107, -0.3957],\n",
       "          [ 0.9778, -0.2161,  0.0395,  ..., -0.7979,  0.9421,  0.6929]],\n",
       "\n",
       "         [[ 0.9965,  0.4488,  1.4575,  ...,  0.1059,  0.9012,  1.1892],\n",
       "          [ 0.3846,  0.8541,  0.7949,  ...,  0.7102,  0.4530,  0.5267],\n",
       "          [ 0.0961,  0.3507,  1.1362,  ...,  0.1037,  0.9905,  0.2021],\n",
       "          [-0.0399,  0.0359,  1.3760,  ..., -0.2471,  0.8900,  0.3067]]]],\n",
       "       grad_fn=<PermuteBackward0>), tensor([[[[ 0.0268, -0.0771,  0.0061,  ..., -0.0100, -0.2063,  0.0382],\n",
       "          [-0.0842,  0.0286,  0.0445,  ...,  0.1686, -0.2359, -0.2991],\n",
       "          [ 0.0705, -0.0591, -0.0214,  ...,  0.1362, -0.1480,  0.2239],\n",
       "          [ 0.0651, -0.1392, -0.0235,  ...,  0.0252, -0.1909, -0.1232]],\n",
       "\n",
       "         [[ 0.2804,  0.1399, -0.1039,  ..., -0.3852, -0.0587,  0.1306],\n",
       "          [ 0.1056, -0.0179,  0.0384,  ...,  0.1181,  0.4144, -0.0516],\n",
       "          [ 0.1688, -0.1419,  0.0545,  ...,  0.2746,  0.4693,  0.0215],\n",
       "          [-0.0062,  0.0331, -0.1422,  ...,  0.1039,  0.6214, -0.0200]],\n",
       "\n",
       "         [[-0.0565, -0.0891,  0.1367,  ..., -0.2607, -0.0635, -0.0139],\n",
       "          [ 0.2142, -0.1708,  0.2591,  ..., -0.1084, -0.0277, -0.1898],\n",
       "          [ 0.1679, -0.1278,  0.3677,  ..., -0.3512, -0.1504,  0.1538],\n",
       "          [-0.1144, -0.3994,  0.3037,  ..., -0.1431, -0.0713, -0.0633]],\n",
       "\n",
       "         ...,\n",
       "\n",
       "         [[-0.0509, -0.1432,  0.0097,  ..., -0.0487, -0.3237, -0.0641],\n",
       "          [-0.2149,  0.2166, -0.0640,  ...,  0.0809, -0.2742,  0.1617],\n",
       "          [ 0.1766, -0.2333,  0.2882,  ...,  0.1236, -0.2322,  0.0785],\n",
       "          [-0.2160, -0.2381,  0.3161,  ...,  0.2258, -0.1498, -0.0169]],\n",
       "\n",
       "         [[-0.0697, -0.0453, -0.2861,  ...,  0.0143,  0.1838, -0.2827],\n",
       "          [-0.4365,  0.2274, -0.1581,  ..., -0.2542,  0.3091, -0.1206],\n",
       "          [-0.4861,  0.0214, -0.0082,  ..., -0.0610, -0.0410, -0.2198],\n",
       "          [-0.1379,  0.2373,  0.0511,  ..., -0.0860, -0.1720, -0.2678]],\n",
       "\n",
       "         [[-0.0079, -0.3131,  0.1262,  ..., -0.0831,  0.2159, -0.0285],\n",
       "          [-0.0052,  0.1885,  0.0344,  ...,  0.2180,  0.3595,  0.1727],\n",
       "          [ 0.1815, -0.1617,  0.0290,  ...,  0.0325,  0.3837, -0.0298],\n",
       "          [ 0.1656, -0.0383,  0.2470,  ..., -0.0786,  0.4520,  0.0161]]]],\n",
       "       grad_fn=<PermuteBackward0>)), (tensor([[[[-0.0392,  1.4712, -2.1039,  ...,  1.2228, -1.0633,  0.5395],\n",
       "          [ 0.4009,  0.2649, -1.7791,  ..., -0.1418, -0.0631,  1.5700],\n",
       "          [ 0.4095,  0.7949, -1.1941,  ..., -1.0315, -1.3506,  0.2436],\n",
       "          [ 0.7406,  1.1003, -1.1457,  ..., -0.2494, -1.6229,  0.1202]],\n",
       "\n",
       "         [[-1.2855, -0.6491, -0.8977,  ..., -0.5702,  0.9284, -0.4191],\n",
       "          [-0.7811,  0.0249, -1.1591,  ..., -0.0506,  0.1278,  0.1678],\n",
       "          [-0.9857,  0.1349, -1.9229,  ..., -0.1809, -0.0810,  0.3836],\n",
       "          [-0.9302,  0.3630, -1.8515,  ...,  0.1094, -0.5785, -0.2709]],\n",
       "\n",
       "         [[ 0.3628,  0.1794, -0.1297,  ..., -1.4364,  0.4746, -0.1390],\n",
       "          [-0.1578,  0.2479, -0.3376,  ..., -1.3201,  0.0800,  0.0815],\n",
       "          [-0.0961,  0.2188, -0.5369,  ..., -1.1710,  0.3268,  0.2725],\n",
       "          [-0.3816,  0.2417, -0.5220,  ..., -1.0362,  0.2980,  0.2635]],\n",
       "\n",
       "         ...,\n",
       "\n",
       "         [[-0.1288, -0.1801, -0.3727,  ..., -0.3920,  0.6221, -1.1140],\n",
       "          [-0.0165,  0.1176,  1.9697,  ..., -0.3883, -0.1469, -1.2905],\n",
       "          [-0.4595,  0.9406,  2.3514,  ...,  0.5805, -0.4640, -0.4974],\n",
       "          [ 0.2795,  0.8693,  2.1798,  ...,  0.0861, -0.0983, -0.5554]],\n",
       "\n",
       "         [[-0.9550, -2.5938,  0.1939,  ...,  1.7414,  1.5241, -1.7607],\n",
       "          [ 0.3055,  0.7228, -0.3295,  ..., -0.7230,  0.4217, -0.0774],\n",
       "          [ 0.1789,  0.7025, -0.4916,  ..., -0.6954,  0.4693, -0.2881],\n",
       "          [ 0.2763,  0.8449, -0.4838,  ..., -0.5854,  0.5517, -0.1590]],\n",
       "\n",
       "         [[ 0.8312,  1.9136,  1.0368,  ..., -0.2221, -0.0491,  0.5673],\n",
       "          [-0.3044,  2.2372,  2.2339,  ...,  0.8259, -0.8359,  0.0640],\n",
       "          [ 0.0097,  0.5845,  0.5466,  ...,  1.7087,  0.0119, -0.0279],\n",
       "          [ 0.3216,  0.9003,  1.6771,  ...,  1.3848, -0.0236,  0.2466]]]],\n",
       "       grad_fn=<PermuteBackward0>), tensor([[[[ 0.4647,  0.1986, -0.2862,  ...,  0.0237, -0.0983,  0.2355],\n",
       "          [ 0.8864,  0.3004, -0.0164,  ...,  0.1323, -0.7130, -0.2085],\n",
       "          [ 0.7754,  0.0843,  0.1420,  ..., -0.0777, -0.4584,  0.7296],\n",
       "          [ 0.4055,  0.3553, -0.1046,  ...,  0.0887, -0.3732,  0.8864]],\n",
       "\n",
       "         [[-0.2324, -0.1252, -0.2453,  ...,  0.2492, -0.2829,  0.2204],\n",
       "          [ 0.1234,  0.0543,  0.2365,  ..., -0.0408, -0.2742, -0.5656],\n",
       "          [-0.0169,  0.0622, -0.3570,  ...,  0.3584,  0.0729,  0.2573],\n",
       "          [ 0.2172,  0.3250, -0.1487,  ...,  0.1180,  0.1803,  0.2413]],\n",
       "\n",
       "         [[ 0.1047,  0.1840,  0.0510,  ..., -0.5030, -0.0534,  0.2150],\n",
       "          [ 0.6672,  0.2831,  0.2211,  ...,  0.0754, -0.3640,  0.5663],\n",
       "          [ 0.7823,  0.6747,  0.1589,  ..., -0.1327, -0.2919,  0.5156],\n",
       "          [ 0.8217,  0.2464,  0.3907,  ...,  0.1954, -0.0610,  0.3459]],\n",
       "\n",
       "         ...,\n",
       "\n",
       "         [[ 0.0056,  0.7842, -0.2336,  ..., -0.1275, -1.0676, -0.1462],\n",
       "          [ 0.3948, -0.0996,  0.6218,  ...,  0.2311, -0.8224, -0.0928],\n",
       "          [-0.2373,  0.1716,  0.2493,  ..., -0.1040, -0.5471, -0.3467],\n",
       "          [-0.5906, -0.3056,  0.4910,  ..., -0.1652, -0.5179, -0.2985]],\n",
       "\n",
       "         [[-0.2487, -0.0620, -0.0532,  ...,  0.6051, -3.8914,  0.3717],\n",
       "          [ 0.0124, -0.2964,  0.0860,  ...,  0.2170,  0.1323, -0.3129],\n",
       "          [-0.2373,  0.0201, -0.4624,  ...,  0.1612,  0.0724, -0.0300],\n",
       "          [-0.1256,  0.0757, -0.3370,  ...,  0.2499,  0.2342,  0.0896]],\n",
       "\n",
       "         [[ 0.1445, -0.5470,  0.0418,  ..., -0.2697, -0.0065, -0.0973],\n",
       "          [ 0.7007, -0.4673,  0.0212,  ...,  0.2143,  0.1969,  0.2135],\n",
       "          [ 0.2182, -0.6619,  0.3310,  ...,  0.3915, -0.0975,  0.2549],\n",
       "          [ 0.6760, -0.6100,  0.3583,  ...,  0.2916,  0.0876,  0.3433]]]],\n",
       "       grad_fn=<PermuteBackward0>)), (tensor([[[[-1.3493e-01, -1.1984e+00,  3.1405e-01,  ..., -6.6704e-01,\n",
       "           -6.9774e-02, -3.8811e-02],\n",
       "          [-1.4376e-01, -3.4069e+00,  2.0188e-01,  ...,  7.9377e-01,\n",
       "            8.8109e-02, -8.6875e-01],\n",
       "          [ 6.2746e-04, -2.4431e+00,  3.9490e-01,  ...,  2.9487e-02,\n",
       "            2.6682e-01, -2.8985e-01],\n",
       "          [-3.8658e-01, -2.8259e+00,  3.0655e-01,  ...,  5.4887e-01,\n",
       "            1.4219e-01, -5.7010e-01]],\n",
       "\n",
       "         [[-5.0807e-01,  4.3064e-01, -5.5137e-01,  ...,  1.1724e+00,\n",
       "           -6.0058e-01, -5.2385e-01],\n",
       "          [-1.8368e+00, -8.5888e-01, -1.5932e+00,  ...,  9.5082e-01,\n",
       "            9.3238e-01, -8.9530e-01],\n",
       "          [-1.5816e+00, -4.1769e-01, -3.3609e+00,  ...,  3.5356e-02,\n",
       "            5.5325e-01, -1.1146e+00],\n",
       "          [-1.6704e+00, -5.0122e-02, -2.6540e+00,  ...,  1.3705e-01,\n",
       "            4.7958e-01, -1.2930e+00]],\n",
       "\n",
       "         [[ 1.2925e+00,  2.9818e+00,  3.7359e+00,  ...,  5.0644e-01,\n",
       "            1.7950e+00, -7.9960e-01],\n",
       "          [-3.0104e+00,  1.0372e+00, -3.4279e+00,  ..., -3.3817e+00,\n",
       "            4.0585e+00, -4.5149e-02],\n",
       "          [-3.1476e+00, -2.3987e-02, -3.2580e+00,  ..., -4.5351e+00,\n",
       "            3.2750e+00,  1.5759e-01],\n",
       "          [-3.2099e+00, -7.6521e-01, -3.8879e+00,  ..., -4.6137e+00,\n",
       "            3.4380e+00, -2.7191e-01]],\n",
       "\n",
       "         ...,\n",
       "\n",
       "         [[ 1.3025e+00, -2.7349e+00, -2.6233e+00,  ...,  9.1101e-01,\n",
       "            5.2568e-01,  2.6699e+00],\n",
       "          [-2.5425e+00,  1.9674e+00,  4.7950e-01,  ..., -8.5663e-01,\n",
       "           -2.0970e+00, -1.2021e-01],\n",
       "          [-3.3006e+00,  2.5088e+00,  1.0797e+00,  ..., -6.2185e-01,\n",
       "           -1.9175e+00, -5.9168e-01],\n",
       "          [-3.2173e+00,  3.2322e+00,  1.8142e+00,  ..., -8.0106e-01,\n",
       "           -2.0555e+00, -8.6116e-01]],\n",
       "\n",
       "         [[ 1.7364e+00,  4.4808e-01,  9.1378e-01,  ..., -6.1457e-03,\n",
       "           -9.9044e-01, -3.3666e-01],\n",
       "          [ 2.0594e+00,  8.7276e-01,  1.5037e+00,  ..., -3.4051e-02,\n",
       "           -1.8892e+00, -1.7951e+00],\n",
       "          [ 2.4400e+00,  4.5150e-01,  1.3868e+00,  ...,  5.8077e-03,\n",
       "           -1.7273e+00, -1.3963e+00],\n",
       "          [ 2.2247e+00,  6.3788e-01,  1.4731e+00,  ..., -3.1012e-01,\n",
       "           -1.7539e+00, -1.4461e+00]],\n",
       "\n",
       "         [[-2.1869e-01,  1.5428e-01, -5.4182e-01,  ...,  3.2669e-01,\n",
       "            2.8867e-01,  1.8394e-01],\n",
       "          [-1.2172e-01,  4.0882e-01, -5.9599e-01,  ...,  1.8317e-01,\n",
       "            6.0953e-01,  4.6108e-01],\n",
       "          [-4.3200e-02, -2.6701e-01, -3.7411e-01,  ...,  5.8514e-01,\n",
       "            9.4278e-01,  3.1825e-01],\n",
       "          [-5.6768e-02, -2.4683e-01, -9.0475e-02,  ...,  7.2385e-01,\n",
       "            9.3674e-01,  3.2320e-01]]]], grad_fn=<PermuteBackward0>), tensor([[[[-4.0134e-02, -4.1824e-02, -1.5207e-01,  ..., -9.1255e-04,\n",
       "            1.4524e-02, -5.4331e-01],\n",
       "          [-9.3620e-02,  3.1470e-01, -4.4050e-01,  ...,  5.3173e-01,\n",
       "           -4.8102e-02,  5.0819e-01],\n",
       "          [-1.6249e-01,  2.0646e-01, -3.8696e-01,  ...,  5.7523e-01,\n",
       "           -2.4505e-02,  3.5009e-01],\n",
       "          [ 5.5188e-02,  2.5142e-01, -5.1531e-01,  ...,  2.8228e-01,\n",
       "            1.4486e-01,  1.8844e-01]],\n",
       "\n",
       "         [[ 3.7242e-02, -5.6817e-02,  8.4487e-02,  ..., -3.7161e-02,\n",
       "            4.2309e-02,  1.8438e-02],\n",
       "          [-7.5677e-02, -3.9922e-01,  6.8245e-01,  ...,  1.0844e-01,\n",
       "            4.9471e-01, -1.7197e-01],\n",
       "          [ 5.3239e-01, -6.6645e-01,  3.8572e-01,  ...,  4.4320e-01,\n",
       "            8.5756e-01, -3.7020e-01],\n",
       "          [ 6.8365e-02, -1.1444e-01,  6.7376e-01,  ..., -6.1515e-02,\n",
       "            6.9469e-01,  2.4236e-01]],\n",
       "\n",
       "         [[ 3.7654e-02, -7.7356e-01,  1.2355e-04,  ...,  5.7125e-02,\n",
       "            1.1919e-02, -2.2453e-02],\n",
       "          [ 1.1547e-01, -1.5056e+00, -1.6920e-01,  ...,  9.0660e-02,\n",
       "            1.0207e-01, -7.2552e-01],\n",
       "          [ 2.8622e-01, -1.4640e+00,  1.0749e-01,  ...,  2.9758e-01,\n",
       "            2.7621e-01, -2.8849e-01],\n",
       "          [ 1.4910e-03, -1.3060e+00,  9.2815e-02,  ..., -1.2890e-01,\n",
       "            4.8408e-01,  7.5139e-02]],\n",
       "\n",
       "         ...,\n",
       "\n",
       "         [[ 3.2524e-02, -1.4041e-01,  1.3753e+00,  ..., -5.3510e-02,\n",
       "            2.2462e-01,  3.6120e-02],\n",
       "          [ 1.2849e-01, -2.9716e-01,  1.9903e+00,  ..., -3.1058e-01,\n",
       "           -1.0033e-02, -5.4651e-01],\n",
       "          [ 2.0060e-01, -9.3665e-01,  2.3578e+00,  ..., -2.4214e-01,\n",
       "            5.1899e-01,  4.0281e-01],\n",
       "          [ 4.2611e-01, -7.5108e-01,  2.1410e+00,  ..., -4.5821e-01,\n",
       "            4.5833e-01,  1.9178e-01]],\n",
       "\n",
       "         [[ 9.1473e-02, -8.6774e-02, -1.6340e-01,  ...,  1.2319e-01,\n",
       "            1.4337e-01,  1.6754e-01],\n",
       "          [ 7.5104e-01,  1.2169e-01,  1.7787e-02,  ...,  1.8002e-01,\n",
       "           -1.4622e-01, -4.6469e-01],\n",
       "          [ 1.1852e+00,  2.2576e-01,  5.6544e-01,  ..., -5.1010e-02,\n",
       "           -1.2827e-01, -6.5447e-01],\n",
       "          [ 5.6277e-01,  6.4219e-01, -4.0616e-02,  ...,  1.0577e-01,\n",
       "           -2.8095e-01, -4.8433e-01]],\n",
       "\n",
       "         [[ 5.7821e-03,  8.6129e-03,  3.6379e-02,  ..., -1.5944e-02,\n",
       "            2.4155e-01, -2.2665e-03],\n",
       "          [-1.5478e-02, -1.9446e-01,  5.5755e-01,  ..., -7.4792e-03,\n",
       "           -2.3341e+00,  1.7475e-01],\n",
       "          [ 1.2303e-01, -2.2384e-01,  2.0717e-01,  ...,  3.6651e-01,\n",
       "           -2.0709e+00,  1.9717e-01],\n",
       "          [ 1.0998e-01, -1.7811e-01,  6.5196e-02,  ...,  3.3812e-01,\n",
       "           -2.3204e+00,  3.0488e-01]]]], grad_fn=<PermuteBackward0>)), (tensor([[[[ 0.0302, -0.2227,  0.1406,  ..., -0.8952,  0.7321, -1.2143],\n",
       "          [-0.3589, -0.9211,  0.3801,  ..., -0.0727,  0.0205,  0.0982],\n",
       "          [-0.1222, -0.3678, -0.1258,  ...,  0.3066, -0.4613, -0.3071],\n",
       "          [-0.1426,  0.1905, -0.6459,  ...,  0.2051, -1.8821,  0.5973]],\n",
       "\n",
       "         [[ 0.7763,  0.1826, -0.0078,  ..., -0.1746, -1.1140, -0.2112],\n",
       "          [-0.5616, -1.2888,  0.1283,  ..., -0.6688,  4.2962,  1.5303],\n",
       "          [-0.7471, -1.3668, -1.2288,  ..., -0.1959,  3.9345,  1.3500],\n",
       "          [-1.2435, -1.1810, -0.7646,  ..., -0.4852,  3.5626,  0.9266]],\n",
       "\n",
       "         [[ 0.3215, -0.3446, -0.3220,  ...,  0.3151,  1.4592,  0.2671],\n",
       "          [-1.0912, -6.2107, -2.0855,  ..., -4.1125, -1.7081, -5.4773],\n",
       "          [-1.5290, -6.0201, -2.1354,  ..., -5.0863, -1.2493, -5.1911],\n",
       "          [-1.5878, -5.9644, -1.9755,  ..., -5.1307, -1.6089, -5.5813]],\n",
       "\n",
       "         ...,\n",
       "\n",
       "         [[ 0.2491,  1.7579,  0.5236,  ...,  0.2412,  0.4332, -1.6916],\n",
       "          [-0.0681, -7.4214,  1.4038,  ..., -2.0283, -1.1680,  5.6008],\n",
       "          [ 0.9834, -7.6222,  1.3071,  ..., -1.5848, -1.4357,  6.0763],\n",
       "          [ 1.3370, -7.3594,  1.0282,  ..., -1.6278, -0.5177,  6.3236]],\n",
       "\n",
       "         [[ 0.0641, -0.0333,  0.1483,  ..., -0.1017, -0.1090, -0.1475],\n",
       "          [ 0.8105, -0.2677,  0.4949,  ..., -0.6105, -0.5310, -0.5652],\n",
       "          [ 0.0214,  0.5426, -0.2186,  ..., -0.2259, -0.6854, -0.4557],\n",
       "          [-0.7624,  0.8228, -0.2646,  ..., -0.2743, -0.7641, -0.4335]],\n",
       "\n",
       "         [[ 0.3949, -0.0467,  1.8978,  ..., -0.2433, -0.1998, -0.9769],\n",
       "          [ 3.7499,  1.7008, -3.1457,  ...,  0.4197,  0.7043,  4.2505],\n",
       "          [ 3.5672,  2.4864, -2.8415,  ...,  0.5543,  1.3931,  4.4272],\n",
       "          [ 3.2420,  1.9571, -3.2898,  ...,  0.1603,  1.5013,  4.3241]]]],\n",
       "       grad_fn=<PermuteBackward0>), tensor([[[[ 0.0522,  0.0612, -0.0094,  ...,  0.0146,  0.0945,  0.0399],\n",
       "          [ 0.5591, -1.1825,  0.3559,  ...,  0.2775, -0.9845, -0.6718],\n",
       "          [ 1.1764, -0.3344,  0.6802,  ..., -0.5682, -0.7255, -0.7643],\n",
       "          [ 1.3690, -0.2468,  0.8128,  ..., -0.8360, -0.5340, -0.4694]],\n",
       "\n",
       "         [[-0.0521,  0.0049,  0.0851,  ..., -0.0340, -0.0313, -0.0531],\n",
       "          [-0.0246, -0.2910, -0.2423,  ...,  0.1702,  0.1978, -0.3855],\n",
       "          [ 0.0932, -0.1267,  0.0491,  ...,  0.4454,  0.2757, -0.6239],\n",
       "          [ 0.2124, -0.0840,  0.3713,  ...,  0.3711,  0.4032, -0.1887]],\n",
       "\n",
       "         [[ 0.0297, -0.1062, -0.0701,  ..., -0.0257,  0.0799, -0.1490],\n",
       "          [ 0.1941,  0.0088, -0.2065,  ...,  0.3632, -0.1176, -0.3068],\n",
       "          [-0.2503,  0.1144, -0.3061,  ..., -0.1173, -0.0484,  0.3469],\n",
       "          [-0.1946, -0.0873, -0.5569,  ..., -0.0060,  0.0029,  0.4298]],\n",
       "\n",
       "         ...,\n",
       "\n",
       "         [[-0.0126,  0.1198, -0.0111,  ..., -0.0244,  0.0592, -0.0528],\n",
       "          [ 0.1669, -0.2098,  0.1021,  ...,  0.2649, -0.0746,  0.2087],\n",
       "          [ 0.5851, -0.0118,  0.3265,  ..., -0.0799, -0.3166, -0.2747],\n",
       "          [ 0.2586,  0.1530,  0.4472,  ...,  0.1753, -0.0529, -0.5514]],\n",
       "\n",
       "         [[-0.1814, -0.1266, -0.0762,  ..., -0.2395, -0.0081, -0.0425],\n",
       "          [ 0.3853, -0.4734,  0.4143,  ..., -0.3737,  0.7329,  0.1543],\n",
       "          [ 0.0910, -0.9392, -0.2073,  ...,  0.2033,  0.7367, -0.0547],\n",
       "          [ 0.6342, -1.1400,  0.2532,  ...,  0.3443,  0.6521, -0.0191]],\n",
       "\n",
       "         [[ 0.1283, -0.0768, -0.0255,  ..., -0.0124, -0.0895, -0.0902],\n",
       "          [ 0.5331,  0.3648, -0.4557,  ..., -0.3603,  0.2904, -0.0825],\n",
       "          [ 0.7740,  0.1077,  0.2740,  ..., -0.1827,  0.5289,  0.3380],\n",
       "          [ 1.0423,  0.1489,  0.0418,  ..., -0.0698,  0.7150,  0.4896]]]],\n",
       "       grad_fn=<PermuteBackward0>)), (tensor([[[[-8.6300e-01, -1.5392e-01,  3.3433e-01,  ..., -9.7116e-01,\n",
       "            3.9423e-02, -2.9438e+00],\n",
       "          [ 1.4302e+00,  4.4060e-02, -2.7530e+00,  ..., -1.7156e+00,\n",
       "           -2.8520e+00,  1.0367e+01],\n",
       "          [ 1.1458e+00, -3.2676e-01, -3.1442e+00,  ..., -1.7636e+00,\n",
       "           -1.2291e+00,  1.0388e+01],\n",
       "          [ 8.2173e-01, -4.6133e-01, -3.2364e+00,  ..., -1.2950e+00,\n",
       "           -1.1621e+00,  9.9842e+00]],\n",
       "\n",
       "         [[ 3.5707e-01, -3.8964e-02,  4.7392e-01,  ..., -1.1313e-01,\n",
       "           -6.7923e-02, -2.2110e+00],\n",
       "          [-1.0900e+00,  1.4680e+00,  4.4851e+00,  ..., -3.1676e-01,\n",
       "           -1.3953e+00,  8.1424e+00],\n",
       "          [-4.7930e-01,  1.1180e+00,  3.3830e+00,  ..., -8.2670e-01,\n",
       "           -4.4820e-01,  7.7926e+00],\n",
       "          [-1.4476e+00,  8.9463e-01,  3.3997e+00,  ..., -5.3357e-01,\n",
       "           -4.0652e-01,  7.4654e+00]],\n",
       "\n",
       "         [[ 1.2166e-01, -6.3215e-01, -2.0902e-01,  ...,  1.4822e-01,\n",
       "            2.7882e-01, -1.4558e-01],\n",
       "          [-1.1179e-01,  2.3331e+00, -5.5897e-01,  ...,  3.3589e-01,\n",
       "            1.1138e+00, -8.4171e-01],\n",
       "          [-7.6559e-02,  3.5867e+00, -7.0563e-01,  ..., -8.7819e-02,\n",
       "            1.4093e+00, -7.3519e-01],\n",
       "          [ 1.1453e-02,  3.3703e+00, -4.4205e-01,  ...,  2.2363e-01,\n",
       "            1.7085e+00, -1.2624e+00]],\n",
       "\n",
       "         ...,\n",
       "\n",
       "         [[-4.0084e-01,  2.4918e-02, -1.9997e-04,  ...,  1.2274e+00,\n",
       "            7.0471e-02,  1.7924e+00],\n",
       "          [ 5.3323e-01, -6.9028e-01, -1.3514e+00,  ..., -2.7166e+00,\n",
       "           -8.0236e-01, -9.7723e-01],\n",
       "          [-5.9131e-02, -9.9980e-01, -1.2332e+00,  ..., -3.2608e+00,\n",
       "           -8.7594e-01, -1.2152e+00],\n",
       "          [-3.8291e-01, -9.3049e-01, -1.7092e+00,  ..., -2.8346e+00,\n",
       "           -1.1657e+00, -6.8882e-01]],\n",
       "\n",
       "         [[-3.1712e-01, -1.4495e-01,  2.3462e-01,  ...,  2.5528e-01,\n",
       "           -4.8272e-02,  2.5473e-02],\n",
       "          [-4.4244e-01, -1.1560e+00,  1.0324e+00,  ...,  1.9447e+00,\n",
       "           -6.3682e-01,  1.3715e+00],\n",
       "          [ 1.6156e-01, -6.4622e-01,  9.3499e-01,  ...,  1.4467e+00,\n",
       "           -2.2902e-02,  1.6254e+00],\n",
       "          [ 6.3817e-01, -4.8721e-01,  5.6561e-01,  ...,  1.1167e+00,\n",
       "           -9.1488e-01,  9.5343e-01]],\n",
       "\n",
       "         [[ 3.3772e+00,  2.0528e+00, -2.1180e+00,  ..., -2.8192e+00,\n",
       "           -3.9017e+00, -1.2449e+00],\n",
       "          [-7.2967e+00, -5.0976e+00,  1.0258e+01,  ..., -1.9352e+00,\n",
       "            1.2394e+01, -2.0624e+00],\n",
       "          [-8.5416e+00, -6.6112e+00,  1.0953e+01,  ..., -1.6380e-01,\n",
       "            1.1099e+01, -4.5271e+00],\n",
       "          [-8.7804e+00, -5.8413e+00,  9.6612e+00,  ...,  8.4845e-01,\n",
       "            1.0768e+01, -4.7492e+00]]]], grad_fn=<PermuteBackward0>), tensor([[[[-9.7423e-03, -4.0217e-02,  2.3779e-02,  ...,  6.2194e-02,\n",
       "            2.8538e-02,  7.1445e-02],\n",
       "          [-1.5175e-01,  2.0135e-02, -1.4752e-01,  ..., -5.2310e-01,\n",
       "           -1.7787e-01, -2.9821e-02],\n",
       "          [-5.8249e-01,  7.6341e-01,  1.0959e-01,  ...,  7.3873e-02,\n",
       "           -9.1152e-02, -3.7419e-01],\n",
       "          [-2.8059e-01,  6.4436e-01,  1.9395e-01,  ...,  4.2631e-01,\n",
       "           -1.0887e-01,  1.1770e-01]],\n",
       "\n",
       "         [[-6.9999e-02, -1.4820e-02, -1.4746e-01,  ..., -4.8559e-02,\n",
       "            5.2346e-02, -2.0696e-02],\n",
       "          [-1.8267e-01,  1.9942e-01,  2.0389e-01,  ..., -5.8690e-02,\n",
       "           -6.7112e-02,  8.2616e-02],\n",
       "          [-3.7653e-01,  5.2459e-01, -5.0729e-01,  ..., -2.5653e-01,\n",
       "           -3.1679e-01, -5.6784e-03],\n",
       "          [-1.7086e-01,  2.9825e-01, -6.6949e-01,  ..., -2.1092e-01,\n",
       "           -3.4021e-01,  2.7903e-01]],\n",
       "\n",
       "         [[ 7.8106e-02,  1.0149e-01,  9.0148e-02,  ...,  1.0815e-02,\n",
       "           -7.0586e-02, -7.2245e-03],\n",
       "          [-7.5037e-01,  5.1405e-01, -5.0629e-01,  ...,  1.9783e-01,\n",
       "            9.1711e-01,  8.3800e-02],\n",
       "          [-5.3853e-02,  5.3889e-01, -1.1189e+00,  ...,  1.7882e-01,\n",
       "            7.7871e-01,  7.0062e-01],\n",
       "          [ 1.6938e-01,  8.2027e-01, -1.1645e+00,  ...,  5.0516e-01,\n",
       "            1.0292e+00,  3.3363e-01]],\n",
       "\n",
       "         ...,\n",
       "\n",
       "         [[-1.1490e-02,  8.3515e-02, -7.2743e-02,  ...,  3.0080e-02,\n",
       "            3.9069e-02, -1.4446e-01],\n",
       "          [ 9.8591e-01,  8.5032e-01, -1.5226e-01,  ..., -3.8914e-01,\n",
       "           -8.4925e-01, -1.5952e-01],\n",
       "          [ 1.6703e-01,  1.5666e-01, -1.7693e-01,  ..., -9.8560e-01,\n",
       "           -6.8784e-01, -5.5074e-01],\n",
       "          [ 5.5765e-01,  5.6918e-01, -4.9515e-01,  ..., -5.7741e-01,\n",
       "           -9.8242e-01, -5.0842e-01]],\n",
       "\n",
       "         [[-1.1611e-01, -5.5414e-02,  9.9531e-02,  ..., -7.5011e-02,\n",
       "            5.1575e-02, -1.7605e-02],\n",
       "          [ 1.2040e-02, -8.8111e-01, -4.5468e-01,  ...,  4.6965e-01,\n",
       "           -2.8076e-01, -4.6340e-01],\n",
       "          [ 1.5498e+00, -5.5961e-01, -3.1253e-01,  ...,  5.6205e-01,\n",
       "           -2.7771e-01, -5.0282e-01],\n",
       "          [ 1.4493e+00, -4.6889e-01, -7.9355e-01,  ...,  6.3758e-01,\n",
       "            6.8609e-01, -4.6055e-01]],\n",
       "\n",
       "         [[-1.7353e-02, -2.9353e-05, -1.5192e-02,  ..., -2.3063e-02,\n",
       "            4.1490e-03, -4.5115e-03],\n",
       "          [ 6.9851e-01,  1.5232e-01,  9.7885e-02,  ..., -1.4742e-01,\n",
       "            4.7372e-01, -4.5366e-01],\n",
       "          [ 1.1517e+00,  1.6915e-01,  2.9684e-01,  ..., -3.0957e-01,\n",
       "            8.4976e-02,  1.3579e-01],\n",
       "          [ 3.9418e-01,  2.0603e-01,  6.5085e-02,  ..., -7.7769e-02,\n",
       "            8.1051e-02, -2.2230e-01]]]], grad_fn=<PermuteBackward0>)), (tensor([[[[-2.0808e-03, -2.8764e-01,  2.3911e-01,  ...,  1.7042e+00,\n",
       "           -2.1196e-01, -7.6189e-02],\n",
       "          [ 3.1996e-01,  8.5747e-01, -6.5977e-01,  ..., -3.9544e+00,\n",
       "            5.1921e-01,  7.2928e-01],\n",
       "          [ 1.1780e+00,  2.4327e-01,  4.4686e-01,  ..., -4.1600e+00,\n",
       "            1.0680e+00, -6.2806e-01],\n",
       "          [ 2.0115e-01,  8.2296e-01,  4.8166e-01,  ..., -4.5617e+00,\n",
       "            4.4022e-01, -5.5255e-01]],\n",
       "\n",
       "         [[ 1.4898e-01,  9.7441e-01, -1.4184e+00,  ..., -1.2032e-01,\n",
       "            2.5500e-01,  9.1484e-01],\n",
       "          [-9.3043e-01, -5.0022e+00, -1.5296e+00,  ...,  6.0081e-02,\n",
       "           -1.6523e+00, -2.1433e+00],\n",
       "          [-4.6408e-01, -4.3896e+00,  3.0030e-01,  ..., -4.5076e-01,\n",
       "           -6.0521e-01, -1.7101e+00],\n",
       "          [ 5.0056e-01, -4.8746e+00,  2.5200e-01,  ..., -3.4251e-01,\n",
       "           -3.3678e+00, -2.1632e+00]],\n",
       "\n",
       "         [[-6.9337e-01,  2.4879e-01, -4.1891e-02,  ...,  2.0189e-01,\n",
       "            3.4914e-02, -2.8339e-01],\n",
       "          [ 8.3303e-01, -6.4751e-01, -1.5353e+00,  ..., -5.0201e-01,\n",
       "           -1.8491e+00, -4.0727e-01],\n",
       "          [ 3.5591e-01, -1.4541e+00, -1.2143e-01,  ...,  7.7401e-01,\n",
       "           -5.6970e-01, -9.5048e-01],\n",
       "          [ 1.4082e-02, -1.3724e+00, -1.0125e+00,  ...,  1.2304e+00,\n",
       "           -8.0521e-01, -9.2866e-01]],\n",
       "\n",
       "         ...,\n",
       "\n",
       "         [[-4.2294e-02,  1.0531e-01,  1.3898e-01,  ..., -1.1126e-01,\n",
       "            1.7808e-02,  1.5436e-01],\n",
       "          [-3.8878e-01, -8.3060e-01,  2.6542e-01,  ...,  1.0175e+00,\n",
       "           -7.6081e-01,  1.4209e+00],\n",
       "          [-7.1346e-02, -5.5113e-01,  4.3646e-02,  ...,  7.9146e-01,\n",
       "           -6.3709e-01,  1.3018e+00],\n",
       "          [-4.4801e-01, -2.8194e-01,  4.8868e-01,  ...,  7.4146e-01,\n",
       "            3.7656e-01,  9.8661e-01]],\n",
       "\n",
       "         [[-2.9974e+00,  4.0751e-01, -2.3222e-02,  ..., -4.5848e-01,\n",
       "           -3.5248e-01,  1.2262e+00],\n",
       "          [ 5.3804e+00,  4.4419e-01, -1.1604e+00,  ..., -2.7629e-01,\n",
       "            2.2780e-01, -8.1763e-01],\n",
       "          [ 6.2576e+00, -3.9375e-01, -8.2117e-01,  ...,  9.7178e-01,\n",
       "            1.4562e+00, -1.6948e+00],\n",
       "          [ 5.6458e+00, -4.4421e-01, -6.3864e-01,  ...,  7.8339e-01,\n",
       "            5.4964e-01, -1.6199e+00]],\n",
       "\n",
       "         [[-4.9410e-03, -2.3995e-01,  5.3343e-03,  ..., -1.8827e-01,\n",
       "            3.3698e-01,  8.9915e-02],\n",
       "          [ 7.7897e-01, -1.9408e+00,  1.4151e-01,  ..., -1.2347e+00,\n",
       "            3.0232e-01,  1.5286e-01],\n",
       "          [ 4.2039e-01, -1.4046e+00, -1.7334e-01,  ..., -1.6693e+00,\n",
       "            3.8739e-01, -1.2409e-01],\n",
       "          [ 1.0095e+00, -1.9523e+00, -2.4359e-01,  ..., -9.4510e-01,\n",
       "           -4.2471e-01,  1.1616e-01]]]], grad_fn=<PermuteBackward0>), tensor([[[[-2.2497e-02, -1.7258e-02,  1.3325e-02,  ..., -1.0340e-02,\n",
       "           -3.6731e-02,  3.5238e-01],\n",
       "          [ 9.4899e-01,  4.8190e-01,  1.0456e+00,  ...,  2.0005e-01,\n",
       "            7.6516e-01, -1.1209e-01],\n",
       "          [ 3.6896e-01,  3.5522e-01,  1.9041e-01,  ...,  1.8750e-01,\n",
       "            1.5547e-01, -3.5215e-01],\n",
       "          [ 5.7107e-01,  4.3176e-01,  3.3017e-01,  ...,  2.8581e-01,\n",
       "           -4.1573e-01, -6.5546e-01]],\n",
       "\n",
       "         [[ 2.5456e-04, -9.4920e-03,  2.5801e-02,  ..., -2.6554e-02,\n",
       "            1.6064e-02, -2.6109e-03],\n",
       "          [ 9.4183e-01, -2.5039e-01,  1.3332e+00,  ..., -1.8662e+00,\n",
       "            1.1200e+00, -1.1703e+00],\n",
       "          [-1.8395e-01,  2.2240e-01,  2.3712e+00,  ..., -1.4604e+00,\n",
       "            5.6052e-01, -3.2127e-01],\n",
       "          [ 3.2515e-01, -8.6039e-01,  6.5252e-01,  ..., -5.9050e-01,\n",
       "            8.3940e-01, -1.3925e+00]],\n",
       "\n",
       "         [[-5.5223e-02,  1.8195e-02, -3.2900e-02,  ..., -3.5515e-02,\n",
       "            1.4413e-02, -7.3887e-02],\n",
       "          [ 2.2200e-01,  3.3489e-02,  3.3736e-01,  ..., -2.6980e-01,\n",
       "            1.1616e+00,  6.1169e-01],\n",
       "          [-8.8143e-02,  2.2052e-01,  2.2252e-01,  ...,  3.1054e-02,\n",
       "            7.7368e-01,  6.3467e-03],\n",
       "          [ 1.7373e-01,  2.5842e-01,  9.7806e-03,  ...,  2.9404e-01,\n",
       "            6.0480e-01, -1.6473e-01]],\n",
       "\n",
       "         ...,\n",
       "\n",
       "         [[-3.2470e-01, -1.7949e-01, -7.4462e-02,  ..., -4.7214e-01,\n",
       "            2.2224e-01,  9.8132e-02],\n",
       "          [ 1.7295e+00, -1.9859e+00, -7.3033e-01,  ...,  2.0648e+00,\n",
       "           -1.2272e+00, -6.3684e-01],\n",
       "          [ 8.1090e-01, -1.1778e+00, -3.6942e-01,  ...,  1.8253e+00,\n",
       "           -1.5664e-01, -4.6346e-01],\n",
       "          [ 6.7279e-01, -1.4018e+00, -4.5791e-02,  ...,  1.6321e+00,\n",
       "           -4.7184e-01,  1.4896e-01]],\n",
       "\n",
       "         [[-8.8533e-02, -1.3777e-01, -5.0966e-02,  ..., -1.8296e-01,\n",
       "           -1.5318e-01,  1.2077e-01],\n",
       "          [ 2.9758e-02,  1.8618e-01, -6.7753e-01,  ..., -3.9061e-01,\n",
       "            1.6626e-01,  1.0003e-02],\n",
       "          [-4.7155e-01,  2.4449e-01, -6.3848e-01,  ..., -5.9540e-01,\n",
       "            3.6546e-01, -5.9449e-01],\n",
       "          [-2.7014e-01,  2.5103e-01, -5.2714e-01,  ..., -7.5228e-01,\n",
       "            3.4731e-01, -7.9775e-01]],\n",
       "\n",
       "         [[-3.6282e-02, -3.9074e-02,  7.9319e-02,  ...,  7.9441e-02,\n",
       "           -3.5718e-02,  1.1446e-02],\n",
       "          [-3.9358e-01,  3.1346e-01,  2.0762e-02,  ...,  2.6615e-03,\n",
       "           -4.3909e-01,  1.5242e-01],\n",
       "          [ 2.2807e-01,  3.9593e-01, -1.0766e+00,  ...,  8.6250e-01,\n",
       "           -6.0916e-01,  5.2693e-01],\n",
       "          [-2.0595e-01, -2.7191e-01, -6.3062e-01,  ...,  9.5406e-01,\n",
       "           -3.8192e-01,  2.8264e-01]]]], grad_fn=<PermuteBackward0>)), (tensor([[[[-3.4167e-01,  8.6194e-01, -1.6916e-01,  ...,  1.1226e+00,\n",
       "           -1.7699e-01,  1.3753e-01],\n",
       "          [-1.5524e+00, -5.8959e+00,  1.3515e-01,  ..., -4.4253e+00,\n",
       "            6.3945e-01,  1.6796e+00],\n",
       "          [-1.5913e+00, -6.6075e+00, -1.9333e-01,  ..., -4.3180e+00,\n",
       "            8.2633e-01,  8.4390e-01],\n",
       "          [-1.2894e+00, -6.7704e+00, -4.8243e-01,  ..., -3.6626e+00,\n",
       "            1.1185e+00, -8.5723e-02]],\n",
       "\n",
       "         [[ 3.8126e-02,  8.5306e-01, -6.1384e-01,  ..., -4.1075e-02,\n",
       "            3.1386e-01,  1.8317e-02],\n",
       "          [ 1.2871e+00,  1.1454e+00, -6.1322e-01,  ...,  1.6971e+00,\n",
       "            2.5044e-01, -8.5814e-01],\n",
       "          [ 1.1184e+00,  4.6394e-01,  1.5213e+00,  ...,  1.1887e+00,\n",
       "           -1.9642e-01, -8.3648e-01],\n",
       "          [ 1.5121e+00, -2.5755e-01,  1.5402e+00,  ...,  1.0165e+00,\n",
       "           -5.4447e-02, -1.4108e-04]],\n",
       "\n",
       "         [[-3.0552e-01,  1.5079e-01, -9.8172e-01,  ..., -3.5808e-01,\n",
       "           -4.7029e-02, -1.4212e-01],\n",
       "          [-8.0437e-01,  5.9251e-01,  4.0192e+00,  ...,  3.4356e-01,\n",
       "            1.1696e-01, -6.0285e-01],\n",
       "          [-3.4902e-01,  7.2302e-01,  3.0956e+00,  ...,  9.3031e-01,\n",
       "            9.1133e-01, -4.3119e-01],\n",
       "          [ 1.7526e-01,  4.3946e-01,  2.5793e+00,  ...,  2.2124e-01,\n",
       "            1.5388e+00, -1.1804e+00]],\n",
       "\n",
       "         ...,\n",
       "\n",
       "         [[ 3.7107e-01,  6.2868e-02, -7.5513e-02,  ..., -4.6945e-02,\n",
       "            2.3090e-01,  5.1956e-03],\n",
       "          [-2.0230e+00,  2.1258e-01, -1.5359e-01,  ...,  1.2732e+00,\n",
       "            1.1046e-01, -8.6706e-01],\n",
       "          [-8.2139e-01, -3.9925e-01,  1.7462e-01,  ...,  9.6253e-01,\n",
       "            9.0802e-01, -2.6484e+00],\n",
       "          [-4.1228e-01,  3.5093e-02, -1.0593e+00,  ...,  2.6633e+00,\n",
       "            2.2414e+00, -2.5297e+00]],\n",
       "\n",
       "         [[ 2.2079e-01,  6.8294e-02,  3.2483e-01,  ...,  4.0291e-01,\n",
       "            1.1806e-02,  2.0587e-01],\n",
       "          [ 2.3191e+00,  2.3873e-01,  2.5128e-02,  ..., -2.5677e-01,\n",
       "            3.8779e-01, -6.0222e-01],\n",
       "          [ 1.8953e+00, -2.5191e-01, -4.1792e-02,  ..., -2.1172e-01,\n",
       "           -2.2006e-01, -1.1281e+00],\n",
       "          [ 1.6570e+00, -6.1209e-01, -5.0527e-01,  ..., -4.7194e-01,\n",
       "            3.4154e-01, -1.1813e+00]],\n",
       "\n",
       "         [[-3.0191e+00,  5.2555e-01,  5.6794e-01,  ..., -9.1315e-01,\n",
       "            3.3757e-01,  1.8608e-01],\n",
       "          [ 9.2760e+00,  1.3428e-01, -6.6878e-01,  ...,  2.5694e+00,\n",
       "           -3.3248e-01, -2.9739e-01],\n",
       "          [ 9.8087e+00,  2.3861e-01, -6.4350e-01,  ...,  3.4874e+00,\n",
       "            5.8820e-01, -7.9275e-01],\n",
       "          [ 8.9350e+00, -4.8746e-02, -3.0510e-01,  ...,  3.1207e+00,\n",
       "            4.7217e-01, -7.5666e-01]]]], grad_fn=<PermuteBackward0>), tensor([[[[ 4.6652e-02, -4.8528e-02,  1.9119e-02,  ..., -6.3104e-02,\n",
       "            1.8717e-03, -9.9963e-02],\n",
       "          [-2.1112e-01, -5.0650e-02,  1.3469e-01,  ..., -1.8493e-01,\n",
       "           -2.7788e-01, -5.4149e-01],\n",
       "          [-2.0912e-01, -1.7110e-01,  9.1213e-02,  ..., -2.4335e-01,\n",
       "            2.6384e-01, -4.8251e-01],\n",
       "          [-6.3988e-01, -1.8648e-01, -3.7690e-01,  ..., -1.3129e-01,\n",
       "            5.8287e-01, -1.0733e+00]],\n",
       "\n",
       "         [[ 8.6889e-02,  2.1339e-02, -3.4307e-02,  ..., -4.4475e-02,\n",
       "            6.7607e-03,  3.8032e-03],\n",
       "          [ 8.0622e-01, -2.3071e-01,  6.1883e-01,  ...,  7.4172e-01,\n",
       "           -1.5558e-01,  5.1200e-01],\n",
       "          [ 1.9109e+00,  7.6087e-01, -6.9752e-02,  ..., -1.7893e-01,\n",
       "           -7.5202e-01, -2.5866e-01],\n",
       "          [ 1.6698e+00,  1.0722e+00, -6.8918e-02,  ...,  1.8813e-01,\n",
       "           -7.1205e-01, -2.2947e-01]],\n",
       "\n",
       "         [[ 6.8548e-02,  6.3739e-03, -1.9292e-02,  ...,  2.1720e-02,\n",
       "           -6.5489e-02, -6.0328e-02],\n",
       "          [ 4.0527e-01, -1.6801e-01, -8.5667e-01,  ..., -5.4423e-02,\n",
       "            1.8782e-01,  6.2573e-01],\n",
       "          [-1.8850e-02,  7.0702e-01,  1.1798e-01,  ..., -4.3345e-01,\n",
       "            4.7483e-01,  1.0606e-01],\n",
       "          [-1.2944e-01, -1.0946e-01, -6.7137e-01,  ...,  2.2436e-01,\n",
       "            6.6280e-01, -6.3233e-02]],\n",
       "\n",
       "         ...,\n",
       "\n",
       "         [[ 1.6480e-03,  1.9221e-02,  3.5681e-02,  ..., -6.9912e-02,\n",
       "           -3.5948e-02,  1.2861e-02],\n",
       "          [-3.1345e-01, -4.5064e-01, -3.5003e-01,  ...,  9.6621e-01,\n",
       "           -7.6987e-01, -4.2515e-01],\n",
       "          [-1.0137e+00, -4.2741e-01,  2.5473e-02,  ...,  6.4666e-01,\n",
       "            2.4356e-01, -1.1339e+00],\n",
       "          [-3.8612e-02, -1.1142e-01,  4.5834e-01,  ...,  7.0454e-01,\n",
       "           -1.5478e+00, -6.8956e-02]],\n",
       "\n",
       "         [[ 3.7605e-02, -6.8736e-03,  2.0311e-02,  ...,  3.3999e-02,\n",
       "            7.6347e-04, -1.6122e-04],\n",
       "          [ 2.3309e+00, -9.6975e-01, -6.3809e-01,  ..., -1.7999e-01,\n",
       "           -7.9208e-01, -2.0305e-01],\n",
       "          [ 1.6501e+00, -4.0850e-01, -1.8637e+00,  ...,  4.1721e-01,\n",
       "            6.4694e-01,  1.2462e-01],\n",
       "          [ 1.6102e+00,  2.1018e-01, -9.9495e-01,  ...,  7.7370e-01,\n",
       "            2.5905e-01,  6.1870e-01]],\n",
       "\n",
       "         [[ 7.0179e-02, -1.8522e-01, -7.9772e-02,  ..., -3.5128e-02,\n",
       "            1.9730e-01, -4.0475e-02],\n",
       "          [ 2.9867e-02, -2.1717e-01, -1.7298e-01,  ...,  7.9190e-01,\n",
       "           -9.1639e-01,  2.8043e-01],\n",
       "          [-7.1335e-01, -4.2325e-01, -3.9033e-01,  ...,  2.8099e-01,\n",
       "           -8.7948e-01,  2.3485e-01],\n",
       "          [-4.5649e-01, -8.1709e-01, -4.0162e-01,  ..., -4.5753e-02,\n",
       "           -1.0197e-01,  4.1894e-01]]]], grad_fn=<PermuteBackward0>)), (tensor([[[[ 1.0324e+00, -2.7485e-01, -1.3871e-01,  ...,  6.2105e-01,\n",
       "            7.4588e-01, -3.0370e-01],\n",
       "          [-6.0391e+00, -1.7823e+00,  6.7900e-01,  ...,  5.7892e-01,\n",
       "           -4.5827e+00, -4.6609e-01],\n",
       "          [-5.0768e+00, -3.4670e+00, -2.6176e-01,  ..., -1.0598e-01,\n",
       "           -3.6739e+00, -6.7970e-01],\n",
       "          [-5.3165e+00, -3.6390e+00, -1.5754e-01,  ..., -5.1331e-01,\n",
       "           -3.5330e+00, -1.4728e+00]],\n",
       "\n",
       "         [[-1.5124e-01, -6.2903e-02,  1.7421e-01,  ..., -5.1215e-02,\n",
       "           -8.7421e-01, -1.8964e-01],\n",
       "          [-1.6890e-01,  1.2545e+00,  2.4480e-01,  ..., -1.3990e+00,\n",
       "            6.4725e-03,  1.4887e+00],\n",
       "          [-6.7257e-02,  3.3012e-02,  1.6454e-01,  ..., -1.5420e+00,\n",
       "            7.5829e-01, -2.0274e-01],\n",
       "          [-6.9988e-02,  1.7249e-02,  2.1563e-01,  ..., -1.8992e+00,\n",
       "            5.6851e-01, -9.2936e-01]],\n",
       "\n",
       "         [[ 1.7663e-01,  2.9858e-01,  1.1331e+00,  ..., -4.6382e-01,\n",
       "            4.1051e-01, -4.9806e-01],\n",
       "          [-1.4039e+00, -1.0873e+00,  3.2602e-01,  ..., -1.4016e+00,\n",
       "           -2.4144e+00,  2.1702e-01],\n",
       "          [-3.9621e-01, -1.0945e+00, -1.3980e+00,  ..., -2.2104e-01,\n",
       "           -2.7599e+00, -1.0575e+00],\n",
       "          [-2.1018e+00, -6.3078e-01, -9.3948e-01,  ...,  6.7690e-01,\n",
       "           -2.9198e+00, -7.8865e-01]],\n",
       "\n",
       "         ...,\n",
       "\n",
       "         [[-1.5897e-01,  7.9309e-02, -2.3279e-01,  ...,  5.2633e-03,\n",
       "            1.5417e-01,  2.9114e-02],\n",
       "          [-2.3804e+00,  1.0097e+00,  2.0263e-02,  ...,  1.2356e+00,\n",
       "           -9.1898e-01, -3.8435e-02],\n",
       "          [-1.9908e+00, -6.3317e-02,  9.5090e-01,  ...,  1.1186e+00,\n",
       "            5.6054e-02, -7.5552e-01],\n",
       "          [-1.7910e+00,  5.8666e-01,  7.0954e-01,  ...,  9.0443e-01,\n",
       "            5.3951e-01,  8.5191e-01]],\n",
       "\n",
       "         [[-3.5078e-01, -2.1773e+00,  1.2061e-01,  ..., -8.5161e-02,\n",
       "           -5.1517e-02,  9.3501e-01],\n",
       "          [ 5.8685e-01,  1.2954e+00, -7.0217e-01,  ...,  3.8338e-01,\n",
       "            2.9949e-01,  2.6881e+00],\n",
       "          [ 1.3116e+00,  2.0375e+00,  1.1524e-01,  ...,  1.1779e+00,\n",
       "            3.4122e-01,  3.1802e+00],\n",
       "          [-7.9313e-02,  2.8928e+00,  6.9913e-02,  ...,  7.2143e-01,\n",
       "            1.4740e-01,  3.5429e+00]],\n",
       "\n",
       "         [[ 3.7385e-01,  6.9899e-02, -1.2669e-01,  ...,  6.4195e-01,\n",
       "            1.2683e-01,  2.5520e-01],\n",
       "          [-6.4723e-01, -1.7817e+00, -1.4401e+00,  ...,  8.9714e-01,\n",
       "           -1.2151e+00, -9.9799e-01],\n",
       "          [-5.2766e-01, -1.2447e+00, -1.5492e+00,  ...,  7.4981e-01,\n",
       "           -5.7983e-01,  2.9363e-01],\n",
       "          [-8.0762e-01, -1.3606e+00, -1.9633e+00,  ...,  1.9524e+00,\n",
       "           -1.0696e+00,  1.1461e-01]]]], grad_fn=<PermuteBackward0>), tensor([[[[-3.1215e-02,  4.0431e-02, -5.6888e-02,  ..., -2.3838e-02,\n",
       "            3.3811e-03,  2.0306e-02],\n",
       "          [-3.3240e-01,  3.4670e-01,  4.2783e-01,  ...,  2.0664e-01,\n",
       "           -6.1933e-01,  3.3864e-01],\n",
       "          [ 1.9619e-01,  3.5104e-01,  3.9877e-01,  ..., -2.5551e-01,\n",
       "           -3.4909e-01, -8.3966e-02],\n",
       "          [ 2.5221e-01,  3.0664e-01,  2.4559e-01,  ...,  2.4034e-01,\n",
       "           -2.5558e-01,  2.7655e-01]],\n",
       "\n",
       "         [[ 5.7823e-03, -3.0061e-02,  2.3103e-02,  ...,  3.4955e-02,\n",
       "           -4.6311e-02,  5.7977e-04],\n",
       "          [ 3.6919e-02, -4.7873e-01, -8.6305e-01,  ..., -1.9407e-01,\n",
       "            1.8678e-01, -2.0493e-01],\n",
       "          [-5.0661e-01,  4.0661e-02, -1.6555e+00,  ...,  7.2401e-01,\n",
       "            1.7862e-01, -8.1711e-01],\n",
       "          [-1.9413e-01,  5.8673e-01, -1.4032e+00,  ...,  4.0977e-03,\n",
       "            5.8105e-02, -2.3658e-01]],\n",
       "\n",
       "         [[ 4.6491e-02, -3.2187e-02,  4.2412e-02,  ...,  2.2499e-02,\n",
       "           -8.7297e-03,  2.1325e-02],\n",
       "          [-3.8777e-02, -8.5979e-01,  7.1306e-01,  ...,  2.3433e-01,\n",
       "            6.3553e-02,  3.9938e-01],\n",
       "          [ 7.1428e-01, -1.0574e+00,  7.3696e-02,  ..., -1.6456e-01,\n",
       "            1.0871e+00,  3.6485e-01],\n",
       "          [ 8.9222e-01, -1.3322e+00,  8.8184e-01,  ..., -7.1344e-02,\n",
       "            5.7953e-01, -1.1758e-01]],\n",
       "\n",
       "         ...,\n",
       "\n",
       "         [[-1.8466e-01,  9.6311e-02,  4.1719e-02,  ...,  4.2076e-02,\n",
       "            3.9793e-02, -1.3622e-01],\n",
       "          [ 2.6748e-01,  9.2087e-01, -5.0698e-01,  ...,  1.5677e-01,\n",
       "            1.9685e-01, -8.6962e-01],\n",
       "          [-3.6349e-01,  7.5003e-01, -9.7561e-01,  ...,  2.0737e-01,\n",
       "           -3.4064e-01, -7.8028e-01],\n",
       "          [ 3.8003e-01,  3.7256e-01, -7.0839e-01,  ..., -2.3214e-01,\n",
       "           -5.6973e-02, -1.1312e+00]],\n",
       "\n",
       "         [[-5.7739e-01, -7.1468e-03,  5.5844e-02,  ..., -1.3910e-02,\n",
       "            1.8169e-02,  4.1209e-03],\n",
       "          [-7.2106e-01,  1.6285e-01,  4.4569e-01,  ..., -5.9222e-01,\n",
       "            4.6108e-01, -5.6850e-01],\n",
       "          [-6.3767e-01,  6.6013e-01,  3.9720e-01,  ..., -3.0950e-01,\n",
       "           -1.9216e-01,  1.6234e+00],\n",
       "          [-1.4200e+00,  6.3548e-01,  1.2469e+00,  ..., -4.1228e-01,\n",
       "            1.3566e+00,  7.5235e-01]],\n",
       "\n",
       "         [[ 2.5802e-03,  8.9224e-02, -3.5264e-02,  ...,  5.6884e-02,\n",
       "            3.2092e-02, -5.7899e-02],\n",
       "          [-1.2900e-01,  3.0088e-01,  1.2524e+00,  ..., -3.3095e-01,\n",
       "           -8.7313e-01, -8.2528e-01],\n",
       "          [-2.1110e-01, -1.6307e-01,  6.2922e-01,  ..., -5.9279e-01,\n",
       "           -6.8945e-01, -5.3923e-01],\n",
       "          [-6.2957e-01,  1.0254e+00,  1.3569e+00,  ..., -3.4631e-01,\n",
       "           -1.0855e+00, -5.7579e-01]]]], grad_fn=<PermuteBackward0>)), (tensor([[[[-0.0246, -2.3307,  0.1852,  ..., -0.2414, -0.1920,  0.0734],\n",
       "          [ 0.0577,  4.6562,  0.0536,  ..., -0.1064,  0.3260, -0.5104],\n",
       "          [-0.6692,  4.4924,  0.9478,  ...,  0.1866,  1.5788, -0.3413],\n",
       "          [-0.8055,  4.7606,  1.4980,  ...,  0.0405,  0.6045, -0.6898]],\n",
       "\n",
       "         [[-0.8221,  0.2181,  0.4682,  ..., -0.5254,  1.0782,  1.1286],\n",
       "          [ 0.2710,  0.6035,  1.2309,  ..., -1.0093,  1.6500, -0.3609],\n",
       "          [-0.4545,  0.3878,  1.1945,  ..., -0.1312,  1.2572, -0.1115],\n",
       "          [-0.4512,  2.0074,  0.0360,  ...,  0.1232,  0.9366,  0.6896]],\n",
       "\n",
       "         [[-0.8399,  0.4817,  0.0148,  ...,  0.4955, -0.2406,  1.1571],\n",
       "          [ 1.3401,  0.2921,  0.8708,  ...,  0.5301, -0.3933, -0.7524],\n",
       "          [ 1.4876,  0.5330, -0.1522,  ...,  1.1733, -0.0908, -0.6559],\n",
       "          [ 1.4349,  1.3677,  0.3754,  ...,  0.7442, -0.4865, -0.6201]],\n",
       "\n",
       "         ...,\n",
       "\n",
       "         [[-0.3085, -0.1138,  0.1387,  ...,  0.1689,  1.7257, -2.8501],\n",
       "          [ 0.0950, -0.4863,  0.4956,  ..., -1.4766, -5.1498,  5.6985],\n",
       "          [ 0.4106, -0.1600,  1.1500,  ..., -1.1915, -5.1443,  5.8141],\n",
       "          [ 0.0654,  0.1701,  0.6970,  ..., -1.5731, -5.5089,  6.0552]],\n",
       "\n",
       "         [[ 0.1807,  0.3731,  0.2146,  ..., -0.2108,  0.0201, -0.1348],\n",
       "          [-0.8306, -0.7583, -0.3127,  ...,  0.0739, -0.6232,  0.4857],\n",
       "          [-0.6702, -0.4908, -0.8992,  ...,  0.9179, -0.5521, -0.0984],\n",
       "          [ 0.0270, -0.9018, -0.9941,  ...,  0.3949,  0.2372, -0.4566]],\n",
       "\n",
       "         [[ 0.3736,  0.1138,  0.6155,  ...,  0.5163,  0.5812, -0.3243],\n",
       "          [ 0.6577, -0.7857, -0.6929,  ..., -2.6645, -4.8893,  0.2828],\n",
       "          [ 0.7572, -1.0263, -0.4708,  ..., -1.5423, -5.4426,  0.7726],\n",
       "          [ 0.6389, -1.2771,  0.5245,  ..., -0.7591, -6.5650,  1.6434]]]],\n",
       "       grad_fn=<PermuteBackward0>), tensor([[[[ 5.6513e-02, -6.6449e-03, -3.1310e-02,  ...,  1.2694e-01,\n",
       "           -7.1785e-02, -4.1152e-02],\n",
       "          [ 5.6631e-01,  3.0214e-01, -5.7686e-01,  ...,  6.7136e-01,\n",
       "            1.0259e+00, -9.2671e-01],\n",
       "          [ 1.2388e-01,  8.0024e-01,  6.9740e-01,  ...,  3.4715e-01,\n",
       "            1.3451e+00, -9.3217e-02],\n",
       "          [ 3.3553e-01,  1.1754e+00,  5.7285e-01,  ...,  4.6033e-01,\n",
       "            1.4125e+00, -1.3519e-02]],\n",
       "\n",
       "         [[ 7.9923e-03,  4.0006e-02,  3.2592e-02,  ..., -1.2115e-02,\n",
       "           -6.0944e-03,  4.4485e-03],\n",
       "          [-9.8849e-01, -9.9755e-01, -5.5496e-01,  ...,  5.8475e-01,\n",
       "           -1.1773e+00,  9.6902e-01],\n",
       "          [-8.0264e-01, -1.1773e+00, -2.7602e-01,  ...,  3.0110e-01,\n",
       "           -4.0339e-02,  1.3033e+00],\n",
       "          [ 4.5378e-01, -9.2574e-01,  1.8781e-01,  ...,  2.7319e-02,\n",
       "           -6.2696e-01,  1.1418e+00]],\n",
       "\n",
       "         [[ 3.4912e-02, -4.3676e-02,  6.4084e-02,  ...,  4.0551e-02,\n",
       "           -7.5726e-02, -5.6085e-02],\n",
       "          [-2.3739e+00, -1.6083e-01, -1.3321e+00,  ..., -4.8223e-01,\n",
       "           -2.0022e-01,  7.6934e-01],\n",
       "          [-1.5080e+00, -4.8010e-01, -3.6960e-01,  ..., -3.3678e-01,\n",
       "           -1.1035e+00,  9.4604e-01],\n",
       "          [-4.9515e-01, -1.3504e+00, -2.4503e-02,  ..., -4.4628e-01,\n",
       "           -9.1049e-01,  1.2486e+00]],\n",
       "\n",
       "         ...,\n",
       "\n",
       "         [[-9.1971e-02, -4.6361e-02,  6.1474e-02,  ..., -8.6454e-02,\n",
       "            2.2216e-02,  4.0064e-03],\n",
       "          [ 5.1906e-01,  8.7143e-03,  1.3630e+00,  ..., -3.8980e-02,\n",
       "            1.6621e+00, -1.1580e-01],\n",
       "          [ 2.1492e-01, -5.5024e-01,  1.9064e+00,  ..., -1.4547e-01,\n",
       "            5.8740e-01, -4.2129e-01],\n",
       "          [ 2.3767e-01, -5.4140e-01,  1.8393e+00,  ..., -3.8651e-01,\n",
       "            7.1341e-01,  4.5774e-02]],\n",
       "\n",
       "         [[ 1.5953e-01, -6.9665e-02,  1.3633e-01,  ...,  7.8545e-02,\n",
       "           -1.6139e-03, -1.1591e-01],\n",
       "          [ 5.4901e-01,  1.1369e-01,  5.8401e-01,  ..., -1.0863e+00,\n",
       "           -7.5607e-01, -9.2733e-01],\n",
       "          [ 5.6475e-01,  1.6847e-01, -1.9784e-01,  ..., -4.9173e-02,\n",
       "           -5.8193e-01,  1.2192e+00],\n",
       "          [ 1.0948e+00, -8.0432e-02, -9.8002e-01,  ..., -2.3350e-01,\n",
       "           -7.9295e-01,  9.6715e-01]],\n",
       "\n",
       "         [[ 2.1032e-01, -3.4785e-02, -5.3126e-02,  ...,  2.9099e-02,\n",
       "            5.2254e-02,  1.1979e-02],\n",
       "          [ 4.6101e-01,  3.7023e-01,  9.9002e-01,  ...,  7.8462e-01,\n",
       "           -9.6269e-01, -1.6943e+00],\n",
       "          [-6.4881e-01,  2.4545e+00,  2.4594e-01,  ...,  7.2809e-01,\n",
       "           -1.2222e+00, -1.3359e+00],\n",
       "          [ 2.9584e-01,  1.9581e+00,  5.7912e-01,  ..., -3.3371e-01,\n",
       "           -9.3588e-01, -9.7647e-01]]]], grad_fn=<PermuteBackward0>)), (tensor([[[[ 0.0343, -0.2471, -0.4509,  ...,  0.3105,  0.3008,  0.3676],\n",
       "          [ 0.2991,  0.9806, -1.3334,  ..., -0.7272, -0.8720,  1.3635],\n",
       "          [-0.0195,  0.3328, -1.5186,  ...,  1.2583, -1.9369,  1.6359],\n",
       "          [ 0.7703,  0.7349, -1.0214,  ...,  0.7773, -1.9256,  2.6652]],\n",
       "\n",
       "         [[-0.2856,  0.1550,  0.1325,  ...,  0.0360, -1.1284, -0.1359],\n",
       "          [ 0.6724,  0.4044, -0.5392,  ...,  1.1312, -0.9647,  1.2483],\n",
       "          [ 1.4584, -0.0835, -0.1862,  ...,  1.2961,  0.5601,  1.9168],\n",
       "          [ 0.5016, -0.3652, -0.2380,  ...,  0.4937, -0.2937,  1.7367]],\n",
       "\n",
       "         [[-1.2187, -0.1010,  0.5699,  ..., -0.6544,  0.4307, -0.2799],\n",
       "          [ 2.2207,  1.2385,  1.2759,  ..., -0.1563, -0.3715,  1.4504],\n",
       "          [ 1.5995,  1.5999,  0.8089,  ..., -0.7263, -1.7538,  0.7528],\n",
       "          [ 1.3112,  2.2307,  0.2570,  ...,  0.0080, -1.7869,  0.2461]],\n",
       "\n",
       "         ...,\n",
       "\n",
       "         [[ 0.8010, -0.8916, -0.3953,  ..., -1.0127, -0.4051,  0.4814],\n",
       "          [-0.6768, -0.5847, -1.7867,  ...,  0.8508,  0.8138, -1.1703],\n",
       "          [-0.9435,  0.2222, -1.3156,  ...,  0.5104,  1.9183, -0.2530],\n",
       "          [-1.3847,  0.8372, -0.8670,  ...,  1.2551,  2.9443, -0.0139]],\n",
       "\n",
       "         [[-0.9163,  2.5413,  0.3002,  ...,  0.3547,  1.9502, -0.5389],\n",
       "          [ 0.3883, -2.7128,  1.1676,  ..., -0.5362, -5.3790,  0.9485],\n",
       "          [-0.1816, -2.4320,  1.4348,  ..., -1.1634, -5.5035,  1.3364],\n",
       "          [-0.1104, -2.6704,  1.7416,  ..., -0.6789, -6.3603,  1.0488]],\n",
       "\n",
       "         [[-2.0084, -0.3747, -1.1343,  ..., -0.3979,  0.0505,  0.2534],\n",
       "          [ 0.5412, -0.6126,  0.2676,  ...,  1.2803, -0.4290,  1.8183],\n",
       "          [ 1.0054, -0.6821, -0.3921,  ...,  0.2771, -0.3570,  1.4790],\n",
       "          [ 2.2915, -0.5969, -0.7989,  ...,  0.8579, -0.8683,  0.7326]]]],\n",
       "       grad_fn=<PermuteBackward0>), tensor([[[[-4.8073e-02, -8.2641e-02,  4.1031e-02,  ...,  1.2731e-01,\n",
       "           -4.1959e-02,  2.6850e-02],\n",
       "          [-8.8306e-01, -1.1811e+00,  2.2796e-01,  ...,  4.1760e-01,\n",
       "           -1.3121e+00, -1.1197e-01],\n",
       "          [ 9.0146e-02, -4.3638e-01,  1.0882e+00,  ...,  9.5046e-01,\n",
       "           -2.7912e-02,  4.8159e-01],\n",
       "          [ 1.1962e-01, -3.0182e-02,  9.5579e-01,  ...,  1.1961e+00,\n",
       "           -5.3270e-01,  8.3252e-01]],\n",
       "\n",
       "         [[ 2.6723e-02,  1.4535e-02, -2.4544e-02,  ...,  5.2661e-02,\n",
       "            2.6033e-02,  3.4620e-02],\n",
       "          [-1.2563e+00,  1.2538e+00,  7.5709e-01,  ..., -5.7048e-01,\n",
       "            1.4087e+00, -1.3141e+00],\n",
       "          [ 1.3461e+00,  9.4003e-01,  6.6035e-01,  ...,  2.2056e-01,\n",
       "            1.0506e-01, -6.8181e-01],\n",
       "          [-3.6840e-02,  6.8297e-01,  2.5749e-01,  ...,  5.8374e-01,\n",
       "           -1.8460e-01,  6.9215e-01]],\n",
       "\n",
       "         [[ 4.4965e-02,  2.3204e-02, -6.4697e-02,  ...,  1.3055e-02,\n",
       "           -1.1164e-02, -6.9771e-03],\n",
       "          [ 1.3065e+00,  9.6864e-02,  8.0183e-02,  ..., -9.2506e-01,\n",
       "            1.8561e-01, -1.1500e+00],\n",
       "          [ 1.7551e+00,  2.7228e-01, -1.0230e-01,  ...,  3.1751e-01,\n",
       "           -4.0784e-01, -1.2524e+00],\n",
       "          [ 9.3723e-01, -8.5309e-01,  1.1671e+00,  ...,  6.0345e-01,\n",
       "           -2.8917e-01, -9.4444e-01]],\n",
       "\n",
       "         ...,\n",
       "\n",
       "         [[-2.3923e-02,  2.8313e-02,  3.9488e-03,  ..., -3.2574e-02,\n",
       "           -1.3706e-02,  3.8195e-02],\n",
       "          [-8.9195e-01,  8.4640e-01,  4.5467e-01,  ...,  3.6596e-01,\n",
       "            9.3519e-01,  1.4390e+00],\n",
       "          [-1.0554e+00,  2.8988e-01, -1.5389e+00,  ..., -7.1004e-01,\n",
       "            4.8706e-01,  2.1847e-03],\n",
       "          [ 1.1635e+00,  3.9301e-01,  5.3082e-01,  ..., -9.9046e-01,\n",
       "           -1.6791e+00,  1.6556e+00]],\n",
       "\n",
       "         [[-5.2891e-02, -3.9384e-02,  2.4006e-02,  ...,  8.6942e-03,\n",
       "           -4.2738e-02, -9.5424e-02],\n",
       "          [-4.5385e-01, -3.7344e-01,  6.6626e-01,  ..., -3.9166e-01,\n",
       "            5.7244e-01, -1.7733e-01],\n",
       "          [-2.8170e-01, -7.0245e-01,  1.1876e-01,  ..., -7.2763e-02,\n",
       "            1.0181e+00, -1.2889e-01],\n",
       "          [-1.1455e+00, -6.9094e-01, -9.9543e-01,  ...,  2.3724e-03,\n",
       "            1.3612e+00, -2.8476e-01]],\n",
       "\n",
       "         [[-1.0284e-02,  2.5809e-02, -4.9227e-02,  ..., -2.0759e-02,\n",
       "            2.0093e-02, -9.9532e-03],\n",
       "          [-1.1716e+00, -4.5500e-01,  7.2381e-01,  ..., -5.5610e-01,\n",
       "           -1.8448e-01, -1.0218e+00],\n",
       "          [-5.0087e-01, -2.5638e-01, -3.6640e-02,  ...,  7.6416e-01,\n",
       "            4.4909e-01, -1.4154e+00],\n",
       "          [-2.2513e+00,  2.4961e-01,  2.5255e-01,  ...,  2.3854e-01,\n",
       "            8.9449e-01, -1.2041e+00]]]], grad_fn=<PermuteBackward0>)), (tensor([[[[-5.0922e-01,  4.8201e-01, -8.5600e-01,  ..., -1.0157e+00,\n",
       "           -1.3224e+00,  2.0644e-01],\n",
       "          [ 5.5981e-01,  5.5640e-01, -1.4694e-01,  ...,  1.8904e+00,\n",
       "           -1.0425e+00, -1.2798e+00],\n",
       "          [ 2.6587e-01, -5.4996e-01, -3.6998e-01,  ...,  2.0468e+00,\n",
       "           -3.8048e-01, -4.1496e-01],\n",
       "          [ 9.5410e-01,  1.0694e-01,  4.9170e-01,  ...,  2.8275e+00,\n",
       "           -1.4664e-01,  6.6416e-02]],\n",
       "\n",
       "         [[ 8.4861e-01, -2.0511e+00,  1.3466e-01,  ...,  2.3840e-01,\n",
       "           -2.4435e+00, -4.4906e-01],\n",
       "          [ 1.5987e+00,  8.8198e-01, -1.6969e-02,  ...,  9.1839e-01,\n",
       "           -2.0588e+00, -1.3678e+00],\n",
       "          [ 1.5478e+00,  2.3287e+00,  1.4576e-01,  ...,  6.7882e-01,\n",
       "            8.1386e-01, -7.0398e-01],\n",
       "          [ 2.2150e+00,  2.7963e+00,  3.7122e-01,  ...,  5.0786e-01,\n",
       "            1.4089e+00, -1.0470e+00]],\n",
       "\n",
       "         [[ 1.0077e+00,  3.8538e-01, -1.7441e-01,  ..., -7.9541e-01,\n",
       "           -1.3988e+00, -3.4741e-01],\n",
       "          [-1.7156e-01, -2.4337e-01, -1.6173e+00,  ...,  4.1951e-01,\n",
       "           -1.1593e+00,  2.2229e-01],\n",
       "          [ 1.1576e-01, -7.0220e-01, -1.0558e+00,  ...,  1.2285e+00,\n",
       "           -1.0713e+00,  8.8540e-01],\n",
       "          [-1.6055e+00, -7.8232e-01, -1.8134e+00,  ...,  1.2280e+00,\n",
       "           -1.1414e+00,  9.1024e-01]],\n",
       "\n",
       "         ...,\n",
       "\n",
       "         [[ 2.2103e-01, -5.9022e-01,  4.8350e-01,  ..., -6.6714e-01,\n",
       "            1.0729e+00,  3.0368e-01],\n",
       "          [-1.5628e+00,  1.0434e+00, -2.6914e+00,  ..., -3.2414e+00,\n",
       "           -1.4158e+00,  1.0287e+00],\n",
       "          [-6.7622e-01,  1.2861e+00, -2.6884e+00,  ..., -3.5503e+00,\n",
       "           -1.5978e+00,  1.3691e+00],\n",
       "          [-1.2625e+00,  1.1832e+00, -3.8743e+00,  ..., -3.6975e+00,\n",
       "           -2.3217e+00,  1.6248e+00]],\n",
       "\n",
       "         [[ 2.6252e-01,  5.3671e-01,  5.3753e-01,  ...,  7.4350e-01,\n",
       "            7.2587e-02,  8.3513e-01],\n",
       "          [-9.2301e-01,  1.0890e+00,  5.2038e-01,  ...,  1.3786e+00,\n",
       "            5.6768e-01,  1.4369e+00],\n",
       "          [ 3.5005e-01,  1.2146e+00,  2.8362e-01,  ...,  6.6085e-01,\n",
       "            1.1851e+00,  1.0831e+00],\n",
       "          [-3.2299e-01,  9.3851e-01,  1.2713e-01,  ...,  8.6729e-01,\n",
       "            1.3202e+00,  1.9708e+00]],\n",
       "\n",
       "         [[-7.2868e-01,  3.2207e-01, -1.5589e+00,  ..., -3.9602e-01,\n",
       "            2.2851e-01, -1.3376e+00],\n",
       "          [-8.0341e-01,  2.9573e-04,  5.1978e-01,  ..., -2.6052e-01,\n",
       "           -5.3653e-01, -1.4394e+00],\n",
       "          [-4.3596e-02, -3.6245e-01,  9.2949e-01,  ...,  3.7569e-01,\n",
       "            3.6261e-01, -1.3037e+00],\n",
       "          [-5.9100e-01,  3.0167e-01,  1.3317e+00,  ...,  3.2685e-01,\n",
       "           -1.1688e-01, -1.4730e-01]]]], grad_fn=<PermuteBackward0>), tensor([[[[-3.7364e-03,  2.0081e-02, -6.6797e-02,  ...,  6.2599e-02,\n",
       "           -3.4985e-02, -9.7795e-02],\n",
       "          [ 2.0178e-01, -1.0830e-01,  1.1892e+00,  ..., -1.7773e-01,\n",
       "            1.3582e+00, -1.2952e+00],\n",
       "          [ 1.1796e+00, -6.5296e-01,  2.5456e-01,  ..., -1.9420e-01,\n",
       "            2.0125e+00, -2.5815e-01],\n",
       "          [ 9.0934e-01,  1.1701e-01,  9.4728e-01,  ..., -1.5651e+00,\n",
       "            1.6511e+00, -4.1961e-01]],\n",
       "\n",
       "         [[ 4.7003e-02, -1.5713e-02,  2.8680e-02,  ..., -2.4277e-02,\n",
       "           -1.0356e-02,  2.1064e-02],\n",
       "          [-1.1544e+00,  2.5549e-01, -7.9193e-01,  ...,  5.7270e-02,\n",
       "           -4.9619e-01, -1.1274e-01],\n",
       "          [ 1.3645e-01, -3.9911e-01, -2.5364e-01,  ..., -3.3597e-01,\n",
       "            3.9064e-01,  2.1598e+00],\n",
       "          [-1.3072e-01, -1.2736e+00,  4.2111e-02,  ...,  7.9881e-01,\n",
       "            1.4362e-01,  4.8607e-01]],\n",
       "\n",
       "         [[-2.8470e-03,  2.0420e-02, -4.1625e-02,  ..., -2.3914e-02,\n",
       "            4.1586e-02,  5.1853e-02],\n",
       "          [ 1.5584e+00,  1.4007e-01,  5.4728e-01,  ...,  3.0085e-02,\n",
       "            7.8715e-02,  1.0804e+00],\n",
       "          [ 8.5959e-01, -1.6809e+00,  7.5184e-01,  ...,  2.1826e-01,\n",
       "            7.6015e-01,  6.6621e-01],\n",
       "          [-3.2034e-01,  8.7373e-01, -3.2023e-01,  ..., -2.6853e-02,\n",
       "           -4.6081e-01, -2.4438e-01]],\n",
       "\n",
       "         ...,\n",
       "\n",
       "         [[-8.9451e-02,  3.7250e-02, -5.7531e-03,  ..., -3.6225e-02,\n",
       "           -1.0127e-02,  8.4483e-03],\n",
       "          [-1.6660e-01,  4.8975e-02, -2.4926e-01,  ...,  2.2900e-01,\n",
       "           -5.0899e-02,  2.6944e-01],\n",
       "          [-1.2056e-01,  2.8895e-01, -2.5662e-01,  ...,  1.3165e-01,\n",
       "           -3.6663e-01, -8.3337e-01],\n",
       "          [ 1.3690e-01,  5.0636e-02, -6.3958e-01,  ...,  1.8430e-01,\n",
       "           -5.1334e-01, -1.1907e-01]],\n",
       "\n",
       "         [[ 5.7265e-02, -1.9681e-02,  6.5380e-02,  ...,  2.5793e-02,\n",
       "            3.6230e-02,  1.9071e-02],\n",
       "          [-4.7635e-02,  1.4551e-01,  9.2790e-01,  ...,  9.7419e-01,\n",
       "            1.9430e-01, -1.7791e+00],\n",
       "          [-8.0598e-01, -1.9277e-01,  2.6239e-01,  ...,  5.5641e-03,\n",
       "            2.0568e-01, -1.4290e+00],\n",
       "          [ 6.4639e-01, -5.5388e-01, -4.4041e-01,  ...,  1.8534e+00,\n",
       "           -9.3970e-01, -3.1008e+00]],\n",
       "\n",
       "         [[-1.2326e-01,  2.4451e-02, -6.0125e-02,  ..., -9.1966e-02,\n",
       "            5.4234e-02, -9.4873e-03],\n",
       "          [ 2.4857e-01,  3.8506e-01,  6.6008e-01,  ..., -4.2822e-01,\n",
       "           -3.4172e-01, -2.3198e-01],\n",
       "          [ 2.7410e-01,  1.2011e+00,  2.5170e-01,  ..., -9.4534e-02,\n",
       "            3.2959e-02,  5.3500e-01],\n",
       "          [ 9.2574e-01,  7.6818e-02,  8.4418e-01,  ...,  2.1969e-01,\n",
       "           -4.3761e-01,  4.2603e-02]]]], grad_fn=<PermuteBackward0>)), (tensor([[[[-1.6900e+00, -3.0357e-01, -2.9655e-01,  ...,  1.5546e-01,\n",
       "            3.0675e-01, -5.1844e-01],\n",
       "          [ 7.9695e-01,  2.8078e-04, -1.0583e+00,  ...,  1.4290e+00,\n",
       "           -1.3826e+00, -4.5440e-02],\n",
       "          [ 1.2106e+00,  5.9460e-01, -8.0394e-01,  ...,  8.9363e-01,\n",
       "           -1.8620e+00,  2.8236e-01],\n",
       "          [ 1.0677e+00,  2.5466e-01, -3.2692e-01,  ...,  1.0816e+00,\n",
       "           -1.9909e+00,  7.6337e-01]],\n",
       "\n",
       "         [[ 1.1128e-01, -7.3958e-02,  2.3006e+00,  ...,  2.4043e-01,\n",
       "            8.5803e-02, -1.8378e-01],\n",
       "          [ 6.7220e-01, -6.9171e-01, -8.1779e-01,  ...,  9.2054e-01,\n",
       "            4.8236e-01, -3.0476e-01],\n",
       "          [ 7.7705e-01, -3.8403e-01, -9.4605e-01,  ...,  1.3345e+00,\n",
       "            3.4310e-01, -7.5094e-01],\n",
       "          [ 6.5191e-01, -2.8391e-01, -1.5063e+00,  ...,  1.2786e+00,\n",
       "            6.6482e-01, -9.8138e-01]],\n",
       "\n",
       "         [[-2.0530e-01,  1.0346e+00,  4.7557e-01,  ..., -5.1332e-01,\n",
       "            3.2149e-01, -1.2548e-01],\n",
       "          [-1.4540e+00,  1.0656e+00,  1.0986e+00,  ...,  1.9546e+00,\n",
       "            6.7977e-01, -1.7682e-01],\n",
       "          [-2.0875e+00,  6.5040e-01,  8.2880e-01,  ...,  1.8437e+00,\n",
       "            1.2415e+00, -7.3812e-01],\n",
       "          [-1.4321e+00,  1.0646e+00,  2.5275e-01,  ...,  1.9652e+00,\n",
       "            7.4150e-01, -3.5522e-01]],\n",
       "\n",
       "         ...,\n",
       "\n",
       "         [[ 5.5241e-01,  9.7591e-01, -8.5716e-01,  ..., -7.2691e-01,\n",
       "            6.8946e-01,  8.5952e-01],\n",
       "          [ 5.3688e-01,  4.1900e-01, -5.2389e-01,  ..., -9.2830e-01,\n",
       "           -8.4231e-01,  7.2909e-01],\n",
       "          [-6.2939e-01,  7.5443e-01, -2.4550e-01,  ..., -6.5329e-01,\n",
       "           -1.1108e+00,  1.3681e+00],\n",
       "          [-8.2841e-01,  3.0976e-01, -1.8494e-01,  ..., -6.4108e-01,\n",
       "           -8.9581e-01,  7.7918e-01]],\n",
       "\n",
       "         [[-4.1161e-01,  3.7125e-01,  3.3042e-01,  ...,  7.0012e-01,\n",
       "            3.6444e-02, -8.2569e-02],\n",
       "          [-7.2055e-01,  1.2450e+00, -1.3591e+00,  ...,  6.9005e-03,\n",
       "           -1.2417e+00, -7.1697e-01],\n",
       "          [-4.4345e-01,  7.8941e-01, -1.3139e+00,  ...,  4.3587e-01,\n",
       "           -7.5592e-01,  6.5123e-01],\n",
       "          [ 3.5639e-01,  7.5287e-01, -1.3162e+00,  ...,  5.8170e-01,\n",
       "           -1.3786e+00,  1.3581e+00]],\n",
       "\n",
       "         [[-7.4373e-01, -4.0749e-02,  4.7561e-01,  ..., -8.4569e-02,\n",
       "            5.2592e-02, -5.6245e-02],\n",
       "          [-1.2695e+00, -8.4352e-01,  1.6467e+00,  ...,  8.4338e-01,\n",
       "           -1.2366e+00,  1.0316e+00],\n",
       "          [-6.5634e-01, -1.9591e+00,  2.1533e+00,  ...,  6.0899e-01,\n",
       "           -4.1080e-01,  3.8570e-01],\n",
       "          [-5.4763e-01, -1.5888e+00,  2.1622e+00,  ...,  1.7238e-01,\n",
       "           -1.1413e+00,  1.1882e+00]]]], grad_fn=<PermuteBackward0>), tensor([[[[ 4.2591e-02, -1.1501e-01, -2.1381e-01,  ..., -2.8420e-01,\n",
       "            2.6740e-01, -1.7106e-01],\n",
       "          [-1.6670e+00,  3.4641e-02,  5.5682e-01,  ...,  2.4672e+00,\n",
       "           -1.4929e+00,  1.7271e+00],\n",
       "          [-1.7021e+00, -9.8179e-03, -1.3137e+00,  ...,  3.1495e+00,\n",
       "           -1.0396e+00,  7.7234e-01],\n",
       "          [-1.2092e+00,  1.0301e+00, -1.9854e+00,  ...,  2.5955e+00,\n",
       "            1.8047e-01,  1.8149e+00]],\n",
       "\n",
       "         [[ 1.2542e-01, -1.1222e-02,  2.5789e-02,  ..., -2.5245e-02,\n",
       "           -1.0483e-01,  1.7055e-01],\n",
       "          [-8.2790e-01, -3.4800e-01, -1.7553e+00,  ..., -2.2995e-01,\n",
       "           -2.8570e-01, -5.0033e-01],\n",
       "          [-2.7930e-01, -2.7982e-01, -5.8916e-01,  ...,  8.9672e-01,\n",
       "            3.8731e-01,  2.0047e-02],\n",
       "          [-3.9459e-01, -9.8378e-01, -4.3705e-02,  ...,  9.2313e-01,\n",
       "            1.9197e-01, -6.3820e-01]],\n",
       "\n",
       "         [[ 2.4026e-03,  2.3130e-02, -3.6127e-02,  ...,  3.5901e-02,\n",
       "            2.6214e-02,  1.7004e-02],\n",
       "          [ 1.9512e+00, -1.7921e-01, -6.2860e-02,  ..., -8.9742e-01,\n",
       "            1.4425e+00,  1.3616e+00],\n",
       "          [ 2.5394e-01,  4.3359e-01,  4.7849e-01,  ...,  7.1970e-01,\n",
       "            2.1168e+00,  3.4348e-01],\n",
       "          [ 9.8030e-02,  1.6625e+00, -1.0876e-01,  ..., -1.5548e-01,\n",
       "            2.2090e+00, -8.4733e-01]],\n",
       "\n",
       "         ...,\n",
       "\n",
       "         [[-1.1578e-02, -2.8244e-02,  7.3219e-02,  ...,  6.9946e-02,\n",
       "            1.0313e-02,  1.0360e-02],\n",
       "          [-3.5051e-01,  6.7603e-01, -6.3475e-01,  ...,  4.7371e-01,\n",
       "            1.1472e+00, -5.2859e-01],\n",
       "          [-1.5022e-01,  9.6128e-01,  8.4187e-02,  ...,  3.3245e-01,\n",
       "            1.3947e+00, -5.6113e-01],\n",
       "          [-4.1759e-01,  4.0705e-01, -3.3494e-02,  ...,  3.8792e-01,\n",
       "            1.8797e+00, -7.4060e-01]],\n",
       "\n",
       "         [[-1.9842e-01, -8.5295e-02,  7.9989e-02,  ..., -6.0043e-02,\n",
       "            4.3106e-02, -7.4124e-02],\n",
       "          [-1.4932e+00,  4.1634e-01, -8.4112e-01,  ..., -6.7951e-01,\n",
       "            9.9568e-01, -8.4315e-01],\n",
       "          [-9.6033e-01,  2.5836e-01,  8.4201e-01,  ..., -7.8910e-01,\n",
       "           -1.9847e-01,  2.1636e-01],\n",
       "          [-7.1722e-01, -5.4083e-01,  2.4604e-01,  ...,  7.3280e-01,\n",
       "           -8.9686e-01,  1.6677e-01]],\n",
       "\n",
       "         [[ 1.0436e-01, -1.0818e-01,  1.3716e-01,  ..., -9.8049e-02,\n",
       "           -1.2910e-02, -1.8049e-01],\n",
       "          [-7.3644e-01,  1.8052e+00,  2.0737e-01,  ...,  2.1575e-01,\n",
       "           -5.9046e-01,  9.7737e-01],\n",
       "          [-8.9316e-01,  1.2628e+00,  2.5290e-01,  ...,  9.8072e-01,\n",
       "           -8.8828e-01, -6.2778e-01],\n",
       "          [-7.2073e-01,  2.6945e+00, -3.1338e-02,  ...,  7.0007e-01,\n",
       "           -1.0840e+00,  9.3162e-01]]]], grad_fn=<PermuteBackward0>))), hidden_states=None, attentions=None, cross_attentions=None)"
      ]
     },
     "execution_count": 111,
     "metadata": {},
     "output_type": "execute_result"
    }
   ],
   "source": [
    "from transformers import AutoTokenizer, AutoModel\n",
    "\n",
    "tokenizer = AutoTokenizer.from_pretrained(\"bert-base-cased\")\n",
    "model = AutoModel.from_pretrained(\"gpt2\")\n",
    "\n",
    "encoded = tokenizer(\"Hey!\", return_tensors=\"pt\")\n",
    "result = model(**encoded)\n",
    "result"
   ]
  }
 ],
 "metadata": {
  "environment": {
   "kernel": "python3",
   "name": "tf2-gpu.2-11.m108",
   "type": "gcloud",
   "uri": "gcr.io/deeplearning-platform-release/tf2-gpu.2-11:m108"
  },
  "kernelspec": {
   "display_name": "Python 3 (ipykernel)",
   "language": "python",
   "name": "python3"
  },
  "language_info": {
   "codemirror_mode": {
    "name": "ipython",
    "version": 3
   },
   "file_extension": ".py",
   "mimetype": "text/x-python",
   "name": "python",
   "nbconvert_exporter": "python",
   "pygments_lexer": "ipython3",
   "version": "3.10.12"
  }
 },
 "nbformat": 4,
 "nbformat_minor": 5
}
