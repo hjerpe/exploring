{
 "cells": [
  {
   "cell_type": "code",
   "execution_count": null,
   "id": "a6e3aa13-153a-442d-b9a6-e87544c48f83",
   "metadata": {},
   "outputs": [],
   "source": [
    "import os\n",
    "from transformers import pipeline"
   ]
  },
  {
   "cell_type": "markdown",
   "id": "38aa3a4f-0c4e-4a14-a0d3-b8e5de746cc0",
   "metadata": {},
   "source": [
    "### TOC\n",
    "1. [Behind the pipeline](#behind_the_pipeline)\n",
    "2. [Models](#models)\n",
    "3. [Tokenizers](#tokenizers)\n",
    "4. [Handling multiple sequences](#handling_multiple_sequences)\n",
    "5. [Putting it all together](#putting_it_all_together)"
   ]
  },
  {
   "cell_type": "markdown",
   "id": "18919cdf-8fa3-4f2e-9bea-8f0805cc8fce",
   "metadata": {},
   "source": [
    "### Behind the pipeline <a id=\"behind_the_pipeline\"></a>"
   ]
  },
  {
   "cell_type": "code",
   "execution_count": null,
   "id": "765ba9ea-0048-4e2a-af62-67aefcec95d7",
   "metadata": {},
   "outputs": [],
   "source": [
    "from transformers import pipeline\n",
    "\n",
    "classifier = pipeline(\"sentiment-analysis\")\n",
    "classifier(\n",
    "    [\n",
    "        \"I've been waiting for a HuggingFace course my whole life.\",\n",
    "        \"I hate this so much!\",\n",
    "    ]\n",
    ")"
   ]
  },
  {
   "cell_type": "markdown",
   "id": "67918c14-f54c-441a-bb4d-4ade9d4714e2",
   "metadata": {},
   "source": [
    "<img src=\"images/2_using_transformers/full_nlp_pipeline.svg\" alt=\"Alternative text\" />"
   ]
  },
  {
   "cell_type": "markdown",
   "id": "bea332c9-5cec-48e5-b150-a3520e36746a",
   "metadata": {},
   "source": [
    "#### Preprocessing with a tokenizer"
   ]
  },
  {
   "cell_type": "markdown",
   "id": "638d6300-3862-422d-a8f5-4c596550cf83",
   "metadata": {},
   "source": [
    "Like other neural networks, Transformer models can’t process raw text directly, so the first step of our pipeline is to convert the text inputs into numbers that the model can make sense of. To do this we use a tokenizer, which will be responsible for:\n",
    "\n",
    "* Splitting the input into words, subwords, or symbols (like punctuation) that are called tokens\n",
    "* Mapping each token to an integer\n",
    "* Adding additional inputs that may be useful to the model\n",
    "* All this preprocessing needs to be done in exactly the same way as when the model was pretrained, so we first need to download that information from the Model Hub. To do this, we use the AutoTokenizer class and its from_pretrained() method. Using the checkpoint name of our model, it will automatically fetch the data associated with the model’s tokenizer and cache it (so it’s only downloaded the first time you run the code below).\n",
    "\n",
    "Since the default checkpoint of the sentiment-analysis pipeline is distilbert-base-uncased-finetuned-sst-2-english (you can see its model card here), we run the following:"
   ]
  },
  {
   "cell_type": "code",
   "execution_count": null,
   "id": "949ce59a-39c6-48eb-9c5d-2d3551160f2d",
   "metadata": {},
   "outputs": [],
   "source": [
    "from transformers import AutoTokenizer\n",
    "\n",
    "checkpoint = \"distilbert-base-uncased-finetuned-sst-2-english\"\n",
    "tokenizer = AutoTokenizer.from_pretrained(checkpoint)"
   ]
  },
  {
   "cell_type": "code",
   "execution_count": null,
   "id": "b3ea429a-dd76-4b10-8012-a6fe8e487f66",
   "metadata": {},
   "outputs": [],
   "source": [
    "raw_inputs = [\n",
    "    \"I've been waiting for a HuggingFace course my whole life.\",\n",
    "    \"I hate this so much!\",\n",
    "]\n",
    "inputs = tokenizer(raw_inputs, padding=True, truncation=True, return_tensors=\"pt\")\n",
    "print(inputs)"
   ]
  },
  {
   "cell_type": "code",
   "execution_count": null,
   "id": "e01e0861-0583-43f0-925c-bbaf056060a4",
   "metadata": {},
   "outputs": [],
   "source": [
    "[  101,  1045,  5223,  2023,  2061,  2172,   999,   102,     0,     0,"
   ]
  },
  {
   "cell_type": "markdown",
   "id": "da84170c-2f9f-43f4-ada9-9f75e30cbf58",
   "metadata": {},
   "source": [
    "#### Going through the model"
   ]
  },
  {
   "cell_type": "code",
   "execution_count": null,
   "id": "6d2d9904-01b4-4572-8017-8596c0227357",
   "metadata": {},
   "outputs": [],
   "source": [
    "from transformers import AutoModel\n",
    "\n",
    "checkpoint = \"distilbert-base-uncased-finetuned-sst-2-english\"\n",
    "model = AutoModel.from_pretrained(checkpoint)"
   ]
  },
  {
   "cell_type": "markdown",
   "id": "2d318dd1-6241-4cf7-870d-52c4a9a99a4f",
   "metadata": {},
   "source": [
    "In this code snippet, we have downloaded the same checkpoint we used in our pipeline before (it should actually have been cached already) and instantiated a model with it.\r\n",
    "\r\n",
    "This architecture contains only the base Transformer module: given some inputs, it outputs what we’ll call hidden states, also known as features. For each model input, we’ll retrieve a high-dimensional vector representing the contextual understanding of that input by the Transformer model.\r\n",
    "\r\n",
    "If this doesn’t make sense, don’t worry about it. We’ll explain it all later.\r\n",
    "\r\n",
    "While these hidden states can be useful on their own, they’re usually inputs to another part of the model, known as the head. In Chapter 1, the different tasks could have been performed with the same architecture, but each of these tasks will have a different head associated with it."
   ]
  },
  {
   "cell_type": "markdown",
   "id": "825eb5a3-619e-41ba-bc55-f67c8e41453b",
   "metadata": {},
   "source": [
    "##### A high-dimensional vector?\n",
    "The vector output by the Transformer module is usually large. It generally has three dimensions:\n",
    "\n",
    "Batch size: The number of sequences processed at a time (2 in our example).\n",
    "Sequence length: The length of the numerical representation of the sequence (16 in our example).\n",
    "Hidden size: The vector dimension of each model input.\n",
    "It is said to be “high dimensional” because of the last value. The hidden size can be very large (768 is common for smaller models, and in larger models this can reach 3072 or more).\n",
    "\n",
    "We can see this if we feed the inputs we preprocessed to our model:"
   ]
  },
  {
   "cell_type": "code",
   "execution_count": null,
   "id": "617a0c38-6732-413d-9b1a-ee777b3bcfad",
   "metadata": {},
   "outputs": [],
   "source": [
    "inputs"
   ]
  },
  {
   "cell_type": "code",
   "execution_count": null,
   "id": "4bddfc10-00aa-489f-b3e5-7a5ef90b6eb1",
   "metadata": {},
   "outputs": [],
   "source": [
    "outputs = model(**inputs)\n",
    "print(outputs)\n",
    "print(outputs.last_hidden_state.shape)"
   ]
  },
  {
   "cell_type": "markdown",
   "id": "1a8aafd1-7bc5-48ee-b1fc-a29da552813a",
   "metadata": {},
   "source": [
    "##### Model heads: Making sense out of numbers\n",
    "The model heads take the high-dimensional vector of hidden states as input and project them onto a different dimension. They are usually composed of one or a few linear layers:"
   ]
  },
  {
   "cell_type": "markdown",
   "id": "dcec4fd7-3769-48e2-9312-781083865443",
   "metadata": {},
   "source": [
    "<img src=\"images/2_using_transformers/transformer_and_head.svg\" alt=\"Alternative text\" />"
   ]
  },
  {
   "cell_type": "markdown",
   "id": "b4047865-1375-4dfb-8fbb-33b54372f103",
   "metadata": {},
   "source": [
    "There are many different architectures available in Transformers, with each one designed around tackling a specific task. Here is a non-exhaustive list:\r\n",
    "Model (retrieve the hidden states)\r\n",
    "\r\n",
    "* ForCausalLM\r\n",
    "* ForMaskedLM\r\n",
    "* ForMultipleChoice\r\n",
    "* ForQuestionAnswering\r\n",
    "* ForSequenceClassification\r\n",
    "* ForTokenClassification and others"
   ]
  },
  {
   "cell_type": "markdown",
   "id": "a6991b97-a8ae-4c5d-b7f9-8e14d0e0ca95",
   "metadata": {},
   "source": [
    "For our example, we will need a model with a sequence classification head (to be able to classify the sentences as positive or negative). So, we won’t actually use the AutoModel class, but AutoModelForSequenceClassification:"
   ]
  },
  {
   "cell_type": "code",
   "execution_count": null,
   "id": "e4872ee0-8976-49a0-b292-38d7aecd32d4",
   "metadata": {},
   "outputs": [],
   "source": [
    "from transformers import AutoModelForSequenceClassification\n",
    "\n",
    "checkpoint = \"distilbert-base-uncased-finetuned-sst-2-english\"\n",
    "model = AutoModelForSequenceClassification.from_pretrained(checkpoint)\n",
    "outputs = model(**inputs)"
   ]
  },
  {
   "cell_type": "code",
   "execution_count": null,
   "id": "48a1ddc1-3070-411e-8af8-bc42ac03d440",
   "metadata": {},
   "outputs": [],
   "source": [
    "print(outputs.logits.shape)"
   ]
  },
  {
   "cell_type": "markdown",
   "id": "acedc2ab-d82c-45b5-887b-c431b3932650",
   "metadata": {},
   "source": [
    "Since we have just two sentences and two labels, the result we get from our model is of shape 2 x 2."
   ]
  },
  {
   "cell_type": "markdown",
   "id": "a8a9a11c-4f69-40b6-b588-d0af16ae1544",
   "metadata": {},
   "source": [
    "##### Postprocessing the output\n",
    "The values we get as output from our model don’t necessarily make sense by themselves. Let’s take a look:"
   ]
  },
  {
   "cell_type": "code",
   "execution_count": null,
   "id": "a45da27f-95d5-477c-a397-abe82d93ce00",
   "metadata": {},
   "outputs": [],
   "source": [
    "print(outputs.logits)"
   ]
  },
  {
   "cell_type": "markdown",
   "id": "df6254f1-b458-4382-8958-2f62df9ca73c",
   "metadata": {},
   "source": [
    "Our model predicted [-1.5607, 1.6123] for the first sentence and [ 4.1692, -3.3464] for the second one. Those are not probabilities but logits, the raw, unnormalized scores outputted by the last layer of the model. To be converted to probabilities, they need to go through a SoftMax layer (all 🤗 Transformers models output the logits, as the loss function for training will generally fuse the last activation function, such as SoftMax, with the actual loss function, such as cross entropy):"
   ]
  },
  {
   "cell_type": "code",
   "execution_count": null,
   "id": "8b1313bc-8266-4d82-a05a-9919ac921c5d",
   "metadata": {},
   "outputs": [],
   "source": [
    "import torch\n",
    "predictions = torch.nn.functional.softmax(outputs.logits, dim=-1)\n",
    "print(predictions)"
   ]
  },
  {
   "cell_type": "code",
   "execution_count": null,
   "id": "78c08196-42ee-411f-ac2c-6e21aaecb2fa",
   "metadata": {},
   "outputs": [],
   "source": [
    "model.config.id2label"
   ]
  },
  {
   "cell_type": "markdown",
   "id": "8c50dc7d-1b57-4246-98ef-a04d6f4adb58",
   "metadata": {},
   "source": [
    "Now we can conclude that the model predicted the following:\r\n",
    "\r\n",
    "* First sentence: NEGATIVE: 0.0402, POSITIVE: 0.9598\r\n",
    "* Second sentence: NEGATIVE: 0.9995, POSITIVE: 0.0005"
   ]
  },
  {
   "cell_type": "markdown",
   "id": "6c30616f-b325-4011-98c5-3b54b96c04e9",
   "metadata": {},
   "source": [
    "### Models <a id=\"models\"></a>"
   ]
  },
  {
   "cell_type": "markdown",
   "id": "0c6be00c-fee4-49fb-81d2-ae647ba11db8",
   "metadata": {},
   "source": [
    "##### Creating a Transformer\r\n",
    "The first thing we’ll need to do to initialize a BERT model is load a configuration object:"
   ]
  },
  {
   "cell_type": "code",
   "execution_count": null,
   "id": "a7d52c3b-3ad5-48e8-a97c-1bf5c434089f",
   "metadata": {},
   "outputs": [],
   "source": [
    "from transformers import BertConfig, BertModel\n",
    "\n",
    "# Building the config\n",
    "config = BertConfig()\n",
    "\n",
    "# Building the model from the config\n",
    "model = BertModel(config)"
   ]
  },
  {
   "cell_type": "code",
   "execution_count": null,
   "id": "b7cb1656-c28f-4548-b8f6-5cace6fb6843",
   "metadata": {},
   "outputs": [],
   "source": [
    "print(config)"
   ]
  },
  {
   "cell_type": "markdown",
   "id": "4949436d-3a27-41a3-9e16-565e08128722",
   "metadata": {},
   "source": [
    "##### Different loading methods\r\n",
    "Creating a model from the default configuration initializes it with random values:"
   ]
  },
  {
   "cell_type": "code",
   "execution_count": null,
   "id": "1fb56b74-2d76-4a78-b04b-6c7e11d4d2e9",
   "metadata": {},
   "outputs": [],
   "source": [
    "from transformers import BertConfig, BertModel\n",
    "\n",
    "config = BertConfig()\n",
    "model = BertModel(config)\n",
    "print(config)\n",
    "# Model is randomly initialized!"
   ]
  },
  {
   "cell_type": "markdown",
   "id": "640e5265-3296-4595-9851-ac865eaad5c9",
   "metadata": {},
   "source": [
    "The model can be used in this state, but it will output gibberish; it needs to be trained first. We could train the model from scratch on the task at hand, but as you saw in Chapter 1, this would require a long time and a lot of data, and it would have a non-negligible environmental impact. To avoid unnecessary and duplicated effort, it’s imperative to be able to share and reuse models that have already been trained.\r\n",
    "\r\n",
    "Loading a Transformer model that is already trained is simple — we can do this using the from_pretrained() method:"
   ]
  },
  {
   "cell_type": "code",
   "execution_count": null,
   "id": "86bf80f3-01f1-43ac-897d-daa8135e41e5",
   "metadata": {},
   "outputs": [],
   "source": [
    "from transformers import BertModel\n",
    "\n",
    "model = BertModel.from_pretrained(\"bert-base-cased\")"
   ]
  },
  {
   "cell_type": "markdown",
   "id": "bb10141c-5e4e-4415-a27f-a75df5df96e5",
   "metadata": {},
   "source": [
    "As you saw earlier, we could replace BertModel with the equivalent AutoModel class. We’ll do this from now on as this produces checkpoint-agnostic code; if your code works for one checkpoint, it should work seamlessly with another. This applies even if the architecture is different, as long as the checkpoint was trained for a similar task (for example, a sentiment analysis task).\n",
    "\n",
    "In the code sample above we didn’t use BertConfig, and instead loaded a pretrained model via the bert-base-cased identifier. This is a model checkpoint that was trained by the authors of BERT themselves; you can find more details about it in its model card.\n",
    "\n",
    "This model is now initialized with all the weights of the checkpoint. It can be used directly for inference on the tasks it was trained on, and it can also be fine-tuned on a new task. By training with pretrained weights rather than from scratch, we can quickly achieve good results.\n",
    "\n",
    "The weights have been downloaded and cached (so future calls to the from_pretrained() method won’t re-download them) in the cache folder, which defaults to ~/.cache/huggingface/transformers. You can customize your cache folder by setting the HF_HOME environment variable.\n",
    "\n",
    "The identifier used to load the model can be the identifier of any model on the Model Hub, as long as it is compatible with the BERT architecture. The entire list of available BERT checkpoints can be found here."
   ]
  },
  {
   "cell_type": "markdown",
   "id": "7478b312-3a90-452f-b164-5c7d0beccadb",
   "metadata": {},
   "source": [
    "##### Saving methods\n",
    "Saving a model is as easy as loading one — we use the save_pretrained() method, which is analogous to the from_pretrained() method:"
   ]
  },
  {
   "cell_type": "code",
   "execution_count": null,
   "id": "0f3e5bb0-aab9-419b-a7af-079beab32d27",
   "metadata": {},
   "outputs": [],
   "source": [
    "model.save_pretrained(\"directory_on_my_computer\")"
   ]
  },
  {
   "cell_type": "code",
   "execution_count": null,
   "id": "027f26bc-e7f8-460d-8ab7-a04e48b43d3a",
   "metadata": {},
   "outputs": [],
   "source": [
    "! cat directory_on_my_computer/config.json"
   ]
  },
  {
   "cell_type": "markdown",
   "id": "573c9af3-13c3-47bd-a084-34f77e374f86",
   "metadata": {},
   "source": [
    "If you take a look at the config.json file, you’ll recognize the attributes necessary to build the model architecture. This file also contains some metadata, such as where the checkpoint originated and what 🤗 Transformers version you were using when you last saved the checkpoint.\n",
    "\n",
    "The pytorch_model.bin file is known as the state dictionary; it contains all your model’s weights. The two files go hand in hand; the configuration is necessary to know your model’s architecture, while the model weights are your model’s parameters."
   ]
  },
  {
   "cell_type": "markdown",
   "id": "5eff7ffa-4746-49b5-9f72-29108b628ab4",
   "metadata": {},
   "source": [
    "##### Using a Transformer model for inference\n",
    "Now that you know how to load and save a model, let’s try using it to make some predictions. Transformer models can only process numbers — numbers that the tokenizer generates. But before we discuss tokenizers, let’s explore what inputs the model accepts.\r\n",
    "\r\n",
    "Tokenizers can take care of casting the inputs to the appropriate framework’s tensors, but to help you understand what’s going on, we’ll take a quick look at what must be done before sending the inputs to the model.\r\n",
    "\r\n",
    "Let’s say we have a couple of sequences:"
   ]
  },
  {
   "cell_type": "code",
   "execution_count": null,
   "id": "d133eeef-596a-4862-87fd-b1d4a78f7f78",
   "metadata": {},
   "outputs": [],
   "source": [
    "sequences = [\"Hello!\", \"Cool.\", \"Nice!\"]"
   ]
  },
  {
   "cell_type": "markdown",
   "id": "98aed2c1-0c21-415b-9440-f4addbd8472c",
   "metadata": {},
   "source": [
    "The tokenizer converts these to vocabulary indices which are typically called input IDs. Each sequence is now a list of numbers! The resulting output is:"
   ]
  },
  {
   "cell_type": "code",
   "execution_count": null,
   "id": "44e1969d-731f-473f-82d3-09c42f5588bf",
   "metadata": {},
   "outputs": [],
   "source": [
    "encoded_sequences = [\n",
    "    [101, 7592, 999, 102],\n",
    "    [101, 4658, 1012, 102],\n",
    "    [101, 3835, 999, 102],\n",
    "]"
   ]
  },
  {
   "cell_type": "markdown",
   "id": "180cd45a-9b5d-488c-889b-630fb5099d6f",
   "metadata": {},
   "source": [
    "This is a list of encoded sequences: a list of lists. Tensors only accept rectangular shapes (think matrices). This “array” is already of rectangular shape, so converting it to a tensor is easy:"
   ]
  },
  {
   "cell_type": "code",
   "execution_count": null,
   "id": "5f7b824c-e0d5-4c76-86c1-6e582d3caac1",
   "metadata": {},
   "outputs": [],
   "source": [
    "import torch\n",
    "\n",
    "model_inputs = torch.tensor(encoded_sequences)\n",
    "model_inputs"
   ]
  },
  {
   "cell_type": "markdown",
   "id": "d71593fc-2840-4389-99fa-ff0a7d55695b",
   "metadata": {},
   "source": [
    "##### Using the tensors as inputs to the model\n",
    "Making use of the tensors with the model is extremely simple — we just call the model with the inputs:"
   ]
  },
  {
   "cell_type": "code",
   "execution_count": null,
   "id": "3dceebf6-c654-43d1-be7f-c2510518ba24",
   "metadata": {},
   "outputs": [],
   "source": [
    "output = model(model_inputs)\n",
    "output"
   ]
  },
  {
   "cell_type": "markdown",
   "id": "f18d9a92-1f54-4c99-828e-88b6e128d018",
   "metadata": {},
   "source": [
    "### Tokenizers <a id=\"tokenizers\"></a>"
   ]
  },
  {
   "cell_type": "markdown",
   "id": "5bea5274-34ea-4d95-b0f5-8742f7ea00d0",
   "metadata": {},
   "source": [
    "Tokenizers are one of the core components of the NLP pipeline. They serve one purpose: to translate text into data that can be processed by the model. Models can only process numbers, so tokenizers need to convert our text inputs to numerical data. In this section, we’ll explore exactly what happens in the tokenization pipeline.\n",
    "\n",
    "In NLP tasks, the data that is generally processed is raw text. Here’s an example of such text:"
   ]
  },
  {
   "cell_type": "markdown",
   "id": "6a0d5c9b-8114-437e-a677-4c079d5431d4",
   "metadata": {},
   "source": [
    "#### Word-based"
   ]
  },
  {
   "cell_type": "code",
   "execution_count": null,
   "id": "5730cb1e-190e-4924-b626-34974c0b9dc9",
   "metadata": {},
   "outputs": [],
   "source": [
    "tokenized_text = \"Jim Henson was a puppeteer\".split()\n",
    "print(tokenized_text)"
   ]
  },
  {
   "cell_type": "markdown",
   "id": "77c013a3-f01d-4774-a0e8-eacfda4e0d5c",
   "metadata": {},
   "source": [
    "#### Character based"
   ]
  },
  {
   "cell_type": "markdown",
   "id": "ddf0297b-97d7-481d-be20-e58a2a8c3e55",
   "metadata": {},
   "source": [
    "Character-based tokenizers split the text into characters, rather than words. This has two primary benefits:\n",
    "\n",
    "The vocabulary is much smaller.\n",
    "There are much fewer out-of-vocabulary (unknown) tokens, since every word can be built from characters.\n",
    "But here too some questions arise concerning spaces and punctuation:"
   ]
  },
  {
   "cell_type": "code",
   "execution_count": null,
   "id": "a76768f5-f3b9-432e-9e9e-34dc89d21f10",
   "metadata": {},
   "outputs": [],
   "source": [
    "tokenized_text_chars = [*\"\".join(tokenized_text)]\n",
    "print(tokenized_text_chars)"
   ]
  },
  {
   "cell_type": "markdown",
   "id": "416b2fdc-357c-42cc-bc72-022736de12ec",
   "metadata": {},
   "source": [
    "This approach isn’t perfect either. Since the representation is now based on characters rather than words, one could argue that, intuitively, it’s less meaningful: each character doesn’t mean a lot on its own, whereas that is the case with words. However, this again differs according to the language; in Chinese, for example, each character carries more information than a character in a Latin language.\n",
    "\n",
    "Another thing to consider is that we’ll end up with a very large amount of tokens to be processed by our model: whereas a word would only be a single token with a word-based tokenizer, it can easily turn into 10 or more tokens when converted into characters.\n",
    "\n",
    "To get the best of both worlds, we can use a third technique that combines the two approaches: _subword tokenization_."
   ]
  },
  {
   "cell_type": "markdown",
   "id": "fbb1a6b6-1138-4979-ac84-48de5d613819",
   "metadata": {},
   "source": [
    "#### Subword tokenization"
   ]
  },
  {
   "cell_type": "markdown",
   "id": "7defd502-90b4-4076-a746-42fc34211f5f",
   "metadata": {},
   "source": [
    "Subword tokenization algorithms rely on the principle that frequently used words should not be split into smaller subwords, but rare words should be decomposed into meaningful subwords.\r\n",
    "\r\n",
    "For instance, “annoyingly” might be considered a rare word and could be decomposed into “annoying” and “ly”. These are both likely to appear more frequently as standalone subwords, while at the same time the meaning of “annoyingly” is kept by the composite meaning of “annoying” and “ly”.\r\n",
    "\r\n",
    "Here is an example showing how a subword tokenization algorithm would tokenize the sequence “Let’s do tokenization!“:"
   ]
  },
  {
   "cell_type": "markdown",
   "id": "a2be8895-497b-46c1-a2da-8c665ddab958",
   "metadata": {},
   "source": [
    "<img src=\"images/2_using_transformers/bpe_subword.svg\" alt=\"Alternative text\" />"
   ]
  },
  {
   "cell_type": "markdown",
   "id": "410bd4d2-9eaa-4006-bd23-9bc672c1817f",
   "metadata": {},
   "source": [
    "These subwords end up providing a lot of semantic meaning: for instance, in the example above “tokenization” was split into “token” and “ization”, two tokens that have a semantic meaning while being space-efficient (only two tokens are needed to represent a long word). This allows us to have relatively good coverage with small vocabularies, and close to no unknown tokens.\n",
    "\n",
    "This approach is especially useful in agglutinative languages such as Turkish, where you can form (almost) arbitrarily long complex words by stringing together subwords."
   ]
  },
  {
   "cell_type": "markdown",
   "id": "a4b624bb-8a72-47b9-9b6d-a490987d1960",
   "metadata": {},
   "source": [
    "#### And more!"
   ]
  },
  {
   "cell_type": "markdown",
   "id": "741d0332-6786-4ac6-a8a5-4cf53236bf3b",
   "metadata": {},
   "source": [
    "Unsurprisingly, there are many more techniques out there. To name a few:\n",
    "\n",
    "* Byte-level BPE, as used in GPT-2\n",
    "* WordPiece, as used in BERT\n",
    "* SentencePiece or Unigram, as used in several multilingual models\n",
    "\n",
    "You should now have sufficient knowledge of how tokenizers work to get started with the API."
   ]
  },
  {
   "cell_type": "markdown",
   "id": "011f38e4-b3ff-4de2-af1f-1977be9247ac",
   "metadata": {},
   "source": [
    "#### Loading and saving"
   ]
  },
  {
   "cell_type": "code",
   "execution_count": null,
   "id": "0e745f56-a59c-43da-aae2-172ff30b5cfc",
   "metadata": {},
   "outputs": [],
   "source": [
    "from transformers import BertTokenizer\n",
    "\n",
    "tokenizer = BertTokenizer.from_pretrained(\"bert-base-cased\")"
   ]
  },
  {
   "cell_type": "markdown",
   "id": "4f8d8e9e-0596-49b3-8b2f-72c7736aa00b",
   "metadata": {},
   "source": [
    "Similar to AutoModel, the AutoTokenizer class will grab the proper tokenizer class in the library based on the checkpoint name, and can be used directly with any checkpoint:"
   ]
  },
  {
   "cell_type": "code",
   "execution_count": null,
   "id": "b6d1f91b-4b81-4b13-a841-cacbb61c11a5",
   "metadata": {},
   "outputs": [],
   "source": [
    "from transformers import AutoTokenizer\n",
    "\n",
    "tokenizer = AutoTokenizer.from_pretrained(\"bert-base-cased\")"
   ]
  },
  {
   "cell_type": "code",
   "execution_count": null,
   "id": "ef1a7810-ab5a-4948-8a1d-4af33f3d2c30",
   "metadata": {},
   "outputs": [],
   "source": [
    "tokenizer(\"Using a Transformer network is simple\")"
   ]
  },
  {
   "cell_type": "code",
   "execution_count": null,
   "id": "82496365-f045-435a-89fc-99daba34da9e",
   "metadata": {},
   "outputs": [],
   "source": [
    "tokenizer.save_pretrained(\"tokenizer\")"
   ]
  },
  {
   "cell_type": "markdown",
   "id": "33892c55-e301-4ab4-af07-d282e2ed0d7d",
   "metadata": {},
   "source": [
    "#### Encoding"
   ]
  },
  {
   "cell_type": "markdown",
   "id": "0f13d051-a1d4-4c7c-989a-9934132e0d9a",
   "metadata": {},
   "source": [
    "Translating text to numbers is known as encoding. Encoding is done in a two-step process: the tokenization, followed by the conversion to input IDs.\r\n",
    "\r\n",
    "As we’ve seen, the first step is to split the text into words (or parts of words, punctuation symbols, etc.), usually called tokens. There are multiple rules that can govern that process, which is why we need to instantiate the tokenizer using the name of the model, to make sure we use the same rules that were used when the model was pretrained.\r\n",
    "\r\n",
    "The second step is to convert those tokens into numbers, so we can build a tensor out of them and feed them to the model. To do this, the tokenizer has a vocabulary, which is the part we download when we instantiate it with the from_pretrained() method. Again, we need to use the same vocabulary used when the model was pretrained.\r\n",
    "\r\n",
    "To get a better understanding of the two steps, we’ll explore them separately. Note that we will use some methods that perform parts of the tokenization pipeline separately to show you the intermediate results of those steps, but in practice, you should call the tokenizer directly on your inputs (as shown in the section 2)."
   ]
  },
  {
   "cell_type": "markdown",
   "id": "a4e5ba1b-9caa-45d3-a5b1-4133d3ff4d41",
   "metadata": {},
   "source": [
    "#### Tokenization"
   ]
  },
  {
   "cell_type": "markdown",
   "id": "f2e9d080-1a66-4d12-bcd5-a4269de99b96",
   "metadata": {},
   "source": [
    "The tokenization process is done by the tokenize() method of the tokenizer:"
   ]
  },
  {
   "cell_type": "code",
   "execution_count": null,
   "id": "7f3de787-c47d-4a9f-9dfe-3ead9b1034f0",
   "metadata": {},
   "outputs": [],
   "source": [
    "from transformers import AutoTokenizer\n",
    "\n",
    "tokenizer = AutoTokenizer.from_pretrained(\"bert-base-cased\")\n",
    "\n",
    "sequence = \"Using a Transformer network is simple\"\n",
    "tokens = tokenizer.tokenize(sequence)\n",
    "\n",
    "print(tokens)"
   ]
  },
  {
   "cell_type": "markdown",
   "id": "2c5c2cb4-ba23-479b-909e-c8776eb15cb2",
   "metadata": {},
   "source": [
    "This tokenizer is a subword tokenizer: it splits the words until it obtains tokens that can be represented by its vocabulary. That’s the case here with transformer, which is split into two tokens: transform and ##er."
   ]
  },
  {
   "cell_type": "markdown",
   "id": "dfd207af-8854-48f0-b354-5183c0042027",
   "metadata": {},
   "source": [
    "#### From tokens to input IDs"
   ]
  },
  {
   "cell_type": "markdown",
   "id": "cf7cb2c8-246b-4391-a28d-5e94c845863f",
   "metadata": {},
   "source": [
    "The conversion to input IDs is handled by the convert_tokens_to_ids() tokenizer method:"
   ]
  },
  {
   "cell_type": "code",
   "execution_count": null,
   "id": "8b342b1e-3ca0-4442-8a94-82da92466dd1",
   "metadata": {},
   "outputs": [],
   "source": [
    "ids = tokenizer.convert_tokens_to_ids(tokens)\n",
    "\n",
    "print(ids)"
   ]
  },
  {
   "cell_type": "markdown",
   "id": "a1033bff-c7d0-480b-a1b0-73de577aa2b2",
   "metadata": {},
   "source": [
    "#### Decoding"
   ]
  },
  {
   "cell_type": "markdown",
   "id": "fdf28a6a-7635-44bc-87dd-76c10b9a0bd2",
   "metadata": {},
   "source": [
    "Decoding is going the other way around: from vocabulary indices, we want to get a string. This can be done with the decode() method as follows:"
   ]
  },
  {
   "cell_type": "code",
   "execution_count": null,
   "id": "24e057ef-aad1-4a27-9c7e-045e84b5465a",
   "metadata": {},
   "outputs": [],
   "source": [
    "decoded_string = tokenizer.decode([7993, 170, 11303, 1200, 2443, 1110, 3014])\n",
    "print(decoded_string)"
   ]
  },
  {
   "cell_type": "markdown",
   "id": "9173d6ea-98e2-4183-9018-a5c16edaf398",
   "metadata": {},
   "source": [
    "Note that the decode method not only converts the indices back to tokens, but also groups together the tokens that were part of the same words to produce a readable sentence. This behavior will be extremely useful when we use models that predict new text (either text generated from a prompt, or for sequence-to-sequence problems like translation or summarization).\n",
    "\n",
    "By now you should understand the atomic operations a tokenizer can handle: tokenization, conversion to IDs, and converting IDs back to a string. However, we’ve just scraped the tip of the iceberg. In the following section, we’ll take our approach to its limits and take a look at how to overcome them."
   ]
  },
  {
   "cell_type": "markdown",
   "id": "18574f68-d5c7-4458-9b62-9141e150f575",
   "metadata": {},
   "source": [
    "### Handling multiple sequences <a id=\"handling_multiple_sequences\"></a>"
   ]
  },
  {
   "cell_type": "markdown",
   "id": "75644c9f-bc7c-459a-9179-664c0e758d8f",
   "metadata": {},
   "source": [
    "In the previous section, we explored the simplest of use cases: doing inference on a single sequence of a small length. However, some questions emerge already:"
   ]
  },
  {
   "cell_type": "markdown",
   "id": "b3551e23-4c33-4086-85a2-69eec3dcab2b",
   "metadata": {},
   "source": [
    "* How do we handle multiple sequences?\n",
    "* How do we handle multiple sequences of different lengths?\n",
    "* Are vocabulary indices the only inputs that allow a model to work well?\n",
    "* Is there such a thing as too long a sequence?"
   ]
  },
  {
   "cell_type": "markdown",
   "id": "4707a2eb-f101-43e2-90f9-e2913a34f7cb",
   "metadata": {},
   "source": [
    "Let’s see what kinds of problems these questions pose, and how we can solve them using the 🤗 Transformers API."
   ]
  },
  {
   "cell_type": "markdown",
   "id": "e6090dd4-9c76-43cc-98ed-4b6522988afb",
   "metadata": {},
   "source": [
    "#### Models expect a batch of inputs"
   ]
  },
  {
   "cell_type": "code",
   "execution_count": null,
   "id": "539ea9f6-1eb2-4700-a07f-12c1f5f0b78d",
   "metadata": {},
   "outputs": [],
   "source": [
    "import torch\n",
    "from transformers import AutoTokenizer, AutoModelForSequenceClassification\n",
    "\n",
    "checkpoint = \"distilbert-base-uncased-finetuned-sst-2-english\"\n",
    "tokenizer = AutoTokenizer.from_pretrained(checkpoint)\n",
    "model = AutoModelForSequenceClassification.from_pretrained(checkpoint)\n",
    "\n",
    "sequence = \"I've been waiting for a HuggingFace course my whole life.\"\n",
    "\n",
    "tokens = tokenizer.tokenize(sequence)\n",
    "ids = tokenizer.convert_tokens_to_ids(tokens)\n",
    "input_ids = torch.tensor(ids)\n",
    "# This line will fail.\n",
    "model(input_ids)"
   ]
  },
  {
   "cell_type": "markdown",
   "id": "02013969-6837-410f-a8e4-f094d7d95e77",
   "metadata": {},
   "source": [
    "Oh no! Why did this fail? “We followed the steps from the pipeline in section 2.\r\n",
    "\r\n",
    "The problem is that we sent a single sequence to the model, whereas 🤗 Transformers models expect multiple sentences by default. Here we tried to do everything the tokenizer did behind the scenes when we applied it to a sequence. But if you look closely, you’ll see that the tokenizer didn’t just convert the list of input IDs into a tensor, it added a dimension on top of it:"
   ]
  },
  {
   "cell_type": "code",
   "execution_count": null,
   "id": "f3db07b0-b360-4a57-9c8e-e34e5f1495f7",
   "metadata": {},
   "outputs": [],
   "source": [
    "tokenized_inputs = tokenizer(sequence, return_tensors=\"pt\")\n",
    "print(tokenized_inputs[\"input_ids\"])"
   ]
  },
  {
   "cell_type": "code",
   "execution_count": null,
   "id": "d50226ed-e96d-4876-94a7-81bd4d3a92df",
   "metadata": {},
   "outputs": [],
   "source": [
    "import torch\n",
    "from transformers import AutoTokenizer, AutoModelForSequenceClassification\n",
    "\n",
    "checkpoint = \"distilbert-base-uncased-finetuned-sst-2-english\"\n",
    "tokenizer = AutoTokenizer.from_pretrained(checkpoint)\n",
    "model = AutoModelForSequenceClassification.from_pretrained(checkpoint)\n",
    "\n",
    "sequence = \"I've been waiting for a HuggingFace course my whole life.\"\n",
    "\n",
    "tokens = tokenizer.tokenize(sequence)\n",
    "ids = tokenizer.convert_tokens_to_ids(tokens)\n",
    "\n",
    "input_ids = torch.tensor([ids])\n",
    "print(\"Input IDs:\", input_ids)\n",
    "\n",
    "output = model(input_ids)\n",
    "print(\"Logits:\", output.logits)"
   ]
  },
  {
   "cell_type": "code",
   "execution_count": null,
   "id": "3360f96e-7e6b-4653-9ac3-37dc8e5c9ec7",
   "metadata": {},
   "outputs": [],
   "source": [
    "print(ids)"
   ]
  },
  {
   "cell_type": "code",
   "execution_count": null,
   "id": "7c69ad6c-a767-4c62-b493-2eb0dbced6b5",
   "metadata": {},
   "outputs": [],
   "source": [
    "batched_ids = [ids, ids]"
   ]
  },
  {
   "cell_type": "code",
   "execution_count": null,
   "id": "8dad9e78-dc9a-4c4c-816f-56f93b30cbed",
   "metadata": {},
   "outputs": [],
   "source": [
    "import torch\n",
    "from transformers import AutoTokenizer, AutoModelForSequenceClassification\n",
    "\n",
    "checkpoint = \"distilbert-base-uncased-finetuned-sst-2-english\"\n",
    "tokenizer = AutoTokenizer.from_pretrained(checkpoint)\n",
    "model = AutoModelForSequenceClassification.from_pretrained(checkpoint)\n",
    "\n",
    "input_ids = torch.tensor(batched_ids)\n",
    "print(\"Input IDs:\", input_ids)\n",
    "\n",
    "output = model(input_ids)\n",
    "print(\"Logits:\", output.logits)"
   ]
  },
  {
   "cell_type": "markdown",
   "id": "471770c1-650c-4c36-8927-32743e30c39b",
   "metadata": {},
   "source": [
    "Batching allows the model to work when you feed it multiple sentences. Using multiple sequences is just as simple as building a batch with a single sequence. There’s a second issue, though. When you’re trying to batch together two (or more) sentences, they might be of different lengths. If you’ve ever worked with tensors before, you know that they need to be of rectangular shape, so you won’t be able to convert the list of input IDs into a tensor directly. To work around this problem, we usually pad the inputs."
   ]
  },
  {
   "cell_type": "markdown",
   "id": "3290262f-8607-4673-b7bb-ea55193a0212",
   "metadata": {},
   "source": [
    "#### Padding the inputs"
   ]
  },
  {
   "cell_type": "code",
   "execution_count": null,
   "id": "8bd8ecdf-8606-4159-9ce9-56f0136a9a8a",
   "metadata": {},
   "outputs": [],
   "source": [
    "batched_ids = [\n",
    "    [200, 200, 200],\n",
    "    [200, 200]\n",
    "]"
   ]
  },
  {
   "cell_type": "markdown",
   "id": "7baf3acb-b8e4-405e-9d29-4e59a6e28564",
   "metadata": {},
   "source": [
    "\n",
    "In order to work around this, we’ll use padding to make our tensors have a rectangular shape. Padding makes sure all our sentences have the same length by adding a special word called the padding token to the sentences with fewer values. For example, if you have 10 sentences with 10 words and 1 sentence with 20 words, padding will ensure all the sentences have 20 words. In our example, the resulting tensor looks like this:"
   ]
  },
  {
   "cell_type": "code",
   "execution_count": null,
   "id": "1429f2d9-feec-4572-b90b-dea2e914d106",
   "metadata": {},
   "outputs": [],
   "source": [
    "padding_id = 100\n",
    "\n",
    "batched_ids = [\n",
    "    [200, 200, 200],\n",
    "    [200, 200, padding_id],\n",
    "]"
   ]
  },
  {
   "cell_type": "code",
   "execution_count": null,
   "id": "dccfccfe-9c59-496c-b7e3-3ef3c73bed2c",
   "metadata": {},
   "outputs": [],
   "source": [
    "model = AutoModelForSequenceClassification.from_pretrained(checkpoint)\n",
    "\n",
    "sequence1_ids = [[200, 200, 200]]\n",
    "sequence2_ids = [[200, 200]]\n",
    "batched_ids = [\n",
    "    [200, 200, 200],\n",
    "    [200, 200, tokenizer.pad_token_id],\n",
    "]\n",
    "\n",
    "print(model(torch.tensor(sequence1_ids)).logits)\n",
    "print(model(torch.tensor(sequence2_ids)).logits)\n",
    "print(model(torch.tensor(batched_ids)).logits)"
   ]
  },
  {
   "cell_type": "markdown",
   "id": "38f04d20-ca26-477a-909d-7877208a73d0",
   "metadata": {},
   "source": [
    "There’s something wrong with the logits in our batched predictions: the second row should be the same as the logits for the second sentence, but we’ve got completely different values!\n",
    "\n",
    "This is because the key feature of Transformer models is attention layers that contextualize each token. These will take into account the padding tokens since they attend to all of the tokens of a sequence. To get the same result when passing individual sentences of different lengths through the model or when passing a batch with the same sentences and padding applied, we need to tell those attention layers to ignore the padding tokens. This is done by using an attention mask."
   ]
  },
  {
   "cell_type": "markdown",
   "id": "bf383dcf-17a7-4bd1-a6de-c452498de583",
   "metadata": {},
   "source": [
    "#### Attention masks"
   ]
  },
  {
   "cell_type": "markdown",
   "id": "990b3ef2-af78-480e-912f-b335881bf3db",
   "metadata": {},
   "source": [
    "Attention masks are tensors with the exact same shape as the input IDs tensor, filled with 0s and 1s: 1s indicate the corresponding tokens should be attended to, and 0s indicate the corresponding tokens should not be attended to (i.e., they should be ignored by the attention layers of the model).\n",
    "\n",
    "Let’s complete the previous example with an attention mask:"
   ]
  },
  {
   "cell_type": "code",
   "execution_count": null,
   "id": "a4551552-b7a6-4d3f-aa5e-e770d6bb48bc",
   "metadata": {},
   "outputs": [],
   "source": [
    "batched_ids = [\n",
    "    [200, 200, 200],\n",
    "    [200, 200, tokenizer.pad_token_id],\n",
    "]\n",
    "\n",
    "attention_mask = [\n",
    "    [1, 1, 1],\n",
    "    [1, 1, 0],\n",
    "]"
   ]
  },
  {
   "cell_type": "code",
   "execution_count": null,
   "id": "a4fb1a2e-f059-4c11-b31a-d6a48229f96d",
   "metadata": {},
   "outputs": [],
   "source": [
    "outputs = model(torch.tensor(batched_ids), attention_mask=torch.tensor(attention_mask))\n",
    "print(outputs.logits)"
   ]
  },
  {
   "cell_type": "markdown",
   "id": "5931ebb8-b6a0-489e-a813-e10f7bbfa373",
   "metadata": {},
   "source": [
    "##### Example manual padding"
   ]
  },
  {
   "cell_type": "code",
   "execution_count": null,
   "id": "b7d5f93b-a6c4-43f3-9144-6588e4877140",
   "metadata": {},
   "outputs": [],
   "source": [
    "tokenizer.special_tokens_map"
   ]
  },
  {
   "cell_type": "code",
   "execution_count": null,
   "id": "b18eb35b-4a24-4491-8e29-ca26273eb5a5",
   "metadata": {},
   "outputs": [],
   "source": [
    "tokenizer.cls_token_id"
   ]
  },
  {
   "cell_type": "code",
   "execution_count": null,
   "id": "fcfea69e-deaa-4dc9-a582-29ea6efac0ce",
   "metadata": {},
   "outputs": [],
   "source": [
    "tokenizer.sep_token_id"
   ]
  },
  {
   "cell_type": "code",
   "execution_count": null,
   "id": "f50740f0-55ca-483a-8f8e-c584c8acc30d",
   "metadata": {},
   "outputs": [],
   "source": [
    "tokenizer.cls_token_id"
   ]
  },
  {
   "cell_type": "code",
   "execution_count": null,
   "id": "84753f4c-2b46-4a45-a714-073144d11e00",
   "metadata": {},
   "outputs": [],
   "source": [
    "checkpoint = \"distilbert-base-uncased-finetuned-sst-2-english\"\n",
    "tokenizer = AutoTokenizer.from_pretrained(checkpoint)\n",
    "model = AutoModelForSequenceClassification.from_pretrained(checkpoint)\n",
    "\n",
    "sequence1 = \"I've been waiting for a HuggingFace course my whole life.\"\n",
    "sequence2 = \"I hate this so much!\"\n",
    "\n",
    "tokens1 = tokenizer.tokenize(sequence1)\n",
    "ids1 = [tokenizer.cls_token_id] + tokenizer.convert_tokens_to_ids(tokens1) + [tokenizer.sep_token_id]\n",
    "\n",
    "tokens2 = tokenizer.tokenize(sequence2)\n",
    "ids2 = [tokenizer.cls_token_id] + tokenizer.convert_tokens_to_ids(tokens2) + [tokenizer.sep_token_id]\n",
    "\n",
    "print(ids1)\n",
    "print(ids2)\n",
    "\n",
    "ids1 = ids1\n",
    "ids2_padded = ids2 + [tokenizer.pad_token_id for _ in range(len(ids2), len(ids1))]\n",
    "print(ids2_padded)\n",
    "\n",
    "print(len(ids1))\n",
    "print(len(ids2_padded))\n",
    "\n",
    "batched_ids = [\n",
    "    ids1,\n",
    "    ids2_padded,\n",
    "]\n",
    "\n",
    "attention_mask = [\n",
    "    [1 for _ in range(len(ids1))],\n",
    "    [1 for _ in range(len(ids2))] + [0 for _ in range(len(ids2), len(ids2_padded))],\n",
    "]\n",
    "\n",
    "for row in attention_mask:\n",
    "    print(row)\n",
    "\n",
    "outputs = model(torch.tensor(batched_ids), attention_mask=torch.tensor(attention_mask))\n",
    "print(outputs)"
   ]
  },
  {
   "cell_type": "markdown",
   "id": "1aedcf12-d989-4e96-b49d-7525b2fbc277",
   "metadata": {},
   "source": [
    "#### Longer sequences"
   ]
  },
  {
   "cell_type": "markdown",
   "id": "bc565d34-bafb-4817-83c1-fbf60c19c72c",
   "metadata": {},
   "source": [
    "With Transformer models, there is a limit to the lengths of the sequences we can pass the models. Most models handle sequences of up to 512 or 1024 tokens, and will crash when asked to process longer sequences. There are two solutions to this problem:"
   ]
  },
  {
   "cell_type": "markdown",
   "id": "cbd1674a-d191-47c6-b26f-128fa8e7459c",
   "metadata": {},
   "source": [
    "* Use a model with a longer supported sequence length.\n",
    "* Truncate your sequences."
   ]
  },
  {
   "cell_type": "markdown",
   "id": "2ec020ff-b779-4193-be0d-b3be24a8b643",
   "metadata": {},
   "source": [
    "Models have different supported sequence lengths, and some specialize in handling very long sequences. Longformer is one example, and another is LED. If you’re working on a task that requires very long sequences, we recommend you take a look at those models.\n",
    "\n",
    "Otherwise, we recommend you truncate your sequences by specifying the max_sequence_length param"
   ]
  },
  {
   "cell_type": "code",
   "execution_count": null,
   "id": "c5151230-1031-41a1-a12f-df755706637c",
   "metadata": {},
   "outputs": [],
   "source": [
    "max_sequence_length = 5\n",
    "sequence = sequence[:max_sequence_length]\n",
    "sequence"
   ]
  },
  {
   "cell_type": "markdown",
   "id": "017f6423-6789-4ad8-ac6e-12df63e828f1",
   "metadata": {},
   "source": [
    "### Putting it all together <a id=\"putting_it_all_together\"></a>"
   ]
  },
  {
   "cell_type": "markdown",
   "id": "fc74784e-ea96-4f87-9423-511ad0906120",
   "metadata": {},
   "source": [
    "In the last few sections, we’ve been trying our best to do most of the work by hand. We’ve explored how tokenizers work and looked at tokenization, conversion to input IDs, padding, truncation, and attention masks.\r\n",
    "\r\n",
    "However, as we saw in section 2, the 🤗 Transformers API can handle all of this for us with a high-level function that we’ll dive into here. When you call your tokenizer directly on the sentence, you get back inputs that are ready to pass through your model:"
   ]
  },
  {
   "cell_type": "code",
   "execution_count": null,
   "id": "14a54f91-eddf-4c06-8625-695e01fc23e5",
   "metadata": {},
   "outputs": [],
   "source": [
    "from transformers import AutoTokenizer\n",
    "\n",
    "checkpoint = \"distilbert-base-uncased-finetuned-sst-2-english\"\n",
    "tokenizer = AutoTokenizer.from_pretrained(checkpoint)\n",
    "\n",
    "sequence = \"I've been waiting for a HuggingFace course my whole life.\"\n",
    "\n",
    "model_inputs = tokenizer(sequence)\n",
    "model_inputs"
   ]
  },
  {
   "cell_type": "markdown",
   "id": "ae7f1c20-11fa-495a-9cd5-564369295f5e",
   "metadata": {},
   "source": [
    "Here, the model_inputs variable contains everything that’s necessary for a model to operate well. For DistilBERT, that includes the input IDs as well as the attention mask. Other models that accept additional inputs will also have those output by the tokenizer object."
   ]
  },
  {
   "cell_type": "code",
   "execution_count": null,
   "id": "8e5d1b69-4145-4cab-b5bc-7c940c4bf953",
   "metadata": {},
   "outputs": [],
   "source": [
    "sequences = [\"I've been waiting for a HuggingFace course my whole life.\", \"So have I!\"]\n",
    "model_inputs = tokenizer(sequences)\n",
    "print(model_inputs)"
   ]
  },
  {
   "cell_type": "code",
   "execution_count": null,
   "id": "90a3f2cf-f150-40c4-aaa9-a660d84b6c3b",
   "metadata": {},
   "outputs": [],
   "source": [
    "# Will pad the sequences up to the maximum sequence length\n",
    "model_inputs = tokenizer(sequences, padding=\"longest\")\n",
    "\n",
    "# Will pad the sequences up to the model max length\n",
    "# (512 for BERT or DistilBERT)\n",
    "model_inputs = tokenizer(sequences, padding=\"max_length\")\n",
    "\n",
    "# Will pad the sequences up to the specified max length\n",
    "model_inputs = tokenizer(sequences, padding=\"max_length\", max_length=8)"
   ]
  },
  {
   "cell_type": "code",
   "execution_count": null,
   "id": "3710a3ca-7ff8-48b8-a1d8-094bafbc512f",
   "metadata": {},
   "outputs": [],
   "source": [
    "sequences = [\"I've been waiting for a HuggingFace course my whole life.\", \"So have I!\"]\n",
    "\n",
    "# Will truncate the sequences that are longer than the model max length\n",
    "# (512 for BERT or DistilBERT)\n",
    "model_inputs = tokenizer(sequences, truncation=True)\n",
    "print(model_inputs)\n",
    "print(\"\\n\")\n",
    "\n",
    "# Will truncate the sequences that are longer than the specified max length\n",
    "model_inputs = tokenizer(sequences, max_length=8, truncation=True)\n",
    "print(model_inputs)"
   ]
  },
  {
   "cell_type": "markdown",
   "id": "a6c7f4df-039e-40c8-999d-9571b21363fc",
   "metadata": {},
   "source": [
    "he tokenizer object can handle the conversion to specific framework tensors, which can then be directly sent to the model. For example, in the following code sample we are prompting the tokenizer to return tensors from the different frameworks — \"pt\" returns PyTorch tensors, \"tf\" returns TensorFlow tensors, and \"np\" returns NumPy arrays:"
   ]
  },
  {
   "cell_type": "code",
   "execution_count": null,
   "id": "aeeb6b9a-d777-4ac7-8d1f-958d3bebfbe5",
   "metadata": {},
   "outputs": [],
   "source": [
    "sequences = [\"I've been waiting for a HuggingFace course my whole life.\", \"So have I!\"]\n",
    "\n",
    "# Returns PyTorch tensors\n",
    "model_inputs = tokenizer(sequences, padding=True, return_tensors=\"pt\")\n",
    "print(model_inputs)\n",
    "\n",
    "# Returns TensorFlow tensors\n",
    "model_inputs = tokenizer(sequences, padding=True, return_tensors=\"tf\")\n",
    "print(model_inputs)\n",
    "\n",
    "# Returns NumPy arrays\n",
    "model_inputs = tokenizer(sequences, padding=True, return_tensors=\"np\")\n",
    "print(model_inputs)"
   ]
  },
  {
   "cell_type": "markdown",
   "id": "603ee849-f02d-4545-9b8e-286083e2698d",
   "metadata": {},
   "source": [
    "If we take a look at the input IDs returned by the tokenizer, we will see they are a tiny bit different from what we had earlier:"
   ]
  },
  {
   "cell_type": "code",
   "execution_count": null,
   "id": "eb4dce67-8658-47a0-b46d-308d45b314e9",
   "metadata": {},
   "outputs": [],
   "source": [
    "sequence = \"I've been waiting for a HuggingFace course my whole life.\"\n",
    "\n",
    "model_inputs = tokenizer(sequence)\n",
    "print(model_inputs[\"input_ids\"])\n",
    "\n",
    "tokens = tokenizer.tokenize(sequence)\n",
    "ids = tokenizer.convert_tokens_to_ids(tokens)\n",
    "print(ids)"
   ]
  },
  {
   "cell_type": "markdown",
   "id": "86b82d28-9d8c-44b3-acc5-97626e513df8",
   "metadata": {},
   "source": [
    "One token ID was added at the beginning, and one at the end. Let’s decode the two sequences of IDs above to see what this is about:"
   ]
  },
  {
   "cell_type": "code",
   "execution_count": null,
   "id": "85b0819c-97fc-4efe-9e08-6f34e87bda39",
   "metadata": {},
   "outputs": [],
   "source": [
    "print(tokenizer.decode(model_inputs[\"input_ids\"]))\n",
    "print(tokenizer.decode(ids))"
   ]
  },
  {
   "cell_type": "markdown",
   "id": "1370ed54-bfe5-4e37-9236-19e486848a03",
   "metadata": {},
   "source": [
    "The tokenizer added the special word [CLS] at the beginning and the special word [SEP] at the end. This is because the model was pretrained with those, so to get the same results for inference we need to add them as well. Note that some models don’t add special words, or add different ones; models may also add these special words only at the beginning, or only at the end. In any case, the tokenizer knows which ones are expected and will deal with this for you."
   ]
  },
  {
   "cell_type": "markdown",
   "id": "1e46e36b-8b75-4f58-afa1-da744cf5f2a7",
   "metadata": {},
   "source": [
    "#### Wrapping up: From tokenizer to model"
   ]
  },
  {
   "cell_type": "markdown",
   "id": "9746cf34-756d-4948-9f7f-618f9cd3bd23",
   "metadata": {},
   "source": [
    "Now that we’ve seen all the individual steps the tokenizer object uses when applied on texts, let’s see one final time how it can handle multiple sequences (padding!), very long sequences (truncation!), and multiple types of tensors with its main API:"
   ]
  },
  {
   "cell_type": "code",
   "execution_count": null,
   "id": "aae325c2-3253-4d61-8dfc-dd35dc5229dc",
   "metadata": {},
   "outputs": [],
   "source": [
    "import torch\n",
    "from transformers import AutoTokenizer, AutoModelForSequenceClassification\n",
    "\n",
    "checkpoint = \"distilbert-base-uncased-finetuned-sst-2-english\"\n",
    "tokenizer = AutoTokenizer.from_pretrained(checkpoint)\n",
    "model = AutoModelForSequenceClassification.from_pretrained(checkpoint)\n",
    "sequences = [\"I've been waiting for a HuggingFace course my whole life.\", \n",
    "             \"So have I!\", \n",
    "             \"I hate this so much!\"]\n",
    "\n",
    "tokens = tokenizer(sequences, padding=True, truncation=True, return_tensors=\"pt\")\n",
    "print(tokens)\n",
    "output = model(**tokens)\n",
    "print(output)"
   ]
  },
  {
   "cell_type": "code",
   "execution_count": null,
   "id": "8363592b-d4e9-4156-9e3d-ef6f01a75588",
   "metadata": {},
   "outputs": [],
   "source": [
    "from transformers import AutoTokenizer, AutoModel\n",
    "\n",
    "tokenizer = AutoTokenizer.from_pretrained(\"bert-base-cased\")\n",
    "model = AutoModel.from_pretrained(\"gpt2\")\n",
    "\n",
    "encoded = tokenizer(\"Hey!\", return_tensors=\"pt\")\n",
    "result = model(**encoded)\n",
    "result"
   ]
  }
 ],
 "metadata": {
  "environment": {
   "kernel": "python3",
   "name": "tf2-gpu.2-11.m108",
   "type": "gcloud",
   "uri": "gcr.io/deeplearning-platform-release/tf2-gpu.2-11:m108"
  },
  "kernelspec": {
   "display_name": "Python 3 (ipykernel)",
   "language": "python",
   "name": "python3"
  },
  "language_info": {
   "codemirror_mode": {
    "name": "ipython",
    "version": 3
   },
   "file_extension": ".py",
   "mimetype": "text/x-python",
   "name": "python",
   "nbconvert_exporter": "python",
   "pygments_lexer": "ipython3",
   "version": "3.10.12"
  }
 },
 "nbformat": 4,
 "nbformat_minor": 5
}
