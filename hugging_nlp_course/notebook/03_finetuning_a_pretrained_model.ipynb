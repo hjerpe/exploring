{
 "cells": [
  {
   "cell_type": "code",
   "execution_count": null,
   "id": "a6e3aa13-153a-442d-b9a6-e87544c48f83",
   "metadata": {},
   "outputs": [],
   "source": [
    "import os\n",
    "from transformers import pipeline"
   ]
  },
  {
   "attachments": {},
   "cell_type": "markdown",
   "id": "38aa3a4f-0c4e-4a14-a0d3-b8e5de746cc0",
   "metadata": {},
   "source": [
    "### TOC\n",
    "1. [Processing the data](#Processing-the-data)\n",
    "2. [Fine-tuning a model with the Trainer API](#Fine-tuning-a-model-with-the-Trainer-API)\n",
    "3. [A full training](#A-full-training)"
   ]
  },
  {
   "attachments": {},
   "cell_type": "markdown",
   "id": "18919cdf-8fa3-4f2e-9bea-8f0805cc8fce",
   "metadata": {},
   "source": [
    "### Processing the data"
   ]
  },
  {
   "cell_type": "code",
   "execution_count": null,
   "id": "765ba9ea-0048-4e2a-af62-67aefcec95d7",
   "metadata": {},
   "outputs": [],
   "source": [
    "import torch\n",
    "from transformers import AdamW, AutoTokenizer, AutoModelForSequenceClassification\n",
    "\n",
    "# Same as before\n",
    "checkpoint = \"bert-base-uncased\"\n",
    "tokenizer = AutoTokenizer.from_pretrained(checkpoint)\n",
    "model = AutoModelForSequenceClassification.from_pretrained(checkpoint)\n",
    "sequences = [\n",
    "    \"I've been waiting for a HuggingFace course my whole life.\",\n",
    "    \"This course is amazing!\",\n",
    "]\n",
    "batch = tokenizer(sequences, padding=True, truncation=True, return_tensors=\"pt\")\n",
    "\n",
    "# This is new\n",
    "batch[\"labels\"] = torch.tensor([1, 1])\n",
    "\n",
    "optimizer = AdamW(model.parameters())\n",
    "loss = model(**batch).loss\n",
    "loss.backward()\n",
    "optimizer.step()"
   ]
  },
  {
   "attachments": {},
   "cell_type": "markdown",
   "id": "2f4992bc-8751-4f53-8638-e2254fec8eb3",
   "metadata": {},
   "source": [
    "Of course, just training the model on two sentences is not going to yield very good results. To get better results, you will need to prepare a bigger dataset.\n",
    "\n",
    "In this section we will use as an example the MRPC (Microsoft Research Paraphrase Corpus) dataset, introduced in a paper by William B. Dolan and Chris Brockett. The dataset consists of 5,801 pairs of sentences, with a label indicating if they are paraphrases or not (i.e., if both sentences mean the same thing). We’ve selected it for this chapter because it’s a small dataset, so it’s easy to experiment with training on it."
   ]
  },
  {
   "attachments": {},
   "cell_type": "markdown",
   "id": "10e9f6f5-20b0-4eb9-9ebb-c24c59e384fa",
   "metadata": {},
   "source": [
    "#### Loading a dataset from the Hub"
   ]
  },
  {
   "attachments": {},
   "cell_type": "markdown",
   "id": "1a9bbed8-7ef8-44dd-8253-a5cf087f8d8a",
   "metadata": {},
   "source": [
    "The Hub doesn’t just contain models; it also has multiple datasets in lots of different languages. You can browse the datasets [here](https://huggingface.co/datasets), and we recommend you try to load and process a new dataset once you have gone through this section (see the general documentation here). But for now, let’s focus on the MRPC dataset! This is one of the 10 datasets composing the GLUE benchmark, which is an academic benchmark that is used to measure the performance of ML models across 10 different text classification tasks."
   ]
  },
  {
   "attachments": {},
   "cell_type": "markdown",
   "id": "0d911619-907d-4535-97d5-f87220838e29",
   "metadata": {},
   "source": [
    "The 🤗 Datasets library provides a very simple command to download and cache a dataset on the Hub. We can download the MRPC dataset like this:"
   ]
  },
  {
   "cell_type": "code",
   "execution_count": null,
   "id": "9c8d3620-f1f6-4fc8-b777-f76f3be53f4e",
   "metadata": {},
   "outputs": [],
   "source": [
    "from pprint import pprint\n",
    "from datasets import load_dataset\n",
    "\n",
    "raw_datasets = load_dataset(\"glue\", \"mrpc\")\n",
    "raw_datasets"
   ]
  },
  {
   "cell_type": "code",
   "execution_count": null,
   "id": "9e625017-d23a-43d7-a181-a1c3f4587e16",
   "metadata": {},
   "outputs": [],
   "source": [
    "pprint(vars(raw_datasets))"
   ]
  },
  {
   "attachments": {},
   "cell_type": "markdown",
   "id": "ed3f1d04-7978-4c5b-b1c1-9309596dcc90",
   "metadata": {},
   "source": [
    "As you can see, we get a DatasetDict object which contains the training set, the validation set, and the test set. Each of those contains several columns (sentence1, sentence2, label, and idx) and a variable number of rows, which are the number of elements in each set (so, there are 3,668 pairs of sentences in the training set, 408 in the validation set, and 1,725 in the test set).\n",
    "\n",
    "This command downloads and caches the dataset, by default in ~/.cache/huggingface/datasets. Recall from Chapter 2 that you can customize your cache folder by setting the HF_HOME environment variable.\n",
    "\n",
    "We can access each pair of sentences in our raw_datasets object by indexing, like with a dictionary:"
   ]
  },
  {
   "cell_type": "code",
   "execution_count": null,
   "id": "761cc34f-058d-4540-b81a-ddce408fd134",
   "metadata": {},
   "outputs": [],
   "source": [
    "raw_train_dataset = raw_datasets[\"train\"]\n",
    "raw_train_dataset[0]"
   ]
  },
  {
   "cell_type": "code",
   "execution_count": null,
   "id": "4394722c-d6d9-4ee5-99ae-d8f042f16860",
   "metadata": {},
   "outputs": [],
   "source": [
    "pprint(vars(raw_train_dataset))"
   ]
  },
  {
   "cell_type": "code",
   "execution_count": null,
   "id": "794a02cd-638f-4613-872f-5ffc21e9a089",
   "metadata": {},
   "outputs": [],
   "source": [
    "raw_train_dataset.features"
   ]
  },
  {
   "attachments": {},
   "cell_type": "markdown",
   "id": "790152ed-8d27-48b8-9375-c53d4d773a0a",
   "metadata": {},
   "source": [
    "Behind the scenes, label is of type ClassLabel, and the mapping of integers to label name is stored in the names folder. 0 corresponds to not_equivalent, and 1 corresponds to equivalent."
   ]
  },
  {
   "cell_type": "code",
   "execution_count": null,
   "id": "6c2952d2-db16-415d-9e61-ff6cc9d5b739",
   "metadata": {},
   "outputs": [],
   "source": [
    "raw_train_dataset[14]"
   ]
  },
  {
   "attachments": {},
   "cell_type": "markdown",
   "id": "960f47e3-d69a-47f6-8bd4-ca498d3ac5d4",
   "metadata": {},
   "source": [
    "#### Preprocessing a dataset"
   ]
  },
  {
   "attachments": {},
   "cell_type": "markdown",
   "id": "9bc45d13-d4d6-4e78-9a6f-1024d10c9249",
   "metadata": {},
   "source": [
    "To preprocess the dataset, we need to convert the text to numbers the model can make sense of. As you saw in the previous chapter, this is done with a tokenizer. We can feed the tokenizer one sentence or a list of sentences, so we can directly tokenize all the first sentences and all the second sentences of each pair like this:"
   ]
  },
  {
   "cell_type": "code",
   "execution_count": null,
   "id": "6f4afcdd-1a0b-4aed-a216-42461babf955",
   "metadata": {},
   "outputs": [],
   "source": [
    "from transformers import AutoTokenizer\n",
    "\n",
    "checkpoint = \"bert-base-uncased\"\n",
    "tokenizer = AutoTokenizer.from_pretrained(checkpoint)\n",
    "tokenized_sentences_1 = tokenizer(raw_datasets[\"train\"][\"sentence1\"])\n",
    "tokenized_sentences_2 = tokenizer(raw_datasets[\"train\"][\"sentence2\"])"
   ]
  },
  {
   "attachments": {},
   "cell_type": "markdown",
   "id": "107dbc3f-fd6d-4321-98ed-c8b11bb068a0",
   "metadata": {},
   "source": [
    "However, we can’t just pass two sequences to the model and get a prediction of whether the two sentences are paraphrases or not. We need to handle the two sequences as a pair, and apply the appropriate preprocessing. Fortunately, the tokenizer can also take a pair of sequences and prepare it the way our BERT model expects:"
   ]
  },
  {
   "cell_type": "code",
   "execution_count": null,
   "id": "6b19aef7-541d-4ce9-93d9-eb0a7e323e56",
   "metadata": {},
   "outputs": [],
   "source": [
    "inputs = tokenizer(\"This is the first sentence.\", \"This is the second one.\")\n",
    "inputs"
   ]
  },
  {
   "attachments": {},
   "cell_type": "markdown",
   "id": "85dff034-1c4e-432e-b76d-8aa4edba4a0c",
   "metadata": {},
   "source": [
    "We discussed the input_ids and attention_mask keys in Chapter 2, but we put off talking about token_type_ids. In this example, this is what tells the model which part of the input is the first sentence and which is the second sentence."
   ]
  },
  {
   "cell_type": "code",
   "execution_count": null,
   "id": "ecbd2495-2409-4358-b014-9c422f0c0a31",
   "metadata": {},
   "outputs": [],
   "source": [
    "example_15 = raw_train_dataset[14]\n",
    "sentence_1 = example_15[\"sentence1\"]\n",
    "sentence_2 = example_15[\"sentence2\"]\n",
    "\n",
    "tokenized_sentence_1 = tokenizer(sentence_1)\n",
    "tokenized_sentence_2 = tokenizer(sentence_2)\n",
    "\n",
    "print(f\"tokenized sentence 1: {tokenized_sentence_1}\\n\")\n",
    "print(f\"tokenized sentence 2: {tokenized_sentence_2}\\n\")\n",
    "\n",
    "combined_tokenized = tokenizer(sentence_1, sentence_2)\n",
    "print(f\"combined tokenized sentences: {combined_tokenized}\\n\")"
   ]
  },
  {
   "cell_type": "code",
   "execution_count": null,
   "id": "4614ec75-8192-4ce1-a2e0-0ed04542289e",
   "metadata": {},
   "outputs": [],
   "source": [
    "tokenized_sentence_1"
   ]
  },
  {
   "cell_type": "code",
   "execution_count": null,
   "id": "612f3452-cd43-49f0-aba2-c9d5534b0327",
   "metadata": {},
   "outputs": [],
   "source": [
    "print(tokenizer.convert_ids_to_tokens(tokenized_sentence_1[\"input_ids\"]))\n",
    "print(tokenizer.convert_ids_to_tokens(tokenized_sentence_2[\"input_ids\"]))\n",
    "print(tokenizer.convert_ids_to_tokens(combined_tokenized[\"input_ids\"]))"
   ]
  },
  {
   "cell_type": "code",
   "execution_count": null,
   "id": "f50e6a3b-55ba-4359-8c1e-d3be25a9fa38",
   "metadata": {},
   "outputs": [],
   "source": [
    "tokenizer.convert_ids_to_tokens(inputs[\"input_ids\"])"
   ]
  },
  {
   "attachments": {},
   "cell_type": "markdown",
   "id": "6e47f932-e045-4d56-b743-bf196717c71b",
   "metadata": {},
   "source": [
    "As you can see, the parts of the input corresponding to [CLS] sentence1 [SEP] all have a token type ID of 0, while the other parts, corresponding to sentence2 [SEP], all have a token type ID of 1.\n",
    "\n",
    "Note that if you select a different checkpoint, you won’t necessarily have the token_type_ids in your tokenized inputs (for instance, they’re not returned if you use a DistilBERT model). They are only returned when the model will know what to do with them, because it has seen them during its pretraining.\n",
    "\n",
    "Here, BERT is pretrained with token type IDs, and on top of the masked language modeling objective we talked about in Chapter 1, it has an additional objective called next sentence prediction. The goal with this task is to model the relationship between pairs of sentences.\n",
    "\n",
    "With next sentence prediction, the model is provided pairs of sentences (with randomly masked tokens) and asked to predict whether the second sentence follows the first. To make the task non-trivial, half of the time the sentences follow each other in the original document they were extracted from, and the other half of the time the two sentences come from two different documents.\n",
    "\n",
    "In general, you don’t need to worry about whether or not there are token_type_ids in your tokenized inputs: as long as you use the same checkpoint for the tokenizer and the model, everything will be fine as the tokenizer knows what to provide to its model.\n",
    "\n",
    "Now that we have seen how our tokenizer can deal with one pair of sentences, we can use it to tokenize our whole dataset: like in the previous chapter, we can feed the tokenizer a list of pairs of sentences by giving it the list of first sentences, then the list of second sentences. This is also compatible with the padding and truncation options we saw in Chapter 2. So, one way to preprocess the training dataset is:"
   ]
  },
  {
   "cell_type": "code",
   "execution_count": null,
   "id": "44aa4afd-9595-46dd-b2b7-ccd754f2adf6",
   "metadata": {},
   "outputs": [],
   "source": [
    "tokenized_dataset = tokenizer(\n",
    "    raw_datasets[\"train\"][\"sentence1\"],\n",
    "    raw_datasets[\"train\"][\"sentence2\"],\n",
    "    padding=True,\n",
    "    truncation=True,\n",
    ")"
   ]
  },
  {
   "attachments": {},
   "cell_type": "markdown",
   "id": "cbaa2db6-3cc8-466e-8907-9795ccb07360",
   "metadata": {},
   "source": [
    "This works well, but it has the disadvantage of returning a dictionary (with our keys, input_ids, attention_mask, and token_type_ids, and values that are lists of lists). It will also only work if you have enough RAM to store your whole dataset during the tokenization (whereas the datasets from the 🤗 Datasets library are Apache Arrow files stored on the disk, so you only keep the samples you ask for loaded in memory).\n",
    "\n",
    "To keep the data as a dataset, we will use the Dataset.map() method. This also allows us some extra flexibility, if we need more preprocessing done than just tokenization. The map() method works by applying a function on each element of the dataset, so let’s define a function that tokenizes our inputs:"
   ]
  },
  {
   "cell_type": "code",
   "execution_count": null,
   "id": "48fe0839-6735-4759-88fc-c3236cbdbb49",
   "metadata": {},
   "outputs": [],
   "source": [
    "def tokenize_function(example):\n",
    "    return tokenizer(example[\"sentence1\"], example[\"sentence2\"], truncation=True)"
   ]
  },
  {
   "attachments": {},
   "cell_type": "markdown",
   "id": "954a000c-e6f4-4c12-889d-c204253b82ab",
   "metadata": {},
   "source": [
    "This function takes a dictionary (like the items of our dataset) and returns a new dictionary with the keys input_ids, attention_mask, and token_type_ids. Note that it also works if the example dictionary contains several samples (each key as a list of sentences) since the tokenizer works on lists of pairs of sentences, as seen before. This will allow us to use the option batched=True in our call to map(), which will greatly speed up the tokenization. The tokenizer is backed by a tokenizer written in Rust from the 🤗 Tokenizers library. This tokenizer can be very fast, but only if we give it lots of inputs at once.\n",
    "\n",
    "Note that we’ve left the padding argument out in our tokenization function for now. This is because padding all the samples to the maximum length is not efficient: it’s better to pad the samples when we’re building a batch, as then we only need to pad to the maximum length in that batch, and not the maximum length in the entire dataset. This can save a lot of time and processing power when the inputs have very variable lengths!\n",
    "\n",
    "Here is how we apply the tokenization function on all our datasets at once. We’re using batched=True in our call to map so the function is applied to multiple elements of our dataset at once, and not on each element separately. This allows for faster preprocessing."
   ]
  },
  {
   "cell_type": "code",
   "execution_count": null,
   "id": "35e4069b-b7ee-4a21-aa20-e588e3718259",
   "metadata": {},
   "outputs": [],
   "source": [
    "tokenized_datasets = raw_datasets.map(tokenize_function, batched=True)\n",
    "tokenized_datasets"
   ]
  },
  {
   "attachments": {},
   "cell_type": "markdown",
   "id": "77e331fd-7843-4be4-8607-216c2d11ed25",
   "metadata": {},
   "source": [
    "The way the 🤗 Datasets library applies this processing is by adding new fields to the datasets, one for each key in the dictionary returned by the preprocessing function:"
   ]
  },
  {
   "attachments": {},
   "cell_type": "markdown",
   "id": "d8810322-2347-4a61-989f-509ab022c56a",
   "metadata": {},
   "source": [
    "You can even use multiprocessing when applying your preprocessing function with map() by passing along a num_proc argument. We didn’t do this here because the 🤗 Tokenizers library already uses multiple threads to tokenize our samples faster, but if you are not using a fast tokenizer backed by this library, this could speed up your preprocessing.\n",
    "\n",
    "Our tokenize_function returns a dictionary with the keys input_ids, attention_mask, and token_type_ids, so those three fields are added to all splits of our dataset. Note that we could also have changed existing fields if our preprocessing function returned a new value for an existing key in the dataset to which we applied map().\n",
    "\n",
    "The last thing we will need to do is pad all the examples to the length of the longest element when we batch elements together — a technique we refer to as dynamic padding."
   ]
  },
  {
   "attachments": {},
   "cell_type": "markdown",
   "id": "cdab2f6e-b061-4f48-86ea-592874a92650",
   "metadata": {},
   "source": [
    "##### Test adding custom column"
   ]
  },
  {
   "attachments": {},
   "cell_type": "markdown",
   "id": "ae1a8215-84fe-4c5a-b71c-0271bf15fa23",
   "metadata": {},
   "source": [
    "Below does now work. Why it's not working will be explained in chapter 5 of the course ([The 🤗 Datasets library - Hugging Face Course](https://huggingface.co/learn/nlp-course/chapter5/3?fw=pt#the-%3Ccode%3Emap()%3C/code%3E-method%E2%80%99s-superpowers)"
   ]
  },
  {
   "cell_type": "code",
   "execution_count": null,
   "id": "08cdeb47-d95d-4660-b292-cd0dfa3ce102",
   "metadata": {},
   "outputs": [],
   "source": [
    "def tokenize_function_test(example):\n",
    "    val = tokenizer(example[\"sentence1\"], example[\"sentence2\"], truncation=True)\n",
    "    val[\"testtest\"] = [3]\n",
    "    return val"
   ]
  },
  {
   "cell_type": "code",
   "execution_count": null,
   "id": "8f861890-2d64-4f9e-8ab9-ed522a331a89",
   "metadata": {},
   "outputs": [],
   "source": [
    "# tokenized_datasets_test = raw_datasets.map(tokenize_function_test, batched=True)\n",
    "# tokenized_datasets_test"
   ]
  },
  {
   "attachments": {},
   "cell_type": "markdown",
   "id": "41fb3e86-bbaa-4765-85b9-37717e648a71",
   "metadata": {},
   "source": [
    "#### Dynamic padding"
   ]
  },
  {
   "attachments": {},
   "cell_type": "markdown",
   "id": "c3396490-50da-4cb7-a876-0ebd45b20d2e",
   "metadata": {},
   "source": [
    "The function that is responsible for putting together samples inside a batch is called a collate function. It’s an argument you can pass when you build a DataLoader, the default being a function that will just convert your samples to PyTorch tensors and concatenate them (recursively if your elements are lists, tuples, or dictionaries). This won’t be possible in our case since the inputs we have won’t all be of the same size. We have deliberately postponed the padding, to only apply it as necessary on each batch and avoid having over-long inputs with a lot of padding. This will speed up training by quite a bit, but note that if you’re training on a TPU it can cause problems — TPUs prefer fixed shapes, even when that requires extra padding.\n",
    "\n",
    "To do this in practice, we have to define a collate function that will apply the correct amount of padding to the items of the dataset we want to batch together. Fortunately, the 🤗 Transformers library provides us with such a function via DataCollatorWithPadding. It takes a tokenizer when you instantiate it (to know which padding token to use, and whether the model expects padding to be on the left or on the right of the inputs) and will do everything you need:"
   ]
  },
  {
   "cell_type": "code",
   "execution_count": null,
   "id": "1a0a06fc-d6a1-4c81-9ed4-af464cebb7b4",
   "metadata": {},
   "outputs": [],
   "source": [
    "from transformers import DataCollatorWithPadding\n",
    "\n",
    "data_collator = DataCollatorWithPadding(tokenizer=tokenizer)"
   ]
  },
  {
   "attachments": {},
   "cell_type": "markdown",
   "id": "dab73f9d-8187-43e6-9af6-d60d72a607f9",
   "metadata": {},
   "source": [
    "To test this new toy, let’s grab a few samples from our training set that we would like to batch together. Here, we remove the columns idx, sentence1, and sentence2 as they won’t be needed and contain strings (and we can’t create tensors with strings) and have a look at the lengths of each entry in the batch:"
   ]
  },
  {
   "cell_type": "code",
   "execution_count": null,
   "id": "0f1b1999-1ef3-48c4-a935-1739207e6418",
   "metadata": {},
   "outputs": [],
   "source": [
    "samples = tokenized_datasets[\"train\"][:8]\n",
    "samples = {k: v for k, v in samples.items() if k not in [\"idx\", \"sentence1\", \"sentence2\"]}\n",
    "[len(x) for x in samples[\"input_ids\"]]"
   ]
  },
  {
   "attachments": {},
   "cell_type": "markdown",
   "id": "342b33e8-a5dd-480d-88ef-e76876515f3a",
   "metadata": {},
   "source": [
    "No surprise, we get samples of varying length, from 32 to 67. Dynamic padding means the samples in this batch should all be padded to a length of 67, the maximum length inside the batch. Without dynamic padding, all of the samples would have to be padded to the maximum length in the whole dataset, or the maximum length the model can accept. Let’s double-check that our data_collator is dynamically padding the batch properly:"
   ]
  },
  {
   "cell_type": "code",
   "execution_count": null,
   "id": "e68274b1-49a8-4bbc-8ca9-381253d6da8a",
   "metadata": {},
   "outputs": [],
   "source": [
    "batch = data_collator(samples)\n",
    "{k: v.shape for k, v in batch.items()}"
   ]
  },
  {
   "attachments": {},
   "cell_type": "markdown",
   "id": "b7beb3e6-edcf-467f-ac01-3a2bb7a75942",
   "metadata": {},
   "source": [
    "Looking good! Now that we’ve gone from raw text to batches our model can deal with, we’re ready to fine-tune it!"
   ]
  },
  {
   "attachments": {},
   "cell_type": "markdown",
   "id": "1a741d56-c103-449d-a3bf-5a8c25515fa8",
   "metadata": {},
   "source": [
    "### Fine-tuning a model with the Trainer API"
   ]
  },
  {
   "attachments": {},
   "cell_type": "markdown",
   "id": "5776c305-a6d4-4f7a-a551-3671c7e0f2d2",
   "metadata": {},
   "source": [
    "🤗 Transformers provides a Trainer class to help you fine-tune any of the pretrained models it provides on your dataset. Once you’ve done all the data preprocessing work in the last section, you have just a few steps left to define the Trainer. The hardest part is likely to be preparing the environment to run Trainer.train(), as it will run very slowly on a CPU. If you don’t have a GPU set up, you can get access to free GPUs or TPUs on Google Colab.\n",
    "\n",
    "The code examples below assume you have already executed the examples in the previous section. Here is a short summary recapping what you need:"
   ]
  },
  {
   "cell_type": "code",
   "execution_count": null,
   "id": "1d4b6160-c9b8-4f28-a17d-87d123e8c405",
   "metadata": {},
   "outputs": [],
   "source": [
    "from datasets import load_dataset\n",
    "from transformers import AutoTokenizer, DataCollatorWithPadding\n",
    "\n",
    "raw_datasets = load_dataset(\"glue\", \"mrpc\")\n",
    "checkpoint = \"bert-base-uncased\"\n",
    "tokenizer = AutoTokenizer.from_pretrained(checkpoint)\n",
    "\n",
    "\n",
    "def tokenize_function(example):\n",
    "    return tokenizer(example[\"sentence1\"], example[\"sentence2\"], truncation=True)\n",
    "\n",
    "\n",
    "tokenized_datasets = raw_datasets.map(tokenize_function, batched=True)\n",
    "data_collator = DataCollatorWithPadding(tokenizer=tokenizer)"
   ]
  },
  {
   "cell_type": "code",
   "execution_count": null,
   "id": "4089d9a6-30e8-42a1-8f29-7fc37095ced6",
   "metadata": {},
   "outputs": [],
   "source": [
    "raw_datasets"
   ]
  },
  {
   "cell_type": "code",
   "execution_count": null,
   "id": "3f17b69c-d3de-485d-bfce-accb913f3313",
   "metadata": {},
   "outputs": [],
   "source": [
    "tokenized_datasets"
   ]
  },
  {
   "attachments": {},
   "cell_type": "markdown",
   "id": "8bb4afc9-732b-4f90-9fd3-f2bf8e1567c4",
   "metadata": {},
   "source": [
    "#### Training"
   ]
  },
  {
   "attachments": {},
   "cell_type": "markdown",
   "id": "737afac8-836c-4187-a478-620bac381ce0",
   "metadata": {},
   "source": [
    "The first step before we can define our Trainer is to define a TrainingArguments class that will contain all the hyperparameters the Trainer will use for training and evaluation. The only argument you have to provide is a directory where the trained model will be saved, as well as the checkpoints along the way. For all the rest, you can leave the defaults, which should work pretty well for a basic fine-tuning."
   ]
  },
  {
   "cell_type": "code",
   "execution_count": null,
   "id": "c4cf7700-fbff-4f32-8ca1-82710e69f372",
   "metadata": {},
   "outputs": [],
   "source": [
    "from transformers import TrainingArguments\n",
    "\n",
    "training_args = TrainingArguments(\"test-trainer\")"
   ]
  },
  {
   "cell_type": "code",
   "execution_count": null,
   "id": "460c71d0-a165-47cb-8600-d719a2b9797c",
   "metadata": {},
   "outputs": [],
   "source": [
    "vars(training_args)"
   ]
  },
  {
   "cell_type": "code",
   "execution_count": null,
   "id": "563744b9-9724-4301-a7a7-1a190aa1c0bc",
   "metadata": {},
   "outputs": [],
   "source": [
    "from transformers import AutoModelForSequenceClassification\n",
    "\n",
    "model = AutoModelForSequenceClassification.from_pretrained(checkpoint, num_labels=2)"
   ]
  },
  {
   "attachments": {},
   "cell_type": "markdown",
   "id": "d53eeea6-f3fd-48c7-999d-ade2e2f9fe3e",
   "metadata": {},
   "source": [
    "You will notice that unlike in Chapter 2, you get a warning after instantiating this pretrained model. This is because BERT has not been pretrained on classifying pairs of sentences, so the head of the pretrained model has been discarded and a new head suitable for sequence classification has been added instead. The warnings indicate that some weights were not used (the ones corresponding to the dropped pretraining head) and that some others were randomly initialized (the ones for the new head). It concludes by encouraging you to train the model, which is exactly what we are going to do now."
   ]
  },
  {
   "attachments": {},
   "cell_type": "markdown",
   "id": "1139ae0b-5ca8-4003-b5f7-2265930621f6",
   "metadata": {},
   "source": [
    "Once we have our model, we can define a Trainer by passing it all the objects constructed up to now — the model, the training_args, the training and validation datasets, our data_collator, and our tokenizer:"
   ]
  },
  {
   "cell_type": "code",
   "execution_count": null,
   "id": "fc708fb9-3155-4825-ab46-b0d8a3db8858",
   "metadata": {},
   "outputs": [],
   "source": [
    "from transformers import Trainer\n",
    "\n",
    "trainer = Trainer(\n",
    "    model,\n",
    "    training_args,\n",
    "    train_dataset=tokenized_datasets[\"train\"],\n",
    "    eval_dataset=tokenized_datasets[\"validation\"],\n",
    "    data_collator=data_collator,\n",
    "    tokenizer=tokenizer,\n",
    ")"
   ]
  },
  {
   "cell_type": "code",
   "execution_count": null,
   "id": "9c4a7ade-5b64-4e0b-82da-ceb92d24c7a5",
   "metadata": {},
   "outputs": [],
   "source": [
    "vars(trainer)"
   ]
  },
  {
   "attachments": {},
   "cell_type": "markdown",
   "id": "402de2c9-ab7d-4311-b6e4-224e368d4059",
   "metadata": {},
   "source": [
    "Note that when you pass the tokenizer as we did here, the default data_collator used by the Trainer will be a DataCollatorWithPadding as defined previously, so you can skip the line data_collator=data_collator in this call. It was still important to show you this part of the processing in section 2!"
   ]
  },
  {
   "attachments": {},
   "cell_type": "markdown",
   "id": "ac431512-10af-4e54-b9c6-4e1d87331789",
   "metadata": {},
   "source": [
    "To fine-tune the model on our dataset, we just have to call the train() method of our Trainer:\n",
    "**However, this takes too long time!**"
   ]
  },
  {
   "cell_type": "code",
   "execution_count": null,
   "id": "ac4ed1b9-7618-4a8c-8de9-7b924bef101c",
   "metadata": {},
   "outputs": [],
   "source": [
    "# trainer.train()"
   ]
  },
  {
   "attachments": {},
   "cell_type": "markdown",
   "id": "6d02294d-2421-4a44-877d-f39b699d29c8",
   "metadata": {},
   "source": [
    "This will start the fine-tuning (which should take a couple of minutes on a GPU) and report the training loss every 500 steps. It won’t, however, tell you how well (or badly) your model is performing. This is because:\n",
    "\n",
    "1. We didn’t tell the Trainer to evaluate during training by setting evaluation_strategy to either \"steps\" (evaluate every eval_steps) or \"epoch\" (evaluate at the end of each epoch).\n",
    "2. We didn’t provide the Trainer with a compute_metrics() function to calculate a metric during said evaluation (otherwise the evaluation would just have printed the loss, which is not a very intuitive number).r)."
   ]
  },
  {
   "attachments": {},
   "cell_type": "markdown",
   "id": "aa57547b-4505-42e3-86b6-e46e61677b53",
   "metadata": {},
   "source": [
    "#### Evaluation"
   ]
  },
  {
   "attachments": {},
   "cell_type": "markdown",
   "id": "e3e80276-d883-4c2d-b713-4cb018f780ec",
   "metadata": {},
   "source": [
    "Let’s see how we can build a useful compute_metrics() function and use it the next time we train. The function must take an EvalPrediction object (which is a named tuple with a predictions field and a label_ids field) and will return a dictionary mapping strings to floats (the strings being the names of the metrics returned, and the floats their values). To get some predictions from our model, we can use the Trainer.predict() command:"
   ]
  },
  {
   "cell_type": "code",
   "execution_count": null,
   "id": "2763ffd0-e45d-483f-b336-8e54b6b71dcc",
   "metadata": {},
   "outputs": [],
   "source": [
    "predictions = trainer.predict(tokenized_datasets[\"validation\"])\n",
    "print(predictions.predictions.shape, predictions.label_ids.shape)"
   ]
  },
  {
   "attachments": {},
   "cell_type": "markdown",
   "id": "ed558a34-76a5-4808-a7f0-a659ac7c38ef",
   "metadata": {},
   "source": [
    "The output of the predict() method is another named tuple with three fields: predictions, label_ids, and metrics. The metrics field will just contain the loss on the dataset passed, as well as some time metrics (how long it took to predict, in total and on average). Once we complete our compute_metrics() function and pass it to the Trainer, that field will also contain the metrics returned by compute_metrics()."
   ]
  },
  {
   "attachments": {},
   "cell_type": "markdown",
   "id": "62748667-6ddf-462f-9223-da3dc4d9fa32",
   "metadata": {},
   "source": [
    "As you can see, predictions is a two-dimensional array with shape 408 x 2 (408 being the number of elements in the dataset we used). Those are the logits for each element of the dataset we passed to predict() (as you saw in the previous chapter, all Transformer models return logits). To transform them into predictions that we can compare to our labels, we need to take the index with the maximum value on the second axis:"
   ]
  },
  {
   "cell_type": "code",
   "execution_count": null,
   "id": "b213550f-611f-41b0-bd89-1ca40992c547",
   "metadata": {},
   "outputs": [],
   "source": [
    "import numpy as np\n",
    "\n",
    "preds = np.argmax(predictions.predictions, axis=-1)"
   ]
  },
  {
   "attachments": {},
   "cell_type": "markdown",
   "id": "2f4bec28-3564-49b2-a8d0-c0017c0f1d3f",
   "metadata": {},
   "source": [
    "We can now compare those preds to the labels. To build our compute_metric() function, we will rely on the metrics from the 🤗 Evaluate library. We can load the metrics associated with the MRPC dataset as easily as we loaded the dataset, this time with the evaluate.load() function. The object returned has a compute() method we can use to do the metric calculation:"
   ]
  },
  {
   "cell_type": "code",
   "execution_count": null,
   "id": "2d8d2f33-b635-44e9-8f64-338d90c00957",
   "metadata": {},
   "outputs": [],
   "source": [
    "import evaluate\n",
    "\n",
    "metric = evaluate.load(\"glue\", \"mrpc\")\n",
    "metric.compute(predictions=preds, references=predictions.label_ids)"
   ]
  },
  {
   "attachments": {},
   "cell_type": "markdown",
   "id": "f0f3c4bd-c77d-4089-9346-2272b0fbbd89",
   "metadata": {},
   "source": [
    "The exact results you get may vary, as the random initialization of the model head might change the metrics it achieved. Here, we can see our model has an accuracy of 85.78% on the validation set and an F1 score of 89.97. Those are the two metrics used to evaluate results on the MRPC dataset for the GLUE benchmark. The table in the BERT paper reported an F1 score of 88.9 for the base model. That was the uncased model while we are currently using the cased model, which explains the better result."
   ]
  },
  {
   "attachments": {},
   "cell_type": "markdown",
   "id": "45b86994-576b-46ed-a175-e031e59d82e1",
   "metadata": {},
   "source": [
    "Wrapping everything together, we get our compute_metrics() function:"
   ]
  },
  {
   "cell_type": "code",
   "execution_count": null,
   "id": "6828ca37-9301-4161-a6c6-c7ea20b6376d",
   "metadata": {},
   "outputs": [],
   "source": [
    "def compute_metrics(eval_preds):\n",
    "    metric = evaluate.load(\"glue\", \"mrpc\")\n",
    "    logits, labels = eval_preds\n",
    "    predictions = np.argmax(logits, axis=-1)\n",
    "    return metric.compute(predictions=predictions, references=labels)"
   ]
  },
  {
   "attachments": {},
   "cell_type": "markdown",
   "id": "4a423b72-82f2-4e87-9a18-274a3cf87d40",
   "metadata": {},
   "source": [
    "And to see it used in action to report metrics at the end of each epoch, here is how we define a new Trainer with this compute_metrics() function:"
   ]
  },
  {
   "cell_type": "code",
   "execution_count": null,
   "id": "f009ec82-1a61-47f0-b3e5-61905b62ab8e",
   "metadata": {},
   "outputs": [],
   "source": [
    "training_args = TrainingArguments(\"test-trainer\", evaluation_strategy=\"epoch\")\n",
    "model = AutoModelForSequenceClassification.from_pretrained(checkpoint, num_labels=2)\n",
    "\n",
    "trainer = Trainer(\n",
    "    model,\n",
    "    training_args,\n",
    "    train_dataset=tokenized_datasets[\"train\"],\n",
    "    eval_dataset=tokenized_datasets[\"validation\"],\n",
    "    data_collator=data_collator,\n",
    "    tokenizer=tokenizer,\n",
    "    compute_metrics=compute_metrics,\n",
    ")"
   ]
  },
  {
   "attachments": {},
   "cell_type": "markdown",
   "id": "4316dbcb-84c8-4252-9b49-ee861d0dd56e",
   "metadata": {},
   "source": [
    "Note that we create a new TrainingArguments with its evaluation_strategy set to \"epoch\" and a new model — otherwise, we would just be continuing the training of the model we have already trained. To launch a new training run, we execute:"
   ]
  },
  {
   "cell_type": "code",
   "execution_count": null,
   "id": "3b3ecbff-1570-45c4-8bf1-f6e8f7b45b23",
   "metadata": {},
   "outputs": [],
   "source": [
    "trainer.train()"
   ]
  },
  {
   "attachments": {},
   "cell_type": "markdown",
   "id": "9d28099c-81b6-4adb-ab3a-397f4bd8948a",
   "metadata": {},
   "source": [
    "This time, it will report the validation loss and metrics at the end of each epoch on top of the training loss. Again, the exact accuracy/F1 score you reach might be a bit different from what we found, because of the random head initialization of the model, but it should be in the same ballpark."
   ]
  },
  {
   "attachments": {},
   "cell_type": "markdown",
   "id": "1f8217c5-5d89-4307-bf12-ae52382ddb4d",
   "metadata": {},
   "source": [
    "The Trainer will work out of the box on multiple GPUs or TPUs and provides lots of options, like mixed-precision training (use fp16 = True in your training arguments). We will go over everything it supports in Chapter 10."
   ]
  },
  {
   "attachments": {},
   "cell_type": "markdown",
   "id": "a7bfb8ce-e40f-4819-b035-7e7fc88b05b4",
   "metadata": {},
   "source": [
    "This concludes the introduction to fine-tuning using the Trainer API. An example of doing this for most common NLP tasks will be given in Chapter 7, but for now let’s look at how to do the same thing in pure PyTorch."
   ]
  },
  {
   "attachments": {},
   "cell_type": "markdown",
   "id": "1b2c9f98-8632-45e0-82d0-a110937b1910",
   "metadata": {},
   "source": [
    "### A full training"
   ]
  },
  {
   "attachments": {},
   "cell_type": "markdown",
   "id": "ee2dd657-79d6-4c4c-b240-807cc8070a6a",
   "metadata": {},
   "source": [
    "Now we’ll see how to achieve the same results as we did in the last section without using the Trainer class. Again, we assume you have done the data processing in section 2. Here is a short summary covering everything you will need:"
   ]
  },
  {
   "cell_type": "code",
   "execution_count": null,
   "id": "5dd170f8-9059-4611-b291-bcbd9a72329f",
   "metadata": {},
   "outputs": [],
   "source": [
    "from datasets import load_dataset\n",
    "from transformers import AutoTokenizer, DataCollatorWithPadding\n",
    "\n",
    "raw_datasets = load_dataset(\"glue\", \"mrpc\")\n",
    "checkpoint = \"bert-base-uncased\"\n",
    "tokenizer = AutoTokenizer.from_pretrained(checkpoint)\n",
    "\n",
    "\n",
    "def tokenize_function(example):\n",
    "    return tokenizer(example[\"sentence1\"], example[\"sentence2\"], truncation=True)\n",
    "\n",
    "\n",
    "tokenized_datasets = raw_datasets.map(tokenize_function, batched=True)\n",
    "data_collator = DataCollatorWithPadding(tokenizer=tokenizer)"
   ]
  },
  {
   "cell_type": "code",
   "execution_count": null,
   "id": "8e2195c2-5a48-4b5e-9e6e-61b3d26f79c2",
   "metadata": {},
   "outputs": [],
   "source": [
    "tokenized_datasets"
   ]
  },
  {
   "attachments": {},
   "cell_type": "markdown",
   "id": "2b2fd189-39f0-47a6-a3de-7364fdfc93ff",
   "metadata": {},
   "source": [
    "#### Prepare for training"
   ]
  },
  {
   "attachments": {},
   "cell_type": "markdown",
   "id": "a3b821fd-e6e9-4457-96fd-7e7fe1fe2e75",
   "metadata": {},
   "source": [
    "Before actually writing our training loop, we will need to define a few objects. The first ones are the dataloaders we will use to iterate over batches. But before we can define those dataloaders, we need to apply a bit of postprocessing to our tokenized_datasets, to take care of some things that the Trainer did for us automatically. Specifically, we need to:"
   ]
  },
  {
   "attachments": {},
   "cell_type": "markdown",
   "id": "7a02f5bb-47f3-4b5f-9e7b-c4f1f0dc26ab",
   "metadata": {},
   "source": [
    "* Remove the columns corresponding to values the model does not expect (like the sentence1 and sentence2 columns).\n",
    "* \n",
    "Rename the column label to labels (because the model expects the argument to be named labels)\n",
    "* \n",
    "Set the format of the datasets so they return PyTorch tensors instead of lists."
   ]
  },
  {
   "attachments": {},
   "cell_type": "markdown",
   "id": "3cf4934a-504c-4ef2-80ba-5498088ad545",
   "metadata": {},
   "source": [
    "Our tokenized_datasets has one method for each of those steps:"
   ]
  },
  {
   "cell_type": "code",
   "execution_count": null,
   "id": "c8f28872-bf22-433c-ab7f-ab2ad09146c6",
   "metadata": {},
   "outputs": [],
   "source": [
    "tokenized_datasets = tokenized_datasets.remove_columns([\"sentence1\", \"sentence2\", \"idx\"])\n",
    "tokenized_datasets = tokenized_datasets.rename_column(\"label\", \"labels\")\n",
    "tokenized_datasets.set_format(\"torch\")\n",
    "tokenized_datasets[\"train\"].column_names"
   ]
  },
  {
   "cell_type": "code",
   "execution_count": null,
   "id": "840d8e87-5844-4306-916e-f6bae9f7ab83",
   "metadata": {},
   "outputs": [],
   "source": [
    "tokenized_datasets"
   ]
  },
  {
   "cell_type": "code",
   "execution_count": null,
   "id": "fe013ce2-e2fe-4789-8c57-925608ffaa56",
   "metadata": {},
   "outputs": [],
   "source": [
    "from torch.utils.data import DataLoader\n",
    "\n",
    "train_dataloader = DataLoader(\n",
    "    tokenized_datasets[\"train\"], shuffle=True, batch_size=8, collate_fn=data_collator\n",
    ")\n",
    "eval_dataloader = DataLoader(\n",
    "    tokenized_datasets[\"validation\"], batch_size=8, collate_fn=data_collator\n",
    ")"
   ]
  },
  {
   "cell_type": "code",
   "execution_count": null,
   "id": "0e30f3d4-cbc7-4ce3-9803-911b13151e48",
   "metadata": {},
   "outputs": [],
   "source": [
    "for batch in train_dataloader:\n",
    "    break\n",
    "{k: v.shape for k, v in batch.items()}"
   ]
  },
  {
   "attachments": {},
   "cell_type": "markdown",
   "id": "286fb38e-9f44-48c7-90a0-f391823f325a",
   "metadata": {},
   "source": [
    "Note that the actual shapes will probably be slightly different for you since we set shuffle=True for the training dataloader and we are padding to the maximum length inside the batch.\n",
    "\n",
    "Now that we’re completely finished with data preprocessing (a satisfying yet elusive goal for any ML practitioner), let’s turn to the model. We instantiate it exactly as we did in the previous section:"
   ]
  },
  {
   "cell_type": "code",
   "execution_count": null,
   "id": "49c5ded1-d80b-4b42-893c-f8e714b59d36",
   "metadata": {},
   "outputs": [],
   "source": [
    "from transformers import AutoModelForSequenceClassification\n",
    "\n",
    "model = AutoModelForSequenceClassification.from_pretrained(checkpoint, num_labels=2)"
   ]
  },
  {
   "cell_type": "code",
   "execution_count": null,
   "id": "fb128cdd-0da3-485d-b321-de95b3060ea8",
   "metadata": {},
   "outputs": [],
   "source": [
    "outputs = model(**batch)\n",
    "print(outputs.loss, outputs.logits.shape)"
   ]
  },
  {
   "attachments": {},
   "cell_type": "markdown",
   "id": "cd59d24b-ae78-404e-8a12-094b55641311",
   "metadata": {},
   "source": [
    "We’re almost ready to write our training loop! We’re just missing two things: an optimizer and a learning rate scheduler. Since we are trying to replicate what the Trainer was doing by hand, we will use the same defaults. The optimizer used by the Trainer is AdamW, which is the same as Adam, but with a twist for weight decay regularization (see “Decoupled Weight Decay Regularization” by Ilya Loshchilov and Frank Hutter):"
   ]
  },
  {
   "cell_type": "code",
   "execution_count": null,
   "id": "cb6bd707-9df7-484a-b370-7b54faa4b897",
   "metadata": {},
   "outputs": [],
   "source": [
    "from transformers import AdamW\n",
    "\n",
    "optimizer = AdamW(model.parameters(), lr=5e-5)"
   ]
  },
  {
   "attachments": {},
   "cell_type": "markdown",
   "id": "c237c7ee-44ad-4514-ab5d-733afd2b681c",
   "metadata": {},
   "source": [
    "Finally, the learning rate scheduler used by default is just a linear decay from the maximum value (5e-5) to 0. To properly define it, we need to know the number of training steps we will take, which is the number of epochs we want to run multiplied by the number of training batches (which is the length of our training dataloader). The Trainer uses three epochs by default, so we will follow that:"
   ]
  },
  {
   "cell_type": "code",
   "execution_count": null,
   "id": "69f1dffa-4006-4915-a183-b5bb1edb0042",
   "metadata": {},
   "outputs": [],
   "source": [
    "from transformers import get_scheduler\n",
    "\n",
    "num_epochs = 3\n",
    "num_training_steps = num_epochs * len(train_dataloader)\n",
    "lr_scheduler = get_scheduler(\n",
    "    \"linear\",\n",
    "    optimizer=optimizer,\n",
    "    num_warmup_steps=0,\n",
    "    num_training_steps=num_training_steps,\n",
    ")\n",
    "print(num_training_steps)"
   ]
  },
  {
   "attachments": {},
   "cell_type": "markdown",
   "id": "50f8de01-7377-4275-a5a7-04ae50eda661",
   "metadata": {},
   "source": [
    "The training loop\n",
    "One last thing: we will want to use the GPU if we have access to one (on a CPU, training might take several hours instead of a couple of minutes). To do this, we define a device we will put our model and our batches on:"
   ]
  },
  {
   "cell_type": "code",
   "execution_count": null,
   "id": "88108b66-a0d9-4cea-8d8f-066f9ae2a4de",
   "metadata": {},
   "outputs": [],
   "source": [
    "import torch\n",
    "\n",
    "device = torch.device(\"cuda\") if torch.cuda.is_available() else torch.device(\"cpu\")\n",
    "model.to(device)\n",
    "device"
   ]
  },
  {
   "attachments": {},
   "cell_type": "markdown",
   "id": "444cf76d-07f0-45fe-a937-a673e14efc63",
   "metadata": {},
   "source": [
    "We are now ready to train! To get some sense of when training will be finished, we add a progress bar over our number of training steps, using the tqdm library:"
   ]
  },
  {
   "cell_type": "code",
   "execution_count": null,
   "id": "5f860d68-4325-4f75-a8ee-614a0c29bee3",
   "metadata": {},
   "outputs": [],
   "source": [
    "from tqdm.auto import tqdm\n",
    "\n",
    "progress_bar = tqdm(range(num_training_steps))\n",
    "\n",
    "model.train()\n",
    "for epoch in range(num_epochs):\n",
    "    for batch in train_dataloader:\n",
    "        batch = {k: v.to(device) for k, v in batch.items()}\n",
    "        outputs = model(**batch)\n",
    "        loss = outputs.loss\n",
    "        loss.backward()\n",
    "\n",
    "        optimizer.step()\n",
    "        lr_scheduler.step()\n",
    "        optimizer.zero_grad()\n",
    "        progress_bar.update(1)"
   ]
  },
  {
   "attachments": {},
   "cell_type": "markdown",
   "id": "78621f81-5a91-468f-81b7-00245df38088",
   "metadata": {},
   "source": [
    "You can see that the core of the training loop looks a lot like the one in the introduction. We didn’t ask for any reporting, so this training loop will not tell us anything about how the model fares. We need to add an evaluation loop for that."
   ]
  },
  {
   "attachments": {},
   "cell_type": "markdown",
   "id": "cc267a8f-3118-4ef7-8a8f-78daa013e8f4",
   "metadata": {},
   "source": [
    "#### The evaluation loop"
   ]
  },
  {
   "attachments": {},
   "cell_type": "markdown",
   "id": "d44cc1b0-463f-4fe1-8510-b9761b06c589",
   "metadata": {},
   "source": [
    "As we did earlier, we will use a metric provided by the 🤗 Evaluate library. We’ve already seen the metric.compute() method, but metrics can actually accumulate batches for us as we go over the prediction loop with the method add_batch(). Once we have accumulated all the batches, we can get the final result with metric.compute(). Here’s how to implement all of this in an evaluation loop:"
   ]
  },
  {
   "cell_type": "code",
   "execution_count": null,
   "id": "a174c60f-e7c8-46fb-9eec-3f54c91da791",
   "metadata": {},
   "outputs": [],
   "source": [
    "import evaluate\n",
    "\n",
    "metric = evaluate.load(\"glue\", \"mrpc\")\n",
    "model.eval()\n",
    "for batch in eval_dataloader:\n",
    "    batch = {k: v.to(device) for k, v in batch.items()}\n",
    "    with torch.no_grad():\n",
    "        outputs = model(**batch)\n",
    "\n",
    "    logits = outputs.logits\n",
    "    predictions = torch.argmax(logits, dim=-1)\n",
    "    metric.add_batch(predictions=predictions, references=batch[\"labels\"])\n",
    "\n",
    "metric.compute()"
   ]
  },
  {
   "attachments": {},
   "cell_type": "markdown",
   "id": "4198ea05-daa4-47f7-973f-67cb5eb78778",
   "metadata": {},
   "source": [
    "Again, your results will be slightly different because of the randomness in the model head initialization and the data shuffling, but they should be in the same ballpark."
   ]
  },
  {
   "attachments": {},
   "cell_type": "markdown",
   "id": "fbdd3813",
   "metadata": {},
   "source": [
    "### Supercharge your training loop with 🤗 Accelerate"
   ]
  },
  {
   "attachments": {},
   "cell_type": "markdown",
   "id": "192c80b1",
   "metadata": {},
   "source": [
    "The training loop we defined earlier works fine on a single CPU or GPU. But using the 🤗 Accelerate library, with just a few adjustments we can enable distributed training on multiple GPUs or TPUs. Starting from the creation of the training and validation dataloaders, here is what our manual training loop looks like:"
   ]
  },
  {
   "cell_type": "code",
   "execution_count": null,
   "id": "bf20382f",
   "metadata": {},
   "outputs": [],
   "source": [
    "from transformers import AdamW, AutoModelForSequenceClassification, get_scheduler\n",
    "\n",
    "model = AutoModelForSequenceClassification.from_pretrained(checkpoint, num_labels=2)\n",
    "optimizer = AdamW(model.parameters(), lr=3e-5)\n",
    "\n",
    "device = torch.device(\"cuda\") if torch.cuda.is_available() else torch.device(\"cpu\")\n",
    "model.to(device)\n",
    "\n",
    "num_epochs = 3\n",
    "num_training_steps = num_epochs * len(train_dataloader)\n",
    "lr_scheduler = get_scheduler(\n",
    "    \"linear\",\n",
    "    optimizer=optimizer,\n",
    "    num_warmup_steps=0,\n",
    "    num_training_steps=num_training_steps,\n",
    ")\n",
    "\n",
    "progress_bar = tqdm(range(num_training_steps))\n",
    "\n",
    "model.train()\n",
    "for epoch in range(num_epochs):\n",
    "    for batch in train_dataloader:\n",
    "        batch = {k: v.to(device) for k, v in batch.items()}\n",
    "        outputs = model(**batch)\n",
    "        loss = outputs.loss\n",
    "        loss.backward()\n",
    "\n",
    "        optimizer.step()\n",
    "        lr_scheduler.step()\n",
    "        optimizer.zero_grad()\n",
    "        progress_bar.update(1)"
   ]
  },
  {
   "attachments": {},
   "cell_type": "markdown",
   "id": "18dabebf",
   "metadata": {},
   "source": [
    "And here are the changes:"
   ]
  },
  {
   "cell_type": "code",
   "execution_count": null,
   "id": "916d7052",
   "metadata": {},
   "outputs": [],
   "source": [
    "from accelerate import Accelerator\n",
    "from transformers import AdamW, AutoModelForSequenceClassification, get_scheduler\n",
    "\n",
    "accelerator = Accelerator()\n",
    "\n",
    "model = AutoModelForSequenceClassification.from_pretrained(checkpoint, num_labels=2)\n",
    "optimizer = AdamW(model.parameters(), lr=3e-5)\n",
    "\n",
    "train_dataloader, eval_dataloader, model, optimizer = accelerator.prepare(\n",
    "    train_dataloader, eval_dataloader, model, optimizer\n",
    ")\n",
    "\n",
    "num_epochs = 3\n",
    "num_training_steps = num_epochs * len(train_dataloader)\n",
    "lr_scheduler = get_scheduler(\n",
    "    \"linear\",\n",
    "    optimizer=optimizer,\n",
    "    num_warmup_steps=0,\n",
    "    num_training_steps=num_training_steps\n",
    ")\n",
    "\n",
    "progress_bar = tqdm(range(num_training_steps))\n",
    "\n",
    "model.train()\n",
    "for epoch in range(num_epochs):\n",
    "    for batch in train_dataloader:\n",
    "        outputs = model(**batch)\n",
    "        loss = outputs.loss\n",
    "        accelerator.backward(loss)\n",
    "\n",
    "        optimizer.step()\n",
    "        lr_scheduler.step()\n",
    "        optimizer.zero_grad()\n",
    "        progress_bar.update(1)"
   ]
  },
  {
   "attachments": {},
   "cell_type": "markdown",
   "id": "f86617b1",
   "metadata": {},
   "source": [
    "The first line to add is the import line. The second line instantiates an Accelerator object that will look at the environment and initialize the proper distributed setup. 🤗 Accelerate handles the device placement for you, so you can remove the lines that put the model on the device (or, if you prefer, change them to use accelerator.device instead of device).\n",
    "\n",
    "Then the main bulk of the work is done in the line that sends the dataloaders, the model, and the optimizer to accelerator.prepare(). This will wrap those objects in the proper container to make sure your distributed training works as intended. The remaining changes to make are removing the line that puts the batch on the device (again, if you want to keep this you can just change it to use accelerator.device) and replacing loss.backward() with accelerator.backward(loss)."
   ]
  },
  {
   "attachments": {},
   "cell_type": "markdown",
   "id": "e9491446",
   "metadata": {},
   "source": [
    "⚠️ In order to benefit from the speed-up offered by Cloud TPUs, we recommend padding your samples to a fixed length with the `padding=\"max_length\"` and `max_length` arguments of the tokenizer."
   ]
  },
  {
   "attachments": {},
   "cell_type": "markdown",
   "id": "acb70897",
   "metadata": {},
   "source": [
    "If you’d like to copy and paste it to play around, here’s what the complete training loop looks like with 🤗 Accelerate:"
   ]
  },
  {
   "cell_type": "code",
   "execution_count": null,
   "id": "058e8757",
   "metadata": {},
   "outputs": [],
   "source": [
    "from accelerate import Accelerator\n",
    "from transformers import AdamW, AutoModelForSequenceClassification, get_scheduler\n",
    "\n",
    "accelerator = Accelerator()\n",
    "\n",
    "model = AutoModelForSequenceClassification.from_pretrained(checkpoint, num_labels=2)\n",
    "optimizer = AdamW(model.parameters(), lr=3e-5)\n",
    "\n",
    "train_dl, eval_dl, model, optimizer = accelerator.prepare(\n",
    "    train_dataloader, eval_dataloader, model, optimizer\n",
    ")\n",
    "\n",
    "num_epochs = 3\n",
    "num_training_steps = num_epochs * len(train_dl)\n",
    "lr_scheduler = get_scheduler(\n",
    "    \"linear\",\n",
    "    optimizer=optimizer,\n",
    "    num_warmup_steps=0,\n",
    "    num_training_steps=num_training_steps,\n",
    ")\n",
    "\n",
    "progress_bar = tqdm(range(num_training_steps))\n",
    "\n",
    "model.train()\n",
    "for epoch in range(num_epochs):\n",
    "    for batch in train_dl:\n",
    "        outputs = model(**batch)\n",
    "        loss = outputs.loss\n",
    "        accelerator.backward(loss)\n",
    "\n",
    "        optimizer.step()\n",
    "        lr_scheduler.step()\n",
    "        optimizer.zero_grad()\n",
    "        progress_bar.update(1)"
   ]
  },
  {
   "attachments": {},
   "cell_type": "markdown",
   "id": "af7054b2",
   "metadata": {},
   "source": [
    "Putting this in a train.py script will make that script runnable on any kind of distributed setup. To try it out in your distributed setup, run the command:"
   ]
  },
  {
   "cell_type": "code",
   "execution_count": null,
   "id": "a062e24a",
   "metadata": {},
   "outputs": [],
   "source": [
    "accelerate config"
   ]
  },
  {
   "attachments": {},
   "cell_type": "markdown",
   "id": "4b888438",
   "metadata": {},
   "source": [
    "which will prompt you to answer a few questions and dump your answers in a configuration file used by this command:"
   ]
  },
  {
   "cell_type": "code",
   "execution_count": null,
   "id": "e0b45ed8",
   "metadata": {},
   "outputs": [],
   "source": [
    "accelerate launch train.py"
   ]
  },
  {
   "attachments": {},
   "cell_type": "markdown",
   "id": "ec003084",
   "metadata": {},
   "source": [
    "which will launch the distributed training.\n",
    "\n",
    "If you want to try this in a Notebook (for instance, to test it with TPUs on Colab), just paste the code in a training_function() and run a last cell with:"
   ]
  },
  {
   "cell_type": "code",
   "execution_count": null,
   "id": "7e55ed16",
   "metadata": {},
   "outputs": [],
   "source": [
    "from accelerate import notebook_launcher\n",
    "\n",
    "notebook_launcher(training_function)"
   ]
  }
 ],
 "metadata": {
  "environment": {
   "kernel": "python3",
   "name": "tf2-gpu.2-11.m108",
   "type": "gcloud",
   "uri": "gcr.io/deeplearning-platform-release/tf2-gpu.2-11:m108"
  },
  "kernelspec": {
   "display_name": "Python 3 (ipykernel)",
   "language": "python",
   "name": "python3"
  },
  "language_info": {
   "codemirror_mode": {
    "name": "ipython",
    "version": 3
   },
   "file_extension": ".py",
   "mimetype": "text/x-python",
   "name": "python",
   "nbconvert_exporter": "python",
   "pygments_lexer": "ipython3",
   "version": "3.10.12"
  }
 },
 "nbformat": 4,
 "nbformat_minor": 5
}
