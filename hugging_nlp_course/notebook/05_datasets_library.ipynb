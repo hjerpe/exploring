{
 "cells": [
  {
   "cell_type": "code",
   "execution_count": null,
   "id": "a6e3aa13-153a-442d-b9a6-e87544c48f83",
   "metadata": {},
   "outputs": [],
   "source": [
    "import os\n",
    "from transformers import pipeline\n",
    "from datasets import load_dataset"
   ]
  },
  {
   "attachments": {},
   "cell_type": "markdown",
   "id": "38aa3a4f-0c4e-4a14-a0d3-b8e5de746cc0",
   "metadata": {},
   "source": [
    "### TOC\n",
    "1. [Load custom datasets](#Load-custom-datasets)\n",
    "2. [Time to slice and dice](#Time-to-slice-and-dice)"
   ]
  },
  {
   "attachments": {},
   "cell_type": "markdown",
   "id": "18919cdf-8fa3-4f2e-9bea-8f0805cc8fce",
   "metadata": {},
   "source": [
    "### Load custom datasets"
   ]
  },
  {
   "attachments": {},
   "cell_type": "markdown",
   "id": "199cb34f",
   "metadata": {},
   "source": [
    "#### Loading a local dataset"
   ]
  },
  {
   "cell_type": "code",
   "execution_count": null,
   "id": "7339c0d0",
   "metadata": {},
   "outputs": [],
   "source": [
    "!wget -P 05_data https://github.com/crux82/squad-it/raw/master/SQuAD_it-train.json.gz\n",
    "!wget -P 05_data https://github.com/crux82/squad-it/raw/master/SQuAD_it-test.json.gz"
   ]
  },
  {
   "cell_type": "code",
   "execution_count": null,
   "id": "7e03ed0e",
   "metadata": {},
   "outputs": [],
   "source": [
    "!gzip -dkv 05_data/SQuAD_it-*.json.gz"
   ]
  },
  {
   "cell_type": "code",
   "execution_count": null,
   "id": "d8f2033d",
   "metadata": {},
   "outputs": [],
   "source": [
    "squad_dataset = load_dataset('json', data_files='05_data/SQuAD_it-train.json', field='data')"
   ]
  },
  {
   "cell_type": "code",
   "execution_count": null,
   "id": "dd49ba4e",
   "metadata": {},
   "outputs": [],
   "source": [
    "squad_dataset"
   ]
  },
  {
   "cell_type": "code",
   "execution_count": null,
   "id": "67275f17",
   "metadata": {},
   "outputs": [],
   "source": [
    "squad_dataset['train'][0]"
   ]
  },
  {
   "cell_type": "code",
   "execution_count": null,
   "id": "1a94fe5a",
   "metadata": {},
   "outputs": [],
   "source": [
    "data_files = {\"train\": \"05_data/SQuAD_it-train.json\", \"test\": \"05_data/SQuAD_it-test.json\"}\n",
    "squad_it_dataset = load_dataset(\"json\", data_files=data_files, field=\"data\")\n",
    "squad_it_dataset"
   ]
  },
  {
   "attachments": {},
   "cell_type": "markdown",
   "id": "253c94ea",
   "metadata": {},
   "source": [
    "We can decompress the files directly without saving them to disk using the load_data function from the datasets library."
   ]
  },
  {
   "cell_type": "code",
   "execution_count": null,
   "id": "3952419d",
   "metadata": {},
   "outputs": [],
   "source": [
    "data_files = {\"train\": \"05_data/SQuAD_it-train.json.gz\", \"test\": \"05_data/SQuAD_it-test.json.gz\"}\n",
    "squad_it_dataset = load_dataset(\"json\", data_files=data_files, field=\"data\")\n",
    "squad_it_dataset"
   ]
  },
  {
   "attachments": {},
   "cell_type": "markdown",
   "id": "93f74b5c",
   "metadata": {},
   "source": [
    "#### Loading a remote dataset"
   ]
  },
  {
   "cell_type": "code",
   "execution_count": null,
   "id": "66d8e493",
   "metadata": {},
   "outputs": [],
   "source": [
    "url = \"https://github.com/crux82/squad-it/raw/master/\"\n",
    "data_files = {\n",
    "    \"train\": url + \"SQuAD_it-train.json.gz\",\n",
    "    \"test\": url + \"SQuAD_it-test.json.gz\",\n",
    "}\n",
    "squad_it_dataset = load_dataset(\"json\", data_files=data_files, field=\"data\")"
   ]
  },
  {
   "cell_type": "code",
   "execution_count": null,
   "id": "89122358",
   "metadata": {},
   "outputs": [],
   "source": [
    "squad_it_dataset"
   ]
  },
  {
   "attachments": {},
   "cell_type": "markdown",
   "id": "b5c81dcf",
   "metadata": {},
   "source": [
    "### Time to slice and dice"
   ]
  },
  {
   "cell_type": "code",
   "execution_count": null,
   "id": "12c25207",
   "metadata": {},
   "outputs": [],
   "source": [
    "!wget -P 05_data \"http://archive.ics.uci.edu/static/public/461/drug+review+dataset+druglib+com.zip\"\n",
    "!unzip -d 05_data 05_data/drug+review+dataset+druglib+com"
   ]
  },
  {
   "cell_type": "code",
   "execution_count": null,
   "id": "fdc692c2",
   "metadata": {},
   "outputs": [],
   "source": [
    "!wget -P 05_data \"http://archive.ics.uci.edu/static/public/462/drug+review+dataset+drugs+com.zip\"\n",
    "!unzip -d 05_data 05_data/drug+review+dataset+drugs+com"
   ]
  },
  {
   "cell_type": "code",
   "execution_count": null,
   "id": "0fcb3674",
   "metadata": {},
   "outputs": [],
   "source": [
    "data_files = {\"train\": \"05_data/drugsComTrain_raw.tsv\", \"test\": \"05_data/drugsComTest_raw.tsv\"}\n",
    "# \\t is the tab character in Python\n",
    "drug_dataset = load_dataset(\"csv\", data_files=data_files, delimiter=\"\\t\")"
   ]
  },
  {
   "cell_type": "code",
   "execution_count": null,
   "id": "0542ecd3",
   "metadata": {},
   "outputs": [],
   "source": [
    "drug_dataset"
   ]
  },
  {
   "cell_type": "code",
   "execution_count": null,
   "id": "29d4a55d",
   "metadata": {},
   "outputs": [],
   "source": [
    "drug_sample = drug_dataset[\"train\"].shuffle(seed=42).select(range(1000))\n",
    "# Peek at the first few examples\n",
    "drug_sample[:3]"
   ]
  },
  {
   "attachments": {},
   "cell_type": "markdown",
   "id": "45ef59c3",
   "metadata": {},
   "source": [
    "Note that we’ve fixed the seed in Dataset.shuffle() for reproducibility purposes. Dataset.select() expects an iterable of indices, so we’ve passed range(1000) to grab the first 1,000 examples from the shuffled dataset. From this sample we can already see a few quirks in our dataset:\n",
    "\n",
    "The Unnamed: 0 column looks suspiciously like an anonymized ID for each patient.\n",
    "The condition column includes a mix of uppercase and lowercase labels.\n",
    "The reviews are of varying length and contain a mix of Python line separators (\\r\\n) as well as HTML character codes like &\\#039;.\n",
    "Let’s see how we can use 🤗 Datasets to deal with each of these issues. To test the patient ID hypothesis for the Unnamed: 0 column, we can use the Dataset.unique() function to verify that the number of IDs matches the number of rows in each split:"
   ]
  }
 ],
 "metadata": {
  "environment": {
   "kernel": "python3",
   "name": "tf2-gpu.2-11.m108",
   "type": "gcloud",
   "uri": "gcr.io/deeplearning-platform-release/tf2-gpu.2-11:m108"
  },
  "kernelspec": {
   "display_name": "default_venv",
   "language": "python",
   "name": "python3"
  },
  "language_info": {
   "codemirror_mode": {
    "name": "ipython",
    "version": 3
   },
   "file_extension": ".py",
   "mimetype": "text/x-python",
   "name": "python",
   "nbconvert_exporter": "python",
   "pygments_lexer": "ipython3",
   "version": "3.10.12"
  }
 },
 "nbformat": 4,
 "nbformat_minor": 5
}
