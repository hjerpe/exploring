{
 "cells": [
  {
   "cell_type": "code",
   "execution_count": 2,
   "id": "a6e3aa13-153a-442d-b9a6-e87544c48f83",
   "metadata": {},
   "outputs": [],
   "source": [
    "from datasets import load_dataset\n",
    "from utils import check_file_or_folder_existence"
   ]
  },
  {
   "attachments": {},
   "cell_type": "markdown",
   "id": "38aa3a4f-0c4e-4a14-a0d3-b8e5de746cc0",
   "metadata": {},
   "source": [
    "### TOC\n",
    "1. [Load custom datasets](#Load-custom-datasets)\n",
    "2. [Time to slice and dice](#Time-to-slice-and-dice)\n",
    "3. [Creating new columns](#Creating-new-columns)\n",
    "4. [The map() method's superpowers](#The-map()-method's-superpowers)\n",
    "5. [From Datasets to DataFrames and back](#From-Datasets-to-DataFrames-and-back)\n",
    "6. [Creating a validation set](#Creating-a-validation-set)\n",
    "7. [Saving a dataset](#Saving-a-dataset)\n",
    "8. [Big data? Datasets to the rescue!](#Big-data?-Datasets-to-the-rescue!)\n",
    "9. [What is the Pile?](#What-is-the-Pile?)\n",
    "10. [The magic of memory mapping](#The-magic-of-memory-mapping)\n",
    "11. [Streaming datasets](#Streaming-datasets)\n",
    "12. [Creating your own dataset](#Creating-your-own-dataset)\n",
    "13. [Getting the data](#Getting-the-data)\n",
    "14. [Cleaning up the data](#Cleaning-up-the-data)\n",
    "15. [Augmenting the dataset](#Augmenting-the-dataset)\n",
    "16. [Creating a dataset card](#Creating-a-dataset-card)"
   ]
  },
  {
   "attachments": {},
   "cell_type": "markdown",
   "id": "18919cdf-8fa3-4f2e-9bea-8f0805cc8fce",
   "metadata": {},
   "source": [
    "### Load custom datasets"
   ]
  },
  {
   "attachments": {},
   "cell_type": "markdown",
   "id": "199cb34f",
   "metadata": {},
   "source": [
    "#### Loading a local dataset"
   ]
  },
  {
   "cell_type": "code",
   "execution_count": 3,
   "id": "7339c0d0",
   "metadata": {},
   "outputs": [],
   "source": [
    "if not check_file_or_folder_existence(\"05_data/SQuAD_it-train.json\"):\n",
    "    !wget -P 05_data https://github.com/crux82/squad-it/raw/master/SQuAD_it-train.json.gz\n",
    "if not check_file_or_folder_existence(\"05_data/SQuAD_it-train.json\"):\n",
    "    !wget -P 05_data https://github.com/crux82/squad-it/raw/master/SQuAD_it-test.json.gz\n",
    "if not check_file_or_folder_existence(\"05_data/SQuAD_it-train.json\"):\n",
    "    !gzip -dkv 05_data/SQuAD_it-*.json.gz"
   ]
  },
  {
   "cell_type": "code",
   "execution_count": 4,
   "id": "d8f2033d",
   "metadata": {},
   "outputs": [],
   "source": [
    "squad_dataset = load_dataset('json', data_files='05_data/SQuAD_it-train.json', field='data')"
   ]
  },
  {
   "cell_type": "code",
   "execution_count": 5,
   "id": "dd49ba4e",
   "metadata": {},
   "outputs": [
    {
     "data": {
      "text/plain": [
       "DatasetDict({\n",
       "    train: Dataset({\n",
       "        features: ['paragraphs', 'title'],\n",
       "        num_rows: 442\n",
       "    })\n",
       "})"
      ]
     },
     "execution_count": 5,
     "metadata": {},
     "output_type": "execute_result"
    }
   ],
   "source": [
    "squad_dataset"
   ]
  },
  {
   "cell_type": "code",
   "execution_count": 6,
   "id": "67275f17",
   "metadata": {},
   "outputs": [
    {
     "data": {
      "text/plain": [
       "{'paragraphs': [{'context': \"Il terremoto del Sichuan del 2008 o il terremoto del Gran Sichuan, misurato a 8.0 Ms e 7.9 Mw, e si è verificato alle 02:28:01 PM China Standard Time all' epicentro (06:28:01 UTC) il 12 maggio nella provincia del Sichuan, ha ucciso 69.197 persone e lasciato 18.222 dispersi.\",\n",
       "   'qas': [{'answers': [{'answer_start': 29, 'text': '2008'}],\n",
       "     'id': '56cdca7862d2951400fa6826',\n",
       "     'question': 'In quale anno si è verificato il terremoto nel Sichuan?'},\n",
       "    {'answers': [{'answer_start': 232, 'text': '69.197'}],\n",
       "     'id': '56cdca7862d2951400fa6828',\n",
       "     'question': 'Quante persone sono state uccise come risultato?'},\n",
       "    {'answers': [{'answer_start': 29, 'text': '2008'}],\n",
       "     'id': '56d4f9902ccc5a1400d833c0',\n",
       "     'question': 'Quale anno ha avuto luogo il terremoto del Sichuan?'},\n",
       "    {'answers': [{'answer_start': 78, 'text': '8.0 Ms e 7.9 Mw'}],\n",
       "     'id': '56d4f9902ccc5a1400d833c1',\n",
       "     'question': 'Che cosa ha fatto la misura di sisma?'},\n",
       "    {'answers': [{'answer_start': 183, 'text': '12 maggio'}],\n",
       "     'id': '56d4f9902ccc5a1400d833c2',\n",
       "     'question': 'Che giorno si è verificato il terremoto?'},\n",
       "    {'answers': [{'answer_start': 118,\n",
       "       'text': '02:28:01 PM China Standard Time'}],\n",
       "     'id': '56d4f9902ccc5a1400d833c3',\n",
       "     'question': 'Che ora del giorno è accaduto il terremoto?'},\n",
       "    {'answers': [{'answer_start': 232, 'text': '69.197'}],\n",
       "     'id': '56d4f9902ccc5a1400d833c4',\n",
       "     'question': 'Quante persone sono morte?'}]},\n",
       "  {'context': 'E\\' noto anche come terremoto di Wenchuan (Cinese:????; pinyin: Wènchu? n dà dìzhèn; letteralmente:\"Grande terremoto di Wenchuan\"), dopo l\\' ubicazione dell\\' epicentro del terremoto, Wenchuan County, Sichuan. L\\' epicentro era di 80 chilometri (50 miglia) ad ovest nord-ovest di Chengdu, capoluogo di provincia, con una profondità focale di 19 km (12 miglia). Il terremoto ha colpito anche i paesi vicini e lontani da Pechino e Shanghai-1.500 km (930 mi) e 1.700 km (1.060 mi) di distanza, dove gli edifici adibiti a uffici hanno oscillato con il tremore. Forti scosse di assestamento, un po\\' superiori alla magnitudo 6, hanno continuato a colpire l\\' area anche mesi dopo il sisma principale, causando nuove vittime e danni.',\n",
       "   'qas': [{'answers': [{'answer_start': 415, 'text': 'Pechino e Shanghai'}],\n",
       "     'id': '56cdcb2c62d2951400fa6830',\n",
       "     'question': 'Quali città lontane in altri paesi potrebbero sentire il terremoto?'},\n",
       "    {'answers': [{'answer_start': 338, 'text': '19 km'}],\n",
       "     'id': '56cdcb2c62d2951400fa6833',\n",
       "     'question': 'Qual è stata la profondità focale del terremoto?'},\n",
       "    {'answers': [{'answer_start': 659, 'text': 'mesi dopo'}],\n",
       "     'id': '56cdcb2c62d2951400fa6834',\n",
       "     'question': 'Quanto tempo dopo il terremoto si sono sentite le scosse di assestamento?'},\n",
       "    {'answers': [{'answer_start': 181, 'text': 'Wenchuan County, Sichuan'}],\n",
       "     'id': '56d4fb6f2ccc5a1400d833d5',\n",
       "     'question': \"Dov' era l' epicentro del terremoto?\"},\n",
       "    {'answers': [{'answer_start': 227, 'text': '80 chilometri'}],\n",
       "     'id': '56d4fb6f2ccc5a1400d833d6',\n",
       "     'question': 'Quanto lontano era da Chengdu?'},\n",
       "    {'answers': [{'answer_start': 338, 'text': '19 km'}],\n",
       "     'id': '56d4fb6f2ccc5a1400d833d7',\n",
       "     'question': 'Qual era la profondità focale del sisma?'}]},\n",
       "  {'context': \"I dati ufficiali (al 21 luglio 2008 ore 12:00 CST) hanno dichiarato che 69.197 sono stati confermati morti, di cui 68.636 nella provincia del Sichuan e 374.176 feriti, di cui 18.222 scomparsi. Il terremoto ha lasciato circa 4,8 milioni di senzatetto, anche se il numero potrebbe raggiungere gli 11 milioni. Circa 15 milioni di persone vivevano nell' area colpita. E' stato il terremoto più mortale per colpire la Cina dopo il terremoto di Tangshan 1976, che ha ucciso almeno 240.000 persone, e il più forte del paese dal terremoto di Chayu 1950, che ha registrato a 8,5 sulla scala di magnitudo Richter. E' il 21° terremoto più morto di tutti i tempi. Il 6 novembre 2008, il governo centrale ha annunciato che avrebbe speso 1 trilione di RMB (circa 146,5 miliardi di dollari USA) nei prossimi tre anni per ricostruire le aree devastate dal terremoto, come parte del programma cinese di stimolo economico.\",\n",
       "   'qas': [{'answers': [{'answer_start': 72, 'text': '69.197'}],\n",
       "     'id': '56cdcbb762d2951400fa683a',\n",
       "     'question': 'Quante persone sono state confermate morte?'},\n",
       "    {'answers': [{'answer_start': 115, 'text': '68.636'}],\n",
       "     'id': '56cdcbb762d2951400fa683b',\n",
       "     'question': 'Quanti morti sono stati confermati solo nella provincia del Sichuan?'},\n",
       "    {'answers': [{'answer_start': 224, 'text': '4,8 milioni'}],\n",
       "     'id': '56cdcbb762d2951400fa683c',\n",
       "     'question': 'Quante persone sono rimaste senza tetto a causa del terremoto?'},\n",
       "    {'answers': [{'answer_start': 313, 'text': '15 milioni'}],\n",
       "     'id': '56cdcbb762d2951400fa683d',\n",
       "     'question': 'Quante persone hanno vissuto nella zona colpita?'},\n",
       "    {'answers': [{'answer_start': 724, 'text': '1 trilione di RMB'}],\n",
       "     'id': '56cdcbb762d2951400fa683e',\n",
       "     'question': 'Quanto denaro è stato destinato alla ricostruzione di aree devastate?'},\n",
       "    {'answers': [{'answer_start': 115, 'text': '68.636'}],\n",
       "     'id': '56d4fca52ccc5a1400d833de',\n",
       "     'question': 'Quante persone sono morte nella provincia del Sichuan?'},\n",
       "    {'answers': [{'answer_start': 152, 'text': '374.176'}],\n",
       "     'id': '56d4fca52ccc5a1400d833df',\n",
       "     'question': 'Quanti sono stati feriti nel Sichuan?'},\n",
       "    {'answers': [{'answer_start': 175, 'text': '18.222'}],\n",
       "     'id': '56d4fca52ccc5a1400d833e0',\n",
       "     'question': 'Quante persone sono elencate come scomparse?'},\n",
       "    {'answers': [{'answer_start': 224, 'text': '4,8 milioni'}],\n",
       "     'id': '56d4fca52ccc5a1400d833e1',\n",
       "     'question': 'Quante persone sono senzatetto a causa del terremoto?'},\n",
       "    {'answers': [{'answer_start': 295, 'text': '11 milioni'}],\n",
       "     'id': '56d4fca52ccc5a1400d833e2',\n",
       "     'question': 'Quanto potrebbe arrivare il numero dei senzatetto?'}]},\n",
       "  {'context': \"Il terremoto ha avuto una magnitudine di 8,0 Ms e 7,9 Mw. L' epicentro è stato in Wenchuan County, Ngawa Tibetano e Prefettura Autonoma di Qiang, 80 km ad ovest / nord-ovest del capoluogo di provincia di Chengdu, con il suo tremore principale che si verifica alle 14:28:01.42 China Standard Time (06:28:01.42 UTC), il 12 maggio 2008 della durata di circa 2 minuti, nel terremoto quasi l' 80% degli edifici sono stati distrutti.\",\n",
       "   'qas': [{'answers': [{'answer_start': 355, 'text': '2 minuti'}],\n",
       "     'id': '56cdcc5562d2951400fa6847',\n",
       "     'question': 'Quanto tempo è durato il terremoto?'},\n",
       "    {'answers': [{'answer_start': 388, 'text': '80%'}],\n",
       "     'id': '56cdcc5562d2951400fa6848',\n",
       "     'question': 'Quale percentuale di edifici è stata distrutta?'},\n",
       "    {'answers': [{'answer_start': 41, 'text': '8,0 Ms e 7,9 Mw'}],\n",
       "     'id': '56d4fe332ccc5a1400d833e8',\n",
       "     'question': 'Qual era la magnitudo del terremoto?'},\n",
       "    {'answers': [{'answer_start': 355, 'text': '2 minuti'}],\n",
       "     'id': '56d4fe332ccc5a1400d833eb',\n",
       "     'question': 'Quanto tempo è durato il tremore principale?'},\n",
       "    {'answers': [{'answer_start': 379, 'text': \"quasi l' 80%\"}],\n",
       "     'id': '56d4fe332ccc5a1400d833ec',\n",
       "     'question': 'Quale percentuale di edifici è stata distrutta durante il sisma?'}]},\n",
       "  {'context': \"Secondo uno studio della China Earthquake Administration (CEA), il terremoto si è verificato lungo la faglia Longmenshan, una struttura di spinta lungo il confine della piastra Indo-Australiana e placca eurasiatica. Le attività sismiche si sono concentrate sulla sua frattura media (nota come frattura Yingxiu-Beichuan). La rottura è durata quasi 120 sec, con la maggior parte dell' energia rilasciata nei primi 80 sec. Partendo da Wenchuan, la rottura si propagò ad una velocità media di 3,1 chilometri al secondo 49° verso nord-est, rompendosi per un totale di circa 300 km. Lo spostamento massimo ammontava a 9 metri. Il fuoco era più profondo di 10 km.\",\n",
       "   'qas': [{'answers': [{'answer_start': 347, 'text': '120 sec'}],\n",
       "     'id': '56cdccd962d2951400fa6850',\n",
       "     'question': 'Quanto tempo ha durato la rottura?'},\n",
       "    {'answers': [{'answer_start': 650, 'text': '10 km'}],\n",
       "     'id': '56cdccd962d2951400fa6852',\n",
       "     'question': 'Quanto è stato profondo il centro del terremoto?'},\n",
       "    {'answers': [{'answer_start': 293, 'text': 'frattura Yingxiu-Beichuan'}],\n",
       "     'id': '56d5005d2ccc5a1400d833f4',\n",
       "     'question': 'Su quale frattura ha messo a fuoco il terremoto?'},\n",
       "    {'answers': [{'answer_start': 612, 'text': '9 metri'}],\n",
       "     'id': '56d5005d2ccc5a1400d833f6',\n",
       "     'question': 'Qual è stato lo sfollamento più causato dal terremoto?'}]},\n",
       "  {'context': 'Yazhou Zhoukan, con sede in Malesia, ha condotto un\\' intervista con l\\' ex ricercatore presso il China Seismological Bureau Geng Qingguo (??), in cui Geng ha sostenuto che un rapporto scritto riservato è stato inviato all\\' Ufficio sismologico di Stato il 30 aprile 2008, avvertendo circa il possibile verificarsi di un terremoto significativo nella regione della prefettura di Ngawa del Sichuan intorno all\\' 8 maggio, con una gamma di 10 giorni prima o dopo il terremoto. Il Geng, pur riconoscendo che la predizione del terremoto era ampiamente considerata problematica dalla comunità scientifica, credeva che \"più grande è il terremoto, più facile è prevedere\". Geng aveva a lungo tentato di stabilire una correlazione tra il verificarsi di siccità e terremoti; Premier Zhou Enlai ha riferito che ha preso interesse nel lavoro di Geng. La teoria di correlazione siccità-terra terremoto di Geng è stata pubblicata per la prima volta nel 1972, e ha detto di aver pronosticato con successo i terremoti di Haicheng 1975 e 1976 Tangshan. Lo stesso articolo di Yazhou Zhoukan ha sottolineato le difficoltà intrinseche associate alla previsione dei terremoti.',\n",
       "   'qas': [{'answers': [{'answer_start': 936, 'text': '1972'}],\n",
       "     'id': '56cdce0b62d2951400fa685b',\n",
       "     'question': 'Quando è stata rilasciata la teoria di correlazione siccità-terra terremoto di Geng?'},\n",
       "    {'answers': [{'answer_start': 394, 'text': \"intorno all' 8 maggio\"}],\n",
       "     'id': '56d67a8d1c8504140094714f',\n",
       "     'question': 'Qual era il tempo previsto per il terremoto?'},\n",
       "    {'answers': [{'answer_start': 741, 'text': 'siccità'}],\n",
       "     'id': '56d67a8d1c85041400947150',\n",
       "     'question': 'Che cosa ha cercato Geng a lungo di stabilire come rapporto con i terremoti?'}]},\n",
       "  {'context': 'In uno studio dell\\' USGS (United States Geological Survey) i modelli preliminari di rottura del terremoto hanno indicato uno spostamento fino a 9 metri lungo un guasto lungo circa 240 km di lunghezza e 20 km di profondità. Il terremoto ha generato deformazioni della superficie superiori a 3 metri e ha aumentato lo stress (e la probabilità che si verifichino eventi futuri) alle estremità nord-orientale e sud-occidentale del guasto. Il 20 maggio, il sismologo dell\\' USGS Tom Parsons ha avvertito che c\\' è \"alto rischio\" di una grave scossa di assestamento M>7 nelle prossime settimane o mesi.',\n",
       "   'qas': [{'answers': [{'answer_start': 137, 'text': 'fino a 9 metri'}],\n",
       "     'id': '56cdcebe62d2951400fa6862',\n",
       "     'question': 'Quanto è stato grande lo spostamento?'},\n",
       "    {'answers': [{'answer_start': 473, 'text': 'Tom Parsons'}],\n",
       "     'id': '56cdcebe62d2951400fa6866',\n",
       "     'question': \"Chi ha prima messo in guardia da possibili attività sismiche nell' area?\"},\n",
       "    {'answers': [{'answer_start': 144, 'text': '9 metri'}],\n",
       "     'id': '56d5027a9d1b871400ae05e1',\n",
       "     'question': \"Che cosa ha mostrato il Geological Survey degli Stati Uniti come l' entità dello spostamento?\"},\n",
       "    {'answers': [{'answer_start': 202, 'text': '20 km di profondità'}],\n",
       "     'id': '56d5027a9d1b871400ae05e3',\n",
       "     'question': 'Quanto è profondo il guasto?'},\n",
       "    {'answers': [{'answer_start': 508, 'text': 'alto rischio'}],\n",
       "     'id': '56d5027a9d1b871400ae05e5',\n",
       "     'question': 'Che cosa ha considerato Tom Parsons come il fattore di rischio per forti terremoti futuri?'}]},\n",
       "  {'context': 'Sismologo giapponese Yuji Yagi Yuji Yagi presso l\\' Università di Tsukuba ha detto che il terremoto si è verificato in due fasi:\"Il 155 miglia Longmenshan Fault tore in due sezioni, il primo uno strappo di circa sette metri, seguita da un secondo che ha tosato quattro metri\". I suoi dati hanno anche mostrato che il terremoto è durato circa due minuti e ha rilasciato 30 volte l\\' energia del grande terremoto di Hanshin del 1995 in Giappone, che ha ucciso oltre 6.000 persone. Egli ha sottolineato che la scarsità dell\\' epicentro e la densità di popolazione hanno notevolmente aumentato la gravità del terremoto. Teruyuki Kato, un sismologo dell\\' Università di Tokyo, ha detto che le onde sismiche del terremoto hanno percorso una lunga distanza senza perdere il loro potere a causa della fermezza del terreno nella Cina centrale.',\n",
       "   'qas': [{'answers': [{'answer_start': 115, 'text': 'in due fasi'}],\n",
       "     'id': '56d504539d1b871400ae05eb',\n",
       "     'question': 'Come ha fatto Yuji Yagi a dire che il terremoto è successo?'},\n",
       "    {'answers': [{'answer_start': 142, 'text': 'Longmenshan Fault'}],\n",
       "     'id': '56d504539d1b871400ae05ec',\n",
       "     'question': 'Che errore si è verificato in due luoghi?'},\n",
       "    {'answers': [{'answer_start': 368, 'text': '30 volte'}],\n",
       "     'id': '56d504539d1b871400ae05ee',\n",
       "     'question': 'Quanta più energia di quella prodotta dal terremoto del 1995 in Giappone?'},\n",
       "    {'answers': [{'answer_start': 789, 'text': 'fermezza del terreno'}],\n",
       "     'id': '56d504539d1b871400ae05ef',\n",
       "     'question': 'Perché le onde sismiche hanno viaggiato finora?'}]},\n",
       "  {'context': 'Tra 64 e 104 scosse di assestamento importanti, di magnitudo compresa tra 4,0 e 6,1, sono state registrate entro 72 ore dal sisma principale. Secondo i conteggi ufficiali cinesi,\"alle ore 12:00 CST, 6 novembre 2008 c\\' erano state 42.719 scariche post-shock totali, di cui 246 variavano da 4,0 SM a 4,9 SM, 34 da 5,0 MS a 5,9 MS, e 8 da 6,0 Ms a 6,4 MS; l\\' urto post-shock più forte misurato 6,4 MS.\" L\\' ultima scossa post-shock superiore a M6 si è verificato il 5 agosto.',\n",
       "   'qas': [{'answers': [{'answer_start': 0, 'text': 'Tra 64 e 104'}],\n",
       "     'id': '56cdd08862d2951400fa6894',\n",
       "     'question': 'Quante sono state le scosse di assestamento?'},\n",
       "    {'answers': [{'answer_start': 107,\n",
       "       'text': 'entro 72 ore dal sisma principale'}],\n",
       "     'id': '56cdd08862d2951400fa6896',\n",
       "     'question': 'Quando sono state registrate le scosse di assestamento?'},\n",
       "    {'answers': [{'answer_start': 0, 'text': 'Tra 64 e 104'}],\n",
       "     'id': '56d505f99d1b871400ae05f5',\n",
       "     'question': 'Quante sono state le scosse di assestamento entro 72 ore?'},\n",
       "    {'answers': [{'answer_start': 230, 'text': '42.719'}],\n",
       "     'id': '56d505f99d1b871400ae05f6',\n",
       "     'question': 'Che cosa dicono i cinesi è il numero totale di shock dopo il terremoto?'},\n",
       "    {'answers': [{'answer_start': 272, 'text': '246'}],\n",
       "     'id': '56d505f99d1b871400ae05f8',\n",
       "     'question': 'In quale data si sono verificate le scosse di assestamento più recenti superiori a 6 SM?'}]},\n",
       "  {'context': '(Il terremoto della sig. ra 6.1 del 30 agosto 2008 nel Sichuan meridionale non faceva parte di questa serie perché è stato causato da una diversa colpa.',\n",
       "   'qas': [{'answers': [{'answer_start': 55, 'text': 'Sichuan meridionale'}],\n",
       "     'id': '56cdd10962d2951400fa68a0',\n",
       "     'question': 'Dove si è verificato il terremoto?'},\n",
       "    {'answers': [{'answer_start': 55, 'text': 'Sichuan meridionale'}],\n",
       "     'id': '56cdd10962d2951400fa68a2',\n",
       "     'question': \"Dov' era il terremoto del 30 agosto 2008?\"},\n",
       "    {'answers': [{'answer_start': 20, 'text': 'sig'}],\n",
       "     'id': '56d507269d1b871400ae05ff',\n",
       "     'question': 'Qual era la grandezza del terremoto del Sichuan meridionale?'}]},\n",
       "  {'context': 'La mappa dell\\' intensità sismica pubblicata dal CEA dopo aver rilevato 500.000 km2 dell\\' area colpita mostra una liedu massima di XI sulla scala di intensità sismica cinese (CSIS), descritta come \"molto distruttiva\" sulla scala macrosismica europea (EMS) da cui il CSIS ha tratto riferimento. (USGS, utilizzando la scala di intensità Mercalli modificata (CC), collocava anche l\\' intensità massima a XI,\"molto disastrosa\". Due strisce sud-ovest-nord-est di liedu XI sono centrate intorno a Yingxiu, Wenchuan (la città più vicina all\\' epicentro del terremoto principale) e Beichuan (la città ripetutamente colpita da forti scosse di assestamento tra cui una che registra MS 6.1 il 1 agosto 2008), entrambe nella provincia del Sichuan, occupando un totale di 2.419 km2. La zona Yingxiu liedu-XI è lunga circa 66 km e larga 20 km lungo Wenchuan-Dujiangyan-Pengzhou; la zona Beichuan liedu-XI è lunga circa 82 km e larga 15 km lungo An County-Beichuan-Pingwu. L\\' area con liedu X (comparabile a X su EMS,\"distruttivo\" e X su MM,\"disastroso\") ha una superficie di 3.144 km2.',\n",
       "   'qas': [{'answers': [{'answer_start': 48, 'text': 'CEA'}],\n",
       "     'id': '56cdd21562d2951400fa68b0',\n",
       "     'question': \"Chi ha pubblicato la mappa dell' intensità dei terremoti?\"},\n",
       "    {'answers': [{'answer_start': 130, 'text': 'XI'}],\n",
       "     'id': '56cdd21562d2951400fa68b2',\n",
       "     'question': 'A quale intensità è stata scalata?'},\n",
       "    {'answers': [{'answer_start': 489, 'text': 'Yingxiu, Wenchuan'}],\n",
       "     'id': '56d5098a9d1b871400ae0609',\n",
       "     'question': \"Quale città era più vicina all' epicentro principale?\"}]},\n",
       "  {'context': \"Il sistema Longmen Shan Fault System si trova al confine orientale dell' altopiano tibetano e contiene diversi difetti. Questo terremoto ha rotto almeno due strutture imbricate in Longmen Shan Fault System, vale a dire il Fault Beichuan e il Guanxian-Anxian Fault. Nell' area epicentrale, lo slittamento medio in Fault Beichuan era di circa 3,5 metri (11 ft) verticale, di 3,5 metri (11 ft) orizzontale parallelo al guasto, e di 4,8 metri (16 ft) orizzontale-pendicolare al guasto. Nell' area di circa 30 chilometri (19 miglia) a nord-est dell' epicentro, lo scivolamento superficiale su Beichuan Fault è stato quasi esclusivamente dextral strike-slip fino a circa 3 metri, mentre lo scivolamento medio in Guanxian-Anxian Fault è stato di circa 2 metri verticali (6 ft 7 in) e 2,3 metri (7 ft 7 in) orizzontali. il confine orientale dell' altopiano tibetano.\",\n",
       "   'qas': [{'answers': [{'answer_start': 665, 'text': '3 metri'}],\n",
       "     'id': '56cdd4d762d2951400fa68cd',\n",
       "     'question': 'Quanto è stato grande lo slip 30 km a nord-est del guasto?'},\n",
       "    {'answers': [{'answer_start': 745, 'text': '2 metri'}],\n",
       "     'id': '56cdd4d762d2951400fa68ce',\n",
       "     'question': 'Qual è stato lo slittamento verticale media sul Guanxian-Anxian errore?'},\n",
       "    {'answers': [{'answer_start': 777, 'text': '2,3 metri'}],\n",
       "     'id': '56cdd4d762d2951400fa68cf',\n",
       "     'question': 'Che cosa è stato lo slittamento orizzontale media sul Guanxian-Anxian errore?'},\n",
       "    {'answers': [{'answer_start': 73, 'text': 'altopiano tibetano'}],\n",
       "     'id': '56cdd4d762d2951400fa68d0',\n",
       "     'question': 'Dove si trova il guasto dello shan Longmen?'},\n",
       "    {'answers': [{'answer_start': 3,\n",
       "       'text': 'sistema Longmen Shan Fault System'}],\n",
       "     'id': '56d516439d1b871400ae0611',\n",
       "     'question': 'Dove sono i guasti Beichuan e Guanxian-Ansia?'},\n",
       "    {'answers': [{'answer_start': 341, 'text': '3,5 metri'}],\n",
       "     'id': '56d516439d1b871400ae0612',\n",
       "     'question': 'Qual è stato lo slittamento verticale medio nel difetto di Beichaun?'},\n",
       "    {'answers': [{'answer_start': 341, 'text': '3,5 metri'}],\n",
       "     'id': '56d516439d1b871400ae0613',\n",
       "     'question': \"Qual è stato lo slittamento orizzontale nel Fault Beichuan all' epicentro?\"},\n",
       "    {'answers': [{'answer_start': 429, 'text': '4,8 metri'}],\n",
       "     'id': '56d516439d1b871400ae0614',\n",
       "     'question': 'Qual è stato lo slittamento orizzontale perpendicolare al guasto?'}]},\n",
       "  {'context': 'Gli edifici per uffici nel distretto finanziario di Shanghai, tra cui la Jin Mao Tower e la Hong Kong New World Tower, sono stati evacuati. Un receptionist al Tibet Hotel di Chengdu ha detto che le cose erano \"calme\" dopo che l\\' hotel ha evacuato i suoi ospiti. Nel frattempo, i lavoratori di uno stabilimento Ford nel Sichuan sono stati evacuati per circa 10 minuti. L\\' aeroporto internazionale di Chengdu Shuangliu è stato chiuso e la torre di controllo e il controllo radar regionale sono stati evacuati. Un volo di SilkAir è stato deviato e atterrato a Kunming. Cathay Pacific ha ritardato entrambe le tratte del suo quadruplo quotidiano Hong Kong a Londra a causa di questa perturbazione dei servizi di traffico aereo. Chengdu Shuangliu Aeroporto riaperto più tardi la sera del 12 maggio, offrendo un servizio limitato come l\\' aeroporto ha cominciato ad essere utilizzato come una zona di sosta per le operazioni di soccorso.',\n",
       "   'qas': [{'answers': [{'answer_start': 210, 'text': 'calm'}],\n",
       "     'id': '56cdd63a62d2951400fa68d7',\n",
       "     'question': \"Come ha descritto un receptionist l' atmosfera dopo l' evacuazione?\"},\n",
       "    {'answers': [{'answer_start': 357, 'text': '10 minuti'}],\n",
       "     'id': '56cdd63a62d2951400fa68d8',\n",
       "     'question': 'Per quanto tempo sono stati evacuati i lavoratori di Ford Plant?'},\n",
       "    {'answers': [{'answer_start': 371,\n",
       "       'text': 'aeroporto internazionale di Chengdu Shuangliu'}],\n",
       "     'id': '56cdd63a62d2951400fa68d9',\n",
       "     'question': 'Quale aeroporto è stato chiuso?'},\n",
       "    {'answers': [{'answer_start': 783, 'text': '12 maggio'}],\n",
       "     'id': '56cdd63a62d2951400fa68da',\n",
       "     'question': \"Quando è stato riaperto l' aeroporto?\"},\n",
       "    {'answers': [{'answer_start': 907, 'text': 'operazioni di soccorso'}],\n",
       "     'id': '56d5185a9d1b871400ae061d',\n",
       "     'question': \"A cosa servivano l' aeroporto per fare tappa?\"}]},\n",
       "  {'context': \"Reporter a Chengdu hanno detto che hanno visto crepe sulle pareti di alcuni edifici residenziali nelle zone del centro, ma nessun edificio è crollato. Molti uffici di Pechino torri ufficio sono stati evacuati, tra cui l' edificio che ospita gli uffici dei media per gli organizzatori delle Olimpiadi estive 2008. Nessuna delle sedi olimpiche sono state danneggiate. Nel frattempo, un treno cargo che trasportava 13 cisterne a benzina deragliato nella contea di Hui, Gansu, e prese fuoco dopo che la ferrovia era stata distorta.\",\n",
       "   'qas': [{'answers': [{'answer_start': 9, 'text': 'a Chengdu'}],\n",
       "     'id': '56cddec762d2951400fa692c',\n",
       "     'question': 'Dove hanno detto i giornalisti che hanno visto crepe sulle pareti di alcuni edifici?'},\n",
       "    {'answers': [{'answer_start': 167, 'text': 'Pechino'}],\n",
       "     'id': '56cddec762d2951400fa692d',\n",
       "     'question': 'Dove sono state evacuate le torri degli uffici?'},\n",
       "    {'answers': [{'answer_start': 47, 'text': 'crepe sulle pareti'}],\n",
       "     'id': '56d519a82593cc1400307a6b',\n",
       "     'question': 'Cosa è stato riportato in Chengdu?'}]},\n",
       "  {'context': \"Tutte le autostrade in Wenchuan, e altri in tutta la provincia, sono stati danneggiati, con conseguente ritardo di arrivo delle truppe di soccorso. Nella contea di Beichuan, l' 80% degli edifici è crollato secondo Xinhua News. Nella città di Shifang, il crollo di due impianti chimici ha portato alla fuoriuscita di circa 80 tonnellate di ammoniaca liquida, con centinaia di persone segnalate sepolte. Nella città di Dujiangyan, a sud-est dell' epicentro, un' intera scuola è crollata con 900 studenti sepolti e meno di 60 sopravvissuti. La Juyuan Middle School, dove sono stati sepolti molti adolescenti, è stata scavata da civili e gru. Dujiangyan è la sede del Dujiangyan Irrigation System, un antico progetto di deviazione dell' acqua che è ancora in uso ed è un patrimonio mondiale dell' UNESCO. La famosa bocca di pesce del progetto è stata incrinata, ma non gravemente danneggiata altrimenti.\",\n",
       "   'qas': [{'answers': [{'answer_start': 0, 'text': 'Tutte le autostrade'}],\n",
       "     'id': '56cddf9e62d2951400fa6934',\n",
       "     'question': 'Quante autostrade che conducono a Wenchuan sono state danneggiate?'},\n",
       "    {'answers': [{'answer_start': 177, 'text': '80%'}],\n",
       "     'id': '56cddf9e62d2951400fa6936',\n",
       "     'question': \"Quale percentuale dell' edificio è crollata a Beichuan?\"},\n",
       "    {'answers': [{'answer_start': 417, 'text': 'Dujiangyan'}],\n",
       "     'id': '56cddf9e62d2951400fa6937',\n",
       "     'question': 'Dove sono crollati due impianti chimici?'},\n",
       "    {'answers': [{'answer_start': 520, 'text': '60'}],\n",
       "     'id': '56cddf9e62d2951400fa6938',\n",
       "     'question': 'Quanti studenti su 900 nella scuola sono sopravvissuti al crollo?'},\n",
       "    {'answers': [{'answer_start': 0, 'text': 'Tutte le autostrade'}],\n",
       "     'id': '56d51b832593cc1400307a75',\n",
       "     'question': 'Quali autostrade di Wenchuan sono state danneggiate?'},\n",
       "    {'answers': [{'answer_start': 177, 'text': '80%'}],\n",
       "     'id': '56d51b832593cc1400307a77',\n",
       "     'question': 'Quanti edifici di Beichuan sono crollati?'},\n",
       "    {'answers': [{'answer_start': 264, 'text': 'due impianti chimici'}],\n",
       "     'id': '56d51b832593cc1400307a78',\n",
       "     'question': 'Quale ammoniaca liquida fuoriuscita a Shifang?'},\n",
       "    {'answers': [{'answer_start': 512, 'text': 'meno di 60'}],\n",
       "     'id': '56d51b832593cc1400307a79',\n",
       "     'question': 'Quanti dei 900 studenti sepolti in un crollo scolastico Dujiangyan sono sopravvissuti?'}]},\n",
       "  {'context': 'Sia la borsa valori di Shanghai che la Shenzhen Stock Exchange hanno sospeso il commercio di società con sede nella Cina sudoccidentale. Il rame è aumentato a causa delle speculazioni che la produzione nel sud-ovest della Cina potrebbe essere influenzata, e i prezzi del petrolio è sceso a fronte di speculazioni che la domanda dalla Cina sarebbe scesa.',\n",
       "   'qas': [{'answers': [{'answer_start': 116, 'text': 'Cina sudoccidentale'}],\n",
       "     'id': '56cddfff62d2951400fa693f',\n",
       "     'question': 'Dove si sono basati gli scambi?'},\n",
       "    {'answers': [{'answer_start': 140, 'text': 'rame'}],\n",
       "     'id': '56cddfff62d2951400fa6940',\n",
       "     'question': 'Quale metallo è aumentato di valore?'},\n",
       "    {'answers': [{'answer_start': 275, 'text': 'olio'}],\n",
       "     'id': '56cddfff62d2951400fa6941',\n",
       "     'question': 'Quale risorsa naturale è diminuita di valore?'},\n",
       "    {'answers': [{'answer_start': 116, 'text': 'Cina sudoccidentale'}],\n",
       "     'id': '56d51d272593cc1400307a80',\n",
       "     'question': 'Dove si trovavano le società che avevano sospeso il loro commercio di azioni?'},\n",
       "    {'answers': [{'answer_start': 140, 'text': 'rame'}],\n",
       "     'id': '56d51d272593cc1400307a81',\n",
       "     'question': 'Quale metallo è aumentato a causa della speculazione?'},\n",
       "    {'answers': [{'answer_start': 39, 'text': 'Shenzhen Stock Exchange'}],\n",
       "     'id': '56d51d272593cc1400307a83',\n",
       "     'question': 'Oltre alla borsa valori di Shanghai, quale altra borsa sospesa negoziazione di titoli azionari sud-ovest della Cina?'}]},\n",
       "  {'context': \"Immediatamente dopo l' evento sismico, le telecomunicazioni mobili e terrestri sono state tagliate verso l' area colpita e quella circostante, con tutte le capacità internet tagliate anche verso l' area del Sichuan. Elementi di telecomunicazioni sono stati ripristinati dal governo pezzo per pezzo nel corso dei prossimi mesi come la situazione nella provincia del Sichuan gradualmente migliorata. Alla fine, una manciata di importanti siti web di notizie e media sono stati resi accessibili online nella regione, anche se con pagine web drammaticamente ridotte.\",\n",
       "   'qas': [{'answers': [{'answer_start': 165, 'text': 'internet'}],\n",
       "     'id': '56cde07662d2951400fa6947',\n",
       "     'question': \"Quali capacità sono state tagliate all' intera area del Sichuan?\"},\n",
       "    {'answers': [{'answer_start': 321, 'text': 'mesi'}],\n",
       "     'id': '56cde07662d2951400fa6948',\n",
       "     'question': 'Quanto tempo ci è voluto per ripristinare queste capacità?'},\n",
       "    {'answers': [{'answer_start': 42, 'text': 'telecomunicazioni'}],\n",
       "     'id': '56d51ea52593cc1400307a89',\n",
       "     'question': 'Cosa è stato tagliato dopo il terremoto?'},\n",
       "    {'answers': [{'answer_start': 436, 'text': 'siti web di notizie e media'}],\n",
       "     'id': '56d51ea52593cc1400307a8c',\n",
       "     'question': \"Quali servizi internet sono diminuiti nell' area?\"}]},\n",
       "  {'context': \"China Mobile ha avuto più di 2.300 stazioni base sospese a causa di interruzione dell' alimentazione o grave congestione del traffico delle telecomunicazioni. Metà delle comunicazioni wireless sono andate perse nella provincia del Sichuan. Il servizio di China Unicom a Wenchuan e in quattro contee vicine è stato interrotto, con più di 700 torri sospese.\",\n",
       "   'qas': [{'answers': [{'answer_start': 29, 'text': '2.300'}],\n",
       "     'id': '56cde11f62d2951400fa694c',\n",
       "     'question': 'Quante stazioni base sono state sospese?'},\n",
       "    {'answers': [{'answer_start': 29, 'text': '2.300'}],\n",
       "     'id': '56d5202a2593cc1400307a93',\n",
       "     'question': 'Quante stazioni base China Mobile hanno smesso di funzionare?'},\n",
       "    {'answers': [{'answer_start': 109, 'text': 'congestione del traffico'}],\n",
       "     'id': '56d5202a2593cc1400307a94',\n",
       "     'question': \"Oltre all' interruzione dell' alimentazione, cosa ha causato la sospensione delle telecomunicazioni?\"},\n",
       "    {'answers': [{'answer_start': 159, 'text': 'Metà'}],\n",
       "     'id': '56d5202a2593cc1400307a95',\n",
       "     'question': 'Quante comunicazioni wireless sono fallite nel Sichuan?'},\n",
       "    {'answers': [{'answer_start': 255, 'text': 'China Unicom'}],\n",
       "     'id': '56d5202a2593cc1400307a96',\n",
       "     'question': 'Chi servizio a Wenchuan è stato interrotto?'},\n",
       "    {'answers': [{'answer_start': 337, 'text': '700'}],\n",
       "     'id': '56d5202a2593cc1400307a97',\n",
       "     'question': 'Quante torri di China Unicom sono state tagliate?'}]},\n",
       "  {'context': \"Inizialmente, i funzionari non erano in grado di contattare la Wolong National Nature Reserve, sede di circa 280 panda giganti. Tuttavia, il Ministero degli Esteri in seguito ha detto che un gruppo di 31 turisti britannici che visitano la riserva Wolong Panda nella zona colpita dal terremoto ha restituito sicuro e indenne a Chengdu. Tuttavia, il benessere di un numero ancora maggiore di panda nelle vicine riserve del panda è rimasto sconosciuto. Cinque guardie di sicurezza della riserva sono state uccise dal terremoto. Sei panda sono fuggiti dopo che i loro recinti sono stati danneggiati. Entro il 20 maggio, due panda presso la riserva sono stati trovati per essere feriti, mentre la ricerca è continuata per altri due panda adulti che è andato perduto dopo il terremoto. Al 28 maggio 2008 mancava ancora un panda. Il panda mancante è stato poi trovato morto sotto le macerie di un recinto. Mao Mao Mao Mao, nove anni, madre di cinque anni nel centro di allevamento, è stata scoperta lunedì, il suo corpo schiacciato da un muro nel suo recinto. I detentori di panda e altri lavoratori hanno messo i suoi resti in una piccola cassa di legno e l' hanno seppellita fuori dal centro di allevamento.\",\n",
       "   'qas': [{'answers': [{'answer_start': 103, 'text': 'circa 280'}],\n",
       "     'id': '56cde1f462d2951400fa695f',\n",
       "     'question': 'Quanti panda vivono nella riserva?'},\n",
       "    {'answers': [{'answer_start': 201, 'text': '31'}],\n",
       "     'id': '56cde1f462d2951400fa6960',\n",
       "     'question': 'Quanti visitatori britannici della Riserva hanno lasciato illeso?'},\n",
       "    {'answers': [{'answer_start': 109, 'text': '2'}],\n",
       "     'id': '56cde1f462d2951400fa6961',\n",
       "     'question': 'Quanti panda sono stati feriti?'},\n",
       "    {'answers': [{'answer_start': 63,\n",
       "       'text': 'Wolong National Nature Reserve'}],\n",
       "     'id': '56d521ee2593cc1400307a9d',\n",
       "     'question': 'Quale centro naturalistico è stato tagliato?'},\n",
       "    {'answers': [{'answer_start': 525, 'text': 'Sei'}],\n",
       "     'id': '56d521ee2593cc1400307a9f',\n",
       "     'question': 'Quanti panda sono fuggiti dalla riserva?'},\n",
       "    {'answers': [{'answer_start': 450, 'text': 'cinque'}],\n",
       "     'id': '56d521ee2593cc1400307aa0',\n",
       "     'question': 'Quante guardie di sicurezza sono morte nella riserva?'},\n",
       "    {'answers': [{'answer_start': 899, 'text': 'Mao Mao Mao'}],\n",
       "     'id': '56d521ee2593cc1400307aa1',\n",
       "     'question': 'Quale famoso panda è stato ucciso sotto le macerie?'}]},\n",
       "  {'context': \"La centrale idroelettrica Zipingpu (semplificata cinese:????; tradizionale cinese:??????) situata a 20 km ad est dell' epicentro è stata danneggiata. Da una recente ispezione è emerso che il danno era meno grave di quanto inizialmente temuto e resta strutturalmente stabile e sicuro. Il serbatoio di Tulong a monte rischia di crollare. Circa 2.000 soldati sono stati assegnati a Zipingpu, cercando di liberare la pressione attraverso lo sfioratore. In totale sono state segnalate 391 dighe, per la maggior parte di piccole dimensioni, danneggiate dal sisma.\",\n",
       "   'qas': [{'answers': [{'answer_start': 342, 'text': '2.000'}],\n",
       "     'id': '56cde29b62d2951400fa696b',\n",
       "     'question': 'Quante truppe sono state assegnate a Zipingpu?'},\n",
       "    {'answers': [{'answer_start': 480, 'text': '391'}],\n",
       "     'id': '56cde29b62d2951400fa696c',\n",
       "     'question': 'Quante dighe sono state danneggiate?'},\n",
       "    {'answers': [{'answer_start': 100, 'text': '20 km'}],\n",
       "     'id': '56d523bd2593cc1400307aa8',\n",
       "     'question': \"Quanto era vicina all' epicentro la centrale elettrica?\"},\n",
       "    {'answers': [{'answer_start': 201, 'text': 'meno grave'}],\n",
       "     'id': '56d523bd2593cc1400307aa9',\n",
       "     'question': 'Che cosa è emerso da una recente ispezione sui danni alla centrale?'},\n",
       "    {'answers': [{'answer_start': 480, 'text': '391'}],\n",
       "     'id': '56d523bd2593cc1400307aab',\n",
       "     'question': 'Qual è il numero totale di dighe danneggiate?'}]},\n",
       "  {'context': \"Secondo i funzionari di Stato cinesi, il terremoto ha causato 69.180 morti conosciute tra cui 68.636 nella provincia del Sichuan; 18.498 persone sono elencate come scomparse, e 374.176 feriti, ma queste cifre possono ulteriormente aumentare con l' arrivo di più rapporti.\",\n",
       "   'qas': [{'answers': [{'answer_start': 94, 'text': '68.636'}],\n",
       "     'id': '56cde34662d2951400fa6973',\n",
       "     'question': 'Quanti decessi sono stati segnalati solo nella provincia del Sichuan?'},\n",
       "    {'answers': [{'answer_start': 130, 'text': '18.498'}],\n",
       "     'id': '56cde34662d2951400fa6974',\n",
       "     'question': \"Quante persone sono state inserite nell' elenco come scomparse?\"},\n",
       "    {'answers': [{'answer_start': 177, 'text': '374.176'}],\n",
       "     'id': '56cde34662d2951400fa6975',\n",
       "     'question': 'Quante persone sono rimaste ferite?'},\n",
       "    {'answers': [{'answer_start': 94, 'text': '68.636'}],\n",
       "     'id': '56d525192593cc1400307ab1',\n",
       "     'question': 'Quanti morti nel Sichuan?'},\n",
       "    {'answers': [{'answer_start': 62, 'text': '69.180'}],\n",
       "     'id': '56d525192593cc1400307ab2',\n",
       "     'question': 'Qual è il conteggio totale dei morti noti causati dal terremoto?'},\n",
       "    {'answers': [{'answer_start': 130, 'text': '18.498'}],\n",
       "     'id': '56d525192593cc1400307ab3',\n",
       "     'question': 'Qual è il numero di persone scomparse?'},\n",
       "    {'answers': [{'answer_start': 177, 'text': '374.176'}],\n",
       "     'id': '56d525192593cc1400307ab4',\n",
       "     'question': 'Quante persone sono rimaste ferite?'}]},\n",
       "  {'context': \"Una squadra di soccorso ha riportato solo 2.300 sopravvissuti della città di Yingxiu nella contea di Wenchuan, su una popolazione totale di circa 9.000 abitanti. Da 3.000 a 5.000 persone sono state uccise nella sola contea di Beichuan, nel Sichuan; nello stesso luogo, 10.000 persone sono rimaste ferite e l' 80% degli edifici sono stati distrutti. L' antica sede della contea di Beichuan è stata abbandonata e conservata come parte del Beichuan Earthquake Museum. Otto scuole sono state abbattute nel Dujiangyan. Un cinquantaseienne è stato ucciso a Dujiangyan durante un tentativo di salvataggio sulla Lingyanshan Ropeway, dove a causa del terremoto 11 turisti taiwanesi erano rimasti intrappolati all' interno di funivie dal 13 maggio. Un ragazzo di 4 anni di nome Zhu Shaowei (cinese tradizionale:???; cinese semplificato:???; pinyin: Zh? Shàowéi) è stato ucciso anche a Mianzhu City quando una casa è crollata su di lui e un altro è stato segnalato perduto.\",\n",
       "   'qas': [{'answers': [{'answer_start': 42, 'text': '2.300'}],\n",
       "     'id': '56ceb9c4aab44d1400b8892b',\n",
       "     'question': 'Quanti sopravvissuti ci sono stati da Yingxiu?'},\n",
       "    {'answers': [{'answer_start': 146, 'text': '9.000'}],\n",
       "     'id': '56ceb9c4aab44d1400b8892d',\n",
       "     'question': 'Quante persone in totale vivevano a Yingxiu?'},\n",
       "    {'answers': [{'answer_start': 162, 'text': 'Da 3.000 a 5.000'}],\n",
       "     'id': '56ceb9c4aab44d1400b8892e',\n",
       "     'question': 'Quante persone sono state uccise nella contea di Beichuan?'},\n",
       "    {'answers': [{'answer_start': 269, 'text': '10.000'}],\n",
       "     'id': '56ceb9c4aab44d1400b8892f',\n",
       "     'question': 'Quante persone sono rimaste ferite nella contea di Beichuan?'},\n",
       "    {'answers': [{'answer_start': 42, 'text': '2.300'}],\n",
       "     'id': '56d5307f2593cc1400307abb',\n",
       "     'question': \"Quanti sopravvissuti c' erano nella città di Yingxiu?\"},\n",
       "    {'answers': [{'answer_start': 140, 'text': 'circa 9.000'}],\n",
       "     'id': '56d5307f2593cc1400307abc',\n",
       "     'question': 'Qual era la popolazione precedente di Yingxiu?'},\n",
       "    {'answers': [{'answer_start': 162, 'text': 'Da 3.000 a 5.000'}],\n",
       "     'id': '56d5307f2593cc1400307abd',\n",
       "     'question': 'Quanti residenti sono stati uccisi nella contea di Beichuan?'},\n",
       "    {'answers': [{'answer_start': 269, 'text': '10.000'}],\n",
       "     'id': '56d5307f2593cc1400307abe',\n",
       "     'question': 'Quanto è stato grande il numero di feriti nella contea di Beichuan?'},\n",
       "    {'answers': [{'answer_start': 465, 'text': 'Otto scuole'}],\n",
       "     'id': '56d5307f2593cc1400307abf',\n",
       "     'question': 'Qual è il numero di scuole crollate in Dujiangyan?'}]},\n",
       "  {'context': 'Gli esperti sottolineano che il terremoto ha colpito un\\' area in gran parte trascurata e non toccata dall\\' ascesa economica della Cina. L\\' assistenza sanitaria è carente nelle zone interne come il Sichuan, il che mette in evidenza il crescente divario tra gli abitanti urbani prosperi e le popolazioni rurali in difficoltà. Vice Ministro della Sanità Gao Qiang ha detto ai giornalisti a Pechino che il \"sistema sanitario pubblico in Cina è insufficiente\".',\n",
       "   'qas': [{'answers': [{'answer_start': 351, 'text': 'Gao Qiang'}],\n",
       "     'id': '56ceba72aab44d1400b88936',\n",
       "     'question': 'Chi era il Vice Ministro della Salute?'},\n",
       "    {'answers': [{'answer_start': 176, 'text': 'zone interne'}],\n",
       "     'id': '56d5324d2593cc1400307ac6',\n",
       "     'question': \"Dove è povera l' assistenza sanitaria in Cina?\"},\n",
       "    {'answers': [{'answer_start': 440, 'text': 'insufficiente'}],\n",
       "     'id': '56d5324d2593cc1400307ac7',\n",
       "     'question': 'Che cosa ha chiamato il Vice Ministro della Salute il sistema sanitario pubblico in Cina?'}]},\n",
       "  {'context': 'In termini di feriti scolastici, migliaia di bambini sono morti a causa di costruzioni scadenti. A Mianyang City, sette scuole sono crollate, seppellendo almeno 1.700 persone. Almeno 7.000 edifici scolastici in tutta la provincia sono crollati. Altri 700 studenti sono stati sepolti in una scuola di Hanwang. Alla scuola elementare Juyuan sono morti almeno 600 studenti e personale. Fino a 1.300 bambini e insegnanti sono morti alla Beichuan Middle School.',\n",
       "   'qas': [{'answers': [{'answer_start': 33, 'text': 'migliaia'}],\n",
       "     'id': '56cebae8aab44d1400b8893d',\n",
       "     'question': 'Quanti bambini sono morti a causa di costruzioni scadenti?'},\n",
       "    {'answers': [{'answer_start': 114, 'text': 'sette'}],\n",
       "     'id': '56cebae8aab44d1400b8893e',\n",
       "     'question': 'Quante scuole sono crollate a Mianyang City?'},\n",
       "    {'answers': [{'answer_start': 161, 'text': '1.700'}],\n",
       "     'id': '56cebae8aab44d1400b8893f',\n",
       "     'question': 'Quante persone sono state sepolte nelle scuole crollate?'},\n",
       "    {'answers': [{'answer_start': 183, 'text': '7.000'}],\n",
       "     'id': '56cebae8aab44d1400b88940',\n",
       "     'question': 'Quanti edifici scolastici sono crollati in provincia?'},\n",
       "    {'answers': [{'answer_start': 163, 'text': '700'}],\n",
       "     'id': '56cebae8aab44d1400b88941',\n",
       "     'question': 'Quanti studenti sono stati sepolti in una scuola di Hanwang?'},\n",
       "    {'answers': [{'answer_start': 114, 'text': 'sette'}],\n",
       "     'id': '56d533a52593cc1400307ad0',\n",
       "     'question': 'Quante scuole sono crollate a Mianyang City?'},\n",
       "    {'answers': [{'answer_start': 183, 'text': '7.000'}],\n",
       "     'id': '56d533a52593cc1400307ad1',\n",
       "     'question': 'Quanti edifici scolastici sono caduti in tutta la provincia?'},\n",
       "    {'answers': [{'answer_start': 357, 'text': '600'}],\n",
       "     'id': '56d533a52593cc1400307ad2',\n",
       "     'question': 'Quanti sono stati uccisi alla scuola elementare di Juyuan?'}]},\n",
       "  {'context': \"I dettagli delle vittime scolastiche sono stati oggetto di indagini non governative dal dicembre 2008 da parte di volontari, tra cui l' artista e architetto Ai Weiwei, che dal marzo 2009 ha costantemente pubblicato aggiornamenti sul suo blog. Il conteggio ufficiale degli studenti uccisi nel terremoto è stato rilasciato solo il 7 maggio 2009, quasi un anno dopo il terremoto. Secondo l' agenzia di stampa statale Xinhua, il terremoto ha ucciso 5.335 studenti e lasciato altri 546 bambini disabili. All' indomani del terremoto, il governo cinese ha dichiarato che i genitori che avevano perso i loro soli figli avrebbero ricevuto cure gratuite da cliniche di fertilità per invertire vasectomie e legature tubarie condotte dalle autorità di pianificazione familiare.\",\n",
       "   'qas': [{'answers': [{'answer_start': 88, 'text': 'dicembre 2008'}],\n",
       "     'id': '56cebb71aab44d1400b88951',\n",
       "     'question': \"Quando si è svolta un' indagine in seguito a incidenti scolastici?\"},\n",
       "    {'answers': [{'answer_start': 329, 'text': '7 maggio 2009'}],\n",
       "     'id': '56cebb71aab44d1400b88952',\n",
       "     'question': 'Quando è stato rilasciato il conteggio ufficiale degli studenti uccisi nel terremoto?'},\n",
       "    {'answers': [{'answer_start': 445, 'text': '5.335'}],\n",
       "     'id': '56cebb71aab44d1400b88953',\n",
       "     'question': 'Quanti studenti sono stati uccisi a Xinhua?'},\n",
       "    {'answers': [{'answer_start': 477, 'text': '546'}],\n",
       "     'id': '56cebb71aab44d1400b88954',\n",
       "     'question': 'Quanti studenti sono stati disabili a Xinhua?'},\n",
       "    {'answers': [{'answer_start': 329, 'text': '7 maggio 2009'}],\n",
       "     'id': '56d5357b2593cc1400307ad9',\n",
       "     'question': 'Qual è stata la data in cui è stato rilasciato il numero ufficiale degli studenti uccisi nel terremoto?'},\n",
       "    {'answers': [{'answer_start': 157, 'text': 'Ai Weiwei'}],\n",
       "     'id': '56d5357b2593cc1400307ada',\n",
       "     'question': 'Chi ha tenuto un blog sui decessi scolastici?'},\n",
       "    {'answers': [{'answer_start': 445, 'text': '5.335'}],\n",
       "     'id': '56d5357b2593cc1400307adb',\n",
       "     'question': 'Qual è il numero totale di bambini che hanno perso la scuola?'},\n",
       "    {'answers': [{'answer_start': 477, 'text': '546'}],\n",
       "     'id': '56d5357b2593cc1400307adc',\n",
       "     'question': 'Quanti bambini sono disabili?'},\n",
       "    {'answers': [{'answer_start': 647, 'text': 'cliniche di fertilità'}],\n",
       "     'id': '56d5357b2593cc1400307add',\n",
       "     'question': 'Dove ha deciso il governo cinese che i genitori che avevano perso i figli potessero farsi curare gratuitamente?'}]},\n",
       "  {'context': \"Il terremoto ha lasciato almeno 5 milioni di persone senza alloggio, anche se il numero potrebbe raggiungere gli 11 milioni. Milioni di animali da allevamento e una notevole quantità di agricoltura sono stati distrutti, tra cui 12,5 milioni di animali, principalmente uccelli. Nella provincia del Sichuan sono morti un milione di suini su un totale di 60 milioni. Catastrophe modeling firm AIR Worldwide ha riportato stime ufficiali delle perdite degli assicuratori pari a 1 miliardo di dollari USA dal terremoto; i danni totali stimati superano i 20 miliardi di dollari USA. Valorizza Chengdu, all' epoca con una popolazione urbana di 4,5 milioni di persone, a circa 115 miliardi di dollari, con solo una piccola parte coperta da assicurazioni.\",\n",
       "   'qas': [{'answers': [{'answer_start': 32, 'text': '5 milioni'}],\n",
       "     'id': '56cebbdeaab44d1400b88959',\n",
       "     'question': 'Quante persone sono rimaste senza alloggio?'},\n",
       "    {'answers': [{'answer_start': 113, 'text': '11 milioni'}],\n",
       "     'id': '56cebbdeaab44d1400b8895a',\n",
       "     'question': 'Quante persone potrebbero essere potenzialmente senza alloggio?'},\n",
       "    {'answers': [{'answer_start': 228, 'text': '12,5 milioni'}],\n",
       "     'id': '56cebbdeaab44d1400b8895b',\n",
       "     'question': 'Quanti animali sono stati uccisi?'},\n",
       "    {'answers': [{'answer_start': 113, 'text': '11 milioni'}],\n",
       "     'id': '56d5372f2593cc1400307ae4',\n",
       "     'question': 'Quante persone potrebbero effettivamente essere senzatetto?'},\n",
       "    {'answers': [{'answer_start': 228, 'text': '12,5 milioni di animali'}],\n",
       "     'id': '56d5372f2593cc1400307ae5',\n",
       "     'question': 'Quanto bestiame è andato perduto?'},\n",
       "    {'answers': [{'answer_start': 316, 'text': 'un milione'}],\n",
       "     'id': '56d5372f2593cc1400307ae6',\n",
       "     'question': 'Quanti maiali sono morti a causa del terremoto nel Sichuan?'}]},\n",
       "  {'context': 'Reginald DesRoches, professore di ingegneria civile e ambientale presso la Georgia Tech, ha sottolineato che i danni massicci di proprietà e case nella zona sismica sono dovuti al fatto che la Cina ha creato un adeguato codice di progettazione sismica solo dopo il devastante terremoto di Tangshan del 1976. DesRoches ha detto:\"Se gli edifici fossero più vecchi e costruiti prima di quel terremoto del 1976, è probabile che non siano stati costruiti per un\\' adeguata forza sismica\".',\n",
       "   'qas': [{'answers': [{'answer_start': 0, 'text': 'Reginald DesRoches'}],\n",
       "     'id': '56cebcb4aab44d1400b88963',\n",
       "     'question': 'Chi era professore di ingegneria civile e ambientale alla Georgia Tech?'},\n",
       "    {'answers': [{'answer_start': 20,\n",
       "       'text': 'professore di ingegneria civile e ambientale'}],\n",
       "     'id': '56d538bc2593cc1400307aed',\n",
       "     'question': 'Qual è la professione di Reginald DesRoches?'},\n",
       "    {'answers': [{'answer_start': 302, 'text': '1976'}],\n",
       "     'id': '56d538bc2593cc1400307aee',\n",
       "     'question': \"Quando la Cina ha creato un codice di progettazione sismica per l' edilizia?\"},\n",
       "    {'answers': [{'answer_start': 276, 'text': 'terremoto di Tangshan'}],\n",
       "     'id': '56d538bc2593cc1400307aef',\n",
       "     'question': \"Che catastrofe li ha spinti a fare un codice di progettazione dell' edificio /.?\"}]},\n",
       "  {'context': \"Nei giorni successivi al disastro, un team internazionale di ingegneri è stato inviato nella regione per effettuare un' indagine preliminare dettagliata sugli edifici danneggiati. I loro risultati mostrano una varietà di ragioni per cui molte costruzioni non sono riuscite a resistere al terremoto.\",\n",
       "   'qas': []},\n",
       "  {'context': 'Le notizie di cronaca indicano che i villaggi rurali più poveri sono stati colpiti più duramente. Swaminathan Krishnan, assistente professore di ingegneria civile e geofisica presso il California Institute of Technology ha dichiarato:\"Il terremoto si è verificato nella parte rurale della Cina. Probabilmente, molti degli edifici sono stati appena costruiti; non sono stati progettati, per così dire. Swaminathan Krishnan ha aggiunto:\"In Cina ci sono norme edilizie molto forti, che si occupano di terremoto e problemi di progettazione sismica.',\n",
       "   'qas': [{'answers': [{'answer_start': 98, 'text': 'Swaminathan Krishnan'}],\n",
       "     'id': '56cebd8aaab44d1400b88978',\n",
       "     'question': 'Chi era professore assistente di ingegneria civile e geofisica presso il California Institute of Technology?'},\n",
       "    {'answers': [{'answer_start': 270, 'text': 'parte rurale'}],\n",
       "     'id': '56d53bf82593cc1400307afd',\n",
       "     'question': 'In quale parte della Cina si è verificato il terremoto?'}]},\n",
       "  {'context': 'Anche con le cinque città più grandi del Sichuan che subiscono solo danni di modesta entità a causa del terremoto, alcune stime della perdita economica superano i 75 miliardi di dollari, rendendo il terremoto uno dei disastri naturali più costosi della storia cinese.',\n",
       "   'qas': [{'answers': [{'answer_start': 163,\n",
       "       'text': '75 miliardi di dollari'}],\n",
       "     'id': '56cebdd0aab44d1400b8897f',\n",
       "     'question': 'Qual è la stima della perdita economica del terremoto?'},\n",
       "    {'answers': [{'answer_start': 163, 'text': '75 miliardi di dollari'}],\n",
       "     'id': '56d53d9a2593cc1400307b08',\n",
       "     'question': 'Qual è la stima delle perdite economiche?'},\n",
       "    {'answers': [{'answer_start': 253, 'text': 'storia cinese'}],\n",
       "     'id': '56d53d9a2593cc1400307b09',\n",
       "     'question': 'Chi è questo uno dei disastri più costosi della storia di?'},\n",
       "    {'answers': [{'answer_start': 13, 'text': 'cinque città più grandi'}],\n",
       "     'id': '56d53d9a2593cc1400307b0a',\n",
       "     'question': 'Quali città del Sichuan hanno subito danni minori?'}]},\n",
       "  {'context': \"Forti scosse di assestamento hanno continuato a colpire anche mesi dopo il terremoto principale. Il 25 maggio, una scossa di assestamento di 6.0 Mw (6.4 Ms secondo CEA) ha colpito a nord-est dell' epicentro del terremoto originale, nella contea di Qingchuan, Sichuan, causando otto morti, 1000 feriti e distruggendo migliaia di edifici. Il 27 maggio, due scosse di assestamento, una 5.2 Mw nella contea di Qingchuan e una 5.7 Mw nella contea di Ningqiang, Shaanxi, hanno portato al crollo di oltre 420.000 case e feriti 63 persone. La stessa area ha sofferto due scosse di assestamento più di 5,6 e 6,0 Ms (5,8 e 5,5 Mw, rispettivamente, secondo USGS) il 23 luglio, con conseguente 1 decesso, 6 feriti gravi, crollo di centinaia di case e danni chilometri di autostrade. Pingwu County e Beichuan County, Sichuan, anche a nord-est di Wenchuan e vicino all' epicentro di un terremoto della sig. ra 7.2 nel 1976, subì un terremoto di 6.1 Ms aftershock (5.7 Mw secondo l' USGS) il 1 agosto 1; ha causato 2 morti, 345 feriti, crollo di 707 case, danni a oltre 1.000 case, e bloccato 25 chilometri (16 mi) di strade di campagna.\",\n",
       "   'qas': [{'answers': [{'answer_start': 141, 'text': '6.0 Mw'}],\n",
       "     'id': '56d540072593cc1400307b0f',\n",
       "     'question': 'Quanto è stata forte la scossa di assestamento del 25 maggio nella contea di Qingchuan?'},\n",
       "    {'answers': [{'answer_start': 289, 'text': '1000'}],\n",
       "     'id': '56d540072593cc1400307b10',\n",
       "     'question': 'Quante persone sono rimaste ferite durante la scossa di assestamento del 25 maggio?'},\n",
       "    {'answers': [{'answer_start': 520, 'text': '63'}],\n",
       "     'id': '56d540072593cc1400307b12',\n",
       "     'question': 'Durante il 27 maggio scosse di assestamento, quante persone sono rimaste ferite?'},\n",
       "    {'answers': [{'answer_start': 248, 'text': 'Qingchuan, Sichuan'}],\n",
       "     'id': '56d540072593cc1400307b13',\n",
       "     'question': \"Dov' è stata la scossa di assestamento del 5 agosto che ha causato ampie frane di collina?\"}]},\n",
       "  {'context': 'Vice governatore esecutivo Wei Hong Wei ha confermato il 21 novembre 2008 che più di 90.000 persone in totale erano morti o dispersi nel terremoto. Ha dichiarato che 200.000 case sono state ricostruite e 685.000 sono in fase di ricostruzione, ma 1,94 milioni di famiglie sono ancora prive di ricovero permanente. Sono state ricostruite 1.300 scuole, con il trasferimento iniziale di 25 città, tra cui Beichuan e Wenchuan, due delle aree più devastate. Il governo ha speso 441 miliardi di dollari per gli sforzi di soccorso e ricostruzione.',\n",
       "   'qas': [{'answers': [{'answer_start': 27, 'text': 'Wei Hong'}],\n",
       "     'id': '56cebef6aab44d1400b88997',\n",
       "     'question': 'Chi era il vice governatore esecutivo?'},\n",
       "    {'answers': [{'answer_start': 166, 'text': '200.000'}],\n",
       "     'id': '56cebef6aab44d1400b88999',\n",
       "     'question': 'Quante case sono state ricostruite?'},\n",
       "    {'answers': [{'answer_start': 336, 'text': '1.300'}],\n",
       "     'id': '56cebef6aab44d1400b8899b',\n",
       "     'question': 'Quante scuole sono state ricostruite?'},\n",
       "    {'answers': [{'answer_start': 27, 'text': 'Wei Hong'}],\n",
       "     'id': '56d548552593cc1400307b19',\n",
       "     'question': 'Chi ha parlato dei morti e dei dispersi il 21 novembre 2008?'},\n",
       "    {'answers': [{'answer_start': 85, 'text': '90.000'}],\n",
       "     'id': '56d548552593cc1400307b1a',\n",
       "     'question': 'Quante persone hanno detto Wei Hong che erano morte o mancanti?'},\n",
       "    {'answers': [{'answer_start': 166, 'text': '200.000'}],\n",
       "     'id': '56d548552593cc1400307b1b',\n",
       "     'question': 'Quante case sono state ricostruite?'},\n",
       "    {'answers': [{'answer_start': 204, 'text': '685.000'}],\n",
       "     'id': '56d548552593cc1400307b1c',\n",
       "     'question': 'Quante case erano ancora in costruzione?'}]},\n",
       "  {'context': \"Il segretario generale e presidente Hu Jintao ha annunciato che la risposta alle catastrofi sarà rapida. A soli 90 minuti dal terremoto, il premier Wen Jiabao, che ha una formazione accademica in geomeccanica, ha volato nella zona del terremoto per sorvegliare i lavori di salvataggio. Poco dopo, il Ministero della Salute ha detto che aveva inviato dieci squadre mediche di emergenza a Wenchuan County. Lo stesso giorno, il comando militare della regione militare di Chengdu ha inviato 50.000 soldati e polizia armata per aiutare con il lavoro di soccorso in caso di catastrofe nella contea di Wenchuan. Tuttavia, a causa del terreno accidentato e della vicinanza dell' epicentro del sisma, i soldati hanno avuto molte difficoltà ad ottenere aiuto nelle regioni rurali della provincia.\",\n",
       "   'qas': [{'answers': [{'answer_start': 137,\n",
       "       'text': 'il premier Wen Jiabao'}],\n",
       "     'id': '56cebf6aaab44d1400b889a1',\n",
       "     'question': \"Chi ha volato nella zona sismica 90 minuti dopo l' urto?\"},\n",
       "    {'answers': [{'answer_start': 196, 'text': 'geomeccanica'}],\n",
       "     'id': '56cebf6aaab44d1400b889a2',\n",
       "     'question': \"In cosa c' era il background di Premier Wen Jiabao?\"},\n",
       "    {'answers': [{'answer_start': 261, 'text': 'i lavori di salvataggio'}],\n",
       "     'id': '56cebf6aaab44d1400b889a3',\n",
       "     'question': 'Che cosa ha supervisionato Jiabao nella regione?'},\n",
       "    {'answers': [{'answer_start': 487, 'text': '50.000'}],\n",
       "     'id': '56cebf6aaab44d1400b889a4',\n",
       "     'question': 'Quante truppe sono state inviate dai militari Chengdu?'},\n",
       "    {'answers': [{'answer_start': 350, 'text': 'dieci'}],\n",
       "     'id': '56d54a582593cc1400307b25',\n",
       "     'question': 'Quante squadre mediche sono state inviate nella contea di Wenchuan?'},\n",
       "    {'answers': [{'answer_start': 487, 'text': '50.000'}],\n",
       "     'id': '56d54a582593cc1400307b26',\n",
       "     'question': 'Quante truppe sono state inviate nella zona per operazioni di soccorso?'}]},\n",
       "  {'context': 'La Commissione nazionale di soccorso in caso di catastrofe ha avviato un \"piano di emergenza di II livello\", che copre la categoria più grave di catastrofi naturali. Il piano è salito al livello I alle 22:15 CST, 12 maggio.',\n",
       "   'qas': [{'answers': [{'answer_start': 197,\n",
       "       'text': 'alle 22:15 CST, 12 maggio'}],\n",
       "     'id': '56cebfcaaab44d1400b889ab',\n",
       "     'question': 'Quando è salito il piano al livello I?'},\n",
       "    {'answers': [{'answer_start': 132, 'text': 'più grave'}],\n",
       "     'id': '56d54bc82593cc1400307b2e',\n",
       "     'question': \"Quale classe di catastrofi è un' emergenza di livello II?\"},\n",
       "    {'answers': [{'answer_start': 3,\n",
       "       'text': 'Commissione nazionale di soccorso in caso di catastrofe'}],\n",
       "     'id': '56d54bc82593cc1400307b30',\n",
       "     'question': 'Quale dipartimento ha avviato il piano di emergenza?'}]},\n",
       "  {'context': \"Un' équipe di soccorso in caso di terremoto di 184 persone (composta da 12 persone dell' Ufficio sismologico di Stato, 150 del Comando dell' Area militare di Pechino e 22 dell' Ospedale Generale della Polizia Armata) ha lasciato Pechino dall' aeroporto di Nanyuan alla fine del 12 maggio in due aerei da trasporto militare per raggiungere la contea di Wenchuan.\",\n",
       "   'qas': [{'answers': [{'answer_start': 47, 'text': '184'}],\n",
       "     'id': '56cec033aab44d1400b889af',\n",
       "     'question': 'Quante persone erano nel team di soccorso in caso di terremoto?'},\n",
       "    {'answers': [{'answer_start': 72, 'text': '12'}],\n",
       "     'id': '56cec033aab44d1400b889b0',\n",
       "     'question': \"Quante squadre di soccorso provenivano dall' Ufficio sismologico di Stato?\"},\n",
       "    {'answers': [{'answer_start': 119, 'text': '150'}],\n",
       "     'id': '56cec033aab44d1400b889b1',\n",
       "     'question': 'Quanti membri della squadra erano militari?'},\n",
       "    {'answers': [{'answer_start': 168, 'text': '22'}],\n",
       "     'id': '56cec033aab44d1400b889b2',\n",
       "     'question': 'Quanti membri della squadra provenivano dalla polizia?'},\n",
       "    {'answers': [{'answer_start': 47, 'text': '184'}],\n",
       "     'id': '56d5d41b1c85041400946e0d',\n",
       "     'question': 'Quante persone costituivano la squadra di soccorso?'},\n",
       "    {'answers': [{'answer_start': 119, 'text': '150'}],\n",
       "     'id': '56d5d41b1c85041400946e0e',\n",
       "     'question': \"Quanti soldati provenivano dall' esercito di Pechino?\"},\n",
       "    {'answers': [{'answer_start': 177,\n",
       "       'text': 'Ospedale Generale della Polizia Armata'}],\n",
       "     'id': '56d5d41b1c85041400946e0f',\n",
       "     'question': 'Da dove provengono 22 della squadra di soccorso?'}]},\n",
       "  {'context': 'Nel China Digital Times un articolo riporta un\\' analisi approfondita da parte di un presunto ingegnere edile cinese conosciuto online come \"Book Blade\" (??), che ha dichiarato: un\\' analisi approfondita da parte di un presunto ingegnere edile cinese.',\n",
       "   'qas': [{'answers': [{'answer_start': 140, 'text': 'Book Blade'}],\n",
       "     'id': '56cec11faab44d1400b889c8',\n",
       "     'question': \"Dov' è stato riportato un articolo sullo scandalo?\"},\n",
       "    {'answers': [{'answer_start': 4, 'text': 'China Digital Times'}],\n",
       "     'id': '56d64d231c85041400947089',\n",
       "     'question': 'Qual è stato il nome della persona che ha pubblicato un rapporto nel China Digital Times?'}]},\n",
       "  {'context': 'In occasione della Festa dei bambini, il 1° giugno 2008, molti genitori si sono recati sulle macerie delle scuole per piangere i loro figli. I bambini sopravvissuti, che vivevano per lo più in centri di soccorso, hanno compiuto cerimonie che hanno segnato il giorno speciale, ma anche riconosciuto il terremoto.',\n",
       "   'qas': [{'answers': [{'answer_start': 19, 'text': 'Festa dei bambini'}],\n",
       "     'id': '56cec174aab44d1400b889cb',\n",
       "     'question': 'Che cosa è stato chiamato 1 giugno 2008?'}]},\n",
       "  {'context': \"Le imprese statali centrali hanno donato complessivamente più di 48,6 milioni di dollari. China National Petroleum Corp e Sinopec ha donato 10 milioni di yuan ciascuno per l' area del disastro.\",\n",
       "   'qas': [{'answers': [{'answer_start': 140, 'text': '10 milioni di yuan'}],\n",
       "     'id': '56cec1ffaab44d1400b889de',\n",
       "     'question': 'Quanto ha donato China National Petroleum Corp e Sinopec?'},\n",
       "    {'answers': [{'answer_start': 65, 'text': '48,6 milioni'}],\n",
       "     'id': '56d6647b1c850414009470ed',\n",
       "     'question': 'Quanto hanno donato le imprese statali centrali?'},\n",
       "    {'answers': [{'answer_start': 140, 'text': '10 milioni di yuan ciascuno'}],\n",
       "     'id': '56d6647b1c850414009470ee',\n",
       "     'question': 'Quanto ha donato China National Petroleum e Sinopec?'}]},\n",
       "  {'context': \"Il 16 maggio la Cina ha dichiarato di aver ricevuto anche 457 milioni di dollari in donazioni di denaro e beni per gli sforzi di salvataggio finora compiuti, compresi 83 milioni di dollari provenienti da 19 paesi e quattro organizzazioni internazionali. L' Arabia Saudita è stata il principale donatore di aiuti alla Cina, fornendo quasi 40.000.000 di euro in assistenza finanziaria e altri 8.000.000 di euro di materiale di soccorso.\",\n",
       "   'qas': [{'answers': [{'answer_start': 58,\n",
       "       'text': '457 milioni di dollari'}],\n",
       "     'id': '56cec2a1aab44d1400b889e1',\n",
       "     'question': 'Quanto ha ricevuto la Cina in denaro e beni donati?'},\n",
       "    {'answers': [{'answer_start': 204, 'text': '19 paesi'}],\n",
       "     'id': '56cec2a1aab44d1400b889e2',\n",
       "     'question': 'Quanti paesi hanno donato?'},\n",
       "    {'answers': [{'answer_start': 215, 'text': 'quattro'}],\n",
       "     'id': '56cec2a1aab44d1400b889e3',\n",
       "     'question': 'Quante organizzazioni internazionali hanno donato?'},\n",
       "    {'answers': [{'answer_start': 257, 'text': 'Arabia Saudita'}],\n",
       "     'id': '56cec2a1aab44d1400b889e4',\n",
       "     'question': 'Quale paese è stato il maggiore donatore di aiuti alla Cina?'},\n",
       "    {'answers': [{'answer_start': 167, 'text': '83 milioni'}],\n",
       "     'id': '56d6696d1c850414009470fb',\n",
       "     'question': 'Quanto denaro è stato donato da fonti straniere?'},\n",
       "    {'answers': [{'answer_start': 257, 'text': 'Arabia Saudita'}],\n",
       "     'id': '56d6696d1c850414009470fc',\n",
       "     'question': 'Quale paese è stato il maggiore donatore di aiuti alla Cina?'},\n",
       "    {'answers': [{'answer_start': 215, 'text': 'quattro'}],\n",
       "     'id': '56d6696d1c850414009470fe',\n",
       "     'question': 'Quante organizzazioni internazionali hanno fatto donazioni?'}]},\n",
       "  {'context': 'Nel 2008, il Consiglio di Stato ha stabilito un piano di sostegno alla controparte????????? Il piano è quello di organizzare 19 province orientali e centrali e municipalitie per aiutare 18 contee, su \"una provincia a una contea interessata\" base. Il piano ha una durata di 3 anni, e costa non meno dell\\' uno per cento del bilancio della provincia o del comune. un piano di sostegno di contropartita.',\n",
       "   'qas': [{'answers': [{'answer_start': 273, 'text': '3 anni'}],\n",
       "     'id': '56d66f3e1c85041400947117',\n",
       "     'question': 'Quanto dura il piano?'},\n",
       "    {'answers': [{'answer_start': 304, 'text': 'uno per cento'}],\n",
       "     'id': '56d66f3e1c85041400947118',\n",
       "     'question': 'Qual è il costo per il bilancio della provincia?'}]},\n",
       "  {'context': 'Un articolo in Science suggerisce che la costruzione e il riempimento della diga di Zipingpu potrebbe aver innescato il terremoto. L\\' ingegnere capo del Sichuan Geology and Mineral Bureau ha detto che lo spostamento improvviso di una grande quantità d\\' acqua nella regione avrebbe potuto allentare la tensione tra i due lati del guasto, permettendo loro di allontanarsi, e avrebbe potuto aumentare la pressione diretta su di esso, causando una violenta rottura. L\\' effetto è stato \"25 volte più\" dello stress naturale del movimento tettonico di un anno. Il governo aveva ignorato gli avvertimenti relativi a tanti progetti di dighe su larga scala in un\\' area sismicamente attiva. Ai ricercatori è stato negato l\\' accesso ai dati sismologici e geologici per esaminare ulteriormente la causa del terremoto.',\n",
       "   'qas': [{'answers': [{'answer_start': 554, 'text': 'Il governo'}],\n",
       "     'id': '56d677f31c85041400947145',\n",
       "     'question': 'Chi ha ignorato gli avvertimenti sulle dighe nella zona?'},\n",
       "    {'answers': [{'answer_start': 713,\n",
       "       'text': 'accesso ai dati sismologici e geologici'}],\n",
       "     'id': '56d677f31c85041400947147',\n",
       "     'question': 'Che cosa sono stati negati ai ricercatori?'}]},\n",
       "  {'context': 'Il terremoto ha inoltre offerto ai ricercatori l\\' opportunità di aggiornare i dati per modellare le previsioni future. Utilizzando i dati dell\\' osservatorio geomagnetico Intermagnet Lanzhou, i geologi Lazo Pekevski della Ss. Cyril e Methodius University di Skopje in Macedonia e Strachimir Mavrodiev dell\\' Accademia bulgara delle Scienze hanno cercato di stabilire un \"metodo di previsione temporale\" attraverso la raccolta di statistiche sul geomagnetismo con potenziale gravitazionale delle maree. Utilizzando questo metodo, si diceva che avessero previsto il tempo del terremoto del Sichuan del 2008 con una precisione di ± 1 giorno. Lo stesso studio, tuttavia, riconosce la limitazione dei modelli di previsione dei terremoti e non menziona che la localizzazione del sisma potrebbe essere accuratamente prevista.',\n",
       "   'qas': [{'answers': [{'answer_start': 559,\n",
       "       'text': 'il tempo del terremoto del Sichuan del 2008'}],\n",
       "     'id': '56cec484aab44d1400b88a09',\n",
       "     'question': 'Cosa prevedevano i professori?'},\n",
       "    {'answers': [{'answer_start': 427, 'text': 'statistiche'}],\n",
       "     'id': '56d675ed1c8504140094713d',\n",
       "     'question': 'Cosa hanno raccolto per usare questo metodo?'}]},\n",
       "  {'context': 'In una conferenza stampa tenuta dall\\' Ufficio informazioni del Consiglio di Stato il giorno dopo il terremoto, il geologo Zhang Xiaodong, vice direttore del CEA Seismic Monitoring Network Center, ha ribadito che la previsione del terremoto era un problema globale, nel senso che non esistono metodi comprovati, e che nessuna notifica di previsione è stata ricevuta prima del terremoto. Il sismologo Gary Gibson dell\\' Università di Monash University in Australia ha detto a Deutsche Presse-Agentur che anche lui non vedeva nulla che potesse essere considerato come aver \"previsto\" l\\' accadimento del terremoto.',\n",
       "   'qas': [{'answers': [{'answer_start': 279,\n",
       "       'text': 'non esistono metodi comprovati'}],\n",
       "     'id': '56d674591c85041400947133',\n",
       "     'question': 'Che cosa credono molti geologi nella previsione dei terremoti?'},\n",
       "    {'answers': [{'answer_start': 317,\n",
       "       'text': 'nessuna notifica di previsione'}],\n",
       "     'id': '56d674591c85041400947135',\n",
       "     'question': 'Cosa è stato ricevuto prima del terremoto?'}]},\n",
       "  {'context': \"Nel 2002, il geologo cinese Chen Xuezhong ha pubblicato uno studio di analisi del rischio sismico in cui è giunto alla conclusione che a partire dal 2003, l' attenzione dovrebbe essere prestata alla possibilità di un terremoto con una magnitudo superiore a 7,0 che si verifica nella regione del Sichuan. Ha basato il suo studio sulla correlazione statistica. Che il Sichuan è un' area sismicamente attiva è stata discussa per anni prima del terremoto, anche se pochi studi indicano una data e un' ora specifiche.\",\n",
       "   'qas': [{'answers': [{'answer_start': 0, 'text': 'Nel 2002'}],\n",
       "     'id': '56cec548aab44d1400b88a13',\n",
       "     'question': \"Quando è stata pubblicata l' analisi del rischio sismico?\"},\n",
       "    {'answers': [{'answer_start': 28, 'text': 'Chen Xuezhong'}],\n",
       "     'id': '56cec548aab44d1400b88a14',\n",
       "     'question': \"Chi ha pubblicato l' analisi del rischio sismico?\"},\n",
       "    {'answers': [{'answer_start': 28, 'text': 'Chen Xuezhong'}],\n",
       "     'id': '56d672d21c85041400947129',\n",
       "     'question': 'Chi ha pubblicato uno studio di analisi del rischio sismico?'},\n",
       "    {'answers': [{'answer_start': 4, 'text': '2002'}],\n",
       "     'id': '56d672d21c8504140094712a',\n",
       "     'question': 'In quale anno Chen Xuezhong ha pubblicato uno studio sul terremoto?'}]},\n",
       "  {'context': 'Il terremoto è stato il peggiore a colpire l\\' area del Sichuan in oltre 30 anni. A seguito del terremoto, esperti e il pubblico in generale hanno chiesto informazioni per sapere se il terremoto avrebbe potuto essere previsto in anticipo e se lo studio delle statistiche relative al terremoto avrebbe potuto portare a una migliore previsione dei terremoti in futuro. La predizione del terremoto non è ancora una scienza consolidata; non c\\' era consenso all\\' interno della comunità scientifica sul fatto che la \"previsione\" del terremoto sia possibile.',\n",
       "   'qas': [{'answers': [{'answer_start': 66, 'text': 'oltre 30 anni'}],\n",
       "     'id': '56cec5d1aab44d1400b88a23',\n",
       "     'question': 'Da quanto tempo si è verificato un terremoto di simile entità?'},\n",
       "    {'answers': [{'answer_start': 72, 'text': '30 anni'}],\n",
       "     'id': '56d6713f1c8504140094711f',\n",
       "     'question': \"Da quanto tempo da quando l' area del Sichuan ha subito un grave terremoto?\"},\n",
       "    {'answers': [{'answer_start': 258, 'text': 'statistiche'}],\n",
       "     'id': '56d6713f1c85041400947122',\n",
       "     'question': 'La gente voleva sapere se lo studio di quale matematica poteva produrre previsioni migliori?'}]},\n",
       "  {'context': 'Molte squadre di soccorso, tra cui quella del Taipei Fire Department di Taiwan, sono state segnalate pronte ad unirsi allo sforzo di salvataggio nel Sichuan già mercoledì. Tuttavia, la Croce Rossa Società della Cina ha detto che (il 13 maggio)\"è stato scomodo attualmente a causa del problema del traffico alle zone più colpite più vicino all\\' epicentro\". La Società della Croce Rossa Cinese ha anche dichiarato che le zone disastrate hanno bisogno di tende, forniture mediche, acqua potabile e cibo; tuttavia ha raccomandato di donare denaro invece di altri oggetti, in quanto non era stato possibile raggiungere strade completamente danneggiate o luoghi che sono stati bloccati da frane. Le frane minacciavano continuamente il progresso di un gruppo di ricerca e salvataggio di 80 uomini, ognuno dei quali trasportava circa 40 kg di materiale di soccorso, provenienti da una brigata motorizzata di fanteria sotto il comandante Yang Wenyao, mentre cercavano di raggiungere il villaggio etnicamente tibetano di Sier ad un\\' altezza di 4000 m sul livello del mare nella contea di Pingwu.',\n",
       "   'qas': [{'answers': [{'answer_start': 683, 'text': 'frane'}],\n",
       "     'id': '56d5db271c85041400946e42',\n",
       "     'question': 'Quale problema ha continuato ad impedire alle squadre di soccorso di raggiungere le zone colpite?'}]},\n",
       "  {'context': \"Le piogge e gli smottamenti persistenti nella contea di Wenchuan e nella zona vicina hanno gravemente influenzato gli sforzi di salvataggio. All' inizio delle operazioni di soccorso, il 12 maggio, sono stati impiegati 20 elicotteri per la fornitura di cibo, acqua e aiuti d' emergenza, nonché per l' evacuazione dei feriti e la ricognizione delle aree colpite dal terremoto. A partire dalle 17:37 CST del 13 maggio, un totale di oltre 15.600 soldati e riservisti della milizia della regione militare di Chengdu si erano uniti alla forza di soccorso nelle zone gravemente colpite. Un comandante ha riferito da Yingxiu Town, Wenchuan, che sono stati trovati circa 3.000 sopravvissuti, mentre lo stato degli altri abitanti (circa 9.000) è rimasto poco chiaro. I 1.300 soccorritori raggiunsero l' epicentro e 300 truppe pioniere raggiunsero la sede di Wenchuan a circa 23:30 CST. Entro le 12:17 CST, 14 maggio 2008, la comunicazione nella sede di Wenchuan è stata in parte ripresa. Il pomeriggio del 14 maggio, 15 operazioni speciali 15 truppe, insieme con le forniture di soccorso e attrezzature di comunicazione, paracadutati in inaccessibile Mao County, a nord-est di Wenchuan.\",\n",
       "   'qas': [{'answers': [{'answer_start': 218, 'text': '20'}],\n",
       "     'id': '56cec79caab44d1400b88a34',\n",
       "     'question': 'Quanti elicotteri sono stati impiegati?'},\n",
       "    {'answers': [{'answer_start': 435, 'text': '15.600'}],\n",
       "     'id': '56cec79caab44d1400b88a35',\n",
       "     'question': 'Quanti riservisti delle milizie si sono uniti agli sforzi di salvataggio?'},\n",
       "    {'answers': [{'answer_start': 656, 'text': 'circa 3.000'}],\n",
       "     'id': '56cec79caab44d1400b88a36',\n",
       "     'question': 'Quanti sopravvissuti sono stati trovati?'},\n",
       "    {'answers': [{'answer_start': 435, 'text': '15'}],\n",
       "     'id': '56cec79caab44d1400b88a37',\n",
       "     'question': 'Quante truppe paracadute nella contea di Mao?'},\n",
       "    {'answers': [{'answer_start': 218, 'text': '20'}],\n",
       "     'id': '56d5ecf21c85041400946e5b',\n",
       "     'question': 'Quanti elicotteri sono stati inviati per fornire aiuti alle zone colpite?'},\n",
       "    {'answers': [{'answer_start': 435, 'text': '15.600'}],\n",
       "     'id': '56d5ecf21c85041400946e5c',\n",
       "     'question': 'Entro il 13 maggio, quante truppe erano state aggiunte agli sforzi di salvataggio?'},\n",
       "    {'answers': [{'answer_start': 656, 'text': 'circa 3.000'}],\n",
       "     'id': '56d5ecf21c85041400946e5d',\n",
       "     'question': 'Come sono state segnalate le persone sopravvissute nella città di Yingxiu?'},\n",
       "    {'answers': [{'answer_start': 721, 'text': 'circa 9.000'}],\n",
       "     'id': '56d5ecf21c85041400946e5e',\n",
       "     'question': 'Quante persone a Yingxiu erano ancora sconosciute?'}]},\n",
       "  {'context': \"Il 15 maggio, il premier Wen Jiabao ha ordinato lo spiegamento di altri 90 elicotteri, di cui 60 forniti dal PLAAF e 30 forniti dall' industria dell' aviazione civile, portando così il numero totale di aeromobili impiegati nelle operazioni di soccorso dall' aviazione civile, dall' esercito e dall' aviazione civile a oltre 150, il che ha portato alla più grande operazione di non combattimento nella storia dell' Esercito popolare di liberazione.\",\n",
       "   'qas': [{'answers': [{'answer_start': 94, 'text': '60'}],\n",
       "     'id': '56cec801aab44d1400b88a3e',\n",
       "     'question': 'Quanti elicotteri sono stati forniti dal PLAAF?'},\n",
       "    {'answers': [{'answer_start': 117, 'text': '30'}],\n",
       "     'id': '56cec801aab44d1400b88a3f',\n",
       "     'question': \"Quanti elicotteri sarebbero stati forniti dall' industria dell' aviazione civile?\"},\n",
       "    {'answers': [{'answer_start': 318, 'text': 'oltre 150'}],\n",
       "     'id': '56cec801aab44d1400b88a40',\n",
       "     'question': \"Quanti aerei c' erano in totale?\"},\n",
       "    {'answers': [{'answer_start': 318, 'text': 'oltre 150'}],\n",
       "     'id': '56d60cd01c85041400946eea',\n",
       "     'question': \"Qual è il numero totale di aeromobili utilizzati nell' operazione di soccorso?\"},\n",
       "    {'answers': [{'answer_start': 94, 'text': '60'}],\n",
       "     'id': '56d60cd01c85041400946eec',\n",
       "     'question': 'Quanti elicotteri provenivano dal PLAAF?'},\n",
       "    {'answers': [{'answer_start': 134,\n",
       "       'text': \"industria dell' aviazione civile\"}],\n",
       "     'id': '56d60cd01c85041400946eed',\n",
       "     'question': 'Chi ha fornito gli altri 30 elicotteri?'}]},\n",
       "  {'context': \"Pechino ha accettato l' aiuto della Fondazione Tzu Chi di Taiwan alla fine del 13 maggio. Tzu Chi è stata la prima forza al di fuori della Repubblica Popolare Cinese a partecipare allo sforzo di salvataggio. La Cina ha dichiarato di voler accettare con gratitudine l' aiuto internazionale per far fronte al terremoto.\",\n",
       "   'qas': [{'answers': [{'answer_start': 36, 'text': 'Fondazione Tzu Chi'}],\n",
       "     'id': '56cec88baab44d1400b88a45',\n",
       "     'question': 'Quale Fondazione ha voluto aiutare Pechino?'},\n",
       "    {'answers': [{'answer_start': 58, 'text': 'Taiwan'}],\n",
       "     'id': '56cec88baab44d1400b88a46',\n",
       "     'question': \"Dov' era la fondazione?\"},\n",
       "    {'answers': [{'answer_start': 36, 'text': 'Fondazione Tzu Chi'}],\n",
       "     'id': '56d60ddf1c85041400946ef5',\n",
       "     'question': \"Qual è stato il primo gruppo di fuori della Cina a partecipare all' operazione di soccorso?\"},\n",
       "    {'answers': [{'answer_start': 268, 'text': 'aiuto internazionale'}],\n",
       "     'id': '56d60ddf1c85041400946ef6',\n",
       "     'question': 'Che cosa ha detto la Cina di accettare?'}]},\n",
       "  {'context': \"Un volo merci charter diretto è stato effettuato dalla China Airlines da Taiwan Taoyuan International Airport all' aeroporto internazionale di Chengdu Shuangliu, che ha inviato circa 100 tonnellate di forniture di soccorso donate dalla Fondazione Tzu Chi e dalla Croce Rossa di Taiwan alle zone colpite. È stata chiesta l' approvazione delle autorità cinesi della Cina continentale e il volo charter è partito da Taipei alle 17:00 CST, il 15 maggio e è arrivato a Chengdu entro le 20:30 CST. Una squadra di soccorso della Croce Rossa di Taiwan avrebbe dovuto partire da Taipei con un volo charter diretto di Mandarin Airlines verso Chengdu alle 15:00 CST del 16 maggio.\",\n",
       "   'qas': [{'answers': [{'answer_start': 55, 'text': 'China Airlines'}],\n",
       "     'id': '56cec8e2aab44d1400b88a55',\n",
       "     'question': 'Chi ha effettuato un volo cargo charter diretto?'},\n",
       "    {'answers': [{'answer_start': 439, 'text': '15 maggio'}],\n",
       "     'id': '56cec8e2aab44d1400b88a57',\n",
       "     'question': 'Quale data di partenza del volo cargo?'},\n",
       "    {'answers': [{'answer_start': 659, 'text': '16 maggio'}],\n",
       "     'id': '56cec8e2aab44d1400b88a58',\n",
       "     'question': 'Quando è partita una squadra di soccorso?'},\n",
       "    {'answers': [{'answer_start': 73,\n",
       "       'text': 'Taiwan Taoyuan International Airport'}],\n",
       "     'id': '56d613011c85041400946efd',\n",
       "     'question': 'Da quale aeroporto parte il volo charter?'},\n",
       "    {'answers': [{'answer_start': 143, 'text': 'Chengdu'}],\n",
       "     'id': '56d613011c85041400946efe',\n",
       "     'question': 'Dove è avvenuto il volo charter da Taiwan?'},\n",
       "    {'answers': [{'answer_start': 496, 'text': 'squadra di soccorso'}],\n",
       "     'id': '56d613011c85041400946eff',\n",
       "     'question': 'Che cosa ha lasciato il team della Croce Rossa a Taipei il 16 maggio Chengdu?'}]},\n",
       "  {'context': \"Il 16 maggio, i gruppi di soccorso provenienti da Corea del Sud, Giappone, Singapore, Russia e Taiwan sono arrivati per unirsi allo sforzo di salvataggio. Gli Stati Uniti hanno condiviso con le autorità cinesi alcune delle sue immagini satellitari delle zone colpite dal terremoto. Durante il fine settimana, gli Stati Uniti hanno inviato in Cina due forniture di trasporto dell' aeronautica militare C-17 degli Stati Uniti, tra cui tende e generatori. Xinhua ha riferito 135.000 truppe cinesi e medici sono stati coinvolti nello sforzo di salvataggio in 58 contee e città. immagini satellitari delle aree colpite dal terremoto.\",\n",
       "   'qas': [{'answers': [{'answer_start': 472, 'text': '135.000'}],\n",
       "     'id': '56cec9e1aab44d1400b88a63',\n",
       "     'question': 'Quante truppe cinesi sono state coinvolte negli sforzi di salvataggio?'},\n",
       "    {'answers': [{'answer_start': 3, 'text': '16 maggio'}],\n",
       "     'id': '56cec9e1aab44d1400b88a65',\n",
       "     'question': 'Quando sono arrivati in Cina gruppi provenienti dalla Corea del Sud, dal Giappone e da altri paesi?'},\n",
       "    {'answers': [{'answer_start': 227, 'text': 'immagini satellitari'}],\n",
       "     'id': '56d61a451c85041400946f10',\n",
       "     'question': 'Che cosa ha condiviso gli Stati Uniti con la Cina?'},\n",
       "    {'answers': [{'answer_start': 433, 'text': 'tende e generatori'}],\n",
       "     'id': '56d61a451c85041400946f11',\n",
       "     'question': \"Cosa è stato incluso nelle forniture dell' aeronautica militare C-17?\"},\n",
       "    {'answers': [{'answer_start': 472, 'text': '135.000'}],\n",
       "     'id': '56d61a451c85041400946f13',\n",
       "     'question': 'Quante truppe e medici cinesi sono stati coinvolti negli sforzi di soccorso?'}]},\n",
       "  {'context': \"Internet è stato ampiamente utilizzato per trasmettere informazioni a sostegno degli sforzi di salvataggio e recupero. Ad esempio, l' agenzia di stampa ufficiale Xinhua ha istituito un centro online di richiesta di soccorso per trovare gli angoli ciechi del disaster recovery. Dopo aver saputo che gli elicotteri di soccorso avevano avuto difficoltà ad atterrare nell' area dell' epicentro di Wenchuan, uno studente ha proposto un punto di atterraggio online ed è stato scelto come primo touchdown per gli elicotteri[non in citazione dato]. I volontari hanno anche creato diversi siti web per aiutare a memorizzare le informazioni di contatto per le vittime e gli sfollati. Il 31 maggio, un elicottero di salvataggio che trasportava sopravvissuti al terremoto e membri dell' equipaggio si è schiantato a causa della nebbia e delle turbolenze nella contea di Wenchuan. Nessuno è sopravvissuto.\",\n",
       "   'qas': [{'answers': [{'answer_start': 0, 'text': 'Internet'}],\n",
       "     'id': '56ceccc7aab44d1400b88a7d',\n",
       "     'question': 'Che cosa è stato ampiamente utilizzato per trasmettere informazioni a sostegno degli sforzi di salvataggio e recupero?'},\n",
       "    {'answers': [{'answer_start': 228,\n",
       "       'text': 'trovare gli angoli ciechi del disaster recovery'}],\n",
       "     'id': '56ceccc7aab44d1400b88a7f',\n",
       "     'question': 'Qual era lo scopo di questo centro di richiesta di soccorso online?'},\n",
       "    {'answers': [{'answer_start': 393, 'text': 'Wenchuan'}],\n",
       "     'id': '56ceccc7aab44d1400b88a80',\n",
       "     'question': 'Dove hanno avuto difficoltà di atterraggio gli elicotteri di soccorso?'},\n",
       "    {'answers': [{'answer_start': 0, 'text': 'Internet'}],\n",
       "     'id': '56d61c4e1c85041400946f1a',\n",
       "     'question': 'Che cosa è stato utilizzato come aiuto alle comunicazioni negli sforzi di soccorso?'},\n",
       "    {'answers': [{'answer_start': 403, 'text': 'uno studente'}],\n",
       "     'id': '56d61c4e1c85041400946f1c',\n",
       "     'question': \"Quale persona ha suggerito un atterraggio per elicotteri vicino all' epicentro?\"},\n",
       "    {'answers': [{'answer_start': 618, 'text': 'informazioni di contatto'}],\n",
       "     'id': '56d61c4e1c85041400946f1d',\n",
       "     'question': 'Che tipo di informazioni sono state create sui siti web da archiviare?'}]},\n",
       "  {'context': \"Il 12 maggio 2009, la Cina ha celebrato il primo anniversario del terremoto con un momento di silenzio mentre le persone in tutta la nazione ricordavano i morti. Il governo ha anche aperto l' accesso alle rovine sigillate della sede della contea del Beichuan per tre giorni, dopo di che sarà congelato in tempo come un museo reliquia terremoto di stato, per ricordare alla gente del disastro terribile. Ci sono stati anche diversi concerti in tutto il paese per raccogliere fondi per i sopravvissuti al terremoto.\",\n",
       "   'qas': [{'answers': [{'answer_start': 80,\n",
       "       'text': 'un momento di silenzio'}],\n",
       "     'id': '56cecd53aab44d1400b88a88',\n",
       "     'question': \"Cosa è stato fatto per l' anniversario?\"},\n",
       "    {'answers': [{'answer_start': 263, 'text': 'tre giorni'}],\n",
       "     'id': '56cecd53aab44d1400b88a8a',\n",
       "     'question': 'Per quanto tempo è stato aperto?'},\n",
       "    {'answers': [{'answer_start': 80, 'text': 'un momento di silenzio'}],\n",
       "     'id': '56d66b221c85041400947103',\n",
       "     'question': 'Che cosa ha fatto la Cina per celebrare il primo anniversario del terremoto?'},\n",
       "    {'answers': [{'answer_start': 423, 'text': 'diversi concerti'}],\n",
       "     'id': '56d66b221c85041400947105',\n",
       "     'question': 'Che tipo di evento è stato dato per raccogliere fondi per i sopravvissuti al terremoto?'}]},\n",
       "  {'context': 'A seguito del terremoto, le donazioni sono state effettuate da persone provenienti da tutta la Cina continentale, con cabine allestite nelle scuole, presso le banche e nelle vicinanze di distributori di benzina. La gente ha anche donato sangue, con conseguente secondo Xinhua lungo line-up Xinhua nella maggior parte delle principali città cinesi. Molti donato attraverso messaggi di testo sui telefoni cellulari per i conti istituiti da China Unicom e China Mobile 16 maggio, il governo cinese aveva stanziato un totale di 772 milioni di dollari per il terremoto di soccorso finora, in forte aumento da $ 159 milioni di dollari dal 14 maggio sangue.',\n",
       "   'qas': [{'answers': [{'answer_start': 230, 'text': 'donato sangue'}],\n",
       "     'id': '56d666041c850414009470f1',\n",
       "     'question': 'Che cosa ha causato le lunghe linee nella maggior parte delle grandi città?'},\n",
       "    {'answers': [{'answer_start': 118, 'text': 'cabine'}],\n",
       "     'id': '56d666041c850414009470f2',\n",
       "     'question': 'Quali sono state le premesse cinesi per raccogliere donazioni?'},\n",
       "    {'answers': [{'answer_start': 524, 'text': '772 milioni di dollari'}],\n",
       "     'id': '56d666041c850414009470f4',\n",
       "     'question': 'Quanto aveva designato il governo cinese entro il 16 maggio?'}]},\n",
       "  {'context': 'La Società Croce Rossa della Cina ha volato 557 tende e 2.500 trapunte del valore di 788.000 yuan (113.000 dollari USA) nella contea di Wenchuan. La Fondazione Amity ha già iniziato i lavori di soccorso nella regione e ha stanziato 143.000 USD per i soccorsi in caso di catastrofe. Il ministero degli Affari civili del Sichuan ha dichiarato di aver fornito 30.000 tende per i senzatetto rimasti senza tetto.',\n",
       "   'qas': [{'answers': [{'answer_start': 44, 'text': '557'}],\n",
       "     'id': '56cece5caab44d1400b88a9b',\n",
       "     'question': 'Quante tende sono state volate nella regione?'},\n",
       "    {'answers': [{'answer_start': 56, 'text': '2.500'}],\n",
       "     'id': '56cece5caab44d1400b88a9c',\n",
       "     'question': 'Quanti trapunte sono state volate nella regione?'},\n",
       "    {'answers': [{'answer_start': 85, 'text': '788.000 yuan'}],\n",
       "     'id': '56cece5caab44d1400b88a9d',\n",
       "     'question': 'Quanto valevano entrambe le forniture?'},\n",
       "    {'answers': [{'answer_start': 357, 'text': '30.000'}],\n",
       "     'id': '56cece5caab44d1400b88a9f',\n",
       "     'question': 'Quante tende ha fornito il ministero del Sichuan ai senzatetto?'},\n",
       "    {'answers': [{'answer_start': 357, 'text': '30.000'}],\n",
       "     'id': '56d663b11c850414009470e5',\n",
       "     'question': 'Quante tende ha fornito il Ministero degli Affari del Sichuan?'},\n",
       "    {'answers': [{'answer_start': 146, 'text': 'La Fondazione Amity'}],\n",
       "     'id': '56d663b11c850414009470e7',\n",
       "     'question': 'Quali fondamenta avevano già iniziato i lavori di soccorso nella zona?'}]},\n",
       "  {'context': 'Il governo centrale stima che oltre 7.000 aule scolastiche non adeguatamente attrezzate siano crollate in seguito al terremoto. Da allora i cittadini cinesi hanno inventato una frase di cattura:\"tofu-dregs schoolhouses\" (Cinese:?????), per fingere sia la qualità che la quantità di queste costruzioni inferiori che hanno ucciso così tanti bambini in età scolare. A causa della politica del figlio unico, molte famiglie hanno perso l\\' unico figlio quando le scuole della regione sono crollate durante il terremoto. Di conseguenza, i funzionari provinciali e locali del Sichuan hanno abolito la restrizione per le famiglie il cui unico bambino è stato ucciso o gravemente ferito in seguito al disastro. I cosiddetti \"bambini illegali\" di età inferiore ai 18 anni possono essere registrati come sostituti legali dei loro fratelli morti; se il bambino morto fosse illegale, non si applicherebbero ulteriori sanzioni pecuniarie. Il rimborso non sarebbe tuttavia offerto per le ammende già riscosse.',\n",
       "   'qas': [{'answers': [{'answer_start': 36, 'text': '7.000'}],\n",
       "     'id': '56cecf68aab44d1400b88ab7',\n",
       "     'question': 'Quante aule scolastiche sono crollate nel terremoto?'},\n",
       "    {'answers': [{'answer_start': 195, 'text': 'tofu-dregs schoolhouses'}],\n",
       "     'id': '56cecf68aab44d1400b88ab8',\n",
       "     'question': \"Quale frase d' insieme è stata inventata a seguito del crollo delle scuole?\"},\n",
       "    {'answers': [{'answer_start': 195, 'text': 'tofu-dregs schoolhouses'}],\n",
       "     'id': '56d64a821c85041400947077',\n",
       "     'question': 'Che cosa ha iniziato la cittadinanza a chiamare questo tipo di scuole?'}]},\n",
       "  {'context': 'La sera del 18 maggio, il CCTV-1 ha ospitato un programma speciale di quattro ore chiamato The Giving of Love (cinese semplificato:???; cinese tradizionale:????), ospitato da regolari del Gala di Capodanno CCTV e dall\\' ancora di copertura 24 ore su 24 Bai Yansong. Vi hanno partecipato una vasta gamma di personaggi dello spettacolo, letterari, commerciali e politici provenienti dalla Cina continentale, Hong Kong, Singapore e Taiwan. Le donazioni della serata sono ammontate a 1,5 miliardi di yuan cinese (~208 milioni di dollari USA). Tra le donazioni, la TVCC ha dato il maggior contributo aziendale a ¥50 milioni. Quasi contemporaneamente a Taiwan, un programma tematico simile era in onda ospitato dal presidente in carica Ma Ying-jeou. A giugno, l\\' attore di Hong Kong Jackie Chan, che ha donato 1,57 milioni di dollari alle vittime, ha realizzato un video musicale insieme ad altri artisti intitolato \"Promise\"; la canzone è stata composta da Andy Lau. L\\' Artistes 512 Fund Raising Campaign, una maratona di raccolta fondi della durata di 8 ore, si è tenuta il 1° giugno a Hong Kong, alla quale hanno partecipato circa 200 musicisti e celebrità della Sinosfera. A Singapore, MediaCorp Channel 8 ha ospitato un programma dal vivo?? programma di quattro ore chiamato Il dono dell\\' amore.',\n",
       "   'qas': [{'answers': [{'answer_start': 252, 'text': 'Bai Yansong'}],\n",
       "     'id': '56cecff4aab44d1400b88abe',\n",
       "     'question': 'Quanto erano grandi le donazioni del programma?'},\n",
       "    {'answers': [{'answer_start': 803, 'text': '1,57 milioni di dollari'}],\n",
       "     'id': '56cecff4aab44d1400b88abf',\n",
       "     'question': 'Quanto ha donato Jackie Chan per sostenere?'},\n",
       "    {'answers': [{'answer_start': 1273, 'text': \"Il dono dell' amore\"}],\n",
       "     'id': '56cecff4aab44d1400b88ac1',\n",
       "     'question': 'Qual era il programma che CCTV-1 ha ospitato?'},\n",
       "    {'answers': [{'answer_start': 91, 'text': 'The Giving of Love'}],\n",
       "     'id': '56d6477c1c85041400947065',\n",
       "     'question': 'Quali sono state le donazioni totali per il programma?'},\n",
       "    {'answers': [{'answer_start': 26, 'text': 'CCTV'}],\n",
       "     'id': '56d6477c1c85041400947066',\n",
       "     'question': 'Quale azienda ha dato il massimo?'},\n",
       "    {'answers': [{'answer_start': 803, 'text': '1,57 milioni'}],\n",
       "     'id': '56d6477c1c85041400947067',\n",
       "     'question': \"Quanto ha donato l' attore Jackie Chan?\"}]},\n",
       "  {'context': 'Gli sforzi di salvataggio compiuti dal governo cinese sono stati elogiati dai media occidentali, soprattutto in confronto al blocco degli aiuti stranieri da parte del Myanmar durante il ciclone Nargis, nonché ai precedenti risultati della Cina durante il terremoto di Tangshan del 1976. L\\' apertura della Cina durante la copertura mediatica del terremoto del Sichuan ha portato un professore presso l\\' Università di Pechino a dire:\"Questa è la prima volta[che] i media cinesi sono stati all\\' altezza degli standard internazionali\". Los Angeles Times ha elogiato la copertura mediatica della Cina del terremoto di essere \"democratico\".',\n",
       "   'qas': [{'answers': [{'answer_start': 138, 'text': 'aiuti stranieri'}],\n",
       "     'id': '56d61fc11c85041400946f24',\n",
       "     'question': 'Che cosa ha fatto blocco Myanmar dopo Cyclone Nargis?'},\n",
       "    {'answers': [{'answer_start': 532, 'text': 'Los Angeles Times'}],\n",
       "     'id': '56d61fc11c85041400946f26',\n",
       "     'question': 'Chi ha elogiato la copertura mediatica cinese come democratica?'}]},\n",
       "  {'context': 'A causa del terremoto di magnitudo 7,9 e delle numerose forti scosse di assestamento, molti fiumi sono stati bloccati da grandi frane, che hanno portato alla formazione di \"laghi di sisma\" dietro le ostruzioni; queste enormi quantità d\\' acqua si stavano accumulando ad un ritmo molto elevato dietro le dighe naturali di frane e si temeva che le ostruzioni sarebbero infine crollate sotto il peso della massa d\\' acqua sempre crescente, potenzialmente mettendo a repentaglio la vita di milioni di persone. Al 27 maggio 2008,34 laghi si erano formati a causa del terremoto che bloccava i detriti e arginava i fiumi, e si stimava che 28 di essi fossero ancora potenzialmente pericolosi per la popolazione locale. Gli interi villaggi hanno dovuto essere evacuati a causa delle conseguenti inondazioni.',\n",
       "   'qas': [{'answers': [{'answer_start': 522, 'text': '34'}],\n",
       "     'id': '56cedd7daab44d1400b88b50',\n",
       "     'question': 'Quanti laghi di tremito si sono formati?'},\n",
       "    {'answers': [{'answer_start': 630, 'text': '28'}],\n",
       "     'id': '56cedd7daab44d1400b88b51',\n",
       "     'question': 'Quanti laghi costituivano un pericolo per le persone?'},\n",
       "    {'answers': [{'answer_start': 121, 'text': 'grandi frane'}],\n",
       "     'id': '56d624261c85041400946f2d',\n",
       "     'question': 'Che cosa ha bloccato molti dei fiumi della zona?'},\n",
       "    {'answers': [{'answer_start': 522, 'text': '34'}],\n",
       "     'id': '56d624261c85041400946f2f',\n",
       "     'question': 'A partire dal 27 maggio quanti laghi sismici si erano formati dietro i detriti di frane?'},\n",
       "    {'answers': [{'answer_start': 713, 'text': 'interi villaggi'}],\n",
       "     'id': '56d624261c85041400946f30',\n",
       "     'question': 'Che cosa doveva essere evacuato a causa di un potenziale allagamento?'}]},\n",
       "  {'context': \"Il più precario di questi ciarlatani era quello che si trovava nel terreno estremamente difficile del Monte Tangjia nella contea di Beichuan, Sichuan, accessibile solo a piedi o in aereo; un elicottero di sollevamento pesante Mi-26T appartenente alla China Flying Dragon Special Aviation Company è stato utilizzato per portare pesanti trattori movimento terra nella zona colpita. Questa operazione è stata accoppiata con il lavoro svolto da elicotteri PLAAF Mi-17 portando in corpi di ingegneria PLA, specialisti di esplosivi e altro personale per unire 1.200 soldati che sono arrivati sul posto a piedi. Cinque tonnellate di combustibile per azionare il macchinario sono state trasportate in aria fino al sito, dove è stata costruita una saracinesca per consentire lo scarico sicuro dell' acqua di strozzatura. A valle, più di 200.000 persone sono state evacuate dal Mianyang entro il 1 giugno in previsione dello scoppio della diga.\",\n",
       "   'qas': [{'answers': [{'answer_start': 102,\n",
       "       'text': 'Monte Tangjia nella contea di Beichuan, Sichuan'}],\n",
       "     'id': '56ceddf6aab44d1400b88b67',\n",
       "     'question': 'Dove si trovava il lago più precario?'},\n",
       "    {'answers': [{'answer_start': 335, 'text': 'trattori'}],\n",
       "     'id': '56ceddf6aab44d1400b88b69',\n",
       "     'question': 'Quali macchine sono state trasportate in aereo?'},\n",
       "    {'answers': [{'answer_start': 828, 'text': '200.000'}],\n",
       "     'id': '56ceddf6aab44d1400b88b6b',\n",
       "     'question': 'Quante persone sono state evacuate a valle?'},\n",
       "    {'answers': [{'answer_start': 912, 'text': 'lo scoppio della diga'}],\n",
       "     'id': '56d62b0f1c85041400946f5e',\n",
       "     'question': \"Qual è stata la paura che ha causato l' evacuazione di 200.000 persone dal Mianyang?\"},\n",
       "    {'answers': [{'answer_start': 102, 'text': 'Monte Tangjia'}],\n",
       "     'id': '56d62b0f1c85041400946f5f',\n",
       "     'question': 'Dove si trovava il peggio dei laghi sismici?'},\n",
       "    {'answers': [{'answer_start': 122, 'text': 'contea di Beichuan, Sichuan'}],\n",
       "     'id': '56d62b0f1c85041400946f60',\n",
       "     'question': 'Dove si trova il monte Tangjia?'},\n",
       "    {'answers': [{'answer_start': 554, 'text': '1.200'}],\n",
       "     'id': '56d62b0f1c85041400946f62',\n",
       "     'question': 'Quanti soldati hanno dovuto recarsi nella zona a piedi?'}]},\n",
       "  {'context': 'Il Consiglio di Stato ha dichiarato un periodo di tre giorni di lutto nazionale per le vittime del terremoto a partire dal 19 maggio 2008, la bandiera nazionale della RPC e le bandiere regionali di Hong Kong e Macao regioni amministrative speciali ha volato a metà albero. Era la prima volta che un periodo di lutto nazionale era stato dichiarato per qualcosa di diverso dalla morte di un leader statale, e molti lo hanno definito la più grande manifestazione di lutto dalla morte di Mao Zedong. Alle 14:28 CST 28 il 19 maggio 2008, una settimana dopo il terremoto, il pubblico cinese ha tenuto un momento di silenzio. La gente taceva per tre minuti mentre la difesa aerea, la polizia e le sirene antincendio, e le corna di veicoli, navi e treni suonavano. Anche le auto e i camion sulle strade di Pechino si sono fermati. La gente spontaneamente scoppiò in allegria \"Zhongguo jiayou\"! (Vai, Cina!) e \"Sichuan jiayou\" (Let\\'s go, Sichuan!).',\n",
       "   'qas': [{'answers': [{'answer_start': 547, 'text': 'dopo'}],\n",
       "     'id': '56cede78aab44d1400b88b7c',\n",
       "     'question': 'Chi ha dichiarato il lutto?'},\n",
       "    {'answers': [{'answer_start': 64, 'text': 'lutto nazionale'}],\n",
       "     'id': '56d62ce51c85041400946f7a',\n",
       "     'question': 'Che cosa ha dichiarato il Consiglio di Stato?'},\n",
       "    {'answers': [{'answer_start': 484, 'text': 'Mao Zedong'}],\n",
       "     'id': '56d62ce51c85041400946f7b',\n",
       "     'question': 'Questa è stata la più grande manifestazione di lutto dalla morte di chi?'},\n",
       "    {'answers': [{'answer_start': 123, 'text': '19 maggio 2008'}],\n",
       "     'id': '56d62ce51c85041400946f7c',\n",
       "     'question': 'Quando i cinesi hanno avuto un momento di silenzio?'},\n",
       "    {'answers': [{'answer_start': 39, 'text': 'periodo di tre giorni'}],\n",
       "     'id': '56d62ce51c85041400946f7e',\n",
       "     'question': 'Quanto tempo è durato il lutto nazionale per le vittime del terremoto?'}]},\n",
       "  {'context': \"Il Comitato Organizzatore di Ningbo del comitato organizzatore della torcia olimpica di Pechino ha annunciato che la staffetta, prevista per svolgersi a Ningbo durante la mattinata nazionale, sarebbe stata sospesa per la durata del periodo di lutto. Il percorso della torcia attraverso il paese è stato ridimensionato, e c' è stato un minuto di silenzio quando la tappa successiva ha iniziato nella città di Ruijin, Jiangxi il mercoledì dopo il terremoto.\",\n",
       "   'qas': [{'answers': [{'answer_start': 29, 'text': 'Ningbo'}],\n",
       "     'id': '56cedecdaab44d1400b88b8e',\n",
       "     'question': \"Dov' era previsto il relè?\"},\n",
       "    {'answers': [{'answer_start': 151, 'text': 'a Ningbo'}],\n",
       "     'id': '56d62e501c85041400946f95',\n",
       "     'question': 'Dove doveva avvenire il relè della torcia?'},\n",
       "    {'answers': [{'answer_start': 250, 'text': 'Il percorso'}],\n",
       "     'id': '56d62e501c85041400946f96',\n",
       "     'question': 'Quale parte del relè ha cambiato?'},\n",
       "    {'answers': [{'answer_start': 408, 'text': 'Ruijin, Jiangxi'}],\n",
       "     'id': '56d62e501c85041400946f97',\n",
       "     'question': \"Dove c' era un minuto di silenzio durante la staffetta?\"}]},\n",
       "  {'context': 'Molti siti web hanno convertito la loro home page in bianco e nero; Sina. com e Sohu, i principali portali internet, hanno limitato le loro homepage alle notizie e rimosso tutte le pubblicità. I siti web cinesi di condivisione video Youku e Tudou hanno mostrato uno sfondo nero e collocato più video che mostrano filmati di terremoto e reportage di notizie. La versione cinese di MSN, cn. msn. com, mostrava anche annunci pubblicitari sul terremoto e gli sforzi di soccorso.',\n",
       "   'qas': []},\n",
       "  {'context': \"Ye Zhiping, il preside della scuola media di Sangzao a Sangzao, una delle più grandi della Contea di An, ha ricevuto il merito di un' azione proattiva che ha risparmiato la vita a tutti i 2.323 alunni presenti quando si è verificato il terremoto. Nel corso di un triennio che si è concluso nel 2007, ha seguito un' importante revisione della sua scuola. Durante quel periodo ha ottenuto più di 400.000 yuan (US$60.000) dal dipartimento di istruzione contea, denaro usato per ampliare e rafforzare i pilastri di cemento e la ringhiera balcone di tutti e quattro i piani della sua scuola, così come fissare i pavimenti in cemento.\",\n",
       "   'qas': [{'answers': [{'answer_start': 0, 'text': 'Ye Zhiping'}],\n",
       "     'id': '56cee003aab44d1400b88bb1',\n",
       "     'question': 'Chi era il preside della scuola media di Sangzao?'},\n",
       "    {'answers': [{'answer_start': 188, 'text': '2.323'}],\n",
       "     'id': '56cee003aab44d1400b88bb3',\n",
       "     'question': 'Quanti studenti hanno frequentato la scuola?'},\n",
       "    {'answers': [{'answer_start': 394, 'text': '400.000 yuan'}],\n",
       "     'id': '56cee003aab44d1400b88bb5',\n",
       "     'question': 'Quanto denaro è stato utilizzato per rafforzare la costruzione della scuola?'},\n",
       "    {'answers': [{'answer_start': 0, 'text': 'Ye Zhiping'}],\n",
       "     'id': '56d64f7c1c85041400947095',\n",
       "     'question': 'Quale direttore scolastico ha rafforzato la sua scuola?'},\n",
       "    {'answers': [{'answer_start': 45, 'text': 'Sangzao'}],\n",
       "     'id': '56d64f7c1c85041400947097',\n",
       "     'question': \"Dov' è la scuola media di Sangzao?\"}]},\n",
       "  {'context': \"Tuttavia, Reuters ha riferito nel mese di giugno che, ad oggi, i pubblici ministeri cinesi hanno aderito a un' indagine ufficiale in dieci scuole crollato durante il devastante terremoto di maggio per ottenere materiale di prima mano della qualità delle costruzioni nelle scuole crollato, avviare indagini preliminari e prepararsi per eventuali indagini sulla criminalità professionale. È stato inoltre riferito che, dopo il terremoto del mese scorso, si sarebbero dovuti effettuare controlli di sicurezza nelle scuole di tutta la Cina.\",\n",
       "   'qas': [{'answers': [{'answer_start': 483,\n",
       "       'text': 'controlli di sicurezza'}],\n",
       "     'id': '56cee069aab44d1400b88bbd',\n",
       "     'question': 'Cosa doveva essere fatto nelle scuole dopo il sisma?'},\n",
       "    {'answers': [{'answer_start': 360, 'text': 'criminalità professionale'}],\n",
       "     'id': '56d658061c850414009470a8',\n",
       "     'question': 'Quali indagini stanno conducendo i pubblici ministeri?'},\n",
       "    {'answers': [{'answer_start': 512, 'text': 'scuole di tutta la Cina'}],\n",
       "     'id': '56d658061c850414009470a9',\n",
       "     'question': 'Dove saranno i cinesi ad effettuare i controlli di sicurezza?'},\n",
       "    {'answers': [{'answer_start': 10, 'text': 'Reuters'}],\n",
       "     'id': '56d658061c850414009470aa',\n",
       "     'question': 'Quale gruppo ha riferito che i pubblici ministeri cinesi sono stati coinvolti nelle indagini sui crolli della scuola?'}]},\n",
       "  {'context': 'Il New York Times ha riferito che \"funzionari di governo a Pechino e Sichuan hanno detto che stanno indagando sui crolli. Riconoscendo la debolezza dei codici edilizi nelle campagne, il 27 maggio la Commissione nazionale per lo sviluppo e la riforma ha dichiarato di aver elaborato un emendamento per migliorare gli standard di costruzione delle scuole elementari e medie nelle zone rurali. Gli esperti stanno rivedendo il progetto, ha detto la commissione. Per limitare le proteste, i funzionari hanno spinto i genitori a firmare un documento che vietava loro di organizzare proteste in cambio di denaro, ma alcuni che si rifiutavano di firmare sono stati minacciati. Gli importi dei pagamenti variavano da scuola a scuola, ma erano all\\' incirca gli stessi. Ad Hanwang, ai genitori è stato offerto un pacchetto del valore di 8.800 USD in contanti e una pensione per genitore di quasi 5.600 USD.',\n",
       "   'qas': [{'answers': [{'answer_start': 462, 'text': 'limitare le proteste'}],\n",
       "     'id': '56d65a4b1c850414009470b0',\n",
       "     'question': 'Cosa stanno cercando di fare i funzionari per protestare i genitori?'},\n",
       "    {'answers': [{'answer_start': 598, 'text': 'denaro'}],\n",
       "     'id': '56d65a4b1c850414009470b1',\n",
       "     'question': 'Quali sono i funzionari che offrono ai genitori in cambio di proteste?'}]},\n",
       "  {'context': 'Oltre ai genitori, Liu Shaokun (???), un insegnante di scuola del Sichuan, è stato arrestato il 25 giugno 2008 per \"diffondere voci e distruggere l\\' ordine sociale\" sul terremoto del Sichuan. La famiglia di Liu è stato poi detto che egli è stato indagato su sospetto del reato di istigazione alla sovversione. Liu aveva viaggiato per lo Shifang, scattato foto di edifici scolastici crollati, e metterli online. Aveva anche espresso la sua rabbia per \"gli edifici scadenti tofu-dregs\" (?????) in un\\' intervista ai media. Gli è stato ordinato di servire un anno di rieducazione attraverso il lavoro (RTL). Secondo l\\' organizzazione per i diritti umani in Cina, Liu è stato rilasciato per scontare la sua condanna RTL al di fuori del campo di lavoro.',\n",
       "   'qas': [{'answers': [{'answer_start': 19, 'text': 'Liu Shaokun'}],\n",
       "     'id': '56cee14aaab44d1400b88bcb',\n",
       "     'question': 'Chi era un insegnante di scuola del Sichuan?'},\n",
       "    {'answers': [{'answer_start': 271,\n",
       "       'text': 'reato di istigazione alla sovversione'}],\n",
       "     'id': '56d65c671c850414009470ba',\n",
       "     'question': 'Perché è stato indagato?'},\n",
       "    {'answers': [{'answer_start': 394, 'text': 'metterli online'}],\n",
       "     'id': '56d65c671c850414009470bb',\n",
       "     'question': 'Che cosa ha fatto Liu Shankun con le foto che ha scattato delle scuole crollate?'},\n",
       "    {'answers': [{'answer_start': 492, 'text': \"in un' intervista ai media\"}],\n",
       "     'id': '56d65c671c850414009470bc',\n",
       "     'question': 'Dove ha definito gli edifici scolastici scadenti?'},\n",
       "    {'answers': [{'answer_start': 552, 'text': 'un anno di rieducazione'}],\n",
       "     'id': '56d65c671c850414009470bd',\n",
       "     'question': 'Qual era la sua punizione assegnata?'}]},\n",
       "  {'context': 'Nel gennaio 2010, il giornale inglese con sede a Hong Kong The Standard ha riferito che lo scrittore Tan Zuoren ha tentato di documentare la costruzione scadente che potrebbe aver portato a massicce vittime nelle scuole, è stato condannato in prigione apparentemente per la sua scrittura di un articolo nel 2007 a sostegno del movimento pro-democrazia nel 1989.',\n",
       "   'qas': [{'answers': [{'answer_start': 303, 'text': 'nel 2007'}],\n",
       "     'id': '56cee1e4aab44d1400b88be0',\n",
       "     'question': 'Quando è avvenuta la condanna?'},\n",
       "    {'answers': [{'answer_start': 4, 'text': 'gennaio 2010'}],\n",
       "     'id': '56cee1e4aab44d1400b88be1',\n",
       "     'question': \"Quando è stato pubblicato l' articolo sul caso?\"}]},\n",
       "  {'context': \"A causa della magnitudo del terremoto e dell' attenzione mediatica sulla Cina, le nazioni e le organizzazioni straniere hanno risposto immediatamente al disastro offrendo condoglianze e assistenza. Il 14 maggio, l' UNICEF ha riferito che la Cina ha chiesto formalmente il sostegno della comunità internazionale per rispondere ai bisogni delle famiglie colpite.\",\n",
       "   'qas': [{'answers': [{'answer_start': 234,\n",
       "       'text': 'che la Cina ha chiesto formalmente il sostegno della comunità internazionale'}],\n",
       "     'id': '56cee23caab44d1400b88be6',\n",
       "     'question': \"Che cosa ha riferito l' UNICEF?\"},\n",
       "    {'answers': [{'answer_start': 171, 'text': 'condoglianze e assistenza'}],\n",
       "     'id': '56d660e91c850414009470d3',\n",
       "     'question': 'Che cosa hanno offerto alla Cina le nazioni straniere a causa della gravità del terremoto?'},\n",
       "    {'answers': [{'answer_start': 201, 'text': '14 maggio'}],\n",
       "     'id': '56d660e91c850414009470d4',\n",
       "     'question': 'Quando ha chiesto formalmente aiuto alla comunità internazionale?'},\n",
       "    {'answers': [{'answer_start': 215, 'text': 'UNICEF'}],\n",
       "     'id': '56d660e91c850414009470d5',\n",
       "     'question': 'Quale organizzazione ha riferito che la Cina ha chiesto aiuto?'}]},\n",
       "  {'context': \"Entro il 14 maggio, il Ministero degli Affari civili ha dichiarato che 10,7 miliardi di yuan (circa 1,5 miliardi di dollari) era stato donato dal pubblico cinese. Houston Rockets centro Yao Ming, una delle icone sportive più popolari del paese, ha dato $214.000 e $71.000 alla Società Croce Rossa della Cina. L' associazione ha inoltre raccolto un totale di 26 milioni di dollari in donazioni finora raccolte. Anche altre multinazionali situate in Cina hanno annunciato ingenti donazioni.\",\n",
       "   'qas': [{'answers': [{'answer_start': 358,\n",
       "       'text': '26 milioni di dollari'}],\n",
       "     'id': '56cee294aab44d1400b88bed',\n",
       "     'question': 'Quanto ha raccolto la Croce Rossa in donazioni?'},\n",
       "    {'answers': [{'answer_start': 71, 'text': '10,7 miliardi di yuan'}],\n",
       "     'id': '56d6622d1c850414009470db',\n",
       "     'question': 'Quanto denaro era stato donato entro il 14 maggio?'},\n",
       "    {'answers': [{'answer_start': 186, 'text': 'Yao Ming'}],\n",
       "     'id': '56d6622d1c850414009470dd',\n",
       "     'question': 'Quale famoso giocatore di basket ha fatto due grandi donazioni alla crisi?'},\n",
       "    {'answers': [{'answer_start': 358, 'text': '26 milioni'}],\n",
       "     'id': '56d6622d1c850414009470de',\n",
       "     'question': 'Quanto ha raccolto la Società della Croce Rossa?'}]},\n",
       "  {'context': 'Francis Marcus della Federazione Internazionale della Croce Rossa ha elogiato lo sforzo cinese di salvataggio come \"veloce e molto efficiente\" a Pechino martedì. Ma ha aggiunto che la portata del disastro era tale che \"non possiamo aspettarci che il governo possa fare tutto e gestire ogni aspetto delle necessità\". L\\' economista ha osservato che la Cina ha reagito al disastro \"rapidamente e con un\\' insolita apertura\", contrastandola con la risposta segreta della Birmania al ciclone Nargis, che ha devastato il paese 10 giorni prima del terremoto.',\n",
       "   'qas': [{'answers': [{'answer_start': 410, 'text': 'apertura'}],\n",
       "     'id': '56d614dd1c85041400946f07',\n",
       "     'question': 'Quale atteggiamento atipico ha mostrato la Cina?'},\n",
       "    {'answers': [{'answer_start': 520, 'text': '10 giorni'}],\n",
       "     'id': '56d614dd1c85041400946f09',\n",
       "     'question': 'Quanto tempo prima del terremoto il ciclone Nargis colpì la Birmania?'},\n",
       "    {'answers': [{'answer_start': 21,\n",
       "       'text': 'Federazione Internazionale della Croce Rossa'}],\n",
       "     'id': '56d614dd1c85041400946f0a',\n",
       "     'question': 'Quale organizzazione ha rappresentato Francesco Marco?'}]},\n",
       "  {'context': 'Tutte le emittenti televisive della Cina continentale (insieme ad alcune stazioni di Hong Kong e delle comunità espatriate) hanno cancellato tutti i programmi programmati regolarmente, hanno mostrato il loro logo in scala di grigi e hanno sostituito i programmi cancellati con filmati dal vivo del CCTV-1 per più giorni dopo il terremoto. Anche i canali televisivi a pagamento (come il canale V) sono stati sospesi.',\n",
       "   'qas': [{'answers': [{'answer_start': 298, 'text': 'CCTV-1'}],\n",
       "     'id': '56d646091c8504140094705e',\n",
       "     'question': 'Qual è stata la fonte dei feed live?'}]},\n",
       "  {'context': \"Sebbene il governo cinese sia stato inizialmente elogiato per la sua risposta al terremoto (soprattutto rispetto al blocco degli aiuti da parte della giunta militare di governo del Myanmar durante il ciclone Nargis), ha poi visto un' erosione della fiducia nello scandalo della costruzione scolastica.\",\n",
       "   'qas': [{'answers': [{'answer_start': 181, 'text': 'Myanmar'}],\n",
       "     'id': '56d6488e1c8504140094706f',\n",
       "     'question': 'Quale governo ha bloccato gli aiuti dopo il ciclone Nargis?'},\n",
       "    {'answers': [{'answer_start': 263,\n",
       "       'text': 'scandalo della costruzione scolastica'}],\n",
       "     'id': '56d6488e1c85041400947070',\n",
       "     'question': \"Su quale scandalo ha perso nell' opinione pubblica il governo cinese?\"},\n",
       "    {'answers': [{'answer_start': 69, 'text': 'risposta al terremoto'}],\n",
       "     'id': '56d6488e1c85041400947071',\n",
       "     'question': 'A cosa è stato lodato per la prima volta il governo cinese?'}]},\n",
       "  {'context': \"Il 29 maggio 2008, i funzionari governativi hanno iniziato a ispezionare le rovine di migliaia di scuole crollate, alla ricerca di indizi sul perché si sono sgretolate. Migliaia di genitori in tutta la provincia hanno accusato funzionari locali e costruttori di tagliare angoli nella costruzione della scuola, citando che dopo il terremoto altri edifici vicini sono stati poco danneggiati. All' indomani del terremoto, molti governi locali hanno promesso di indagare formalmente sui crolli della scuola, ma a partire dal 17 luglio 2008 in tutto il Sichuan, i genitori di bambini perduti nelle scuole crollate si sono lamentati di non aver ancora ricevuto alcuna segnalazione. Funzionari locali li ha esortati a non protestare, ma i genitori hanno dimostrato e chiesto un' indagine. Inoltre, i censori hanno scoraggiato la pubblicazione sui media di storie di scuole costruite in modo inadeguato e vi è stato un incidente in cui la polizia ha allontanato i manifestanti.\",\n",
       "   'qas': []},\n",
       "  {'context': 'Il AP ha riferito che \"I media controllati dallo Stato ha ampiamente ignorato la questione, apparentemente sotto le istruzioni dell\\' ufficio di propaganda. Genitori e volontari che hanno interrogato le autorità sono stati detenuti e minacciati.',\n",
       "   'qas': [{'answers': [{'answer_start': 25,\n",
       "       'text': 'media controllati dallo Stato'}],\n",
       "     'id': '56d650911c8504140094709f',\n",
       "     'question': 'Chi ha ignorato la questione della scuola?'},\n",
       "    {'answers': [{'answer_start': 0, 'text': 'Il AP'}],\n",
       "     'id': '56d650911c850414009470a2',\n",
       "     'question': 'Quale fonte mediatica ha riferito che ciò accade?'}]},\n",
       "  {'context': 'Il 15 maggio 2008 Geoffery York del Globeandmail. com ha riferito che gli edifici di costruzione scadente sono comunemente chiamati \"edifici tofu\" perché i costruttori tagliano gli angoli sostituendo barre d\\' acciaio con fili di ferro sottili per il rinforzo del calcestruzzo, utilizzando cemento di qualità inferiore, se ce ne sono, e utilizzando meno mattoni di quanto dovrebbero.',\n",
       "   'qas': []},\n",
       "  {'context': \"Rimangono tuttavia ancora delle domande, in quanto alcuni funzionari di governo corrotti non sono ancora stati consegnati alla giustizia, mentre le numerose famiglie che hanno perso l' unico figlio, cercano ancora di ottenere un risarcimento e di rendere giustizia a quanto era accaduto. Secondo il Times, molti genitori sono stati avvertiti dal governo di non mettere in scena una protesta sotto la minaccia dell' arresto.\",\n",
       "   'qas': []}],\n",
       " 'title': 'Terremoto del Sichuan del 2008'}"
      ]
     },
     "execution_count": 6,
     "metadata": {},
     "output_type": "execute_result"
    }
   ],
   "source": [
    "squad_dataset['train'][0]"
   ]
  },
  {
   "cell_type": "code",
   "execution_count": 7,
   "id": "1a94fe5a",
   "metadata": {},
   "outputs": [
    {
     "data": {
      "text/plain": [
       "DatasetDict({\n",
       "    train: Dataset({\n",
       "        features: ['paragraphs', 'title'],\n",
       "        num_rows: 442\n",
       "    })\n",
       "    test: Dataset({\n",
       "        features: ['paragraphs', 'title'],\n",
       "        num_rows: 48\n",
       "    })\n",
       "})"
      ]
     },
     "execution_count": 7,
     "metadata": {},
     "output_type": "execute_result"
    }
   ],
   "source": [
    "data_files = {\"train\": \"05_data/SQuAD_it-train.json\", \"test\": \"05_data/SQuAD_it-test.json\"}\n",
    "squad_it_dataset = load_dataset(\"json\", data_files=data_files, field=\"data\")\n",
    "squad_it_dataset"
   ]
  },
  {
   "attachments": {},
   "cell_type": "markdown",
   "id": "253c94ea",
   "metadata": {},
   "source": [
    "We can decompress the files directly without saving them to disk using the load_data function from the datasets library."
   ]
  },
  {
   "cell_type": "code",
   "execution_count": 8,
   "id": "3952419d",
   "metadata": {},
   "outputs": [
    {
     "data": {
      "text/plain": [
       "DatasetDict({\n",
       "    train: Dataset({\n",
       "        features: ['paragraphs', 'title'],\n",
       "        num_rows: 442\n",
       "    })\n",
       "    test: Dataset({\n",
       "        features: ['paragraphs', 'title'],\n",
       "        num_rows: 48\n",
       "    })\n",
       "})"
      ]
     },
     "execution_count": 8,
     "metadata": {},
     "output_type": "execute_result"
    }
   ],
   "source": [
    "data_files = {\"train\": \"05_data/SQuAD_it-train.json.gz\", \"test\": \"05_data/SQuAD_it-test.json.gz\"}\n",
    "squad_it_dataset = load_dataset(\"json\", data_files=data_files, field=\"data\")\n",
    "squad_it_dataset"
   ]
  },
  {
   "attachments": {},
   "cell_type": "markdown",
   "id": "93f74b5c",
   "metadata": {},
   "source": [
    "#### Loading a remote dataset"
   ]
  },
  {
   "cell_type": "code",
   "execution_count": 9,
   "id": "66d8e493",
   "metadata": {},
   "outputs": [],
   "source": [
    "url = \"https://github.com/crux82/squad-it/raw/master/\"\n",
    "data_files = {\n",
    "    \"train\": url + \"SQuAD_it-train.json.gz\",\n",
    "    \"test\": url + \"SQuAD_it-test.json.gz\",\n",
    "}\n",
    "squad_it_dataset = load_dataset(\"json\", data_files=data_files, field=\"data\")"
   ]
  },
  {
   "cell_type": "code",
   "execution_count": 10,
   "id": "89122358",
   "metadata": {},
   "outputs": [
    {
     "data": {
      "text/plain": [
       "DatasetDict({\n",
       "    train: Dataset({\n",
       "        features: ['paragraphs', 'title'],\n",
       "        num_rows: 442\n",
       "    })\n",
       "    test: Dataset({\n",
       "        features: ['paragraphs', 'title'],\n",
       "        num_rows: 48\n",
       "    })\n",
       "})"
      ]
     },
     "execution_count": 10,
     "metadata": {},
     "output_type": "execute_result"
    }
   ],
   "source": [
    "squad_it_dataset"
   ]
  },
  {
   "attachments": {},
   "cell_type": "markdown",
   "id": "b5c81dcf",
   "metadata": {},
   "source": [
    "### Time to slice and dice"
   ]
  },
  {
   "cell_type": "code",
   "execution_count": 11,
   "id": "12c25207",
   "metadata": {},
   "outputs": [],
   "source": [
    "if not check_file_or_folder_existence(\"05_data/drug+review+dataset+druglib+com.zip\"):\n",
    "    !wget -P 05_data \"http://archive.ics.uci.edu/static/public/461/drug+review+dataset+druglib+com.zip\"\n",
    "    !unzip -d 05_data 05_data/drug+review+dataset+druglib+com"
   ]
  },
  {
   "cell_type": "code",
   "execution_count": 12,
   "id": "fdc692c2",
   "metadata": {},
   "outputs": [],
   "source": [
    "if not check_file_or_folder_existence(\"05_data/drug+review+dataset+drugs+com.zip\"):\n",
    "    !wget -P 05_data \"http://archive.ics.uci.edu/static/public/462/drug+review+dataset+drugs+com.zip\"\n",
    "    !unzip -d 05_data 05_data/drug+review+dataset+drugs+com"
   ]
  },
  {
   "cell_type": "code",
   "execution_count": 13,
   "id": "0fcb3674",
   "metadata": {},
   "outputs": [],
   "source": [
    "data_files = {\"train\": \"05_data/drugsComTrain_raw.tsv\", \"test\": \"05_data/drugsComTest_raw.tsv\"}\n",
    "# \\t is the tab character in Python\n",
    "drug_dataset = load_dataset(\"csv\", data_files=data_files, delimiter=\"\\t\")"
   ]
  },
  {
   "cell_type": "code",
   "execution_count": 14,
   "id": "0542ecd3",
   "metadata": {},
   "outputs": [
    {
     "data": {
      "text/plain": [
       "DatasetDict({\n",
       "    train: Dataset({\n",
       "        features: ['Unnamed: 0', 'drugName', 'condition', 'review', 'rating', 'date', 'usefulCount'],\n",
       "        num_rows: 161297\n",
       "    })\n",
       "    test: Dataset({\n",
       "        features: ['Unnamed: 0', 'drugName', 'condition', 'review', 'rating', 'date', 'usefulCount'],\n",
       "        num_rows: 53766\n",
       "    })\n",
       "})"
      ]
     },
     "execution_count": 14,
     "metadata": {},
     "output_type": "execute_result"
    }
   ],
   "source": [
    "drug_dataset"
   ]
  },
  {
   "cell_type": "code",
   "execution_count": 15,
   "id": "29d4a55d",
   "metadata": {},
   "outputs": [
    {
     "data": {
      "text/plain": [
       "{'Unnamed: 0': [87571, 178045, 80482],\n",
       " 'drugName': ['Naproxen', 'Duloxetine', 'Mobic'],\n",
       " 'condition': ['Gout, Acute', 'ibromyalgia', 'Inflammatory Conditions'],\n",
       " 'review': ['\"like the previous person mention, I&#039;m a strong believer of aleve, it works faster for my gout than the prescription meds I take. No more going to the doctor for refills.....Aleve works!\"',\n",
       "  '\"I have taken Cymbalta for about a year and a half for fibromyalgia pain. It is great\\r\\nas a pain reducer and an anti-depressant, however, the side effects outweighed \\r\\nany benefit I got from it. I had trouble with restlessness, being tired constantly,\\r\\ndizziness, dry mouth, numbness and tingling in my feet, and horrible sweating. I am\\r\\nbeing weaned off of it now. Went from 60 mg to 30mg and now to 15 mg. I will be\\r\\noff completely in about a week. The fibro pain is coming back, but I would rather deal with it than the side effects.\"',\n",
       "  '\"I have been taking Mobic for over a year with no side effects other than an elevated blood pressure.  I had severe knee and ankle pain which completely went away after taking Mobic.  I attempted to stop the medication however pain returned after a few days.\"'],\n",
       " 'rating': [9.0, 3.0, 10.0],\n",
       " 'date': ['September 2, 2015', 'November 7, 2011', 'June 5, 2013'],\n",
       " 'usefulCount': [36, 13, 128]}"
      ]
     },
     "execution_count": 15,
     "metadata": {},
     "output_type": "execute_result"
    }
   ],
   "source": [
    "drug_sample = drug_dataset[\"train\"].shuffle(seed=42).select(range(1000))\n",
    "# Peek at the first few examples\n",
    "drug_sample[:3]"
   ]
  },
  {
   "attachments": {},
   "cell_type": "markdown",
   "id": "45ef59c3",
   "metadata": {},
   "source": [
    "Note that we’ve fixed the seed in Dataset.shuffle() for reproducibility purposes. Dataset.select() expects an iterable of indices, so we’ve passed range(1000) to grab the first 1,000 examples from the shuffled dataset. From this sample we can already see a few quirks in our dataset:\n",
    "\n",
    "* The Unnamed: 0 column looks suspiciously like an anonymized ID for each patient.\n",
    "* The condition column includes a mix of uppercase and lowercase labels.\n",
    "* The reviews are of varying length and contain a mix of Python line separators (\\r\\n) as well as HTML character codes like &\\#039;.\n",
    "\n",
    "Let’s see how we can use 🤗 Datasets to deal with each of these issues. To test the patient ID hypothesis for the Unnamed: 0 column, we can use the Dataset.unique() function to verify that the number of IDs matches the number of rows in each split:"
   ]
  },
  {
   "cell_type": "code",
   "execution_count": 16,
   "id": "2b0f2570",
   "metadata": {},
   "outputs": [],
   "source": [
    "for split in drug_dataset.keys():\n",
    "    assert len(drug_dataset[split]) == len(drug_dataset[split].unique(\"Unnamed: 0\"))"
   ]
  },
  {
   "attachments": {},
   "cell_type": "markdown",
   "id": "0fccbb13",
   "metadata": {},
   "source": [
    "This seems to confirm our hypothesis, so let’s clean up the dataset a bit by renaming the Unnamed: 0 column to something a bit more interpretable. We can use the DatasetDict.rename_column() function to rename the column across both splits in one go:"
   ]
  },
  {
   "cell_type": "code",
   "execution_count": 17,
   "id": "7afe1a23",
   "metadata": {},
   "outputs": [
    {
     "data": {
      "text/plain": [
       "DatasetDict({\n",
       "    train: Dataset({\n",
       "        features: ['patient_id', 'drugName', 'condition', 'review', 'rating', 'date', 'usefulCount'],\n",
       "        num_rows: 161297\n",
       "    })\n",
       "    test: Dataset({\n",
       "        features: ['patient_id', 'drugName', 'condition', 'review', 'rating', 'date', 'usefulCount'],\n",
       "        num_rows: 53766\n",
       "    })\n",
       "})"
      ]
     },
     "execution_count": 17,
     "metadata": {},
     "output_type": "execute_result"
    }
   ],
   "source": [
    "drug_dataset = drug_dataset.rename_column(\n",
    "    original_column_name=\"Unnamed: 0\", new_column_name=\"patient_id\"\n",
    ")\n",
    "drug_dataset"
   ]
  },
  {
   "cell_type": "code",
   "execution_count": 18,
   "id": "5b067bb2",
   "metadata": {},
   "outputs": [
    {
     "data": {
      "text/plain": [
       "DatasetDict({\n",
       "    train: Dataset({\n",
       "        features: ['patient_id', 'drugName', 'condition', 'review', 'rating', 'date', 'usefulCount'],\n",
       "        num_rows: 161297\n",
       "    })\n",
       "    test: Dataset({\n",
       "        features: ['patient_id', 'drugName', 'condition', 'review', 'rating', 'date', 'usefulCount'],\n",
       "        num_rows: 53766\n",
       "    })\n",
       "})"
      ]
     },
     "execution_count": 18,
     "metadata": {},
     "output_type": "execute_result"
    }
   ],
   "source": [
    "drug_dataset"
   ]
  },
  {
   "cell_type": "code",
   "execution_count": 19,
   "id": "dd7a203a",
   "metadata": {},
   "outputs": [
    {
     "name": "stdout",
     "output_type": "stream",
     "text": [
      "3436\n",
      "885\n"
     ]
    }
   ],
   "source": [
    "split = \"train\"\n",
    "print(len(drug_dataset[split].unique(\"drugName\")))\n",
    "print(len(drug_dataset[split].unique(\"condition\")))"
   ]
  },
  {
   "attachments": {},
   "cell_type": "markdown",
   "id": "07fc7522",
   "metadata": {},
   "source": [
    "Next, let’s normalize all the condition labels using Dataset.map(). As we did with tokenization in Chapter 3, we can define a simple function that can be applied across all the rows of each split in drug_dataset:"
   ]
  },
  {
   "cell_type": "code",
   "execution_count": 20,
   "id": "662c430e",
   "metadata": {},
   "outputs": [],
   "source": [
    "def lowercase_condition(example):\n",
    "    return {\"condition\": example[\"condition\"].lower()}"
   ]
  },
  {
   "cell_type": "code",
   "execution_count": 21,
   "id": "cfb0979e",
   "metadata": {},
   "outputs": [],
   "source": [
    "# drug_dataset.map(lowercase_condition)"
   ]
  },
  {
   "attachments": {},
   "cell_type": "markdown",
   "id": "2f85912c",
   "metadata": {},
   "source": [
    "Oh no, we’ve run into a problem with our map function! From the error we can infer that some of the entries in the condition column are None, which cannot be lowercased as they’re not strings. Let’s drop these rows using Dataset.filter(), which works in a similar way to Dataset.map() and expects a function that receives a single example of the dataset. Instead of writing an explicit function like:"
   ]
  },
  {
   "cell_type": "code",
   "execution_count": 22,
   "id": "4d8d6b65",
   "metadata": {},
   "outputs": [],
   "source": [
    "def filter_nones(x):\n",
    "    return x[\"condition\"] is not None"
   ]
  },
  {
   "attachments": {},
   "cell_type": "markdown",
   "id": "b55833d3",
   "metadata": {},
   "source": [
    "and then running drug_dataset.filter(filter_nones), we can do this in one line using a lambda function. In Python, lambda functions are small functions that you can define without explicitly naming them. They take the general form:"
   ]
  },
  {
   "cell_type": "code",
   "execution_count": 23,
   "id": "04a05288",
   "metadata": {},
   "outputs": [],
   "source": [
    "drug_dataset = drug_dataset.filter(lambda x: x[\"condition\"] is not None)"
   ]
  },
  {
   "attachments": {},
   "cell_type": "markdown",
   "id": "9b7e1c08",
   "metadata": {},
   "source": [
    "With the None entries removed, we can normalize our condition column:"
   ]
  },
  {
   "cell_type": "code",
   "execution_count": 24,
   "id": "c3cb0741",
   "metadata": {},
   "outputs": [
    {
     "data": {
      "text/plain": [
       "['left ventricular dysfunction', 'adhd', 'birth control']"
      ]
     },
     "execution_count": 24,
     "metadata": {},
     "output_type": "execute_result"
    }
   ],
   "source": [
    "drug_dataset = drug_dataset.map(lowercase_condition)\n",
    "# Check that lowercasing worked\n",
    "drug_dataset[\"train\"][\"condition\"][:3]"
   ]
  },
  {
   "attachments": {},
   "cell_type": "markdown",
   "id": "54e6eab1",
   "metadata": {},
   "source": [
    "It works! Now that we’ve cleaned up the labels, let’s take a look at cleaning up the reviews themselves."
   ]
  },
  {
   "attachments": {},
   "cell_type": "markdown",
   "id": "37e2d793",
   "metadata": {},
   "source": [
    "#### Creating new columns"
   ]
  },
  {
   "attachments": {},
   "cell_type": "markdown",
   "id": "7190de85",
   "metadata": {},
   "source": [
    "Whenever you’re dealing with customer reviews, a good practice is to check the number of words in each review. A review might be just a single word like “Great!” or a full-blown essay with thousands of words, and depending on the use case you’ll need to handle these extremes differently. To compute the number of words in each review, we’ll use a rough heuristic based on splitting each text by whitespace.\n",
    "\n",
    "Let’s define a simple function that counts the number of words in each review:"
   ]
  },
  {
   "cell_type": "code",
   "execution_count": 25,
   "id": "f3d0cd80",
   "metadata": {},
   "outputs": [],
   "source": [
    "def compute_review_length(example):\n",
    "    return {\"review_length\": len(example[\"review\"].split())}"
   ]
  },
  {
   "attachments": {},
   "cell_type": "markdown",
   "id": "cef9e1f5",
   "metadata": {},
   "source": [
    "Unlike our lowercase_condition() function, compute_review_length() returns a dictionary whose key does not correspond to one of the column names in the dataset. In this case, when compute_review_length() is passed to Dataset.map(), it will be applied to all the rows in the dataset to create a new review_length column:"
   ]
  },
  {
   "cell_type": "code",
   "execution_count": 26,
   "id": "e67f9f70",
   "metadata": {},
   "outputs": [
    {
     "data": {
      "text/plain": [
       "{'patient_id': 206461,\n",
       " 'drugName': 'Valsartan',\n",
       " 'condition': 'left ventricular dysfunction',\n",
       " 'review': '\"It has no side effect, I take it in combination of Bystolic 5 Mg and Fish Oil\"',\n",
       " 'rating': 9.0,\n",
       " 'date': 'May 20, 2012',\n",
       " 'usefulCount': 27,\n",
       " 'review_length': 17}"
      ]
     },
     "execution_count": 26,
     "metadata": {},
     "output_type": "execute_result"
    }
   ],
   "source": [
    "drug_dataset = drug_dataset.map(compute_review_length)\n",
    "# Inspect the first training example\n",
    "drug_dataset[\"train\"][0]"
   ]
  },
  {
   "attachments": {},
   "cell_type": "markdown",
   "id": "ed47de0b",
   "metadata": {},
   "source": [
    "As expected, we can see a review_length column has been added to our training set. We can sort this new column with Dataset.sort() to see what the extreme values look like:"
   ]
  },
  {
   "cell_type": "code",
   "execution_count": 27,
   "id": "db494952",
   "metadata": {},
   "outputs": [
    {
     "data": {
      "text/plain": [
       "{'patient_id': [111469, 13653, 53602],\n",
       " 'drugName': ['Ledipasvir / sofosbuvir',\n",
       "  'Amphetamine / dextroamphetamine',\n",
       "  'Alesse'],\n",
       " 'condition': ['hepatitis c', 'adhd', 'birth control'],\n",
       " 'review': ['\"Headache\"', '\"Great\"', '\"Awesome\"'],\n",
       " 'rating': [10.0, 10.0, 10.0],\n",
       " 'date': ['February 3, 2015', 'October 20, 2009', 'November 23, 2015'],\n",
       " 'usefulCount': [41, 3, 0],\n",
       " 'review_length': [1, 1, 1]}"
      ]
     },
     "execution_count": 27,
     "metadata": {},
     "output_type": "execute_result"
    }
   ],
   "source": [
    "drug_dataset[\"train\"].sort(\"review_length\")[:3]"
   ]
  },
  {
   "attachments": {},
   "cell_type": "markdown",
   "id": "d63a146c",
   "metadata": {},
   "source": [
    "🙋 An alternative way to add new columns to a dataset is with the Dataset.add_column() function. This allows you to provide the column as a Python list or NumPy array and can be handy in situations where Dataset.map() is not well suited for your analysis."
   ]
  },
  {
   "attachments": {},
   "cell_type": "markdown",
   "id": "4f7d7967",
   "metadata": {},
   "source": [
    "Let’s use the Dataset.filter() function to remove reviews that contain fewer than 30 words. Similarly to what we did with the condition column, we can filter out the very short reviews by requiring that the reviews have a length above this threshold:"
   ]
  },
  {
   "cell_type": "code",
   "execution_count": 28,
   "id": "82699d49",
   "metadata": {},
   "outputs": [
    {
     "name": "stdout",
     "output_type": "stream",
     "text": [
      "{'train': 138514, 'test': 46108}\n"
     ]
    }
   ],
   "source": [
    "drug_dataset = drug_dataset.filter(lambda x: x[\"review_length\"] > 30)\n",
    "print(drug_dataset.num_rows)"
   ]
  },
  {
   "cell_type": "code",
   "execution_count": 29,
   "id": "f3628465",
   "metadata": {},
   "outputs": [],
   "source": [
    "# drug_dataset[\"train\"].sort(\"review_length\", reverse=True)[:3]"
   ]
  },
  {
   "attachments": {},
   "cell_type": "markdown",
   "id": "9aefdb78",
   "metadata": {},
   "source": [
    "The last thing we need to deal with is the presence of HTML character codes in our reviews. We can use Python’s html module to unescape these characters, like so:"
   ]
  },
  {
   "cell_type": "code",
   "execution_count": 30,
   "id": "09665037",
   "metadata": {},
   "outputs": [
    {
     "data": {
      "text/plain": [
       "\"I'm a transformer called BERT\""
      ]
     },
     "execution_count": 30,
     "metadata": {},
     "output_type": "execute_result"
    }
   ],
   "source": [
    "import html\n",
    "\n",
    "text = \"I&#039;m a transformer called BERT\"\n",
    "html.unescape(text)"
   ]
  },
  {
   "attachments": {},
   "cell_type": "markdown",
   "id": "1050e55e",
   "metadata": {},
   "source": [
    "We’ll use Dataset.map() to unescape all the HTML characters in our corpus:"
   ]
  },
  {
   "cell_type": "code",
   "execution_count": 31,
   "id": "c3e6abd5",
   "metadata": {},
   "outputs": [],
   "source": [
    "drug_dataset = drug_dataset.map(lambda x: {\"review\": html.unescape(x[\"review\"])})"
   ]
  },
  {
   "attachments": {},
   "cell_type": "markdown",
   "id": "f37c0763",
   "metadata": {},
   "source": [
    "As you can see, the Dataset.map() method is quite useful for processing data — and we haven’t even scratched the surface of everything it can do!"
   ]
  },
  {
   "attachments": {},
   "cell_type": "markdown",
   "id": "bc516823",
   "metadata": {},
   "source": [
    "#### The map() method's superpowers"
   ]
  },
  {
   "attachments": {},
   "cell_type": "markdown",
   "id": "c39b9b0b",
   "metadata": {},
   "source": [
    "The Dataset.map() method takes a batched argument that, if set to True, causes it to send a batch of examples to the map function at once (the batch size is configurable but defaults to 1,000). For instance, the previous map function that unescaped all the HTML took a bit of time to run (you can read the time taken from the progress bars). We can speed this up by processing several elements at the same time using a list comprehension.\n",
    "\n",
    "When you specify batched=True the function receives a dictionary with the fields of the dataset, but each value is now a list of values, and not just a single value. The return value of Dataset.map() should be the same: a dictionary with the fields we want to update or add to our dataset, and a list of values. For example, here is another way to unescape all HTML characters, but using batched=True:"
   ]
  },
  {
   "cell_type": "code",
   "execution_count": 32,
   "id": "03759411",
   "metadata": {},
   "outputs": [],
   "source": [
    "new_drug_dataset = drug_dataset.map(\n",
    "    lambda x: {\"review\": [html.unescape(o) for o in x[\"review\"]]}, batched=True\n",
    ")"
   ]
  },
  {
   "attachments": {},
   "cell_type": "markdown",
   "id": "6629948e",
   "metadata": {},
   "source": [
    "If you’re running this code in a notebook, you’ll see that this command executes way faster than the previous one. And it’s not because our reviews have already been HTML-unescaped — if you re-execute the instruction from the previous section (without batched=True), it will take the same amount of time as before. This is because list comprehensions are usually faster than executing the same code in a for loop, and we also gain some performance by accessing lots of elements at the same time instead of one by one.\n",
    "\n",
    "Using Dataset.map() with batched=True will be essential to unlock the speed of the “fast” tokenizers that we’ll encounter in Chapter 6, which can quickly tokenize big lists of texts. For instance, to tokenize all the drug reviews with a fast tokenizer, we could use a function like this:"
   ]
  },
  {
   "cell_type": "code",
   "execution_count": 33,
   "id": "a1fedf30",
   "metadata": {},
   "outputs": [],
   "source": [
    "from transformers import AutoTokenizer\n",
    "tokenizer = AutoTokenizer.from_pretrained(\"bert-base-cased\")\n",
    "\n",
    "\n",
    "def tokenize_function(examples):\n",
    "    return tokenizer(examples[\"review\"], truncation=True)"
   ]
  },
  {
   "attachments": {},
   "cell_type": "markdown",
   "id": "0508f5f4",
   "metadata": {},
   "source": [
    "As you saw in Chapter 3, we can pass one or several examples to the tokenizer, so we can use this function with or without batched=True. Let’s take this opportunity to compare the performance of the different options. In a notebook, you can time a one-line instruction by adding %time before the line of code you wish to measure:"
   ]
  },
  {
   "cell_type": "code",
   "execution_count": 34,
   "id": "3e4c6d1a",
   "metadata": {},
   "outputs": [
    {
     "name": "stdout",
     "output_type": "stream",
     "text": [
      "CPU times: user 17.9 ms, sys: 38.2 ms, total: 56.1 ms\n",
      "Wall time: 55.3 ms\n"
     ]
    }
   ],
   "source": [
    "%time tokenized_dataset = drug_dataset.map(tokenize_function, batched=True)"
   ]
  },
  {
   "attachments": {},
   "cell_type": "markdown",
   "id": "b97d29ff",
   "metadata": {},
   "source": [
    "You can also time a whole cell by putting %%time at the beginning of the cell. On the hardware we executed this on, it showed 10.8s for this instruction (it’s the number written after “Wall time”)."
   ]
  },
  {
   "cell_type": "code",
   "execution_count": 35,
   "id": "395e4e0f",
   "metadata": {},
   "outputs": [
    {
     "data": {
      "application/vnd.jupyter.widget-view+json": {
       "model_id": "b0c487db33cf45fc8400e656534a6eb6",
       "version_major": 2,
       "version_minor": 0
      },
      "text/plain": [
       "Map:   0%|          | 0/46108 [00:00<?, ? examples/s]"
      ]
     },
     "metadata": {},
     "output_type": "display_data"
    },
    {
     "name": "stdout",
     "output_type": "stream",
     "text": [
      "CPU times: user 26.3 s, sys: 356 ms, total: 26.7 s\n",
      "Wall time: 26.6 s\n"
     ]
    }
   ],
   "source": [
    "%time tokenized_dataset = drug_dataset.map(tokenize_function, batched=False)"
   ]
  },
  {
   "attachments": {},
   "cell_type": "markdown",
   "id": "06ec8bff",
   "metadata": {},
   "source": [
    "This means that using a fast tokenizer with the batched=True option is 30 times faster than its slow counterpart with no batching — this is truly amazing! That’s the main reason why fast tokenizers are the default when using AutoTokenizer (and why they are called “fast”). They’re able to achieve such a speedup because behind the scenes the tokenization code is executed in Rust, which is a language that makes it easy to parallelize code execution.\n",
    "\n",
    "Parallelization is also the reason for the nearly 6x speedup the fast tokenizer achieves with batching: you can’t parallelize a single tokenization operation, but when you want to tokenize lots of texts at the same time you can just split the execution across several processes, each responsible for its own texts.\n",
    "\n",
    "Dataset.map() also has some parallelization capabilities of its own. Since they are not backed by Rust, they won’t let a slow tokenizer catch up with a fast one, but they can still be helpful (especially if you’re using a tokenizer that doesn’t have a fast version). To enable multiprocessing, use the num_proc argument and specify the number of processes to use in your call to Dataset.map():"
   ]
  },
  {
   "cell_type": "code",
   "execution_count": 36,
   "id": "a2982158",
   "metadata": {},
   "outputs": [],
   "source": [
    "slow_tokenizer = AutoTokenizer.from_pretrained(\"bert-base-cased\", use_fast=False)"
   ]
  },
  {
   "cell_type": "code",
   "execution_count": 37,
   "id": "4d6fb1c2",
   "metadata": {},
   "outputs": [],
   "source": [
    "def slow_tokenize_function(examples):\n",
    "    return slow_tokenizer(examples[\"review\"], truncation=True)"
   ]
  },
  {
   "cell_type": "code",
   "execution_count": 38,
   "id": "d0a7a6e6",
   "metadata": {},
   "outputs": [
    {
     "data": {
      "text/plain": [
       "8"
      ]
     },
     "execution_count": 38,
     "metadata": {},
     "output_type": "execute_result"
    }
   ],
   "source": [
    "import multiprocessing\n",
    "multiprocessing.cpu_count()"
   ]
  },
  {
   "cell_type": "code",
   "execution_count": 39,
   "id": "0ccddd61",
   "metadata": {},
   "outputs": [],
   "source": [
    "tokenized_dataset = drug_dataset.map(slow_tokenize_function, batched=True, num_proc=6)"
   ]
  },
  {
   "attachments": {},
   "cell_type": "markdown",
   "id": "a6d1b8fa",
   "metadata": {},
   "source": [
    "You can experiment a little with timing to determine the optimal number of processes to use; in our case 8 seemed to produce the best speed gain. Here are the numbers we got with and without multiprocessing:"
   ]
  },
  {
   "attachments": {},
   "cell_type": "markdown",
   "id": "fb2bafbb",
   "metadata": {},
   "source": [
    "Those are much more reasonable results for the slow tokenizer, but the performance of the fast tokenizer was also substantially improved. Note, however, that won’t always be the case — for values of num_proc other than 8, our tests showed that it was faster to use batched=True without that option. In general, we don’t recommend using Python multiprocessing for fast tokenizers with batched=True."
   ]
  },
  {
   "attachments": {},
   "cell_type": "markdown",
   "id": "e675b718",
   "metadata": {},
   "source": [
    "Using num_proc to speed up your processing is usually a great idea, as long as the function you are using is not already doing some kind of multiprocessing of its own."
   ]
  },
  {
   "attachments": {},
   "cell_type": "markdown",
   "id": "d2a55db2",
   "metadata": {},
   "source": [
    "All of this functionality condensed into a single method is already pretty amazing, but there’s more! With Dataset.map() and batched=True you can change the number of elements in your dataset. This is super useful in many situations where you want to create several training features from one example, and we will need to do this as part of the preprocessing for several of the NLP tasks we’ll undertake in Chapter 7."
   ]
  },
  {
   "attachments": {},
   "cell_type": "markdown",
   "id": "b8ee83db",
   "metadata": {},
   "source": [
    "💡 In machine learning, an example is usually defined as the set of features that we feed to the model. In some contexts, these features will be the set of columns in a Dataset, but in others (like here and for question answering), multiple features can be extracted from a single example and belong to a single column"
   ]
  },
  {
   "attachments": {},
   "cell_type": "markdown",
   "id": "e91af5f0",
   "metadata": {},
   "source": [
    "Let’s have a look at how it works! Here we will tokenize our examples and truncate them to a maximum length of 128, but we will ask the tokenizer to return all the chunks of the texts instead of just the first one. This can be done with return_overflowing_tokens=True:"
   ]
  },
  {
   "cell_type": "code",
   "execution_count": 40,
   "id": "7a570d27",
   "metadata": {},
   "outputs": [],
   "source": [
    "def tokenize_and_split(examples):\n",
    "    return tokenizer(\n",
    "        examples[\"review\"],\n",
    "        truncation=True,\n",
    "        max_length=128,\n",
    "        return_overflowing_tokens=True,\n",
    "    )"
   ]
  },
  {
   "attachments": {},
   "cell_type": "markdown",
   "id": "450d1a35",
   "metadata": {},
   "source": [
    "Let’s test this on one example before using Dataset.map() on the whole dataset:"
   ]
  },
  {
   "cell_type": "code",
   "execution_count": 41,
   "id": "4f541116",
   "metadata": {},
   "outputs": [
    {
     "data": {
      "text/plain": [
       "[128, 49]"
      ]
     },
     "execution_count": 41,
     "metadata": {},
     "output_type": "execute_result"
    }
   ],
   "source": [
    "result = tokenize_and_split(drug_dataset[\"train\"][0])\n",
    "[len(inp) for inp in result[\"input_ids\"]]"
   ]
  },
  {
   "cell_type": "code",
   "execution_count": 42,
   "id": "e20d7151",
   "metadata": {},
   "outputs": [
    {
     "data": {
      "text/plain": [
       "dict_keys(['input_ids', 'token_type_ids', 'attention_mask', 'overflow_to_sample_mapping'])"
      ]
     },
     "execution_count": 42,
     "metadata": {},
     "output_type": "execute_result"
    }
   ],
   "source": [
    "result.keys()"
   ]
  },
  {
   "cell_type": "code",
   "execution_count": 43,
   "id": "2402beee",
   "metadata": {},
   "outputs": [
    {
     "data": {
      "text/plain": [
       "[[101,\n",
       "  107,\n",
       "  1422,\n",
       "  1488,\n",
       "  1110,\n",
       "  9079,\n",
       "  1194,\n",
       "  1117,\n",
       "  2223,\n",
       "  1989,\n",
       "  1104,\n",
       "  1130,\n",
       "  19972,\n",
       "  11083,\n",
       "  119,\n",
       "  1284,\n",
       "  1245,\n",
       "  4264,\n",
       "  1165,\n",
       "  1119,\n",
       "  1310,\n",
       "  1142,\n",
       "  1314,\n",
       "  1989,\n",
       "  117,\n",
       "  1165,\n",
       "  1119,\n",
       "  1408,\n",
       "  1781,\n",
       "  1103,\n",
       "  2439,\n",
       "  13753,\n",
       "  1119,\n",
       "  1209,\n",
       "  1129,\n",
       "  1113,\n",
       "  119,\n",
       "  1370,\n",
       "  1160,\n",
       "  1552,\n",
       "  117,\n",
       "  1119,\n",
       "  1180,\n",
       "  6374,\n",
       "  1243,\n",
       "  1149,\n",
       "  1104,\n",
       "  1908,\n",
       "  117,\n",
       "  1108,\n",
       "  1304,\n",
       "  172,\n",
       "  14687,\n",
       "  1183,\n",
       "  117,\n",
       "  1105,\n",
       "  7362,\n",
       "  1111,\n",
       "  2212,\n",
       "  129,\n",
       "  2005,\n",
       "  1113,\n",
       "  170,\n",
       "  2797,\n",
       "  1313,\n",
       "  1121,\n",
       "  1278,\n",
       "  12020,\n",
       "  113,\n",
       "  1304,\n",
       "  5283,\n",
       "  1111,\n",
       "  1140,\n",
       "  119,\n",
       "  114,\n",
       "  146,\n",
       "  1270,\n",
       "  1117,\n",
       "  3995,\n",
       "  1113,\n",
       "  6356,\n",
       "  2106,\n",
       "  1105,\n",
       "  1131,\n",
       "  1163,\n",
       "  1106,\n",
       "  6166,\n",
       "  1122,\n",
       "  1149,\n",
       "  170,\n",
       "  1374,\n",
       "  1552,\n",
       "  119,\n",
       "  3969,\n",
       "  1293,\n",
       "  1119,\n",
       "  1225,\n",
       "  1120,\n",
       "  1278,\n",
       "  117,\n",
       "  1105,\n",
       "  1114,\n",
       "  2033,\n",
       "  1146,\n",
       "  1107,\n",
       "  1103,\n",
       "  2106,\n",
       "  119,\n",
       "  1109,\n",
       "  1314,\n",
       "  1160,\n",
       "  1552,\n",
       "  1138,\n",
       "  1151,\n",
       "  2463,\n",
       "  1714,\n",
       "  119,\n",
       "  1124,\n",
       "  1110,\n",
       "  150,\n",
       "  21986,\n",
       "  3048,\n",
       "  1167,\n",
       "  5340,\n",
       "  1895,\n",
       "  1190,\n",
       "  1518,\n",
       "  102],\n",
       " [101,\n",
       "  119,\n",
       "  1124,\n",
       "  1110,\n",
       "  1750,\n",
       "  6438,\n",
       "  113,\n",
       "  170,\n",
       "  1363,\n",
       "  1645,\n",
       "  114,\n",
       "  117,\n",
       "  1750,\n",
       "  172,\n",
       "  14687,\n",
       "  1183,\n",
       "  119,\n",
       "  1124,\n",
       "  1110,\n",
       "  11566,\n",
       "  1155,\n",
       "  1103,\n",
       "  1614,\n",
       "  1119,\n",
       "  1431,\n",
       "  119,\n",
       "  8007,\n",
       "  1117,\n",
       "  4658,\n",
       "  1110,\n",
       "  1618,\n",
       "  119,\n",
       "  1284,\n",
       "  1138,\n",
       "  1793,\n",
       "  1242,\n",
       "  1472,\n",
       "  23897,\n",
       "  1105,\n",
       "  1177,\n",
       "  1677,\n",
       "  1142,\n",
       "  1110,\n",
       "  1103,\n",
       "  1211,\n",
       "  3903,\n",
       "  119,\n",
       "  107,\n",
       "  102]]"
      ]
     },
     "execution_count": 43,
     "metadata": {},
     "output_type": "execute_result"
    }
   ],
   "source": [
    "result['input_ids']"
   ]
  },
  {
   "attachments": {},
   "cell_type": "markdown",
   "id": "8dd73492",
   "metadata": {},
   "source": [
    "So, our first example in the training set became two features because it was tokenized to more than the maximum number of tokens we specified: the first one of length 128 and the second one of length 49. Now let’s do this for all elements of the dataset!"
   ]
  },
  {
   "cell_type": "code",
   "execution_count": 44,
   "id": "3b3e2069",
   "metadata": {},
   "outputs": [],
   "source": [
    "# tokenized_dataset = drug_dataset.map(tokenize_and_split, batched=True)"
   ]
  },
  {
   "attachments": {},
   "cell_type": "markdown",
   "id": "8cffb34c",
   "metadata": {},
   "source": [
    "Oh no! That didn’t work! Why not? Looking at the error message will give us a clue: there is a mismatch in the lengths of one of the columns, one being of length 1,463 and the other of length 1,000. If you’ve looked at the Dataset.map() documentation, you may recall that it’s the number of samples passed to the function that we are mapping; here those 1,000 examples gave 1,463 new features, resulting in a shape error.\n",
    "\n",
    "The problem is that we’re trying to mix two different datasets of different sizes: the drug_dataset columns will have a certain number of examples (the 1,000 in our error), but the tokenized_dataset we are building will have more (the 1,463 in the error message; it is more than 1,000 because we are tokenizing long reviews into more than one example by using return_overflowing_tokens=True). That doesn’t work for a Dataset, so we need to either remove the columns from the old dataset or make them the same size as they are in the new dataset. We can do the former with the remove_columns argument:"
   ]
  },
  {
   "cell_type": "code",
   "execution_count": 45,
   "id": "d76545f2",
   "metadata": {},
   "outputs": [],
   "source": [
    "tokenized_dataset = drug_dataset.map(\n",
    "    tokenize_and_split, batched=True, remove_columns=drug_dataset[\"train\"].column_names\n",
    ")"
   ]
  },
  {
   "attachments": {},
   "cell_type": "markdown",
   "id": "758c4eda",
   "metadata": {},
   "source": [
    "Now this works without error. We can check that our new dataset has many more elements than the original dataset by comparing the lengths:"
   ]
  },
  {
   "cell_type": "code",
   "execution_count": 46,
   "id": "a094ff0c",
   "metadata": {},
   "outputs": [
    {
     "data": {
      "text/plain": [
       "(206772, 138514)"
      ]
     },
     "execution_count": 46,
     "metadata": {},
     "output_type": "execute_result"
    }
   ],
   "source": [
    "len(tokenized_dataset[\"train\"]), len(drug_dataset[\"train\"])"
   ]
  },
  {
   "cell_type": "code",
   "execution_count": 47,
   "id": "b17a06a2",
   "metadata": {},
   "outputs": [
    {
     "data": {
      "text/plain": [
       "{'train': (206772, 4), 'test': (68876, 4)}"
      ]
     },
     "execution_count": 47,
     "metadata": {},
     "output_type": "execute_result"
    }
   ],
   "source": [
    "tokenized_dataset.shape"
   ]
  },
  {
   "cell_type": "code",
   "execution_count": 48,
   "id": "933cabb8",
   "metadata": {},
   "outputs": [
    {
     "data": {
      "text/plain": [
       "DatasetDict({\n",
       "    train: Dataset({\n",
       "        features: ['input_ids', 'token_type_ids', 'attention_mask', 'overflow_to_sample_mapping'],\n",
       "        num_rows: 206772\n",
       "    })\n",
       "    test: Dataset({\n",
       "        features: ['input_ids', 'token_type_ids', 'attention_mask', 'overflow_to_sample_mapping'],\n",
       "        num_rows: 68876\n",
       "    })\n",
       "})"
      ]
     },
     "execution_count": 48,
     "metadata": {},
     "output_type": "execute_result"
    }
   ],
   "source": [
    "tokenized_dataset"
   ]
  },
  {
   "attachments": {},
   "cell_type": "markdown",
   "id": "f0270ac9",
   "metadata": {},
   "source": [
    "We mentioned that we can also deal with the mismatched length problem by making the old columns the same size as the new ones. To do this, we will need the overflow_to_sample_mapping field the tokenizer returns when we set return_overflowing_tokens=True. It gives us a mapping from a new feature index to the index of the sample it originated from. Using this, we can associate each key present in our original dataset with a list of values of the right size by repeating the values of each example as many times as it generates new features:"
   ]
  },
  {
   "cell_type": "code",
   "execution_count": 49,
   "id": "d50c3f86",
   "metadata": {},
   "outputs": [],
   "source": [
    "def tokenize_and_split(examples):\n",
    "    result = tokenizer(\n",
    "        examples[\"review\"],\n",
    "        truncation=True,\n",
    "        max_length=128,\n",
    "        return_overflowing_tokens=True,\n",
    "    )\n",
    "    # Extract mapping between new and old indices\n",
    "    sample_map = result.pop(\"overflow_to_sample_mapping\")\n",
    "    for key, values in examples.items():\n",
    "        result[key] = [values[i] for i in sample_map]\n",
    "    return result"
   ]
  },
  {
   "cell_type": "code",
   "execution_count": 50,
   "id": "d7ede13a",
   "metadata": {},
   "outputs": [],
   "source": [
    "result = tokenize_and_split(drug_dataset[\"train\"][0:3])"
   ]
  },
  {
   "cell_type": "code",
   "execution_count": 51,
   "id": "5a1a769b",
   "metadata": {},
   "outputs": [
    {
     "data": {
      "text/plain": [
       "{'input_ids': [[101, 107, 1422, 1488, 1110, 9079, 1194, 1117, 2223, 1989, 1104, 1130, 19972, 11083, 119, 1284, 1245, 4264, 1165, 1119, 1310, 1142, 1314, 1989, 117, 1165, 1119, 1408, 1781, 1103, 2439, 13753, 1119, 1209, 1129, 1113, 119, 1370, 1160, 1552, 117, 1119, 1180, 6374, 1243, 1149, 1104, 1908, 117, 1108, 1304, 172, 14687, 1183, 117, 1105, 7362, 1111, 2212, 129, 2005, 1113, 170, 2797, 1313, 1121, 1278, 12020, 113, 1304, 5283, 1111, 1140, 119, 114, 146, 1270, 1117, 3995, 1113, 6356, 2106, 1105, 1131, 1163, 1106, 6166, 1122, 1149, 170, 1374, 1552, 119, 3969, 1293, 1119, 1225, 1120, 1278, 117, 1105, 1114, 2033, 1146, 1107, 1103, 2106, 119, 1109, 1314, 1160, 1552, 1138, 1151, 2463, 1714, 119, 1124, 1110, 150, 21986, 3048, 1167, 5340, 1895, 1190, 1518, 102], [101, 119, 1124, 1110, 1750, 6438, 113, 170, 1363, 1645, 114, 117, 1750, 172, 14687, 1183, 119, 1124, 1110, 11566, 1155, 1103, 1614, 1119, 1431, 119, 8007, 1117, 4658, 1110, 1618, 119, 1284, 1138, 1793, 1242, 1472, 23897, 1105, 1177, 1677, 1142, 1110, 1103, 1211, 3903, 119, 107, 102], [101, 107, 146, 1215, 1106, 1321, 1330, 9619, 14255, 4487, 17046, 117, 1134, 1125, 1626, 21822, 5120, 117, 1105, 1108, 1304, 2816, 118, 1304, 1609, 6461, 117, 12477, 1775, 126, 1552, 117, 1185, 1168, 1334, 3154, 119, 1252, 1122, 4049, 21055, 176, 2556, 13040, 1673, 117, 1134, 1110, 1136, 1907, 1107, 1646, 117, 1177, 146, 6759, 1106, 149, 1183, 9730, 1233, 117, 1272, 1103, 13288, 1132, 1861, 119, 1332, 1139, 1168, 17029, 2207, 117, 146, 1408, 149, 1183, 9730, 1233, 2411, 117, 1113, 1139, 1148, 1285, 1104, 1669, 117, 1112, 1103, 7953, 1163, 119, 1262, 1103, 1669, 5695, 1111, 1160, 2277, 119, 1332, 1781, 1103, 1248, 5246, 118, 1269, 1160, 2277, 119, 1262, 1208, 117, 1114, 1503, 5246, 1614, 1400, 1256, 4146, 118, 1139, 1503, 1669, 5695, 102], [101, 1111, 1160, 2277, 1105, 1208, 1122, 112, 188, 1103, 1322, 1104, 1103, 1503, 1989, 118, 146, 1253, 1138, 3828, 3058, 12398, 119, 1109, 3112, 1334, 1110, 1115, 146, 1238, 112, 189, 1138, 1251, 1168, 1334, 3154, 119, 1109, 1911, 1104, 1217, 1669, 1714, 1108, 1177, 27386, 119, 119, 119, 2586, 2225, 119, 107, 102], [101, 107, 1188, 1110, 1139, 1148, 1159, 1606, 1251, 1532, 1104, 3485, 1654, 119, 146, 112, 182, 5171, 146, 1355, 1114, 1103, 10085, 117, 146, 1138, 1151, 1113, 1122, 1111, 129, 1808, 119, 1335, 1148, 1135, 10558, 1139, 181, 21883, 2572, 1133, 1115, 4841, 25984, 119, 1109, 1178, 1205, 5570, 1110, 1115, 1122, 1189, 1139, 6461, 2039, 113, 126, 118, 127, 1552, 1106, 1129, 6129, 114, 146, 1215, 1106, 1178, 1138, 6461, 1111, 124, 118, 125, 1552, 12477, 1775, 1145, 1189, 1139, 172, 4515, 3491, 5827, 1111, 1103, 1148, 1160, 1552, 1104, 1139, 1669, 117, 146, 1309, 1125, 172, 4515, 3491, 1196, 1606, 3485, 1654, 119, 2189, 1190, 1115, 1107, 2816, 1114, 1103, 10085, 107, 102]], 'token_type_ids': [[0, 0, 0, 0, 0, 0, 0, 0, 0, 0, 0, 0, 0, 0, 0, 0, 0, 0, 0, 0, 0, 0, 0, 0, 0, 0, 0, 0, 0, 0, 0, 0, 0, 0, 0, 0, 0, 0, 0, 0, 0, 0, 0, 0, 0, 0, 0, 0, 0, 0, 0, 0, 0, 0, 0, 0, 0, 0, 0, 0, 0, 0, 0, 0, 0, 0, 0, 0, 0, 0, 0, 0, 0, 0, 0, 0, 0, 0, 0, 0, 0, 0, 0, 0, 0, 0, 0, 0, 0, 0, 0, 0, 0, 0, 0, 0, 0, 0, 0, 0, 0, 0, 0, 0, 0, 0, 0, 0, 0, 0, 0, 0, 0, 0, 0, 0, 0, 0, 0, 0, 0, 0, 0, 0, 0, 0, 0, 0], [0, 0, 0, 0, 0, 0, 0, 0, 0, 0, 0, 0, 0, 0, 0, 0, 0, 0, 0, 0, 0, 0, 0, 0, 0, 0, 0, 0, 0, 0, 0, 0, 0, 0, 0, 0, 0, 0, 0, 0, 0, 0, 0, 0, 0, 0, 0, 0, 0], [0, 0, 0, 0, 0, 0, 0, 0, 0, 0, 0, 0, 0, 0, 0, 0, 0, 0, 0, 0, 0, 0, 0, 0, 0, 0, 0, 0, 0, 0, 0, 0, 0, 0, 0, 0, 0, 0, 0, 0, 0, 0, 0, 0, 0, 0, 0, 0, 0, 0, 0, 0, 0, 0, 0, 0, 0, 0, 0, 0, 0, 0, 0, 0, 0, 0, 0, 0, 0, 0, 0, 0, 0, 0, 0, 0, 0, 0, 0, 0, 0, 0, 0, 0, 0, 0, 0, 0, 0, 0, 0, 0, 0, 0, 0, 0, 0, 0, 0, 0, 0, 0, 0, 0, 0, 0, 0, 0, 0, 0, 0, 0, 0, 0, 0, 0, 0, 0, 0, 0, 0, 0, 0, 0, 0, 0, 0, 0], [0, 0, 0, 0, 0, 0, 0, 0, 0, 0, 0, 0, 0, 0, 0, 0, 0, 0, 0, 0, 0, 0, 0, 0, 0, 0, 0, 0, 0, 0, 0, 0, 0, 0, 0, 0, 0, 0, 0, 0, 0, 0, 0, 0, 0, 0, 0, 0, 0, 0, 0, 0, 0, 0, 0], [0, 0, 0, 0, 0, 0, 0, 0, 0, 0, 0, 0, 0, 0, 0, 0, 0, 0, 0, 0, 0, 0, 0, 0, 0, 0, 0, 0, 0, 0, 0, 0, 0, 0, 0, 0, 0, 0, 0, 0, 0, 0, 0, 0, 0, 0, 0, 0, 0, 0, 0, 0, 0, 0, 0, 0, 0, 0, 0, 0, 0, 0, 0, 0, 0, 0, 0, 0, 0, 0, 0, 0, 0, 0, 0, 0, 0, 0, 0, 0, 0, 0, 0, 0, 0, 0, 0, 0, 0, 0, 0, 0, 0, 0, 0, 0, 0, 0, 0, 0, 0, 0, 0, 0, 0, 0, 0, 0, 0, 0, 0, 0, 0, 0, 0, 0]], 'attention_mask': [[1, 1, 1, 1, 1, 1, 1, 1, 1, 1, 1, 1, 1, 1, 1, 1, 1, 1, 1, 1, 1, 1, 1, 1, 1, 1, 1, 1, 1, 1, 1, 1, 1, 1, 1, 1, 1, 1, 1, 1, 1, 1, 1, 1, 1, 1, 1, 1, 1, 1, 1, 1, 1, 1, 1, 1, 1, 1, 1, 1, 1, 1, 1, 1, 1, 1, 1, 1, 1, 1, 1, 1, 1, 1, 1, 1, 1, 1, 1, 1, 1, 1, 1, 1, 1, 1, 1, 1, 1, 1, 1, 1, 1, 1, 1, 1, 1, 1, 1, 1, 1, 1, 1, 1, 1, 1, 1, 1, 1, 1, 1, 1, 1, 1, 1, 1, 1, 1, 1, 1, 1, 1, 1, 1, 1, 1, 1, 1], [1, 1, 1, 1, 1, 1, 1, 1, 1, 1, 1, 1, 1, 1, 1, 1, 1, 1, 1, 1, 1, 1, 1, 1, 1, 1, 1, 1, 1, 1, 1, 1, 1, 1, 1, 1, 1, 1, 1, 1, 1, 1, 1, 1, 1, 1, 1, 1, 1], [1, 1, 1, 1, 1, 1, 1, 1, 1, 1, 1, 1, 1, 1, 1, 1, 1, 1, 1, 1, 1, 1, 1, 1, 1, 1, 1, 1, 1, 1, 1, 1, 1, 1, 1, 1, 1, 1, 1, 1, 1, 1, 1, 1, 1, 1, 1, 1, 1, 1, 1, 1, 1, 1, 1, 1, 1, 1, 1, 1, 1, 1, 1, 1, 1, 1, 1, 1, 1, 1, 1, 1, 1, 1, 1, 1, 1, 1, 1, 1, 1, 1, 1, 1, 1, 1, 1, 1, 1, 1, 1, 1, 1, 1, 1, 1, 1, 1, 1, 1, 1, 1, 1, 1, 1, 1, 1, 1, 1, 1, 1, 1, 1, 1, 1, 1, 1, 1, 1, 1, 1, 1, 1, 1, 1, 1, 1, 1], [1, 1, 1, 1, 1, 1, 1, 1, 1, 1, 1, 1, 1, 1, 1, 1, 1, 1, 1, 1, 1, 1, 1, 1, 1, 1, 1, 1, 1, 1, 1, 1, 1, 1, 1, 1, 1, 1, 1, 1, 1, 1, 1, 1, 1, 1, 1, 1, 1, 1, 1, 1, 1, 1, 1], [1, 1, 1, 1, 1, 1, 1, 1, 1, 1, 1, 1, 1, 1, 1, 1, 1, 1, 1, 1, 1, 1, 1, 1, 1, 1, 1, 1, 1, 1, 1, 1, 1, 1, 1, 1, 1, 1, 1, 1, 1, 1, 1, 1, 1, 1, 1, 1, 1, 1, 1, 1, 1, 1, 1, 1, 1, 1, 1, 1, 1, 1, 1, 1, 1, 1, 1, 1, 1, 1, 1, 1, 1, 1, 1, 1, 1, 1, 1, 1, 1, 1, 1, 1, 1, 1, 1, 1, 1, 1, 1, 1, 1, 1, 1, 1, 1, 1, 1, 1, 1, 1, 1, 1, 1, 1, 1, 1, 1, 1, 1, 1, 1, 1, 1, 1]], 'patient_id': [95260, 95260, 92703, 92703, 138000], 'drugName': ['Guanfacine', 'Guanfacine', 'Lybrel', 'Lybrel', 'Ortho Evra'], 'condition': ['adhd', 'adhd', 'birth control', 'birth control', 'birth control'], 'review': ['\"My son is halfway through his fourth week of Intuniv. We became concerned when he began this last week, when he started taking the highest dose he will be on. For two days, he could hardly get out of bed, was very cranky, and slept for nearly 8 hours on a drive home from school vacation (very unusual for him.) I called his doctor on Monday morning and she said to stick it out a few days. See how he did at school, and with getting up in the morning. The last two days have been problem free. He is MUCH more agreeable than ever. He is less emotional (a good thing), less cranky. He is remembering all the things he should. Overall his behavior is better. \\r\\nWe have tried many different medications and so far this is the most effective.\"', '\"My son is halfway through his fourth week of Intuniv. We became concerned when he began this last week, when he started taking the highest dose he will be on. For two days, he could hardly get out of bed, was very cranky, and slept for nearly 8 hours on a drive home from school vacation (very unusual for him.) I called his doctor on Monday morning and she said to stick it out a few days. See how he did at school, and with getting up in the morning. The last two days have been problem free. He is MUCH more agreeable than ever. He is less emotional (a good thing), less cranky. He is remembering all the things he should. Overall his behavior is better. \\r\\nWe have tried many different medications and so far this is the most effective.\"', '\"I used to take another oral contraceptive, which had 21 pill cycle, and was very happy- very light periods, max 5 days, no other side effects. But it contained hormone gestodene, which is not available in US, so I switched to Lybrel, because the ingredients are similar. When my other pills ended, I started Lybrel immediately, on my first day of period, as the instructions said. And the period lasted for two weeks. When taking the second pack- same two weeks. And now, with third pack things got even worse- my third period lasted for two weeks and now it\\'s the end of the third week- I still have daily brown discharge.\\r\\nThe positive side is that I didn\\'t have any other side effects. The idea of being period free was so tempting... Alas.\"', '\"I used to take another oral contraceptive, which had 21 pill cycle, and was very happy- very light periods, max 5 days, no other side effects. But it contained hormone gestodene, which is not available in US, so I switched to Lybrel, because the ingredients are similar. When my other pills ended, I started Lybrel immediately, on my first day of period, as the instructions said. And the period lasted for two weeks. When taking the second pack- same two weeks. And now, with third pack things got even worse- my third period lasted for two weeks and now it\\'s the end of the third week- I still have daily brown discharge.\\r\\nThe positive side is that I didn\\'t have any other side effects. The idea of being period free was so tempting... Alas.\"', '\"This is my first time using any form of birth control. I\\'m glad I went with the patch, I have been on it for 8 months. At first It decreased my libido but that subsided. The only downside is that it made my periods longer (5-6 days to be exact) I used to only have periods for 3-4 days max also made my cramps intense for the first two days of my period, I never had cramps before using birth control. Other than that in happy with the patch\"'], 'rating': [8.0, 8.0, 5.0, 5.0, 8.0], 'date': ['April 27, 2010', 'April 27, 2010', 'December 14, 2009', 'December 14, 2009', 'November 3, 2015'], 'usefulCount': [192, 192, 17, 17, 10], 'review_length': [141, 141, 134, 134, 89]}"
      ]
     },
     "execution_count": 51,
     "metadata": {},
     "output_type": "execute_result"
    }
   ],
   "source": [
    "result"
   ]
  },
  {
   "attachments": {},
   "cell_type": "markdown",
   "id": "2eac1f77",
   "metadata": {},
   "source": [
    "We can see it works with Dataset.map() without us needing to remove the old columns:"
   ]
  },
  {
   "cell_type": "code",
   "execution_count": 52,
   "id": "59f1de6b",
   "metadata": {},
   "outputs": [
    {
     "data": {
      "text/plain": [
       "DatasetDict({\n",
       "    train: Dataset({\n",
       "        features: ['patient_id', 'drugName', 'condition', 'review', 'rating', 'date', 'usefulCount', 'review_length', 'input_ids', 'token_type_ids', 'attention_mask'],\n",
       "        num_rows: 206772\n",
       "    })\n",
       "    test: Dataset({\n",
       "        features: ['patient_id', 'drugName', 'condition', 'review', 'rating', 'date', 'usefulCount', 'review_length', 'input_ids', 'token_type_ids', 'attention_mask'],\n",
       "        num_rows: 68876\n",
       "    })\n",
       "})"
      ]
     },
     "execution_count": 52,
     "metadata": {},
     "output_type": "execute_result"
    }
   ],
   "source": [
    "tokenized_dataset = drug_dataset.map(tokenize_and_split, batched=True)\n",
    "tokenized_dataset"
   ]
  },
  {
   "attachments": {},
   "cell_type": "markdown",
   "id": "b8bea516",
   "metadata": {},
   "source": [
    "We get the same number of training features as before, but here we’ve kept all the old fields. If you need them for some post-processing after applying your model, you might want to use this approach.\n",
    "\n",
    "You’ve now seen how 🤗 Datasets can be used to preprocess a dataset in various ways. Although the processing functions of 🤗 Datasets will cover most of your model training needs, there may be times when you’ll need to switch to Pandas to access more powerful features, like DataFrame.groupby() or high-level APIs for visualization. Fortunately, 🤗 Datasets is designed to be interoperable with libraries such as Pandas, NumPy, PyTorch, TensorFlow, and JAX. Let’s take a look at how this works."
   ]
  },
  {
   "attachments": {},
   "cell_type": "markdown",
   "id": "0f024d60",
   "metadata": {},
   "source": [
    "#### From Datasets to DataFrames and back"
   ]
  },
  {
   "attachments": {},
   "cell_type": "markdown",
   "id": "05269b71",
   "metadata": {},
   "source": [
    "To enable the conversion between various third-party libraries, 🤗 Datasets provides a Dataset.set_format() function. This function only changes the output format of the dataset, so you can easily switch to another format without affecting the underlying data format, which is Apache Arrow. The formatting is done in place. To demonstrate, let’s convert our dataset to Pandas:"
   ]
  },
  {
   "cell_type": "code",
   "execution_count": 53,
   "id": "cabdeab5",
   "metadata": {},
   "outputs": [],
   "source": [
    "drug_dataset.set_format(\"pandas\")"
   ]
  },
  {
   "attachments": {},
   "cell_type": "markdown",
   "id": "b025b7e9",
   "metadata": {},
   "source": [
    "Now when we access *elements of the dataset* we get a pandas.DataFrame instead of a dictionary:"
   ]
  },
  {
   "cell_type": "code",
   "execution_count": 54,
   "id": "f7b91a2d",
   "metadata": {},
   "outputs": [
    {
     "data": {
      "text/html": [
       "<div>\n",
       "<style scoped>\n",
       "    .dataframe tbody tr th:only-of-type {\n",
       "        vertical-align: middle;\n",
       "    }\n",
       "\n",
       "    .dataframe tbody tr th {\n",
       "        vertical-align: top;\n",
       "    }\n",
       "\n",
       "    .dataframe thead th {\n",
       "        text-align: right;\n",
       "    }\n",
       "</style>\n",
       "<table border=\"1\" class=\"dataframe\">\n",
       "  <thead>\n",
       "    <tr style=\"text-align: right;\">\n",
       "      <th></th>\n",
       "      <th>patient_id</th>\n",
       "      <th>drugName</th>\n",
       "      <th>condition</th>\n",
       "      <th>review</th>\n",
       "      <th>rating</th>\n",
       "      <th>date</th>\n",
       "      <th>usefulCount</th>\n",
       "      <th>review_length</th>\n",
       "    </tr>\n",
       "  </thead>\n",
       "  <tbody>\n",
       "    <tr>\n",
       "      <th>0</th>\n",
       "      <td>95260</td>\n",
       "      <td>Guanfacine</td>\n",
       "      <td>adhd</td>\n",
       "      <td>\"My son is halfway through his fourth week of ...</td>\n",
       "      <td>8.0</td>\n",
       "      <td>April 27, 2010</td>\n",
       "      <td>192</td>\n",
       "      <td>141</td>\n",
       "    </tr>\n",
       "    <tr>\n",
       "      <th>1</th>\n",
       "      <td>92703</td>\n",
       "      <td>Lybrel</td>\n",
       "      <td>birth control</td>\n",
       "      <td>\"I used to take another oral contraceptive, wh...</td>\n",
       "      <td>5.0</td>\n",
       "      <td>December 14, 2009</td>\n",
       "      <td>17</td>\n",
       "      <td>134</td>\n",
       "    </tr>\n",
       "    <tr>\n",
       "      <th>2</th>\n",
       "      <td>138000</td>\n",
       "      <td>Ortho Evra</td>\n",
       "      <td>birth control</td>\n",
       "      <td>\"This is my first time using any form of birth...</td>\n",
       "      <td>8.0</td>\n",
       "      <td>November 3, 2015</td>\n",
       "      <td>10</td>\n",
       "      <td>89</td>\n",
       "    </tr>\n",
       "  </tbody>\n",
       "</table>\n",
       "</div>"
      ],
      "text/plain": [
       "   patient_id    drugName      condition  \\\n",
       "0       95260  Guanfacine           adhd   \n",
       "1       92703      Lybrel  birth control   \n",
       "2      138000  Ortho Evra  birth control   \n",
       "\n",
       "                                              review  rating  \\\n",
       "0  \"My son is halfway through his fourth week of ...     8.0   \n",
       "1  \"I used to take another oral contraceptive, wh...     5.0   \n",
       "2  \"This is my first time using any form of birth...     8.0   \n",
       "\n",
       "                date  usefulCount  review_length  \n",
       "0     April 27, 2010          192            141  \n",
       "1  December 14, 2009           17            134  \n",
       "2   November 3, 2015           10             89  "
      ]
     },
     "execution_count": 54,
     "metadata": {},
     "output_type": "execute_result"
    }
   ],
   "source": [
    "drug_dataset[\"train\"][:3]"
   ]
  },
  {
   "attachments": {},
   "cell_type": "markdown",
   "id": "545b5090",
   "metadata": {},
   "source": [
    "Let’s create a pandas.DataFrame for the whole training set by selecting all the elements of drug_dataset[\"train\"]:"
   ]
  },
  {
   "cell_type": "code",
   "execution_count": 55,
   "id": "2d5cefac",
   "metadata": {},
   "outputs": [],
   "source": [
    "train_df = drug_dataset[\"train\"][:]"
   ]
  },
  {
   "cell_type": "code",
   "execution_count": 56,
   "id": "365d05e8",
   "metadata": {},
   "outputs": [
    {
     "data": {
      "text/html": [
       "<div>\n",
       "<style scoped>\n",
       "    .dataframe tbody tr th:only-of-type {\n",
       "        vertical-align: middle;\n",
       "    }\n",
       "\n",
       "    .dataframe tbody tr th {\n",
       "        vertical-align: top;\n",
       "    }\n",
       "\n",
       "    .dataframe thead th {\n",
       "        text-align: right;\n",
       "    }\n",
       "</style>\n",
       "<table border=\"1\" class=\"dataframe\">\n",
       "  <thead>\n",
       "    <tr style=\"text-align: right;\">\n",
       "      <th></th>\n",
       "      <th>patient_id</th>\n",
       "      <th>drugName</th>\n",
       "      <th>condition</th>\n",
       "      <th>review</th>\n",
       "      <th>rating</th>\n",
       "      <th>date</th>\n",
       "      <th>usefulCount</th>\n",
       "      <th>review_length</th>\n",
       "    </tr>\n",
       "  </thead>\n",
       "  <tbody>\n",
       "    <tr>\n",
       "      <th>0</th>\n",
       "      <td>95260</td>\n",
       "      <td>Guanfacine</td>\n",
       "      <td>adhd</td>\n",
       "      <td>\"My son is halfway through his fourth week of ...</td>\n",
       "      <td>8.0</td>\n",
       "      <td>April 27, 2010</td>\n",
       "      <td>192</td>\n",
       "      <td>141</td>\n",
       "    </tr>\n",
       "    <tr>\n",
       "      <th>1</th>\n",
       "      <td>92703</td>\n",
       "      <td>Lybrel</td>\n",
       "      <td>birth control</td>\n",
       "      <td>\"I used to take another oral contraceptive, wh...</td>\n",
       "      <td>5.0</td>\n",
       "      <td>December 14, 2009</td>\n",
       "      <td>17</td>\n",
       "      <td>134</td>\n",
       "    </tr>\n",
       "  </tbody>\n",
       "</table>\n",
       "</div>"
      ],
      "text/plain": [
       "   patient_id    drugName      condition  \\\n",
       "0       95260  Guanfacine           adhd   \n",
       "1       92703      Lybrel  birth control   \n",
       "\n",
       "                                              review  rating  \\\n",
       "0  \"My son is halfway through his fourth week of ...     8.0   \n",
       "1  \"I used to take another oral contraceptive, wh...     5.0   \n",
       "\n",
       "                date  usefulCount  review_length  \n",
       "0     April 27, 2010          192            141  \n",
       "1  December 14, 2009           17            134  "
      ]
     },
     "execution_count": 56,
     "metadata": {},
     "output_type": "execute_result"
    }
   ],
   "source": [
    "train_df.head(2)"
   ]
  },
  {
   "attachments": {},
   "cell_type": "markdown",
   "id": "c343b105",
   "metadata": {},
   "source": [
    "🚨 Under the hood, Dataset.set_format() changes the return format for the dataset’s __getitem__() dunder method. This means that when we want to create a new object like train_df from a Dataset in the \"pandas\" format, we need to slice the whole dataset to obtain a pandas.DataFrame. You can verify for yourself that the type of drug_dataset[\"train\"] is Dataset, irrespective of the output format."
   ]
  },
  {
   "attachments": {},
   "cell_type": "markdown",
   "id": "2b6e664d",
   "metadata": {},
   "source": [
    "From here we can use all the Pandas functionality that we want. For example, we can do fancy chaining to compute the class distribution among the condition entries:"
   ]
  },
  {
   "cell_type": "code",
   "execution_count": 57,
   "id": "2bd5f789",
   "metadata": {},
   "outputs": [
    {
     "data": {
      "text/html": [
       "<div>\n",
       "<style scoped>\n",
       "    .dataframe tbody tr th:only-of-type {\n",
       "        vertical-align: middle;\n",
       "    }\n",
       "\n",
       "    .dataframe tbody tr th {\n",
       "        vertical-align: top;\n",
       "    }\n",
       "\n",
       "    .dataframe thead th {\n",
       "        text-align: right;\n",
       "    }\n",
       "</style>\n",
       "<table border=\"1\" class=\"dataframe\">\n",
       "  <thead>\n",
       "    <tr style=\"text-align: right;\">\n",
       "      <th></th>\n",
       "      <th>frequency</th>\n",
       "      <th>count</th>\n",
       "    </tr>\n",
       "  </thead>\n",
       "  <tbody>\n",
       "    <tr>\n",
       "      <th>0</th>\n",
       "      <td>birth control</td>\n",
       "      <td>27655</td>\n",
       "    </tr>\n",
       "    <tr>\n",
       "      <th>1</th>\n",
       "      <td>depression</td>\n",
       "      <td>8023</td>\n",
       "    </tr>\n",
       "    <tr>\n",
       "      <th>2</th>\n",
       "      <td>acne</td>\n",
       "      <td>5209</td>\n",
       "    </tr>\n",
       "    <tr>\n",
       "      <th>3</th>\n",
       "      <td>anxiety</td>\n",
       "      <td>4991</td>\n",
       "    </tr>\n",
       "    <tr>\n",
       "      <th>4</th>\n",
       "      <td>pain</td>\n",
       "      <td>4744</td>\n",
       "    </tr>\n",
       "    <tr>\n",
       "      <th>5</th>\n",
       "      <td>bipolar disorde</td>\n",
       "      <td>3588</td>\n",
       "    </tr>\n",
       "    <tr>\n",
       "      <th>6</th>\n",
       "      <td>weight loss</td>\n",
       "      <td>3333</td>\n",
       "    </tr>\n",
       "    <tr>\n",
       "      <th>7</th>\n",
       "      <td>obesity</td>\n",
       "      <td>3258</td>\n",
       "    </tr>\n",
       "    <tr>\n",
       "      <th>8</th>\n",
       "      <td>insomnia</td>\n",
       "      <td>2978</td>\n",
       "    </tr>\n",
       "    <tr>\n",
       "      <th>9</th>\n",
       "      <td>adhd</td>\n",
       "      <td>2971</td>\n",
       "    </tr>\n",
       "    <tr>\n",
       "      <th>10</th>\n",
       "      <td>emergency contraception</td>\n",
       "      <td>2332</td>\n",
       "    </tr>\n",
       "    <tr>\n",
       "      <th>11</th>\n",
       "      <td>diabetes, type 2</td>\n",
       "      <td>2173</td>\n",
       "    </tr>\n",
       "    <tr>\n",
       "      <th>12</th>\n",
       "      <td>vaginal yeast infection</td>\n",
       "      <td>2058</td>\n",
       "    </tr>\n",
       "    <tr>\n",
       "      <th>13</th>\n",
       "      <td>abnormal uterine bleeding</td>\n",
       "      <td>1988</td>\n",
       "    </tr>\n",
       "    <tr>\n",
       "      <th>14</th>\n",
       "      <td>high blood pressure</td>\n",
       "      <td>1791</td>\n",
       "    </tr>\n",
       "    <tr>\n",
       "      <th>15</th>\n",
       "      <td>bowel preparation</td>\n",
       "      <td>1751</td>\n",
       "    </tr>\n",
       "    <tr>\n",
       "      <th>16</th>\n",
       "      <td>smoking cessation</td>\n",
       "      <td>1609</td>\n",
       "    </tr>\n",
       "    <tr>\n",
       "      <th>17</th>\n",
       "      <td>anxiety and stress</td>\n",
       "      <td>1508</td>\n",
       "    </tr>\n",
       "    <tr>\n",
       "      <th>18</th>\n",
       "      <td>ibromyalgia</td>\n",
       "      <td>1505</td>\n",
       "    </tr>\n",
       "    <tr>\n",
       "      <th>19</th>\n",
       "      <td>constipation</td>\n",
       "      <td>1425</td>\n",
       "    </tr>\n",
       "  </tbody>\n",
       "</table>\n",
       "</div>"
      ],
      "text/plain": [
       "                    frequency  count\n",
       "0               birth control  27655\n",
       "1                  depression   8023\n",
       "2                        acne   5209\n",
       "3                     anxiety   4991\n",
       "4                        pain   4744\n",
       "5             bipolar disorde   3588\n",
       "6                 weight loss   3333\n",
       "7                     obesity   3258\n",
       "8                    insomnia   2978\n",
       "9                        adhd   2971\n",
       "10    emergency contraception   2332\n",
       "11           diabetes, type 2   2173\n",
       "12    vaginal yeast infection   2058\n",
       "13  abnormal uterine bleeding   1988\n",
       "14        high blood pressure   1791\n",
       "15          bowel preparation   1751\n",
       "16          smoking cessation   1609\n",
       "17         anxiety and stress   1508\n",
       "18                ibromyalgia   1505\n",
       "19               constipation   1425"
      ]
     },
     "execution_count": 57,
     "metadata": {},
     "output_type": "execute_result"
    }
   ],
   "source": [
    "frequencies = (\n",
    "    train_df[\"condition\"]\n",
    "    .value_counts()\n",
    "    .to_frame()\n",
    "    .reset_index()\n",
    "    .rename(columns={\"index\": \"condition\", \"condition\": \"frequency\"})\n",
    ")\n",
    "frequencies.head(20)"
   ]
  },
  {
   "attachments": {},
   "cell_type": "markdown",
   "id": "bbe81ab0",
   "metadata": {},
   "source": [
    "And once we’re done with our Pandas analysis, we can always create a new Dataset object by using the Dataset.from_pandas() function as follows:"
   ]
  },
  {
   "cell_type": "code",
   "execution_count": 58,
   "id": "b5fd5580",
   "metadata": {},
   "outputs": [
    {
     "data": {
      "text/plain": [
       "Dataset({\n",
       "    features: ['frequency', 'count'],\n",
       "    num_rows: 819\n",
       "})"
      ]
     },
     "execution_count": 58,
     "metadata": {},
     "output_type": "execute_result"
    }
   ],
   "source": [
    "from datasets import Dataset\n",
    "freq_dataset = Dataset.from_pandas(frequencies)\n",
    "freq_dataset"
   ]
  },
  {
   "attachments": {},
   "cell_type": "markdown",
   "id": "d8fdbfdd",
   "metadata": {},
   "source": [
    "✏️ Try it out! Compute the average rating per drug and store the result in a new Dataset."
   ]
  },
  {
   "cell_type": "code",
   "execution_count": 59,
   "id": "3e3f91b9",
   "metadata": {},
   "outputs": [
    {
     "data": {
      "text/plain": [
       "Dataset({\n",
       "    features: ['drugName', 'average_rating', 'number_of_ratings'],\n",
       "    num_rows: 3052\n",
       "})"
      ]
     },
     "execution_count": 59,
     "metadata": {},
     "output_type": "execute_result"
    }
   ],
   "source": [
    "average_rating_df = (\n",
    "    train_df\n",
    "    .groupby(\"drugName\")[\"rating\"]\n",
    "    .agg([\"mean\", \"count\"])\n",
    "    .sort_values(by=[\"count\", \"mean\"], ascending=False)\n",
    "    .reset_index()\n",
    "    .rename(columns={\"mean\": \"average_rating\", \"count\": \"number_of_ratings\"})\n",
    "    )\n",
    "average_rating = Dataset.from_pandas(average_rating_df)\n",
    "average_rating\n"
   ]
  },
  {
   "attachments": {},
   "cell_type": "markdown",
   "id": "fd356a4a",
   "metadata": {},
   "source": [
    "This wraps up our tour of the various preprocessing techniques available in 🤗 Datasets. To round out the section, let’s create a validation set to prepare the dataset for training a classifier on. Before doing so, we’ll reset the output format of drug_dataset from \"pandas\" to \"arrow\":"
   ]
  },
  {
   "attachments": {},
   "cell_type": "markdown",
   "id": "1c70a0fa",
   "metadata": {},
   "source": [
    "This wraps up our tour of the various preprocessing techniques available in 🤗 Datasets. To round out the section, let’s create a validation set to prepare the dataset for training a classifier on. Before doing so, we’ll reset the output format of drug_dataset from \"pandas\" to \"arrow\":"
   ]
  },
  {
   "cell_type": "code",
   "execution_count": 60,
   "id": "84b95f35",
   "metadata": {},
   "outputs": [],
   "source": [
    "drug_dataset.reset_format()"
   ]
  },
  {
   "attachments": {},
   "cell_type": "markdown",
   "id": "6fd2d8c1",
   "metadata": {},
   "source": [
    "#### Creating a validation set"
   ]
  },
  {
   "attachments": {},
   "cell_type": "markdown",
   "id": "bae1d483",
   "metadata": {},
   "source": [
    "Although we have a test set we could use for evaluation, it’s a good practice to leave the test set untouched and create a separate validation set during development. Once you are happy with the performance of your models on the validation set, you can do a final sanity check on the test set. This process helps mitigate the risk that you’ll overfit to the test set and deploy a model that fails on real-world data.\n",
    "\n",
    "🤗 Datasets provides a Dataset.train_test_split() function that is based on the famous functionality from scikit-learn. Let’s use it to split our training set into train and validation splits (we set the seed argument for reproducibility):"
   ]
  },
  {
   "cell_type": "code",
   "execution_count": 61,
   "id": "fce7b9f2",
   "metadata": {},
   "outputs": [
    {
     "data": {
      "text/plain": [
       "DatasetDict({\n",
       "    train: Dataset({\n",
       "        features: ['patient_id', 'drugName', 'condition', 'review', 'rating', 'date', 'usefulCount', 'review_length'],\n",
       "        num_rows: 110811\n",
       "    })\n",
       "    validation: Dataset({\n",
       "        features: ['patient_id', 'drugName', 'condition', 'review', 'rating', 'date', 'usefulCount', 'review_length'],\n",
       "        num_rows: 27703\n",
       "    })\n",
       "    test: Dataset({\n",
       "        features: ['patient_id', 'drugName', 'condition', 'review', 'rating', 'date', 'usefulCount', 'review_length'],\n",
       "        num_rows: 46108\n",
       "    })\n",
       "})"
      ]
     },
     "execution_count": 61,
     "metadata": {},
     "output_type": "execute_result"
    }
   ],
   "source": [
    "drug_dataset_clean = drug_dataset[\"train\"].train_test_split(train_size=0.8, seed=42)\n",
    "# Rename the default \"test\" split to \"validation\"\n",
    "drug_dataset_clean[\"validation\"] = drug_dataset_clean.pop(\"test\")\n",
    "# Add the \"test\" set to our `DatasetDict`\n",
    "drug_dataset_clean[\"test\"] = drug_dataset[\"test\"]\n",
    "drug_dataset_clean"
   ]
  },
  {
   "attachments": {},
   "cell_type": "markdown",
   "id": "6c696dad",
   "metadata": {},
   "source": [
    "Great, we’ve now prepared a dataset that’s ready for training some models on! In section 5 we’ll show you how to upload datasets to the Hugging Face Hub, but for now let’s cap off our analysis by looking at a few ways you can save datasets on your local machine.\n",
    "\n"
   ]
  },
  {
   "attachments": {},
   "cell_type": "markdown",
   "id": "ac7c3cb0",
   "metadata": {},
   "source": [
    "#### Saving a dataset"
   ]
  },
  {
   "attachments": {},
   "cell_type": "markdown",
   "id": "0ed5896d",
   "metadata": {},
   "source": [
    "Although 🤗 Datasets will cache every downloaded dataset and the operations performed on it, there are times when you’ll want to save a dataset to disk (e.g., in case the cache gets deleted). As shown in the table below, 🤗 Datasets provides three main functions to save your dataset in different formats:"
   ]
  },
  {
   "attachments": {},
   "cell_type": "markdown",
   "id": "b6472870",
   "metadata": {},
   "source": [
    "| Data format | Function                |\n",
    "| ----------- | ----------- |\n",
    "| Arrow      | Dataset.save_to_disk()   |\n",
    "| CSV   | Dataset.to_csv()              |\n",
    "| JSON   | Dataset.to_json()            |"
   ]
  },
  {
   "attachments": {},
   "cell_type": "markdown",
   "id": "9a249034",
   "metadata": {},
   "source": [
    "For example, let’s save our cleaned dataset in the Arrow format:"
   ]
  },
  {
   "cell_type": "code",
   "execution_count": 62,
   "id": "c8e01c8d",
   "metadata": {},
   "outputs": [
    {
     "data": {
      "application/vnd.jupyter.widget-view+json": {
       "model_id": "0dbbfdc6eacb43c89c3be340fca61679",
       "version_major": 2,
       "version_minor": 0
      },
      "text/plain": [
       "Saving the dataset (0/1 shards):   0%|          | 0/110811 [00:00<?, ? examples/s]"
      ]
     },
     "metadata": {},
     "output_type": "display_data"
    },
    {
     "data": {
      "application/vnd.jupyter.widget-view+json": {
       "model_id": "381146737de748b38e9ed95037b36188",
       "version_major": 2,
       "version_minor": 0
      },
      "text/plain": [
       "Saving the dataset (0/1 shards):   0%|          | 0/27703 [00:00<?, ? examples/s]"
      ]
     },
     "metadata": {},
     "output_type": "display_data"
    },
    {
     "data": {
      "application/vnd.jupyter.widget-view+json": {
       "model_id": "74913734fe7f4d4296abe48e6ac78451",
       "version_major": 2,
       "version_minor": 0
      },
      "text/plain": [
       "Saving the dataset (0/1 shards):   0%|          | 0/46108 [00:00<?, ? examples/s]"
      ]
     },
     "metadata": {},
     "output_type": "display_data"
    }
   ],
   "source": [
    "drug_dataset_clean.save_to_disk(\"05_data/drug-reviews\")"
   ]
  },
  {
   "attachments": {},
   "cell_type": "markdown",
   "id": "353686c0",
   "metadata": {},
   "source": [
    "This will create a directory with the following structure:"
   ]
  },
  {
   "cell_type": "code",
   "execution_count": 63,
   "id": "24eb0147",
   "metadata": {},
   "outputs": [],
   "source": [
    "# drug-reviews/\n",
    "# ├── dataset_dict.json\n",
    "# ├── test\n",
    "# │   ├── dataset.arrow\n",
    "# │   ├── dataset_info.json\n",
    "# │   └── state.json\n",
    "# ├── train\n",
    "# │   ├── dataset.arrow\n",
    "# │   ├── dataset_info.json\n",
    "# │   ├── indices.arrow\n",
    "# │   └── state.json\n",
    "# └── validation\n",
    "#     ├── dataset.arrow\n",
    "#     ├── dataset_info.json\n",
    "#     ├── indices.arrow\n",
    "#     └── state.json"
   ]
  },
  {
   "attachments": {},
   "cell_type": "markdown",
   "id": "3ae8311f",
   "metadata": {},
   "source": [
    "where we can see that each split is associated with its own dataset.arrow table, and some metadata in dataset_info.json and state.json. You can think of the Arrow format as a fancy table of columns and rows that is optimized for building high-performance applications that process and transport large datasets.\n",
    "\n",
    "Once the dataset is saved, we can load it by using the load_from_disk() function as follows:"
   ]
  },
  {
   "cell_type": "code",
   "execution_count": 64,
   "id": "348ba9b1",
   "metadata": {},
   "outputs": [
    {
     "data": {
      "text/plain": [
       "DatasetDict({\n",
       "    train: Dataset({\n",
       "        features: ['patient_id', 'drugName', 'condition', 'review', 'rating', 'date', 'usefulCount', 'review_length'],\n",
       "        num_rows: 110811\n",
       "    })\n",
       "    validation: Dataset({\n",
       "        features: ['patient_id', 'drugName', 'condition', 'review', 'rating', 'date', 'usefulCount', 'review_length'],\n",
       "        num_rows: 27703\n",
       "    })\n",
       "    test: Dataset({\n",
       "        features: ['patient_id', 'drugName', 'condition', 'review', 'rating', 'date', 'usefulCount', 'review_length'],\n",
       "        num_rows: 46108\n",
       "    })\n",
       "})"
      ]
     },
     "execution_count": 64,
     "metadata": {},
     "output_type": "execute_result"
    }
   ],
   "source": [
    "from datasets import load_from_disk\n",
    "\n",
    "drug_dataset_reloaded = load_from_disk(\"05_data/drug-reviews\")\n",
    "drug_dataset_reloaded"
   ]
  },
  {
   "attachments": {},
   "cell_type": "markdown",
   "id": "85794dfa",
   "metadata": {},
   "source": [
    "For the CSV and JSON formats, we have to store each split as a separate file. One way to do this is by iterating over the keys and values in the DatasetDict object:"
   ]
  },
  {
   "cell_type": "code",
   "execution_count": 65,
   "id": "074ebb68",
   "metadata": {},
   "outputs": [
    {
     "data": {
      "application/vnd.jupyter.widget-view+json": {
       "model_id": "facf8ea96dad422cac7ff23ac723c286",
       "version_major": 2,
       "version_minor": 0
      },
      "text/plain": [
       "Creating json from Arrow format:   0%|          | 0/111 [00:00<?, ?ba/s]"
      ]
     },
     "metadata": {},
     "output_type": "display_data"
    },
    {
     "data": {
      "application/vnd.jupyter.widget-view+json": {
       "model_id": "7a16a6786ebe4bb1b0427245fa538ba5",
       "version_major": 2,
       "version_minor": 0
      },
      "text/plain": [
       "Creating json from Arrow format:   0%|          | 0/28 [00:00<?, ?ba/s]"
      ]
     },
     "metadata": {},
     "output_type": "display_data"
    },
    {
     "data": {
      "application/vnd.jupyter.widget-view+json": {
       "model_id": "3aef1351776b4da1be9ff5b6e11d110c",
       "version_major": 2,
       "version_minor": 0
      },
      "text/plain": [
       "Creating json from Arrow format:   0%|          | 0/47 [00:00<?, ?ba/s]"
      ]
     },
     "metadata": {},
     "output_type": "display_data"
    }
   ],
   "source": [
    "for split, dataset in drug_dataset_clean.items():\n",
    "    dataset.to_json(f\"05_data/drug-reviews-{split}.jsonl\")"
   ]
  },
  {
   "attachments": {},
   "cell_type": "markdown",
   "id": "15f6f5a5",
   "metadata": {},
   "source": [
    "This saves each split in JSON Lines format, where each row in the dataset is stored as a single line of JSON. Here’s what the first example looks like:"
   ]
  },
  {
   "cell_type": "code",
   "execution_count": 66,
   "id": "2ccc2c1f",
   "metadata": {},
   "outputs": [
    {
     "name": "stdout",
     "output_type": "stream",
     "text": [
      "{\"patient_id\":89879,\"drugName\":\"Cyclosporine\",\"condition\":\"keratoconjunctivitis sicca\",\"review\":\"\\\"I have used Restasis for about a year now and have seen almost no progress.  For most of my life I've had red and bothersome eyes. After trying various eye drops, my doctor recommended Restasis.  He said it typically takes 3 to 6 months for it to really kick in but it never did kick in.  When I put the drops in it burns my eyes for the first 30 - 40 minutes.  I've talked with my doctor about this and he said it is normal but should go away after some time, but it hasn't. Every year around spring time my eyes get terrible irritated  and this year has been the same (maybe even worse than other years) even though I've been using Restasis for a year now. The only difference I notice was for the first couple weeks, but now I'm ready to move on.\\\"\",\"rating\":2.0,\"date\":\"April 20, 2013\",\"usefulCount\":69,\"review_length\":147}\n"
     ]
    }
   ],
   "source": [
    "!head -n 1 05_data/drug-reviews-train.jsonl"
   ]
  },
  {
   "attachments": {},
   "cell_type": "markdown",
   "id": "1819bd25",
   "metadata": {},
   "source": [
    "We can then use the techniques from section 2 to load the JSON files as follows:"
   ]
  },
  {
   "cell_type": "code",
   "execution_count": 67,
   "id": "a8eb543d",
   "metadata": {},
   "outputs": [
    {
     "data": {
      "application/vnd.jupyter.widget-view+json": {
       "model_id": "aab9ec63eea3493aa625de902358f87a",
       "version_major": 2,
       "version_minor": 0
      },
      "text/plain": [
       "Downloading data files:   0%|          | 0/3 [00:00<?, ?it/s]"
      ]
     },
     "metadata": {},
     "output_type": "display_data"
    },
    {
     "data": {
      "application/vnd.jupyter.widget-view+json": {
       "model_id": "13156d5e6c8941e6b5343300376621c8",
       "version_major": 2,
       "version_minor": 0
      },
      "text/plain": [
       "Extracting data files:   0%|          | 0/3 [00:00<?, ?it/s]"
      ]
     },
     "metadata": {},
     "output_type": "display_data"
    },
    {
     "data": {
      "application/vnd.jupyter.widget-view+json": {
       "model_id": "05e82c2f4ab24866850a396b5d2a6ad0",
       "version_major": 2,
       "version_minor": 0
      },
      "text/plain": [
       "Generating train split: 0 examples [00:00, ? examples/s]"
      ]
     },
     "metadata": {},
     "output_type": "display_data"
    },
    {
     "data": {
      "application/vnd.jupyter.widget-view+json": {
       "model_id": "ce93ce2138c346a1b20ed9afc68fbbec",
       "version_major": 2,
       "version_minor": 0
      },
      "text/plain": [
       "Generating validation split: 0 examples [00:00, ? examples/s]"
      ]
     },
     "metadata": {},
     "output_type": "display_data"
    },
    {
     "data": {
      "application/vnd.jupyter.widget-view+json": {
       "model_id": "27fb6b69b0804e0d8675286db589c6c9",
       "version_major": 2,
       "version_minor": 0
      },
      "text/plain": [
       "Generating test split: 0 examples [00:00, ? examples/s]"
      ]
     },
     "metadata": {},
     "output_type": "display_data"
    },
    {
     "data": {
      "text/plain": [
       "DatasetDict({\n",
       "    train: Dataset({\n",
       "        features: ['patient_id', 'drugName', 'condition', 'review', 'rating', 'date', 'usefulCount', 'review_length'],\n",
       "        num_rows: 110811\n",
       "    })\n",
       "    validation: Dataset({\n",
       "        features: ['patient_id', 'drugName', 'condition', 'review', 'rating', 'date', 'usefulCount', 'review_length'],\n",
       "        num_rows: 27703\n",
       "    })\n",
       "    test: Dataset({\n",
       "        features: ['patient_id', 'drugName', 'condition', 'review', 'rating', 'date', 'usefulCount', 'review_length'],\n",
       "        num_rows: 46108\n",
       "    })\n",
       "})"
      ]
     },
     "execution_count": 67,
     "metadata": {},
     "output_type": "execute_result"
    }
   ],
   "source": [
    "prefix = \"05_data\"\n",
    "data_files = {\n",
    "    \"train\": f\"{prefix}/drug-reviews-train.jsonl\",\n",
    "    \"validation\": f\"{prefix}/drug-reviews-validation.jsonl\",\n",
    "    \"test\": f\"{prefix}/drug-reviews-test.jsonl\",\n",
    "}\n",
    "drug_dataset_reloaded = load_dataset(\"json\", data_files=data_files)\n",
    "drug_dataset_reloaded"
   ]
  },
  {
   "attachments": {},
   "cell_type": "markdown",
   "id": "9f530fa3",
   "metadata": {},
   "source": [
    "And that’s it for our excursion into data wrangling with 🤗 Datasets! Now that we have a cleaned dataset for training a model on, here are a few ideas that you could try out:\n",
    "\n",
    "Use the techniques from Chapter 3 to train a classifier that can predict the patient condition based on the drug review.\n",
    "Use the summarization pipeline from Chapter 1 to generate summaries of the reviews.\n",
    "Next, we’ll take a look at how 🤗 Datasets can enable you to work with huge datasets without blowing up your laptop!"
   ]
  },
  {
   "attachments": {},
   "cell_type": "markdown",
   "id": "53e5a2e4",
   "metadata": {},
   "source": [
    "### Big data? Datasets to the rescue!"
   ]
  },
  {
   "attachments": {},
   "cell_type": "markdown",
   "id": "fc572b75",
   "metadata": {},
   "source": [
    "Nowadays it is not uncommon to find yourself working with multi-gigabyte datasets, especially if you’re planning to pretrain a transformer like BERT or GPT-2 from scratch. In these cases, even loading the data can be a challenge. For example, the WebText corpus used to pretrain GPT-2 consists of over 8 million documents and 40 GB of text — loading this into your laptop’s RAM is likely to give it a heart attack!\n",
    "\n",
    "Fortunately, 🤗 Datasets has been designed to overcome these limitations. It frees you from memory management problems by treating datasets as memory-mapped files, and from hard drive limits by streaming the entries in a corpus."
   ]
  },
  {
   "attachments": {},
   "cell_type": "markdown",
   "id": "ee5d1d36",
   "metadata": {},
   "source": [
    "In this section we’ll explore these features of 🤗 Datasets with a huge 825 GB corpus known as the Pile. Let’s get started!"
   ]
  },
  {
   "attachments": {},
   "cell_type": "markdown",
   "id": "e614711e",
   "metadata": {},
   "source": [
    "#### What is the Pile?"
   ]
  },
  {
   "attachments": {},
   "cell_type": "markdown",
   "id": "7b2ab7a3",
   "metadata": {},
   "source": [
    "Next, we can load the dataset using the method for remote files that we learned in section 2:"
   ]
  },
  {
   "cell_type": "code",
   "execution_count": 68,
   "id": "eedcab35",
   "metadata": {},
   "outputs": [
    {
     "data": {
      "text/plain": [
       "Dataset({\n",
       "    features: ['abstract_text', 'target'],\n",
       "    num_rows: 2211861\n",
       "})"
      ]
     },
     "execution_count": 68,
     "metadata": {},
     "output_type": "execute_result"
    }
   ],
   "source": [
    "from datasets import load_dataset\n",
    "\n",
    "# This takes a few minutes to run, so go grab a tea or coffee while you wait :)\n",
    "data_files = \"https://the-eye.eu/public/AI/pile_preliminary_components/PUBMED_title_abstracts_2019_baseline.jsonl.zst\"\n",
    "data_files = \"https://the-eye.eu/public/AI/pile_preliminary_components/PUBMED_title_abstracts_2019_baseline.jsonl.zst\"\n",
    "data_files = \"https://huggingface.co/datasets/mdroth/PubMed-200k-RTC/resolve/main/data/PubMed-200k-RTC_train.jsonl.zst\"\n",
    "# data_files = \"https://huggingface.co/datasets/mdroth/PubMed-200k-RTC/resolve/main/data/PubMed-200k-RTC_train_min.jsonl.zst\"\n",
    "pubmed_dataset = load_dataset(\"json\", data_files=data_files, split=\"train\")\n",
    "pubmed_dataset"
   ]
  },
  {
   "attachments": {},
   "cell_type": "markdown",
   "id": "73a00946",
   "metadata": {},
   "source": [
    "We can see that there are 15,518,009 rows and 2 columns in our dataset — that’s a lot!"
   ]
  },
  {
   "attachments": {},
   "cell_type": "markdown",
   "id": "09d30ca9",
   "metadata": {},
   "source": [
    "✎ By default, 🤗 Datasets will decompress the files needed to load a dataset. If you want to preserve hard drive space, you can pass DownloadConfig(delete_extracted=True) to the download_config argument of load_dataset(). See the documentation for more details."
   ]
  },
  {
   "attachments": {},
   "cell_type": "markdown",
   "id": "895109e2",
   "metadata": {},
   "source": [
    "Let’s inspect the contents of the first example:"
   ]
  },
  {
   "cell_type": "code",
   "execution_count": 69,
   "id": "bec4a7b8",
   "metadata": {},
   "outputs": [
    {
     "data": {
      "text/plain": [
       "Dataset({\n",
       "    features: ['abstract_text', 'target'],\n",
       "    num_rows: 2211861\n",
       "})"
      ]
     },
     "execution_count": 69,
     "metadata": {},
     "output_type": "execute_result"
    }
   ],
   "source": [
    "pubmed_dataset"
   ]
  },
  {
   "attachments": {},
   "cell_type": "markdown",
   "id": "767ffbba",
   "metadata": {},
   "source": [
    "#### The magic of memory mapping"
   ]
  },
  {
   "attachments": {},
   "cell_type": "markdown",
   "id": "6676d3af",
   "metadata": {},
   "source": [
    "`psutil` provides a Process class that allows us to check the memory usage of the current process as follows:"
   ]
  },
  {
   "cell_type": "code",
   "execution_count": 70,
   "id": "d3bb7790",
   "metadata": {},
   "outputs": [
    {
     "name": "stdout",
     "output_type": "stream",
     "text": [
      "RAM used: 670.03 MB\n"
     ]
    }
   ],
   "source": [
    "import psutil\n",
    "\n",
    "# Process.memory_info is expressed in bytes, so convert to megabytes\n",
    "print(f\"RAM used: {psutil.Process().memory_info().rss / (1024 * 1024):.2f} MB\")"
   ]
  },
  {
   "attachments": {},
   "cell_type": "markdown",
   "id": "eb682a5c",
   "metadata": {},
   "source": [
    "Here the rss attribute refers to the resident set size, which is the fraction of memory that a process occupies in RAM. This measurement also includes the memory used by the Python interpreter and the libraries we’ve loaded, so the actual amount of memory used to load the dataset is a bit smaller. For comparison, let’s see how large the dataset is on disk, using the dataset_size attribute. Since the result is expressed in bytes like before, we need to manually convert it to gigabytes:"
   ]
  },
  {
   "cell_type": "code",
   "execution_count": 71,
   "id": "6143ff85",
   "metadata": {},
   "outputs": [
    {
     "name": "stdout",
     "output_type": "stream",
     "text": [
      "Number of files in dataset : 368440643\n",
      "Dataset size (cache file) : 0.343137 GB\n"
     ]
    }
   ],
   "source": [
    "print(f\"Number of files in dataset : {pubmed_dataset.dataset_size}\")\n",
    "size_gb = pubmed_dataset.dataset_size / (1024**3)\n",
    "print(f\"Dataset size (cache file) : {size_gb:.6f} GB\")"
   ]
  },
  {
   "attachments": {},
   "cell_type": "markdown",
   "id": "38d7d7ab",
   "metadata": {},
   "source": [
    "✏️ Try it out! Pick one of the subsets from the Pile that is larger than your laptop or desktop’s RAM, load it with 🤗 Datasets, and measure the amount of RAM used. Note that to get an accurate measurement, you’ll want to do this in a new process. You can find the decompressed sizes of each subset in Table 1 of the Pile paper."
   ]
  },
  {
   "attachments": {},
   "cell_type": "markdown",
   "id": "c5f0e0ff",
   "metadata": {},
   "source": [
    "If you’re familiar with Pandas, this result might come as a surprise because of Wes Kinney’s famous rule of thumb that you typically need 5 to 10 times as much RAM as the size of your dataset. So how does 🤗 Datasets solve this memory management problem? 🤗 Datasets treats each dataset as a memory-mapped file, which provides a mapping between RAM and filesystem storage that allows the library to access and operate on elements of the dataset without needing to fully load it into memory.\n",
    "\n",
    "Memory-mapped files can also be shared across multiple processes, which enables methods like Dataset.map() to be parallelized without needing to move or copy the dataset. Under the hood, these capabilities are all realized by the Apache Arrow memory format and pyarrow library, which make the data loading and processing lightning fast. (For more details about Apache Arrow and comparisons to Pandas, check out Dejan Simic’s blog post.) To see this in action, let’s run a little speed test by iterating over all the elements in the PubMed Abstracts dataset:"
   ]
  },
  {
   "cell_type": "code",
   "execution_count": 72,
   "id": "44a4ea87",
   "metadata": {},
   "outputs": [
    {
     "name": "stdout",
     "output_type": "stream",
     "text": [
      "Iterated over 2211861 examples (about 0.3 GB) in 6.8s, i.e. 0.051 GB/s\n"
     ]
    }
   ],
   "source": [
    "import timeit\n",
    "\n",
    "code_snippet = \"\"\"batch_size = 1000\n",
    "\n",
    "for idx in range(0, len(pubmed_dataset), batch_size):\n",
    "    _ = pubmed_dataset[idx:idx + batch_size]\n",
    "\"\"\"\n",
    "\n",
    "time = timeit.timeit(stmt=code_snippet, number=1, globals=globals())\n",
    "print(\n",
    "    f\"Iterated over {len(pubmed_dataset)} examples (about {size_gb:.1f} GB) in \"\n",
    "    f\"{time:.1f}s, i.e. {size_gb/time:.3f} GB/s\"\n",
    ")"
   ]
  },
  {
   "attachments": {},
   "cell_type": "markdown",
   "id": "7d71393d",
   "metadata": {},
   "source": [
    "Here we’ve used Python’s timeit module to measure the execution time taken by code_snippet. You’ll typically be able to iterate over a dataset at speed of a few tenths of a GB/s to several GB/s. This works great for the vast majority of applications, but sometimes you’ll have to work with a dataset that is too large to even store on your laptop’s hard drive. For example, if we tried to download the Pile in its entirety, we’d need 825 GB of free disk space! To handle these cases, 🤗 Datasets provides a streaming feature that allows us to download and access elements on the fly, without needing to download the whole dataset. Let’s take a look at how this works."
   ]
  },
  {
   "attachments": {},
   "cell_type": "markdown",
   "id": "f7d3feb8",
   "metadata": {},
   "source": [
    "💡 In Jupyter notebooks you can also time cells using the %%timeit magic function."
   ]
  },
  {
   "attachments": {},
   "cell_type": "markdown",
   "id": "e9b381e3",
   "metadata": {},
   "source": [
    "#### Streaming datasets"
   ]
  },
  {
   "attachments": {},
   "cell_type": "markdown",
   "id": "09c3879f",
   "metadata": {},
   "source": [
    "To enable dataset streaming you just need to pass the streaming=True argument to the load_dataset() function. For example, let’s load the PubMed Abstracts dataset again, but in streaming mode:"
   ]
  },
  {
   "cell_type": "code",
   "execution_count": 73,
   "id": "ca6ca504",
   "metadata": {},
   "outputs": [],
   "source": [
    "pubmed_dataset_streamed = load_dataset(\n",
    "    \"json\", data_files=data_files, split=\"train\", streaming=True\n",
    ")"
   ]
  },
  {
   "attachments": {},
   "cell_type": "markdown",
   "id": "b0888e7d",
   "metadata": {},
   "source": [
    "Instead of the familiar Dataset that we’ve encountered elsewhere in this chapter, the object returned with streaming=True is an IterableDataset. As the name suggests, to access the elements of an IterableDataset we need to iterate over it. We can access the first element of our streamed dataset as follows:"
   ]
  },
  {
   "cell_type": "code",
   "execution_count": 74,
   "id": "b15ce813",
   "metadata": {},
   "outputs": [
    {
     "data": {
      "text/plain": [
       "{'abstract_text': 'The emergence of HIV as a chronic condition means that people living with HIV are required to take more responsibility for the self-management of their condition , including making physical , emotional and social adjustments .',\n",
       " 'target': 'BACKGROUND'}"
      ]
     },
     "execution_count": 74,
     "metadata": {},
     "output_type": "execute_result"
    }
   ],
   "source": [
    "next(iter(pubmed_dataset_streamed))"
   ]
  },
  {
   "attachments": {},
   "cell_type": "markdown",
   "id": "2261c434",
   "metadata": {},
   "source": [
    "The elements from a streamed dataset can be processed on the fly using IterableDataset.map(), which is useful during training if you need to tokenize the inputs. The process is exactly the same as the one we used to tokenize our dataset in Chapter 3, with the only difference being that outputs are returned one by one:"
   ]
  },
  {
   "cell_type": "code",
   "execution_count": 75,
   "id": "df2960c5",
   "metadata": {},
   "outputs": [
    {
     "data": {
      "text/plain": [
       "{'abstract_text': 'The emergence of HIV as a chronic condition means that people living with HIV are required to take more responsibility for the self-management of their condition , including making physical , emotional and social adjustments .',\n",
       " 'target': 'BACKGROUND',\n",
       " 'input_ids': [101,\n",
       "  1996,\n",
       "  14053,\n",
       "  1997,\n",
       "  9820,\n",
       "  2004,\n",
       "  1037,\n",
       "  11888,\n",
       "  4650,\n",
       "  2965,\n",
       "  2008,\n",
       "  2111,\n",
       "  2542,\n",
       "  2007,\n",
       "  9820,\n",
       "  2024,\n",
       "  3223,\n",
       "  2000,\n",
       "  2202,\n",
       "  2062,\n",
       "  5368,\n",
       "  2005,\n",
       "  1996,\n",
       "  2969,\n",
       "  1011,\n",
       "  2968,\n",
       "  1997,\n",
       "  2037,\n",
       "  4650,\n",
       "  1010,\n",
       "  2164,\n",
       "  2437,\n",
       "  3558,\n",
       "  1010,\n",
       "  6832,\n",
       "  1998,\n",
       "  2591,\n",
       "  24081,\n",
       "  1012,\n",
       "  102],\n",
       " 'attention_mask': [1,\n",
       "  1,\n",
       "  1,\n",
       "  1,\n",
       "  1,\n",
       "  1,\n",
       "  1,\n",
       "  1,\n",
       "  1,\n",
       "  1,\n",
       "  1,\n",
       "  1,\n",
       "  1,\n",
       "  1,\n",
       "  1,\n",
       "  1,\n",
       "  1,\n",
       "  1,\n",
       "  1,\n",
       "  1,\n",
       "  1,\n",
       "  1,\n",
       "  1,\n",
       "  1,\n",
       "  1,\n",
       "  1,\n",
       "  1,\n",
       "  1,\n",
       "  1,\n",
       "  1,\n",
       "  1,\n",
       "  1,\n",
       "  1,\n",
       "  1,\n",
       "  1,\n",
       "  1,\n",
       "  1,\n",
       "  1,\n",
       "  1,\n",
       "  1]}"
      ]
     },
     "execution_count": 75,
     "metadata": {},
     "output_type": "execute_result"
    }
   ],
   "source": [
    "from transformers import AutoTokenizer\n",
    "\n",
    "tokenizer = AutoTokenizer.from_pretrained(\"distilbert-base-uncased\")\n",
    "tokenized_dataset = pubmed_dataset_streamed.map(lambda x: tokenizer(x[\"abstract_text\"]))\n",
    "next(iter(tokenized_dataset))"
   ]
  },
  {
   "attachments": {},
   "cell_type": "markdown",
   "id": "cc68084c",
   "metadata": {},
   "source": [
    "💡 To speed up tokenization with streaming you can pass batched=True, as we saw in the last section. It will process the examples batch by batch; the default batch size is 1,000 and can be specified with the batch_size argument."
   ]
  },
  {
   "attachments": {},
   "cell_type": "markdown",
   "id": "7318d173",
   "metadata": {},
   "source": [
    "You can also shuffle a streamed dataset using IterableDataset.shuffle(), but unlike Dataset.shuffle() this only shuffles the elements in a predefined buffer_size:"
   ]
  },
  {
   "cell_type": "code",
   "execution_count": 76,
   "id": "1372275d",
   "metadata": {},
   "outputs": [
    {
     "data": {
      "text/plain": [
       "{'abstract_text': 'Safety and reactogenicity of a new heptavalent DTPw-HBV/Hib-MenAC ( diphtheria , tetanus , whole cell pertussis-hepatitis B virus/Haemophilus influenzae type b-Neisseria meningitidis serogroups A and C ) vaccine was compared with a widely used pentavalent DTPw-HBV/Hib vaccine .',\n",
       " 'target': 'OBJECTIVE'}"
      ]
     },
     "execution_count": 76,
     "metadata": {},
     "output_type": "execute_result"
    }
   ],
   "source": [
    "shuffled_dataset = pubmed_dataset_streamed.shuffle(buffer_size=10_000, seed=42)\n",
    "next(iter(shuffled_dataset))"
   ]
  },
  {
   "attachments": {},
   "cell_type": "markdown",
   "id": "13d6b68c",
   "metadata": {},
   "source": [
    "In this example, we selected a random example from the first 10,000 examples in the buffer. Once an example is accessed, its spot in the buffer is filled with the next example in the corpus (i.e., the 10,001st example in the case above). You can also select elements from a streamed dataset using the IterableDataset.take() and IterableDataset.skip() functions, which act in a similar way to Dataset.select(). For example, to select the first 5 examples in the PubMed Abstracts dataset we can do the following:"
   ]
  },
  {
   "cell_type": "code",
   "execution_count": 77,
   "id": "14586d64",
   "metadata": {},
   "outputs": [
    {
     "data": {
      "text/plain": [
       "[{'abstract_text': 'The emergence of HIV as a chronic condition means that people living with HIV are required to take more responsibility for the self-management of their condition , including making physical , emotional and social adjustments .',\n",
       "  'target': 'BACKGROUND'},\n",
       " {'abstract_text': 'This paper describes the design and evaluation of Positive Outlook , an online program aiming to enhance the self-management skills of gay men living with HIV .',\n",
       "  'target': 'BACKGROUND'},\n",
       " {'abstract_text': 'This study is designed as a randomised controlled trial in which men living with HIV in Australia will be assigned to either an intervention group or usual care control group .',\n",
       "  'target': 'METHODS'},\n",
       " {'abstract_text': \"The intervention group will participate in the online group program ` Positive Outlook ' .\",\n",
       "  'target': 'METHODS'},\n",
       " {'abstract_text': 'The program is based on self-efficacy theory and uses a self-management approach to enhance skills , confidence and abilities to manage the psychosocial issues associated with HIV in daily life .',\n",
       "  'target': 'METHODS'}]"
      ]
     },
     "execution_count": 77,
     "metadata": {},
     "output_type": "execute_result"
    }
   ],
   "source": [
    "dataset_head = pubmed_dataset_streamed.take(5)\n",
    "list(dataset_head)"
   ]
  },
  {
   "attachments": {},
   "cell_type": "markdown",
   "id": "bf27b94b",
   "metadata": {},
   "source": [
    "Similarly, you can use the IterableDataset.skip() function to create training and validation splits from a shuffled dataset as follows:"
   ]
  },
  {
   "cell_type": "code",
   "execution_count": 78,
   "id": "19233ca0",
   "metadata": {},
   "outputs": [],
   "source": [
    "# Skip the first 1,000 examples and include the rest in the training set\n",
    "train_dataset = shuffled_dataset.skip(1000)\n",
    "# Take the first 1,000 examples for the validation set\n",
    "validation_dataset = shuffled_dataset.take(1000)"
   ]
  },
  {
   "attachments": {},
   "cell_type": "markdown",
   "id": "0273ae90",
   "metadata": {},
   "source": [
    "Let’s round out our exploration of dataset streaming with a common application: combining multiple datasets together to create a single corpus. 🤗 Datasets provides an interleave_datasets() function that converts a list of IterableDataset objects into a single IterableDataset, where the elements of the new dataset are obtained by alternating among the source examples. This function is especially useful when you’re trying to combine large datasets, so as an example let’s stream the FreeLaw subset of the Pile, which is a 51 GB dataset of legal opinions from US courts:"
   ]
  },
  {
   "cell_type": "code",
   "execution_count": 79,
   "id": "1e8d65f0",
   "metadata": {},
   "outputs": [
    {
     "data": {
      "text/plain": [
       "{'case_outcome': 'cited',\n",
       " 'case_title': 'Alpine Hardwood (Aust) Pty Ltd v Hardys Pty Ltd (No 2) [2002] FCA 224 ; (2002) 190 ALR 121',\n",
       " 'case_text': 'Ordinarily that discretion will be exercised so that costs follow the event and are awarded on a party and party basis. A departure from normal practice to award indemnity costs requires some special or unusual feature in the case: Alpine Hardwood (Aust) Pty Ltd v Hardys Pty Ltd (No 2) [2002] FCA 224 ; (2002) 190 ALR 121 at [11] (Weinberg J) citing Colgate Palmolive Co v Cussons Pty Ltd (1993) 46 FCR 225 at 233 (Sheppard J).'}"
      ]
     },
     "execution_count": 79,
     "metadata": {},
     "output_type": "execute_result"
    }
   ],
   "source": [
    "law_dataset_streamed = load_dataset(\n",
    "    \"json\",\n",
    "    data_files=\"https://huggingface.co/datasets/mdroth/PubMed-200k-RTC/resolve/main/data/LegalText-classification_train.jsonl.zst\",\n",
    "    split=\"train\",\n",
    "    streaming=True,\n",
    ")\n",
    "next(iter(law_dataset_streamed))"
   ]
  },
  {
   "attachments": {},
   "cell_type": "markdown",
   "id": "06828fe9",
   "metadata": {},
   "source": [
    "This dataset is large enough to stress the RAM of most laptops, yet we’ve been able to load and access it without breaking a sweat! Let’s now combine the examples from the FreeLaw and PubMed Abstracts datasets with the interleave_datasets() function:"
   ]
  },
  {
   "cell_type": "code",
   "execution_count": 80,
   "id": "e48e77bf",
   "metadata": {},
   "outputs": [
    {
     "data": {
      "text/plain": [
       "[{'abstract_text': 'The emergence of HIV as a chronic condition means that people living with HIV are required to take more responsibility for the self-management of their condition , including making physical , emotional and social adjustments .',\n",
       "  'target': 'BACKGROUND',\n",
       "  'case_outcome': None,\n",
       "  'case_title': None,\n",
       "  'case_text': None},\n",
       " {'abstract_text': None,\n",
       "  'target': None,\n",
       "  'case_outcome': 'cited',\n",
       "  'case_title': 'Alpine Hardwood (Aust) Pty Ltd v Hardys Pty Ltd (No 2) [2002] FCA 224 ; (2002) 190 ALR 121',\n",
       "  'case_text': 'Ordinarily that discretion will be exercised so that costs follow the event and are awarded on a party and party basis. A departure from normal practice to award indemnity costs requires some special or unusual feature in the case: Alpine Hardwood (Aust) Pty Ltd v Hardys Pty Ltd (No 2) [2002] FCA 224 ; (2002) 190 ALR 121 at [11] (Weinberg J) citing Colgate Palmolive Co v Cussons Pty Ltd (1993) 46 FCR 225 at 233 (Sheppard J).'}]"
      ]
     },
     "execution_count": 80,
     "metadata": {},
     "output_type": "execute_result"
    }
   ],
   "source": [
    "from itertools import islice\n",
    "from datasets import interleave_datasets\n",
    "\n",
    "combined_dataset = interleave_datasets([pubmed_dataset_streamed, law_dataset_streamed])\n",
    "list(islice(combined_dataset, 2))"
   ]
  },
  {
   "attachments": {},
   "cell_type": "markdown",
   "id": "ac2ca521",
   "metadata": {},
   "source": [
    "Here we’ve used the islice() function from Python’s itertools module to select the first two examples from the combined dataset, and we can see that they match the first examples from each of the two source datasets.\n",
    "\n",
    "Finally, if you want to stream the Pile in its 825 GB entirety, you can grab all the prepared files as follows:"
   ]
  },
  {
   "attachments": {},
   "cell_type": "markdown",
   "id": "41358078",
   "metadata": {},
   "source": [
    "✏️ Try it out! Use one of the large Common Crawl corpora like mc4 or oscar to create a streaming multilingual dataset that represents the spoken proportions of languages in a country of your choice. For example, the four national languages in Switzerland are German, French, Italian, and Romansh, so you could try creating a Swiss corpus by sampling the Oscar subsets according to their spoken proportion."
   ]
  },
  {
   "attachments": {},
   "cell_type": "markdown",
   "id": "e2d0600b",
   "metadata": {},
   "source": [
    "You now have all the tools you need to load and process datasets of all shapes and sizes — but unless you’re exceptionally lucky, there will come a point in your NLP journey where you’ll have to actually create a dataset to solve the problem at hand. That’s the topic of the next section!"
   ]
  },
  {
   "attachments": {},
   "cell_type": "markdown",
   "id": "b81fa391",
   "metadata": {},
   "source": [
    "### Creating your own dataset"
   ]
  },
  {
   "attachments": {},
   "cell_type": "markdown",
   "id": "a7c663a3",
   "metadata": {},
   "source": [
    "Sometimes the dataset that you need to build an NLP application doesn’t exist, so you’ll need to create it yourself. In this section we’ll show you how to create a corpus of GitHub issues, which are commonly used to track bugs or features in GitHub repositories. This corpus could be used for various purposes, including:\n",
    "\n",
    "Exploring how long it takes to close open issues or pull requests\n",
    "Training a multilabel classifier that can tag issues with metadata based on the issue’s description (e.g., “bug,” “enhancement,” or “question”)\n",
    "Creating a semantic search engine to find which issues match a user’s query\n",
    "Here we’ll focus on creating the corpus, and in the next section we’ll tackle the semantic search application. To keep things meta, we’ll use the GitHub issues associated with a popular open source project: 🤗 Datasets! Let’s take a look at how to get the data and explore the information contained in these issues."
   ]
  },
  {
   "attachments": {},
   "cell_type": "markdown",
   "id": "fb866e70",
   "metadata": {},
   "source": [
    "#### Getting the data"
   ]
  },
  {
   "attachments": {},
   "cell_type": "markdown",
   "id": "d56def8f",
   "metadata": {},
   "source": [
    "You can find all the issues in 🤗 Datasets by navigating to the repository’s Issues tab. As shown in the following screenshot, at the time of writing there were 331 open issues and 668 closed ones."
   ]
  },
  {
   "attachments": {},
   "cell_type": "markdown",
   "id": "d420836d",
   "metadata": {},
   "source": [
    "To download all the repository’s issues, we’ll use the GitHub REST API to poll the Issues endpoint. This endpoint returns a list of JSON objects, with each object containing a large number of fields that include the title and description as well as metadata about the status of the issue and so on.\n",
    "\n",
    "A convenient way to download the issues is via the requests library, which is the standard way for making HTTP requests in Python. You can install the library by running:"
   ]
  },
  {
   "attachments": {},
   "cell_type": "markdown",
   "id": "16a17a57",
   "metadata": {},
   "source": [
    "Once the library is installed, you can make GET requests to the Issues endpoint by invoking the requests.get() function. For example, you can run the following command to retrieve the first issue on the first page"
   ]
  },
  {
   "cell_type": "code",
   "execution_count": 1,
   "id": "07eeaf55",
   "metadata": {},
   "outputs": [],
   "source": [
    "import requests\n",
    "\n",
    "url = \"https://api.github.com/repos/kubeflow/pipelines/issues?page=1&per_page=1\"\n",
    "response = requests.get(url)"
   ]
  },
  {
   "cell_type": "code",
   "execution_count": 2,
   "id": "ce382e15",
   "metadata": {},
   "outputs": [],
   "source": [
    "url = \"https://api.github.com/repos/huggingface/datasets/issues?page=1&per_page=1\"\n",
    "response2 = requests.get(url)"
   ]
  },
  {
   "cell_type": "code",
   "execution_count": 3,
   "id": "b5ba1e25",
   "metadata": {},
   "outputs": [
    {
     "data": {
      "text/plain": [
       "'[{\"url\":\"https://api.github.com/repos/huggingface/datasets/issues/6203\",\"repository_url\":\"https://api.github.com/repos/huggingface/datasets\",\"labels_url\":\"https://api.github.com/repos/huggingface/datasets/issues/6203/labels{/name}\",\"comments_url\":\"https://api.github.com/repos/huggingface/datasets/issues/6203/comments\",\"events_url\":\"https://api.github.com/repos/huggingface/datasets/issues/6203/events\",\"html_url\":\"https://github.com/huggingface/datasets/issues/6203\",\"id\":1877491602,\"node_id\":\"I_kwDODunzps5v6D-S\",\"number\":6203,\"title\":\"Support loading from a DVC remote repository\",\"user\":{\"login\":\"bilelomrani1\",\"id\":16692099,\"node_id\":\"MDQ6VXNlcjE2NjkyMDk5\",\"avatar_url\":\"https://avatars.githubusercontent.com/u/16692099?v=4\",\"gravatar_id\":\"\",\"url\":\"https://api.github.com/users/bilelomrani1\",\"html_url\":\"https://github.com/bilelomrani1\",\"followers_url\":\"https://api.github.com/users/bilelomrani1/followers\",\"following_url\":\"https://api.github.com/users/bilelomrani1/following{/other_user}\",\"gists_url\":\"https://api.github.com/users/bilelomrani1/gists{/gist_id}\",\"starred_url\":\"https://api.github.com/users/bilelomrani1/starred{/owner}{/repo}\",\"subscriptions_url\":\"https://api.github.com/users/bilelomrani1/subscriptions\",\"organizations_url\":\"https://api.github.com/users/bilelomrani1/orgs\",\"repos_url\":\"https://api.github.com/users/bilelomrani1/repos\",\"events_url\":\"https://api.github.com/users/bilelomrani1/events{/privacy}\",\"received_events_url\":\"https://api.github.com/users/bilelomrani1/received_events\",\"type\":\"User\",\"site_admin\":false},\"labels\":[{\"id\":1935892871,\"node_id\":\"MDU6TGFiZWwxOTM1ODkyODcx\",\"url\":\"https://api.github.com/repos/huggingface/datasets/labels/enhancement\",\"name\":\"enhancement\",\"color\":\"a2eeef\",\"default\":true,\"description\":\"New feature or request\"}],\"state\":\"open\",\"locked\":false,\"assignee\":null,\"assignees\":[],\"milestone\":null,\"comments\":0,\"created_at\":\"2023-09-01T14:04:52Z\",\"updated_at\":\"2023-09-01T14:04:52Z\",\"closed_at\":null,\"author_association\":\"NONE\",\"active_lock_reason\":null,\"body\":\"### Feature request\\\\n\\\\nAdding support for loading a file from a DVC repository, tracked remotely on a SCM.\\\\n\\\\n### Motivation\\\\n\\\\nDVC is a popular version control system to version and manage datasets. The files are stored on a remote object storage platform, but they are tracked using Git. Integration with DVC is possible through the `DVCFileSystem`.\\\\r\\\\n\\\\r\\\\nI have a Gitlab repository where multiple files are tracked using DVC and stored in a GCP bucket. I would like to be able to load these files using `datasets` directly using an URL. My goal is to write a generic code that abstracts the storage layer, such that my users will only have to pass in an `fsspec`-compliant URL and the corresponding files will be loaded.\\\\n\\\\n### Your contribution\\\\n\\\\nI managed to instantiate a `DVCFileSystem` pointing to a Gitlab repo from a `fsspec` chained URL in [this pull request](https://github.com/iterative/dvc/pull/9903) to DVC. \\\\r\\\\n\\\\r\\\\n```python\\\\r\\\\nfrom fsspec.core import url_to_fs\\\\r\\\\n\\\\r\\\\nfs, _ = url_to_fs(\\\\\"dvc::https://gitlab.com/repository/group/my-repo\\\\\")\\\\r\\\\n```\\\\r\\\\n\\\\r\\\\nFrom now I\\'m not sure how to continue, it seems that `datasets` expects the URL to be fully qualified like so: `dvc::https://gitlab.com/repository/group/my-repo/my-folder/my-file.json` but this fails because `DVCFileSystem` expects the URL to point to the root of an SCM repo. Is there a way to make this work with `datasets`?\",\"reactions\":{\"url\":\"https://api.github.com/repos/huggingface/datasets/issues/6203/reactions\",\"total_count\":0,\"+1\":0,\"-1\":0,\"laugh\":0,\"hooray\":0,\"confused\":0,\"heart\":0,\"rocket\":0,\"eyes\":0},\"timeline_url\":\"https://api.github.com/repos/huggingface/datasets/issues/6203/timeline\",\"performed_via_github_app\":null,\"state_reason\":null}]'"
      ]
     },
     "execution_count": 3,
     "metadata": {},
     "output_type": "execute_result"
    }
   ],
   "source": [
    "response2.text"
   ]
  },
  {
   "attachments": {},
   "cell_type": "markdown",
   "id": "705d19bd",
   "metadata": {},
   "source": []
  },
  {
   "cell_type": "code",
   "execution_count": 4,
   "id": "4f5733d8",
   "metadata": {},
   "outputs": [
    {
     "data": {
      "text/plain": [
       "200"
      ]
     },
     "execution_count": 4,
     "metadata": {},
     "output_type": "execute_result"
    }
   ],
   "source": [
    "response.status_code"
   ]
  },
  {
   "attachments": {},
   "cell_type": "markdown",
   "id": "aa9fa0df",
   "metadata": {},
   "source": [
    "The response object contains a lot of useful information about the request, including the HTTP status code:"
   ]
  },
  {
   "attachments": {},
   "cell_type": "markdown",
   "id": "2c2d654b",
   "metadata": {},
   "source": [
    "where a 200 status means the request was successful (you can find a list of possible HTTP status codes here). What we are really interested in, though, is the payload, which can be accessed in various formats like bytes, strings, or JSON. Since we know our issues are in JSON format, let’s inspect the payload as follows:"
   ]
  },
  {
   "cell_type": "code",
   "execution_count": 5,
   "id": "20aaf671",
   "metadata": {},
   "outputs": [
    {
     "data": {
      "text/plain": [
       "[{'url': 'https://api.github.com/repos/kubeflow/pipelines/issues/9953',\n",
       "  'repository_url': 'https://api.github.com/repos/kubeflow/pipelines',\n",
       "  'labels_url': 'https://api.github.com/repos/kubeflow/pipelines/issues/9953/labels{/name}',\n",
       "  'comments_url': 'https://api.github.com/repos/kubeflow/pipelines/issues/9953/comments',\n",
       "  'events_url': 'https://api.github.com/repos/kubeflow/pipelines/issues/9953/events',\n",
       "  'html_url': 'https://github.com/kubeflow/pipelines/pull/9953',\n",
       "  'id': 1878199838,\n",
       "  'node_id': 'PR_kwDOB-71UM5ZYW2g',\n",
       "  'number': 9953,\n",
       "  'title': 'chore(frontend): Refactor ExperimentDetails to functional component',\n",
       "  'user': {'login': 'jlyaoyuli',\n",
       "   'id': 56132941,\n",
       "   'node_id': 'MDQ6VXNlcjU2MTMyOTQx',\n",
       "   'avatar_url': 'https://avatars.githubusercontent.com/u/56132941?v=4',\n",
       "   'gravatar_id': '',\n",
       "   'url': 'https://api.github.com/users/jlyaoyuli',\n",
       "   'html_url': 'https://github.com/jlyaoyuli',\n",
       "   'followers_url': 'https://api.github.com/users/jlyaoyuli/followers',\n",
       "   'following_url': 'https://api.github.com/users/jlyaoyuli/following{/other_user}',\n",
       "   'gists_url': 'https://api.github.com/users/jlyaoyuli/gists{/gist_id}',\n",
       "   'starred_url': 'https://api.github.com/users/jlyaoyuli/starred{/owner}{/repo}',\n",
       "   'subscriptions_url': 'https://api.github.com/users/jlyaoyuli/subscriptions',\n",
       "   'organizations_url': 'https://api.github.com/users/jlyaoyuli/orgs',\n",
       "   'repos_url': 'https://api.github.com/users/jlyaoyuli/repos',\n",
       "   'events_url': 'https://api.github.com/users/jlyaoyuli/events{/privacy}',\n",
       "   'received_events_url': 'https://api.github.com/users/jlyaoyuli/received_events',\n",
       "   'type': 'User',\n",
       "   'site_admin': False},\n",
       "  'labels': [{'id': 955992480,\n",
       "    'node_id': 'MDU6TGFiZWw5NTU5OTI0ODA=',\n",
       "    'url': 'https://api.github.com/repos/kubeflow/pipelines/labels/size/XL',\n",
       "    'name': 'size/XL',\n",
       "    'color': 'ededed',\n",
       "    'default': False,\n",
       "    'description': None}],\n",
       "  'state': 'open',\n",
       "  'locked': False,\n",
       "  'assignee': {'login': 'chensun',\n",
       "   'id': 2043310,\n",
       "   'node_id': 'MDQ6VXNlcjIwNDMzMTA=',\n",
       "   'avatar_url': 'https://avatars.githubusercontent.com/u/2043310?v=4',\n",
       "   'gravatar_id': '',\n",
       "   'url': 'https://api.github.com/users/chensun',\n",
       "   'html_url': 'https://github.com/chensun',\n",
       "   'followers_url': 'https://api.github.com/users/chensun/followers',\n",
       "   'following_url': 'https://api.github.com/users/chensun/following{/other_user}',\n",
       "   'gists_url': 'https://api.github.com/users/chensun/gists{/gist_id}',\n",
       "   'starred_url': 'https://api.github.com/users/chensun/starred{/owner}{/repo}',\n",
       "   'subscriptions_url': 'https://api.github.com/users/chensun/subscriptions',\n",
       "   'organizations_url': 'https://api.github.com/users/chensun/orgs',\n",
       "   'repos_url': 'https://api.github.com/users/chensun/repos',\n",
       "   'events_url': 'https://api.github.com/users/chensun/events{/privacy}',\n",
       "   'received_events_url': 'https://api.github.com/users/chensun/received_events',\n",
       "   'type': 'User',\n",
       "   'site_admin': False},\n",
       "  'assignees': [{'login': 'chensun',\n",
       "    'id': 2043310,\n",
       "    'node_id': 'MDQ6VXNlcjIwNDMzMTA=',\n",
       "    'avatar_url': 'https://avatars.githubusercontent.com/u/2043310?v=4',\n",
       "    'gravatar_id': '',\n",
       "    'url': 'https://api.github.com/users/chensun',\n",
       "    'html_url': 'https://github.com/chensun',\n",
       "    'followers_url': 'https://api.github.com/users/chensun/followers',\n",
       "    'following_url': 'https://api.github.com/users/chensun/following{/other_user}',\n",
       "    'gists_url': 'https://api.github.com/users/chensun/gists{/gist_id}',\n",
       "    'starred_url': 'https://api.github.com/users/chensun/starred{/owner}{/repo}',\n",
       "    'subscriptions_url': 'https://api.github.com/users/chensun/subscriptions',\n",
       "    'organizations_url': 'https://api.github.com/users/chensun/orgs',\n",
       "    'repos_url': 'https://api.github.com/users/chensun/repos',\n",
       "    'events_url': 'https://api.github.com/users/chensun/events{/privacy}',\n",
       "    'received_events_url': 'https://api.github.com/users/chensun/received_events',\n",
       "    'type': 'User',\n",
       "    'site_admin': False}],\n",
       "  'milestone': None,\n",
       "  'comments': 1,\n",
       "  'created_at': '2023-09-02T00:18:34Z',\n",
       "  'updated_at': '2023-09-02T18:47:12Z',\n",
       "  'closed_at': None,\n",
       "  'author_association': 'COLLABORATOR',\n",
       "  'active_lock_reason': None,\n",
       "  'draft': False,\n",
       "  'pull_request': {'url': 'https://api.github.com/repos/kubeflow/pipelines/pulls/9953',\n",
       "   'html_url': 'https://github.com/kubeflow/pipelines/pull/9953',\n",
       "   'diff_url': 'https://github.com/kubeflow/pipelines/pull/9953.diff',\n",
       "   'patch_url': 'https://github.com/kubeflow/pipelines/pull/9953.patch',\n",
       "   'merged_at': None},\n",
       "  'body': 'Add alternative functional component for experiment details page.',\n",
       "  'reactions': {'url': 'https://api.github.com/repos/kubeflow/pipelines/issues/9953/reactions',\n",
       "   'total_count': 0,\n",
       "   '+1': 0,\n",
       "   '-1': 0,\n",
       "   'laugh': 0,\n",
       "   'hooray': 0,\n",
       "   'confused': 0,\n",
       "   'heart': 0,\n",
       "   'rocket': 0,\n",
       "   'eyes': 0},\n",
       "  'timeline_url': 'https://api.github.com/repos/kubeflow/pipelines/issues/9953/timeline',\n",
       "  'performed_via_github_app': None,\n",
       "  'state_reason': None}]"
      ]
     },
     "execution_count": 5,
     "metadata": {},
     "output_type": "execute_result"
    }
   ],
   "source": [
    "response.json()"
   ]
  },
  {
   "attachments": {},
   "cell_type": "markdown",
   "id": "1fe1f668",
   "metadata": {},
   "source": [
    "Whoa, that’s a lot of information! We can see useful fields like title, body, and number that describe the issue, as well as information about the GitHub user who opened the issue."
   ]
  },
  {
   "attachments": {},
   "cell_type": "markdown",
   "id": "b081dd5c",
   "metadata": {},
   "source": [
    "✏️ Try it out! Click on a few of the URLs in the JSON payload above to get a feel for what type of information each GitHub issue is linked to."
   ]
  },
  {
   "attachments": {},
   "cell_type": "markdown",
   "id": "96240eec",
   "metadata": {},
   "source": [
    "As described in the GitHub documentation, unauthenticated requests are limited to 60 requests per hour. Although you can increase the per_page query parameter to reduce the number of requests you make, you will still hit the rate limit on any repository that has more than a few thousand issues. So instead, you should follow GitHub’s instructions on creating a personal access token so that you can boost the rate limit to 5,000 requests per hour. Once you have your token, you can include it as part of the request header:"
   ]
  },
  {
   "attachments": {},
   "cell_type": "markdown",
   "id": "1df01141",
   "metadata": {},
   "source": [
    "⚠️ Do not share a notebook with your GITHUB_TOKEN pasted in it. We recommend you delete the last cell once you have executed it to avoid leaking this information accidentally. Even better, store the token in a .env file and use the python-dotenv library to load it automatically for you as an environment variable."
   ]
  },
  {
   "attachments": {},
   "cell_type": "markdown",
   "id": "395695ff",
   "metadata": {},
   "source": [
    "Now that we have our access token, let’s create a function that can download all the issues from a GitHub repository:"
   ]
  },
  {
   "cell_type": "code",
   "execution_count": 6,
   "id": "49e5f8a7",
   "metadata": {},
   "outputs": [],
   "source": [
    "from dotenv import load_dotenv, find_dotenv\n",
    "import os\n",
    "_ = load_dotenv(find_dotenv())\n",
    "GITHUB_TOKEN = os.environ[\"GITHUB_PERSONAL_TOKEN\"]\n",
    "headers = {\"Authorization\": f\"token {GITHUB_TOKEN}\"}"
   ]
  },
  {
   "attachments": {},
   "cell_type": "markdown",
   "id": "56ce0bf6",
   "metadata": {},
   "source": [
    "Now that we have our access token, let’s create a function that can download all the issues from a GitHub repository:"
   ]
  },
  {
   "cell_type": "code",
   "execution_count": 13,
   "id": "4ea187de",
   "metadata": {},
   "outputs": [],
   "source": [
    "import time\n",
    "import math\n",
    "from pathlib import Path\n",
    "import pandas as pd\n",
    "from tqdm.notebook import tqdm\n",
    "from datasets import Dataset, load_dataset\n",
    "\n",
    "\n",
    "def fetch_issues(\n",
    "    owner=\"kubeflow\",\n",
    "    repo=\"pipelines\",\n",
    "    num_issues=10_000,\n",
    "    rate_limit=5_000,\n",
    "    issues_path=Path(\"05_data\"),\n",
    "):\n",
    "    if not issues_path.is_dir():\n",
    "        issues_path.mkdir(exist_ok=True)\n",
    "\n",
    "    batch = []\n",
    "    all_issues = []\n",
    "    per_page = 100  # Number of issues to return per page\n",
    "    num_pages = math.ceil(num_issues / per_page)\n",
    "    base_url = \"https://api.github.com/repos\"\n",
    "\n",
    "    for page in tqdm(range(num_pages)):\n",
    "        # Query with state=all to get both open and closed issues\n",
    "        query = f\"issues?page={page}&per_page={per_page}&state=all\"\n",
    "        issues = requests.get(f\"{base_url}/{owner}/{repo}/{query}\", headers=headers)\n",
    "        batch.extend(issues.json())\n",
    "\n",
    "        if len(batch) > rate_limit and len(all_issues) < num_issues:\n",
    "            break\n",
    "            # all_issues.extend(batch)\n",
    "            # batch = []  # Flush batch for next time period\n",
    "            # print(f\"Reached GitHub rate limit. Sleeping for one hour ...\")\n",
    "            # time.sleep(60 * 60 + 1)\n",
    "\n",
    "    all_issues.extend(batch)\n",
    "    df = pd.DataFrame.from_records(all_issues)\n",
    "    df.to_json(f\"{issues_path}/{repo}-issues.jsonl\", orient=\"records\", lines=True)\n",
    "    print(\n",
    "        f\"Downloaded all the issues for {repo}! Dataset stored at {issues_path}/{repo}-issues.jsonl\"\n",
    "    )"
   ]
  },
  {
   "attachments": {},
   "cell_type": "markdown",
   "id": "0bef3a91",
   "metadata": {},
   "source": [
    "Now when we call fetch_issues() it will download all the issues in batches to avoid exceeding GitHub’s limit on the number of requests per hour; the result will be stored in a repository_name-issues.jsonl file, where each line is a JSON object the represents an issue. Let’s use this function to grab all the issues from 🤗 Datasets:"
   ]
  },
  {
   "cell_type": "code",
   "execution_count": 14,
   "id": "cf83b1d8",
   "metadata": {},
   "outputs": [],
   "source": [
    "#fetch_issues()"
   ]
  },
  {
   "attachments": {},
   "cell_type": "markdown",
   "id": "6358316a",
   "metadata": {},
   "source": [
    "Once the issues are downloaded we can load them locally using our newfound skills from section 2:"
   ]
  },
  {
   "cell_type": "code",
   "execution_count": 15,
   "id": "b5c90587",
   "metadata": {},
   "outputs": [
    {
     "data": {
      "text/plain": [
       "Dataset({\n",
       "    features: ['url', 'repository_url', 'labels_url', 'comments_url', 'events_url', 'html_url', 'id', 'node_id', 'number', 'title', 'user', 'labels', 'state', 'locked', 'assignee', 'assignees', 'milestone', 'comments', 'created_at', 'updated_at', 'closed_at', 'author_association', 'active_lock_reason', 'draft', 'pull_request', 'body', 'reactions', 'timeline_url', 'performed_via_github_app', 'state_reason'],\n",
       "    num_rows: 5100\n",
       "})"
      ]
     },
     "execution_count": 15,
     "metadata": {},
     "output_type": "execute_result"
    }
   ],
   "source": [
    "issues_dataset = load_dataset(\"json\", data_files=\"05_data/pipelines-issues.jsonl\", split=\"train\")\n",
    "issues_dataset"
   ]
  },
  {
   "attachments": {},
   "cell_type": "markdown",
   "id": "4ab3c3fb",
   "metadata": {},
   "source": [
    "Great, we’ve created our first dataset from scratch! But why are there several thousand issues when the Issues tab of the 🤗 Datasets repository only shows around 1,000 issues in total 🤔? As described in the GitHub documentation, that’s because we’ve downloaded all the pull requests as well:"
   ]
  },
  {
   "attachments": {},
   "cell_type": "markdown",
   "id": "4dbc11e4",
   "metadata": {},
   "source": [
    "> GitHub’s REST API v3 considers every pull request an issue, but not every issue is a pull request. For this reason, “Issues” endpoints may return both issues and pull requests in the response. You can identify pull requests by the pull_request key. Be aware that the id of a pull request returned from “Issues” endpoints will be an issue id."
   ]
  },
  {
   "attachments": {},
   "cell_type": "markdown",
   "id": "75a8b2c8",
   "metadata": {},
   "source": [
    "Since the contents of issues and pull requests are quite different, let’s do some minor preprocessing to enable us to distinguish between them."
   ]
  },
  {
   "attachments": {},
   "cell_type": "markdown",
   "id": "aa40b2f4",
   "metadata": {},
   "source": [
    "#### Cleaning up the data"
   ]
  },
  {
   "attachments": {},
   "cell_type": "markdown",
   "id": "42b14aab",
   "metadata": {},
   "source": [
    "The above snippet from GitHub’s documentation tells us that the pull_request column can be used to differentiate between issues and pull requests. Let’s look at a random sample to see what the difference is. As we did in section 3, we’ll chain Dataset.shuffle() and Dataset.select() to create a random sample and then zip the html_url and pull_request columns so we can compare the various URLs:"
   ]
  },
  {
   "cell_type": "code",
   "execution_count": 16,
   "id": "0574c546",
   "metadata": {},
   "outputs": [
    {
     "name": "stdout",
     "output_type": "stream",
     "text": [
      ">> URL: https://github.com/kubeflow/pipelines/pull/6210\n",
      ">> Pull request: {'url': 'https://api.github.com/repos/kubeflow/pipelines/pulls/6210', 'html_url': 'https://github.com/kubeflow/pipelines/pull/6210', 'diff_url': 'https://github.com/kubeflow/pipelines/pull/6210.diff', 'patch_url': 'https://github.com/kubeflow/pipelines/pull/6210.patch', 'merged_at': datetime.datetime(2021, 8, 6, 15, 54, 43)}\n",
      "\n",
      ">> URL: https://github.com/kubeflow/pipelines/issues/5548\n",
      ">> Pull request: None\n",
      "\n",
      ">> URL: https://github.com/kubeflow/pipelines/pull/5072\n",
      ">> Pull request: {'url': 'https://api.github.com/repos/kubeflow/pipelines/pulls/5072', 'html_url': 'https://github.com/kubeflow/pipelines/pull/5072', 'diff_url': 'https://github.com/kubeflow/pipelines/pull/5072.diff', 'patch_url': 'https://github.com/kubeflow/pipelines/pull/5072.patch', 'merged_at': datetime.datetime(2021, 2, 2, 4, 6, 15)}\n",
      "\n"
     ]
    }
   ],
   "source": [
    "sample = issues_dataset.shuffle(seed=666).select(range(3))\n",
    "\n",
    "# Print out the URL and pull request entries\n",
    "for url, pr in zip(sample[\"html_url\"], sample[\"pull_request\"]):\n",
    "    print(f\">> URL: {url}\")\n",
    "    print(f\">> Pull request: {pr}\\n\")"
   ]
  },
  {
   "attachments": {},
   "cell_type": "markdown",
   "id": "a2474e17",
   "metadata": {},
   "source": [
    "Here we can see that each pull request is associated with various URLs, while ordinary issues have a None entry. We can use this distinction to create a new is_pull_request column that checks whether the pull_request field is None or not:"
   ]
  },
  {
   "cell_type": "code",
   "execution_count": 17,
   "id": "c897712b",
   "metadata": {},
   "outputs": [],
   "source": [
    "issues_dataset = issues_dataset.map(\n",
    "    lambda x: {\"is_pull_request\": False if x[\"pull_request\"] is None else True}\n",
    ")"
   ]
  },
  {
   "attachments": {},
   "cell_type": "markdown",
   "id": "cd5f7290",
   "metadata": {},
   "source": [
    "✏️ Try it out! Calculate the average time it takes to close issues in 🤗 Datasets. You may find the Dataset.filter() function useful to filter out the pull requests and open issues, and you can use the Dataset.set_format() function to convert the dataset to a DataFrame so you can easily manipulate the created_at and closed_at timestamps. For bonus points, calculate the average time it takes to close pull requests."
   ]
  },
  {
   "cell_type": "code",
   "execution_count": 18,
   "id": "70965d88",
   "metadata": {},
   "outputs": [
    {
     "data": {
      "text/plain": [
       "[True, True, True]"
      ]
     },
     "execution_count": 18,
     "metadata": {},
     "output_type": "execute_result"
    }
   ],
   "source": [
    "issues_dataset[\"is_pull_request\"][:3]"
   ]
  },
  {
   "cell_type": "code",
   "execution_count": 19,
   "id": "9dd90022",
   "metadata": {},
   "outputs": [],
   "source": [
    "issues_filtered_not_pull = issues_dataset.filter(lambda x: x[\"is_pull_request\"]==False)\n",
    "issues_filtered_not_pull.set_format(\"pandas\")\n",
    "issues_df = issues_filtered_not_pull[:]\n",
    "\n",
    "issues_filtered_pull = issues_dataset.filter(lambda x: x[\"is_pull_request\"])\n",
    "issues_filtered_pull.set_format(\"pandas\")\n",
    "pull_df = issues_filtered_pull[:]"
   ]
  },
  {
   "cell_type": "code",
   "execution_count": 20,
   "id": "760c6a69",
   "metadata": {},
   "outputs": [
    {
     "data": {
      "text/plain": [
       "Index(['url', 'repository_url', 'labels_url', 'comments_url', 'events_url',\n",
       "       'html_url', 'id', 'node_id', 'number', 'title', 'user', 'labels',\n",
       "       'state', 'locked', 'assignee', 'assignees', 'milestone', 'comments',\n",
       "       'created_at', 'updated_at', 'closed_at', 'author_association',\n",
       "       'active_lock_reason', 'draft', 'pull_request', 'body', 'reactions',\n",
       "       'timeline_url', 'performed_via_github_app', 'state_reason',\n",
       "       'is_pull_request'],\n",
       "      dtype='object')"
      ]
     },
     "execution_count": 20,
     "metadata": {},
     "output_type": "execute_result"
    }
   ],
   "source": [
    "issues_df.columns"
   ]
  },
  {
   "cell_type": "code",
   "execution_count": 21,
   "id": "7d24105e",
   "metadata": {},
   "outputs": [
    {
     "name": "stdout",
     "output_type": "stream",
     "text": [
      "92 days 09:56:52.726688103\n",
      "10 days 07:15:10.195076347\n"
     ]
    }
   ],
   "source": [
    "cols = [\"created_at\", \"closed_at\"]\n",
    "issues_df[\"time_to_close\"] = issues_df[cols].apply(pd.to_datetime).diff(axis=1)[\"closed_at\"]\n",
    "average_close_time_issues = issues_df[\"time_to_close\"].mean()\n",
    "\n",
    "cols = [\"created_at\", \"closed_at\"]\n",
    "pull_df[\"time_to_close\"] = pull_df[cols].apply(pd.to_datetime).diff(axis=1)[\"closed_at\"]\n",
    "average_close_time_pull = pull_df[\"time_to_close\"].mean()\n",
    "\n",
    "\n",
    "print(average_close_time_issues)\n",
    "print(average_close_time_pull)"
   ]
  },
  {
   "attachments": {},
   "cell_type": "markdown",
   "id": "064c4f4c",
   "metadata": {},
   "source": [
    "Although we could proceed to further clean up the dataset by dropping or renaming some columns, it is generally a good practice to keep the dataset as “raw” as possible at this stage so that it can be easily used in multiple applications.\n",
    "\n",
    "Before we push our dataset to the Hugging Face Hub, let’s deal with one thing that’s missing from it: the comments associated with each issue and pull request. We’ll add them next with — you guessed it — the GitHub REST API!"
   ]
  },
  {
   "attachments": {},
   "cell_type": "markdown",
   "id": "0358e43f",
   "metadata": {},
   "source": [
    "#### Augmenting the dataset"
   ]
  },
  {
   "attachments": {},
   "cell_type": "markdown",
   "id": "27e70102",
   "metadata": {},
   "source": [
    "As shown in the following screenshot, the comments associated with an issue or pull request provide a rich source of information, especially if we’re interested in building a search engine to answer user queries about the library.\n",
    "\n"
   ]
  },
  {
   "attachments": {},
   "cell_type": "markdown",
   "id": "3cee1a64",
   "metadata": {},
   "source": [
    "The GitHub REST API provides a Comments endpoint that returns all the comments associated with an issue number. Let’s test the endpoint to see what it returns:"
   ]
  },
  {
   "cell_type": "code",
   "execution_count": 22,
   "id": "9219738c",
   "metadata": {},
   "outputs": [
    {
     "data": {
      "text/plain": [
       "[{'url': 'https://api.github.com/repos/kubeflow/pipelines/issues/comments/570736822',\n",
       "  'html_url': 'https://github.com/kubeflow/pipelines/pull/2792#issuecomment-570736822',\n",
       "  'issue_url': 'https://api.github.com/repos/kubeflow/pipelines/issues/2792',\n",
       "  'id': 570736822,\n",
       "  'node_id': 'MDEyOklzc3VlQ29tbWVudDU3MDczNjgyMg==',\n",
       "  'user': {'login': 'gaoning777',\n",
       "   'id': 3826739,\n",
       "   'node_id': 'MDQ6VXNlcjM4MjY3Mzk=',\n",
       "   'avatar_url': 'https://avatars.githubusercontent.com/u/3826739?v=4',\n",
       "   'gravatar_id': '',\n",
       "   'url': 'https://api.github.com/users/gaoning777',\n",
       "   'html_url': 'https://github.com/gaoning777',\n",
       "   'followers_url': 'https://api.github.com/users/gaoning777/followers',\n",
       "   'following_url': 'https://api.github.com/users/gaoning777/following{/other_user}',\n",
       "   'gists_url': 'https://api.github.com/users/gaoning777/gists{/gist_id}',\n",
       "   'starred_url': 'https://api.github.com/users/gaoning777/starred{/owner}{/repo}',\n",
       "   'subscriptions_url': 'https://api.github.com/users/gaoning777/subscriptions',\n",
       "   'organizations_url': 'https://api.github.com/users/gaoning777/orgs',\n",
       "   'repos_url': 'https://api.github.com/users/gaoning777/repos',\n",
       "   'events_url': 'https://api.github.com/users/gaoning777/events{/privacy}',\n",
       "   'received_events_url': 'https://api.github.com/users/gaoning777/received_events',\n",
       "   'type': 'User',\n",
       "   'site_admin': False},\n",
       "  'created_at': '2020-01-04T00:18:02Z',\n",
       "  'updated_at': '2020-01-04T00:18:02Z',\n",
       "  'author_association': 'CONTRIBUTOR',\n",
       "  'body': '/lgtm',\n",
       "  'reactions': {'url': 'https://api.github.com/repos/kubeflow/pipelines/issues/comments/570736822/reactions',\n",
       "   'total_count': 0,\n",
       "   '+1': 0,\n",
       "   '-1': 0,\n",
       "   'laugh': 0,\n",
       "   'hooray': 0,\n",
       "   'confused': 0,\n",
       "   'heart': 0,\n",
       "   'rocket': 0,\n",
       "   'eyes': 0},\n",
       "  'performed_via_github_app': None},\n",
       " {'url': 'https://api.github.com/repos/kubeflow/pipelines/issues/comments/571274137',\n",
       "  'html_url': 'https://github.com/kubeflow/pipelines/pull/2792#issuecomment-571274137',\n",
       "  'issue_url': 'https://api.github.com/repos/kubeflow/pipelines/issues/2792',\n",
       "  'id': 571274137,\n",
       "  'node_id': 'MDEyOklzc3VlQ29tbWVudDU3MTI3NDEzNw==',\n",
       "  'user': {'login': 'SinaChavoshi',\n",
       "   'id': 20114005,\n",
       "   'node_id': 'MDQ6VXNlcjIwMTE0MDA1',\n",
       "   'avatar_url': 'https://avatars.githubusercontent.com/u/20114005?v=4',\n",
       "   'gravatar_id': '',\n",
       "   'url': 'https://api.github.com/users/SinaChavoshi',\n",
       "   'html_url': 'https://github.com/SinaChavoshi',\n",
       "   'followers_url': 'https://api.github.com/users/SinaChavoshi/followers',\n",
       "   'following_url': 'https://api.github.com/users/SinaChavoshi/following{/other_user}',\n",
       "   'gists_url': 'https://api.github.com/users/SinaChavoshi/gists{/gist_id}',\n",
       "   'starred_url': 'https://api.github.com/users/SinaChavoshi/starred{/owner}{/repo}',\n",
       "   'subscriptions_url': 'https://api.github.com/users/SinaChavoshi/subscriptions',\n",
       "   'organizations_url': 'https://api.github.com/users/SinaChavoshi/orgs',\n",
       "   'repos_url': 'https://api.github.com/users/SinaChavoshi/repos',\n",
       "   'events_url': 'https://api.github.com/users/SinaChavoshi/events{/privacy}',\n",
       "   'received_events_url': 'https://api.github.com/users/SinaChavoshi/received_events',\n",
       "   'type': 'User',\n",
       "   'site_admin': False},\n",
       "  'created_at': '2020-01-06T19:19:55Z',\n",
       "  'updated_at': '2020-01-06T19:19:55Z',\n",
       "  'author_association': 'COLLABORATOR',\n",
       "  'body': '/approved',\n",
       "  'reactions': {'url': 'https://api.github.com/repos/kubeflow/pipelines/issues/comments/571274137/reactions',\n",
       "   'total_count': 0,\n",
       "   '+1': 0,\n",
       "   '-1': 0,\n",
       "   'laugh': 0,\n",
       "   'hooray': 0,\n",
       "   'confused': 0,\n",
       "   'heart': 0,\n",
       "   'rocket': 0,\n",
       "   'eyes': 0},\n",
       "  'performed_via_github_app': None},\n",
       " {'url': 'https://api.github.com/repos/kubeflow/pipelines/issues/comments/571275676',\n",
       "  'html_url': 'https://github.com/kubeflow/pipelines/pull/2792#issuecomment-571275676',\n",
       "  'issue_url': 'https://api.github.com/repos/kubeflow/pipelines/issues/2792',\n",
       "  'id': 571275676,\n",
       "  'node_id': 'MDEyOklzc3VlQ29tbWVudDU3MTI3NTY3Ng==',\n",
       "  'user': {'login': 'gaoning777',\n",
       "   'id': 3826739,\n",
       "   'node_id': 'MDQ6VXNlcjM4MjY3Mzk=',\n",
       "   'avatar_url': 'https://avatars.githubusercontent.com/u/3826739?v=4',\n",
       "   'gravatar_id': '',\n",
       "   'url': 'https://api.github.com/users/gaoning777',\n",
       "   'html_url': 'https://github.com/gaoning777',\n",
       "   'followers_url': 'https://api.github.com/users/gaoning777/followers',\n",
       "   'following_url': 'https://api.github.com/users/gaoning777/following{/other_user}',\n",
       "   'gists_url': 'https://api.github.com/users/gaoning777/gists{/gist_id}',\n",
       "   'starred_url': 'https://api.github.com/users/gaoning777/starred{/owner}{/repo}',\n",
       "   'subscriptions_url': 'https://api.github.com/users/gaoning777/subscriptions',\n",
       "   'organizations_url': 'https://api.github.com/users/gaoning777/orgs',\n",
       "   'repos_url': 'https://api.github.com/users/gaoning777/repos',\n",
       "   'events_url': 'https://api.github.com/users/gaoning777/events{/privacy}',\n",
       "   'received_events_url': 'https://api.github.com/users/gaoning777/received_events',\n",
       "   'type': 'User',\n",
       "   'site_admin': False},\n",
       "  'created_at': '2020-01-06T19:23:36Z',\n",
       "  'updated_at': '2020-01-06T19:23:36Z',\n",
       "  'author_association': 'CONTRIBUTOR',\n",
       "  'body': '/approve',\n",
       "  'reactions': {'url': 'https://api.github.com/repos/kubeflow/pipelines/issues/comments/571275676/reactions',\n",
       "   'total_count': 0,\n",
       "   '+1': 0,\n",
       "   '-1': 0,\n",
       "   'laugh': 0,\n",
       "   'hooray': 0,\n",
       "   'confused': 0,\n",
       "   'heart': 0,\n",
       "   'rocket': 0,\n",
       "   'eyes': 0},\n",
       "  'performed_via_github_app': None},\n",
       " {'url': 'https://api.github.com/repos/kubeflow/pipelines/issues/comments/571409522',\n",
       "  'html_url': 'https://github.com/kubeflow/pipelines/pull/2792#issuecomment-571409522',\n",
       "  'issue_url': 'https://api.github.com/repos/kubeflow/pipelines/issues/2792',\n",
       "  'id': 571409522,\n",
       "  'node_id': 'MDEyOklzc3VlQ29tbWVudDU3MTQwOTUyMg==',\n",
       "  'user': {'login': 'k8s-ci-robot',\n",
       "   'id': 20407524,\n",
       "   'node_id': 'MDQ6VXNlcjIwNDA3NTI0',\n",
       "   'avatar_url': 'https://avatars.githubusercontent.com/u/20407524?v=4',\n",
       "   'gravatar_id': '',\n",
       "   'url': 'https://api.github.com/users/k8s-ci-robot',\n",
       "   'html_url': 'https://github.com/k8s-ci-robot',\n",
       "   'followers_url': 'https://api.github.com/users/k8s-ci-robot/followers',\n",
       "   'following_url': 'https://api.github.com/users/k8s-ci-robot/following{/other_user}',\n",
       "   'gists_url': 'https://api.github.com/users/k8s-ci-robot/gists{/gist_id}',\n",
       "   'starred_url': 'https://api.github.com/users/k8s-ci-robot/starred{/owner}{/repo}',\n",
       "   'subscriptions_url': 'https://api.github.com/users/k8s-ci-robot/subscriptions',\n",
       "   'organizations_url': 'https://api.github.com/users/k8s-ci-robot/orgs',\n",
       "   'repos_url': 'https://api.github.com/users/k8s-ci-robot/repos',\n",
       "   'events_url': 'https://api.github.com/users/k8s-ci-robot/events{/privacy}',\n",
       "   'received_events_url': 'https://api.github.com/users/k8s-ci-robot/received_events',\n",
       "   'type': 'User',\n",
       "   'site_admin': False},\n",
       "  'created_at': '2020-01-07T02:49:27Z',\n",
       "  'updated_at': '2020-01-07T02:49:27Z',\n",
       "  'author_association': 'CONTRIBUTOR',\n",
       "  'body': '[APPROVALNOTIFIER] This PR is **APPROVED**\\n\\nThis pull-request has been approved by: *<a href=\"https://github.com/kubeflow/pipelines/pull/2792#issuecomment-571275676\" title=\"Approved\">gaoning777</a>*\\n\\nThe full list of commands accepted by this bot can be found [here](https://go.k8s.io/bot-commands?repo=kubeflow%2Fpipelines).\\n\\nThe pull request process is described [here](https://git.k8s.io/community/contributors/guide/owners.md#the-code-review-process)\\n\\n<details >\\nNeeds approval from an approver in each of these files:\\n\\n- ~~[sdk/OWNERS](https://github.com/kubeflow/pipelines/blob/master/sdk/OWNERS)~~ [gaoning777]\\n\\nApprovers can indicate their approval by writing `/approve` in a comment\\nApprovers can cancel approval by writing `/approve cancel` in a comment\\n</details>\\n<!-- META={\"approvers\":[]} -->',\n",
       "  'reactions': {'url': 'https://api.github.com/repos/kubeflow/pipelines/issues/comments/571409522/reactions',\n",
       "   'total_count': 0,\n",
       "   '+1': 0,\n",
       "   '-1': 0,\n",
       "   'laugh': 0,\n",
       "   'hooray': 0,\n",
       "   'confused': 0,\n",
       "   'heart': 0,\n",
       "   'rocket': 0,\n",
       "   'eyes': 0},\n",
       "  'performed_via_github_app': None},\n",
       " {'url': 'https://api.github.com/repos/kubeflow/pipelines/issues/comments/571739996',\n",
       "  'html_url': 'https://github.com/kubeflow/pipelines/pull/2792#issuecomment-571739996',\n",
       "  'issue_url': 'https://api.github.com/repos/kubeflow/pipelines/issues/2792',\n",
       "  'id': 571739996,\n",
       "  'node_id': 'MDEyOklzc3VlQ29tbWVudDU3MTczOTk5Ng==',\n",
       "  'user': {'login': 'numerology',\n",
       "   'id': 9604122,\n",
       "   'node_id': 'MDQ6VXNlcjk2MDQxMjI=',\n",
       "   'avatar_url': 'https://avatars.githubusercontent.com/u/9604122?v=4',\n",
       "   'gravatar_id': '',\n",
       "   'url': 'https://api.github.com/users/numerology',\n",
       "   'html_url': 'https://github.com/numerology',\n",
       "   'followers_url': 'https://api.github.com/users/numerology/followers',\n",
       "   'following_url': 'https://api.github.com/users/numerology/following{/other_user}',\n",
       "   'gists_url': 'https://api.github.com/users/numerology/gists{/gist_id}',\n",
       "   'starred_url': 'https://api.github.com/users/numerology/starred{/owner}{/repo}',\n",
       "   'subscriptions_url': 'https://api.github.com/users/numerology/subscriptions',\n",
       "   'organizations_url': 'https://api.github.com/users/numerology/orgs',\n",
       "   'repos_url': 'https://api.github.com/users/numerology/repos',\n",
       "   'events_url': 'https://api.github.com/users/numerology/events{/privacy}',\n",
       "   'received_events_url': 'https://api.github.com/users/numerology/received_events',\n",
       "   'type': 'User',\n",
       "   'site_admin': False},\n",
       "  'created_at': '2020-01-07T19:41:17Z',\n",
       "  'updated_at': '2020-01-07T19:41:17Z',\n",
       "  'author_association': 'NONE',\n",
       "  'body': '/lgtm\\r\\n/retest',\n",
       "  'reactions': {'url': 'https://api.github.com/repos/kubeflow/pipelines/issues/comments/571739996/reactions',\n",
       "   'total_count': 0,\n",
       "   '+1': 0,\n",
       "   '-1': 0,\n",
       "   'laugh': 0,\n",
       "   'hooray': 0,\n",
       "   'confused': 0,\n",
       "   'heart': 0,\n",
       "   'rocket': 0,\n",
       "   'eyes': 0},\n",
       "  'performed_via_github_app': None},\n",
       " {'url': 'https://api.github.com/repos/kubeflow/pipelines/issues/comments/571784939',\n",
       "  'html_url': 'https://github.com/kubeflow/pipelines/pull/2792#issuecomment-571784939',\n",
       "  'issue_url': 'https://api.github.com/repos/kubeflow/pipelines/issues/2792',\n",
       "  'id': 571784939,\n",
       "  'node_id': 'MDEyOklzc3VlQ29tbWVudDU3MTc4NDkzOQ==',\n",
       "  'user': {'login': 'SinaChavoshi',\n",
       "   'id': 20114005,\n",
       "   'node_id': 'MDQ6VXNlcjIwMTE0MDA1',\n",
       "   'avatar_url': 'https://avatars.githubusercontent.com/u/20114005?v=4',\n",
       "   'gravatar_id': '',\n",
       "   'url': 'https://api.github.com/users/SinaChavoshi',\n",
       "   'html_url': 'https://github.com/SinaChavoshi',\n",
       "   'followers_url': 'https://api.github.com/users/SinaChavoshi/followers',\n",
       "   'following_url': 'https://api.github.com/users/SinaChavoshi/following{/other_user}',\n",
       "   'gists_url': 'https://api.github.com/users/SinaChavoshi/gists{/gist_id}',\n",
       "   'starred_url': 'https://api.github.com/users/SinaChavoshi/starred{/owner}{/repo}',\n",
       "   'subscriptions_url': 'https://api.github.com/users/SinaChavoshi/subscriptions',\n",
       "   'organizations_url': 'https://api.github.com/users/SinaChavoshi/orgs',\n",
       "   'repos_url': 'https://api.github.com/users/SinaChavoshi/repos',\n",
       "   'events_url': 'https://api.github.com/users/SinaChavoshi/events{/privacy}',\n",
       "   'received_events_url': 'https://api.github.com/users/SinaChavoshi/received_events',\n",
       "   'type': 'User',\n",
       "   'site_admin': False},\n",
       "  'created_at': '2020-01-07T21:38:25Z',\n",
       "  'updated_at': '2020-01-07T21:38:25Z',\n",
       "  'author_association': 'COLLABORATOR',\n",
       "  'body': '/test kubeflow-pipeline-e2e-test',\n",
       "  'reactions': {'url': 'https://api.github.com/repos/kubeflow/pipelines/issues/comments/571784939/reactions',\n",
       "   'total_count': 0,\n",
       "   '+1': 0,\n",
       "   '-1': 0,\n",
       "   'laugh': 0,\n",
       "   'hooray': 0,\n",
       "   'confused': 0,\n",
       "   'heart': 0,\n",
       "   'rocket': 0,\n",
       "   'eyes': 0},\n",
       "  'performed_via_github_app': None}]"
      ]
     },
     "execution_count": 22,
     "metadata": {},
     "output_type": "execute_result"
    }
   ],
   "source": [
    "issue_number = 2792\n",
    "url = f\"https://api.github.com/repos/kubeflow/pipelines/issues/{issue_number}/comments\"\n",
    "response = requests.get(url, headers=headers)\n",
    "response.json()"
   ]
  },
  {
   "attachments": {},
   "cell_type": "markdown",
   "id": "42d25d2b",
   "metadata": {},
   "source": [
    "We can see that the comment is stored in the body field, so let’s write a simple function that returns all the comments associated with an issue by picking out the body contents for each element in response.json():"
   ]
  },
  {
   "cell_type": "code",
   "execution_count": 28,
   "id": "924a7b73",
   "metadata": {},
   "outputs": [
    {
     "data": {
      "text/plain": [
       "[\"Yes!\\r\\n- pandas will be a one-liner in `arrow_dataset`: https://arrow.apache.org/docs/python/generated/pyarrow.Table.html#pyarrow.Table.to_pandas\\r\\n- for Spark I have no idea. let's investigate that at some point\",\n",
       " 'For Spark it looks to be pretty straightforward as well https://spark.apache.org/docs/latest/sql-pyspark-pandas-with-arrow.html but looks to be having a dependency to Spark is necessary, then nevermind we can skip it',\n",
       " 'Now Pandas is available.']"
      ]
     },
     "execution_count": 28,
     "metadata": {},
     "output_type": "execute_result"
    }
   ],
   "source": [
    "def get_comments(issue_number):\n",
    "    url = f\"https://api.github.com/repos/huggingface/datasets/issues/{issue_number}/comments\"\n",
    "    response = requests.get(url, headers=headers)\n",
    "    return [r[\"body\"] if isinstance(r, dict) else \"\" for r in response.json()]\n",
    "\n",
    "\n",
    "# Test our function works as expected\n",
    "get_comments(3)"
   ]
  },
  {
   "attachments": {},
   "cell_type": "markdown",
   "id": "560c3a28",
   "metadata": {},
   "source": [
    "This looks good, so let’s use Dataset.map() to add a new comments column to each issue in our dataset:"
   ]
  },
  {
   "cell_type": "code",
   "execution_count": 29,
   "id": "7e47727a",
   "metadata": {},
   "outputs": [
    {
     "data": {
      "text/plain": [
       "Dataset({\n",
       "    features: ['url', 'repository_url', 'labels_url', 'comments_url', 'events_url', 'html_url', 'id', 'node_id', 'number', 'title', 'user', 'labels', 'state', 'locked', 'assignee', 'assignees', 'milestone', 'comments', 'created_at', 'updated_at', 'closed_at', 'author_association', 'active_lock_reason', 'draft', 'pull_request', 'body', 'reactions', 'timeline_url', 'performed_via_github_app', 'state_reason', 'is_pull_request'],\n",
       "    num_rows: 1574\n",
       "})"
      ]
     },
     "execution_count": 29,
     "metadata": {},
     "output_type": "execute_result"
    }
   ],
   "source": [
    "issues_filtered_not_pull.reset_format()\n",
    "issues_filtered_not_pull"
   ]
  },
  {
   "cell_type": "code",
   "execution_count": 30,
   "id": "e4aedfd9",
   "metadata": {},
   "outputs": [
    {
     "data": {
      "application/vnd.jupyter.widget-view+json": {
       "model_id": "4bf6cb6e04594a6185a1b2a7f5e58128",
       "version_major": 2,
       "version_minor": 0
      },
      "text/plain": [
       "Map:   0%|          | 0/1574 [00:00<?, ? examples/s]"
      ]
     },
     "metadata": {},
     "output_type": "display_data"
    }
   ],
   "source": [
    "# Depending on your internet connection, this can take a few minutes...\n",
    "issues_with_comments_dataset = issues_filtered_not_pull.map(\n",
    "    lambda x: {\"comments\": get_comments(x[\"number\"])}\n",
    ")"
   ]
  },
  {
   "attachments": {},
   "cell_type": "markdown",
   "id": "e9616d30",
   "metadata": {},
   "source": [
    "The final step is to push our dataset to the Hub. Let’s take a look at how we can do that."
   ]
  },
  {
   "attachments": {},
   "cell_type": "markdown",
   "id": "5755a7e4",
   "metadata": {},
   "source": [
    "Now that we have our augmented dataset, it’s time to push it to the Hub so we can share it with the community! Uploading a dataset is very simple: just like models and tokenizers from 🤗 Transformers, we can use a push_to_hub() method to push a dataset. To do that we need an authentication token, which can be obtained by first logging into the Hugging Face Hub with the notebook_login() function:"
   ]
  },
  {
   "cell_type": "code",
   "execution_count": 31,
   "id": "ad3b92aa",
   "metadata": {},
   "outputs": [
    {
     "data": {
      "application/vnd.jupyter.widget-view+json": {
       "model_id": "f5c5a41f0465490eab87edff78eb095d",
       "version_major": 2,
       "version_minor": 0
      },
      "text/plain": [
       "VBox(children=(HTML(value='<center> <img\\nsrc=https://huggingface.co/front/assets/huggingface_logo-noborder.sv…"
      ]
     },
     "metadata": {},
     "output_type": "display_data"
    }
   ],
   "source": [
    "from huggingface_hub import notebook_login\n",
    "\n",
    "notebook_login()"
   ]
  },
  {
   "cell_type": "code",
   "execution_count": 33,
   "id": "51e0f334",
   "metadata": {},
   "outputs": [
    {
     "data": {
      "application/vnd.jupyter.widget-view+json": {
       "model_id": "6703e2ed0dae4167a32d6b9e5276767b",
       "version_major": 2,
       "version_minor": 0
      },
      "text/plain": [
       "Pushing dataset shards to the dataset hub:   0%|          | 0/1 [00:00<?, ?it/s]"
      ]
     },
     "metadata": {},
     "output_type": "display_data"
    },
    {
     "data": {
      "application/vnd.jupyter.widget-view+json": {
       "model_id": "60706e3d9bd1442f8e30ee550f9cbc27",
       "version_major": 2,
       "version_minor": 0
      },
      "text/plain": [
       "Creating parquet from Arrow format:   0%|          | 0/2 [00:00<?, ?ba/s]"
      ]
     },
     "metadata": {},
     "output_type": "display_data"
    }
   ],
   "source": [
    "issues_with_comments_dataset.push_to_hub(\"github-kubeflow-issues\")"
   ]
  },
  {
   "attachments": {},
   "cell_type": "markdown",
   "id": "bdafccf2",
   "metadata": {},
   "source": [
    "From here, anyone can download the dataset by simply providing load_dataset() with the repository ID as the path argument:"
   ]
  },
  {
   "cell_type": "code",
   "execution_count": 36,
   "id": "93a47ffb",
   "metadata": {},
   "outputs": [
    {
     "data": {
      "application/vnd.jupyter.widget-view+json": {
       "model_id": "bd3d646c64774f9f8e97742cc1b46d65",
       "version_major": 2,
       "version_minor": 0
      },
      "text/plain": [
       "Downloading readme:   0%|          | 0.00/6.23k [00:00<?, ?B/s]"
      ]
     },
     "metadata": {},
     "output_type": "display_data"
    },
    {
     "data": {
      "application/vnd.jupyter.widget-view+json": {
       "model_id": "eda7ac477292428d9ce2237c48c15a65",
       "version_major": 2,
       "version_minor": 0
      },
      "text/plain": [
       "Downloading data files:   0%|          | 0/1 [00:00<?, ?it/s]"
      ]
     },
     "metadata": {},
     "output_type": "display_data"
    },
    {
     "data": {
      "application/vnd.jupyter.widget-view+json": {
       "model_id": "72313c6b09ec4afdab9c671668f80140",
       "version_major": 2,
       "version_minor": 0
      },
      "text/plain": [
       "Downloading data:   0%|          | 0.00/2.70M [00:00<?, ?B/s]"
      ]
     },
     "metadata": {},
     "output_type": "display_data"
    },
    {
     "data": {
      "application/vnd.jupyter.widget-view+json": {
       "model_id": "ab46133db15546cc8e9fc0afe20592a8",
       "version_major": 2,
       "version_minor": 0
      },
      "text/plain": [
       "Extracting data files:   0%|          | 0/1 [00:00<?, ?it/s]"
      ]
     },
     "metadata": {},
     "output_type": "display_data"
    },
    {
     "data": {
      "application/vnd.jupyter.widget-view+json": {
       "model_id": "f5d802ecda16492288ad98d6db7d8101",
       "version_major": 2,
       "version_minor": 0
      },
      "text/plain": [
       "Generating train split:   0%|          | 0/1574 [00:00<?, ? examples/s]"
      ]
     },
     "metadata": {},
     "output_type": "display_data"
    },
    {
     "data": {
      "text/plain": [
       "Dataset({\n",
       "    features: ['url', 'repository_url', 'labels_url', 'comments_url', 'events_url', 'html_url', 'id', 'node_id', 'number', 'title', 'user', 'labels', 'state', 'locked', 'assignee', 'assignees', 'milestone', 'comments', 'created_at', 'updated_at', 'closed_at', 'author_association', 'active_lock_reason', 'draft', 'pull_request', 'body', 'reactions', 'timeline_url', 'performed_via_github_app', 'state_reason', 'is_pull_request'],\n",
       "    num_rows: 1574\n",
       "})"
      ]
     },
     "execution_count": 36,
     "metadata": {},
     "output_type": "execute_result"
    }
   ],
   "source": [
    "remote_dataset = load_dataset(\"hjerpe/github-kubeflow-issues\", split=\"train\")\n",
    "remote_dataset"
   ]
  },
  {
   "attachments": {},
   "cell_type": "markdown",
   "id": "dae1eabb",
   "metadata": {},
   "source": [
    "Cool, we’ve pushed our dataset to the Hub and it’s available for others to use! There’s just one important thing left to do: adding a dataset card that explains how the corpus was created and provides other useful information for the community."
   ]
  },
  {
   "attachments": {},
   "cell_type": "markdown",
   "id": "995395d7",
   "metadata": {},
   "source": [
    "💡 You can also upload a dataset to the Hugging Face Hub directly from the terminal by using huggingface-cli and a bit of Git magic. See the 🤗 Datasets guide for details on how to do this.\n",
    "\n"
   ]
  },
  {
   "attachments": {},
   "cell_type": "markdown",
   "id": "139ea2f9",
   "metadata": {},
   "source": [
    "#### Creating a dataset card"
   ]
  },
  {
   "attachments": {},
   "cell_type": "markdown",
   "id": "c4ede527",
   "metadata": {},
   "source": [
    "Well-documented datasets are more likely to be useful to others (including your future self!), as they provide the context to enable users to decide whether the dataset is relevant to their task and to evaluate any potential biases in or risks associated with using the dataset. \n",
    "\n",
    "On the Hugging Face Hub, this information is stored in each dataset repository’s README.md file. There are two main steps you should take before creating this file:\n",
    "\n",
    "1. Use the datasets-tagging application to create metadata tags in YAML format. These tags are used for a variety of search features on the Hugging Face Hub and ensure your dataset can be easily found by members of the community. Since we have created a custom dataset here, you’ll need to clone the datasets-tagging repository and run the application locally. Here’s what the interface looks like:\n",
    "\n",
    "2. Read the 🤗 Datasets guide on creating informative dataset cards and use it as a template.\n",
    "\n",
    "You can create the README.md file directly on the Hub, and you can find a template dataset card in the lewtun/github-issues dataset repository. A screenshot of the filled-out dataset card is shown below."
   ]
  },
  {
   "attachments": {},
   "cell_type": "markdown",
   "id": "299ebd7a",
   "metadata": {},
   "source": [
    "✏️ Try it out! Use the dataset-tagging application and 🤗 Datasets guide to complete the README.md file for your GitHub issues dataset."
   ]
  },
  {
   "attachments": {},
   "cell_type": "markdown",
   "id": "19131e93",
   "metadata": {},
   "source": [
    "That’s it! We’ve seen in this section that creating a good dataset can be quite involved, but fortunately uploading it and sharing it with the community is not. In the next section we’ll use our new dataset to create a semantic search engine with 🤗 Datasets that can match questions to the most relevant issues and comments."
   ]
  },
  {
   "attachments": {},
   "cell_type": "markdown",
   "id": "50806055",
   "metadata": {},
   "source": [
    "✏️ Try it out! Go through the steps we took in this section to create a dataset of GitHub issues for your favorite open source library (pick something other than 🤗 Datasets, of course!). For bonus points, fine-tune a multilabel classifier to predict the tags present in the labels field."
   ]
  }
 ],
 "metadata": {
  "environment": {
   "kernel": "python3",
   "name": "tf2-gpu.2-11.m108",
   "type": "gcloud",
   "uri": "gcr.io/deeplearning-platform-release/tf2-gpu.2-11:m108"
  },
  "kernelspec": {
   "display_name": "default_venv",
   "language": "python",
   "name": "default_venv"
  },
  "language_info": {
   "codemirror_mode": {
    "name": "ipython",
    "version": 3
   },
   "file_extension": ".py",
   "mimetype": "text/x-python",
   "name": "python",
   "nbconvert_exporter": "python",
   "pygments_lexer": "ipython3",
   "version": "3.10.12"
  }
 },
 "nbformat": 4,
 "nbformat_minor": 5
}
