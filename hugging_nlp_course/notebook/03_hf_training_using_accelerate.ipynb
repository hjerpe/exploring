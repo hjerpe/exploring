{
 "cells": [
  {
   "cell_type": "code",
   "execution_count": null,
   "metadata": {
    "colab": {
     "base_uri": "https://localhost:8080/"
    },
    "id": "o5gTxr2fzpi6",
    "outputId": "93796617-34ff-477f-8dc6-5367c624ce32"
   },
   "outputs": [],
   "source": [
    "!pip install accelerate"
   ]
  },
  {
   "cell_type": "code",
   "execution_count": null,
   "metadata": {
    "colab": {
     "base_uri": "https://localhost:8080/"
    },
    "id": "11jeIlE5zvI5",
    "outputId": "b41e227e-bc17-4d43-c0ec-9f8b490ea4e3"
   },
   "outputs": [],
   "source": [
    "!pip install transformers"
   ]
  },
  {
   "cell_type": "code",
   "execution_count": null,
   "metadata": {
    "colab": {
     "base_uri": "https://localhost:8080/"
    },
    "id": "QDRvih950nhp",
    "outputId": "57bb520a-1436-4aa0-9957-946ce7ce54a4"
   },
   "outputs": [],
   "source": [
    "!pip install torch"
   ]
  },
  {
   "cell_type": "code",
   "execution_count": null,
   "metadata": {
    "colab": {
     "base_uri": "https://localhost:8080/"
    },
    "id": "MLFgZ7Pk02NX",
    "outputId": "203e9dc0-2a48-4856-d4b5-7a6331c0fb97"
   },
   "outputs": [],
   "source": [
    "!pip install datasets"
   ]
  },
  {
   "cell_type": "code",
   "execution_count": null,
   "metadata": {
    "colab": {
     "base_uri": "https://localhost:8080/",
     "height": 561,
     "referenced_widgets": [
      "0c7f06809d70443f959900582dcb5c07",
      "48e9a2a753684067ae4bd1e1114f9e52",
      "dc0e56f7cb4743d6aa2fddf8874bbf3c",
      "321726b1c8c5480f95b221888c5b3ec2",
      "f126950d777b49ad9c3b899bc48a6b9d",
      "677ffb7d71994264ab3303ac472e10a6",
      "d4020fc5b9ed4c13ae0aef46742c9c58",
      "d44a3dad290748cd93cd64ccc37526f6",
      "bce204606f624b91bef80892e56ac917",
      "64477790d5464054860390d772f938e8",
      "0167e6bb8e27465584e8b6c10031b982",
      "9ad87313b85f4d27b83240e9f36de028",
      "df79af34db9f46a889780578d7f8d1be",
      "35ddcfe1dbe14e209953465008afc5b8",
      "3b0c1b074e544e6b9c40c149fc850733",
      "e31537e88dac41c2974222058a2002ee",
      "ff18ef0107e943e9a1a4a06b6a642c5c",
      "0353e68d8d4b4a9bae726ab78c664bb2",
      "52341b0c41d94568af1d3a81469e1eed",
      "3f9d3949eeeb48f9b27d0d02e2e17e67",
      "a745416df2a94e1ab1db2fe33ad4a0e6",
      "9bd3025ebd194bb4b37309a63895fa9d",
      "0f1ee8c3cd15405d993829f2f800f86c",
      "9f1252eeff114e65904295190e2636bb",
      "88f04917003145889e11aa6dc9128bfd",
      "19995723292845cb84b0e171010c1431",
      "318b22716bfc4ca7b187cdaefb29dfa0",
      "bf3f06a8263f4a17ba566f80b6869948",
      "79acf6398ca64130b175dba925db8f6a",
      "f845ee7afd0b47bfae0b9b52eea9f081",
      "8f978661c411462689bdc4d1d8b5dfdf",
      "5ab6cb57fe0d4fb4a622a05252313ff2",
      "9a93a32beed941ada25fa28b1efc3530",
      "0512069851ea419db5c0989a22ad961e",
      "3981e20f63d44fdebd86e7a3b37c8c23",
      "fc6b6e3d398b4fdcb67e955b4dafb43f",
      "0ebd8b58d1014f6eb2fca3adaa3568d5",
      "d5c1550a17994f2a9699e165e792e758",
      "4d421d9d519b4742a71702e011fc28dc",
      "36e0cc70cf7e4908b7860861e4a18b02",
      "cc03581f18f745d98a7eb0313b525215",
      "7140ce3fde374d4099b4e63142724917",
      "b872fedc1b234a12bf2c4360820a5fd2",
      "09885b82054b476a895c605de5832ddc",
      "49c9dda408fd4aae8e69d7bb8477e499",
      "62322631c6334dd6b3d15d8c1c890f60",
      "e8746447573743788a08de8a4dcfbd07",
      "46a2ad07410345ce9e017b69f4930b0f",
      "835f9168dfc043d7aa7c3dac3c6e6e25",
      "c2a3a43abf5b41c181a79902b1a19db9",
      "59b4b392bd0e488aa02f26d1a1a66c2d",
      "596dacbca3b0453ba0911862999c82dd",
      "97bf584ff7f041499fef7cace1ddbe22",
      "20f4dce2ed4341f8abbd36b2b44eae09",
      "d87b2b2ada9b4f02a89dbaabbfbf2207",
      "431c5a3cbe1942dfb91e98f2a7988a0a",
      "306db6f13ed446228d5212433a4bc4d8",
      "f4e0183b5fd9443e88674d0ad88a1ca9",
      "2b58afff6d0a422db8e353727ab79e93",
      "78b62ae0deaa4d828ea1b091101f32da",
      "06997e946e0344f0b2ce5aed5183cd30",
      "011e26914236433c97ff19fb17ab5d8f",
      "6b4e843f448248d88624221e096f09a4",
      "abbaea82c5a844e1940ec60ac659ca59",
      "bd70d9676c56432289cbc66ba89a90c8",
      "8ff7261c06de48eaa28e3c07b85ecf52",
      "bf00467660f74cbb802432a293c904a3",
      "ae913c7589244573bce73a9e878a7e47",
      "18225abc6f3e44c2a4e6d46954b84af4",
      "76d8b4f0a09348939dcbfca30dc6878d",
      "18b6e2607ab24b4a9b3a86b05e21b614",
      "dc500393d2d94fd396baf5580adb4771",
      "56c4512808ca4f698a6fc61d23039967",
      "15190be4b2ed4311beb140c00118e9ae",
      "8f365e5443644bb5b830937bd7dbad0b",
      "f437b0dbc0fe4818adbdcbf692617a0f",
      "fa3862d1c14249d08c6d178b546c56d9",
      "be2a0d80c8a94377adfbf6c1da585d63",
      "791317df6d81468c8e9e5d7c685a2ee4",
      "e80992b7fd874a99b4eff90c86dd43cc",
      "95f8866f4ad946e5b635e6d3e7d4a2bd",
      "b39c40cdb97b4abf8757322819a21dfb",
      "c3d4b772f007475abe7956848e58f9b3",
      "ea8e08087db749ae82892a0c62882fc1",
      "2491e5ed573242c8915ff3ba4daf9fb0",
      "372eedcd2d92438cb7e5928fab50acfc",
      "0bb3c8587d1e4281a5051a6b7eb6747e",
      "4d625f40fb0b4d00b0624d8b2618bfd1",
      "02fbb62e8fc14bf988d7e2aa8869fbc2",
      "32c0bd7a4d914b3a9f9084d80c7206ac",
      "a4ffe5a867cd44199fe8a7dbde4d217b",
      "9316aff0e0ae4f6d9ad1bf4b48749b82",
      "e3c558a87698438f87da825ff08b04be",
      "30c2b5f33bd34a5388c8e2163cf1bd56",
      "71982813f9af4525b08f037818654a2c",
      "8ccaad7e07e44538b02f20c4e36a1979",
      "28544f15958444bf9591e158c208d695",
      "95daf63900374df6905e3a3ce564e957",
      "4b7003009d224b2a9cec9dfe4a255de2",
      "4a9e2c8e484f4824830c6143a7ecc537",
      "1c86bda838d0468986f5c22199742dec",
      "e0a363f547c14340ac0ed3232cfdea81",
      "8efdfda0466847e2a1d66f35b0e3ae14",
      "20c83a762a1d4ca893776a96ff43ff61",
      "c5177227d91e4247931c35f7315a46eb",
      "344dbc56f8af46b384c2d66757363be5",
      "0b56fb93ba6949fd9fe718f3abeff537",
      "ce0cdc82edc645778fababbaf113e49b",
      "3f16e3464b8d4cc4b62164880e6afa13",
      "d36bd95ff9914bfba5839b56db0d12f9",
      "4082f2e36d824509824decab4c4175a7",
      "76f78eb01f01417e8146bddbaff0b1dd",
      "b45f030558144d48b6119bcbd3c2f533",
      "72f9075cbcff42f3adb926d2f842a3f6",
      "5f655e75c9df4a4fb59f59e1b818a9e5",
      "169adfbc7bfe46929c95b16b81d19e6b",
      "5a8ab25746914d65a870a19bdb215148",
      "5eaa7157bb524308a08bb27e10403c04",
      "6a4350a0a9194055bffb3ff6cc5ac0bd",
      "f01db8c7ca25406f86d3b93ae637e447",
      "b85bccdcc2774687ba0546ba5b1c82b9",
      "0cc2ce94359c4e0eb72db8aa24e2b448",
      "f8c9a96e34f849bf8253fa41644a4653",
      "bc9b46786e0147d9813fa9e39c405c34",
      "aa27cd417740425c926a994c33ac5bc3",
      "18c52755dc96447087e285f13b4c545b",
      "e96c30d2ce3e4f6f8bc9155dcf4cb92e",
      "50647f028c924deaa7dab28868a509f9",
      "622a8e516f65447a8f2f729d81bd8cc9",
      "0043d72e0a144647a4e9252ae82ffb24",
      "f9e574ad665848f38a09519659b824df",
      "99e6f458e23d4782b78e88b4fbff9c5d",
      "4ccc41fab3064b16b704dfce51103243",
      "0d3906feb1074d71a5ef3464d38feefc",
      "14c89371af7b430eb4bc53fdb32ea3ef",
      "11868237e9834e5abf95fe60853cfe9e",
      "2404b31bf17e45e794a4b8af7c8820fe",
      "61f23c9fdc694e269d221a488832d545",
      "b39ee519355840e9a8a07f94a7bdddc8",
      "b7b9b7d4acc0420d82bb4f151bcaee06",
      "1784d83acf2e414d8cc794ca0f0e5b8b",
      "66ab4cba03104395bcd13fc96e3937e3",
      "cb977375527c4a7598e71f8822ece5cd",
      "6a12a7291b264859a6632a63d26b88bd",
      "9c6cca9f702b466ebb8d7b1ec2b4fe4e",
      "d1bc81df61544edfbd2ca760a117f723",
      "7bd08cab31af468c85ed3f9a0b4b27b2",
      "b7b408e46b574925af717823409ffb06",
      "cfb7d164baac41bc9986641031d47df3",
      "581745f9707e484b89ffb93f9ce26674",
      "2cbd822e3e90420d9eeb72eb714ab419",
      "c7cf134f526d48d685c0013eeed7fc32",
      "8fdc975bc83f4c318a9d28209489de9b",
      "1e6b31ed6e18490d9dd26799dc1527c0",
      "845e505bc787494497a9e6151a005268",
      "6b34a943dc2e4762b1a5b6acb51e5c44",
      "9faef777712e492992e2fa85124cfd70",
      "237df6ea49004a2c91a61ed9a64cbe81",
      "563eed10115443929c8a20b868a007b6",
      "12f1157d5c1545098727d64d57ce6760",
      "b708a49cb1ce47b8a2d97aaf8bb8525b",
      "4d509af3e19f484c99488d82c4bf85ca",
      "59479344fffd4cdbbb3ca867dc7ef3a2",
      "125813e4abbd4748a2a254d1ae866434",
      "e9c269fdf25f45168fc19ea225e7ad2d",
      "0288e7b4316046c2b938abd7a19b047e",
      "ede3efddc5c54377ba6738c57689541d",
      "882a0ee355bc4a449d6c586e2dc5b014",
      "e7724f3931304e86b154453ed173040f",
      "288ab7c8aee64dc9b25be5220d967736",
      "c990f7c93fd84b15829942d81b606a6d",
      "f88417ae85324cb4a8c3f084da6d4f80",
      "af2ca4744ec54ac7adbf42f862a9b96a",
      "b551ad1f01a4470c9f2afaa33910366e",
      "a02857d128b8447e80e61bd69ac91c75",
      "2f14b29d2bb94bbbb7537d37d7fa386e",
      "58ec6f1770dd4d53a83457afa6990670",
      "08c4b77866aa4747b71e1de343aa2791",
      "afa7c601154a48a0b11134cdfe8bcf9e",
      "e7671ee7d63c423eb8e95fbf73095c18",
      "ee234316a64b4629b14bbdd3534e49f4",
      "5db2231f4c684b00836df194b56916e7",
      "d6a8d55514184729982e77f9f5026993",
      "10007b4c7f0d4a84aba9564a3d5479a7",
      "cbe1844d68b048fc8fcb25ebff816b67",
      "03b7bbdc51514168ac9398459ff3255f",
      "2ac574e0c1014aa3aadf4477a85ed519"
     ]
    },
    "id": "SVtdr_AM00Nu",
    "outputId": "933f7181-35e0-4bbf-c6e4-e495adfada47"
   },
   "outputs": [],
   "source": [
    "from datasets import load_dataset\n",
    "from transformers import AutoTokenizer, DataCollatorWithPadding\n",
    "\n",
    "raw_datasets = load_dataset(\"glue\", \"mrpc\")\n",
    "checkpoint = \"bert-base-uncased\"\n",
    "tokenizer = AutoTokenizer.from_pretrained(checkpoint)\n",
    "\n",
    "\n",
    "def tokenize_function(example):\n",
    "    return tokenizer(example[\"sentence1\"], example[\"sentence2\"], truncation=True)\n",
    "\n",
    "\n",
    "tokenized_datasets = raw_datasets.map(tokenize_function, batched=True)\n",
    "data_collator = DataCollatorWithPadding(tokenizer=tokenizer)"
   ]
  },
  {
   "cell_type": "code",
   "execution_count": null,
   "metadata": {
    "colab": {
     "base_uri": "https://localhost:8080/"
    },
    "id": "HVmI08e31GPO",
    "outputId": "4eac1f3c-884e-4484-9eea-15e71ab00fdb"
   },
   "outputs": [],
   "source": [
    "tokenized_datasets = tokenized_datasets.remove_columns([\"sentence1\", \"sentence2\", \"idx\"])\n",
    "tokenized_datasets = tokenized_datasets.rename_column(\"label\", \"labels\")\n",
    "tokenized_datasets.set_format(\"torch\")\n",
    "tokenized_datasets[\"train\"].column_names"
   ]
  },
  {
   "cell_type": "code",
   "execution_count": null,
   "metadata": {
    "id": "1rG5kFdT0lPB"
   },
   "outputs": [],
   "source": [
    "\n",
    "from torch.utils.data import DataLoader\n",
    "\n",
    "train_dataloader = DataLoader(\n",
    "    tokenized_datasets[\"train\"], shuffle=True, batch_size=8, collate_fn=data_collator\n",
    ")\n",
    "eval_dataloader = DataLoader(\n",
    "    tokenized_datasets[\"validation\"], batch_size=8, collate_fn=data_collator\n",
    ")"
   ]
  },
  {
   "cell_type": "code",
   "execution_count": null,
   "metadata": {
    "id": "3tWFlYhdzVWM"
   },
   "outputs": [],
   "source": [
    "from accelerate import Accelerator\n",
    "from transformers import AdamW, AutoModelForSequenceClassification, get_scheduler\n",
    "from tqdm.auto import tqdm\n",
    "def training_function():\n",
    "  checkpoint = \"bert-base-uncased\"\n",
    "  accelerator = Accelerator()\n",
    "\n",
    "  model = AutoModelForSequenceClassification.from_pretrained(checkpoint, num_labels=2)\n",
    "  optimizer = AdamW(model.parameters(), lr=3e-5)\n",
    "\n",
    "  train_dl, eval_dl, model, optimizer = accelerator.prepare(\n",
    "    train_dataloader, eval_dataloader, model, optimizer\n",
    "  )\n",
    "\n",
    "  num_epochs = 3\n",
    "  num_training_steps = num_epochs * len(train_dl)\n",
    "  lr_scheduler = get_scheduler(\n",
    "    \"linear\",\n",
    "    optimizer=optimizer,\n",
    "    num_warmup_steps=0,\n",
    "    num_training_steps=num_training_steps,\n",
    "  )\n",
    "\n",
    "  progress_bar = tqdm(range(num_training_steps))\n",
    "\n",
    "  model.train()\n",
    "  for epoch in range(num_epochs):\n",
    "    for batch in train_dl:\n",
    "        outputs = model(**batch)\n",
    "        loss = outputs.loss\n",
    "        accelerator.backward(loss)\n",
    "\n",
    "        optimizer.step()\n",
    "        lr_scheduler.step()\n",
    "        optimizer.zero_grad()\n",
    "        progress_bar.update(1)"
   ]
  },
  {
   "cell_type": "code",
   "execution_count": null,
   "metadata": {
    "colab": {
     "base_uri": "https://localhost:8080/",
     "height": 210,
     "referenced_widgets": [
      "03ba4fbd3856411cb036f59e7462671e",
      "3826fb46ae5d42b0bc36633471480edf",
      "8a03045f50f5459b9082fa79b09c66da",
      "9480f503de1d459baeebcb342ff7b4eb",
      "e10f1d573d6f40639042e3000e49d062",
      "d3d3f1cd7add4a3c960409eec04930d5",
      "10ca069c29124270b745a3fac6d79aef",
      "9b9d99c7a9af4bb8a22e7c305169a287",
      "87bb3bed77a145f8865eeb775d554f8c",
      "c3f70898b5da41e7abd331453db3d870",
      "854e580b450f4da4bde719d0e5e47cec",
      "7e8e5b0289564c20816a3d0a94704ada",
      "5d71435d609947fc88f9b089267fe428",
      "a56257139c344844bd1fd1a728fc6021",
      "1cd8c57c522f4c9086cc948c8fb9b7ac",
      "8f46cf84a23d4efbbcf8c36a9609332d",
      "21cd563dc01c4408b7c248e453346d16",
      "fad47f56226a4e5a953928956a2e5036",
      "6ad39cc4dbc54b13bee44aa5e8e93c48",
      "5611925e67cc42489e21a4a3869cc3d8",
      "3e7eb39e5556445187512a4f9e06867c",
      "32d447b3bcdf4190ba14c30d9ecfc76c"
     ]
    },
    "id": "cSsdw8ln0IsK",
    "outputId": "f1b5208d-4969-420c-84d2-73f8174646ee"
   },
   "outputs": [],
   "source": [
    "from accelerate import notebook_launcher\n",
    "\n",
    "notebook_launcher(training_function)"
   ]
  }
 ],
 "metadata": {
  "accelerator": "GPU",
  "colab": {
   "gpuType": "T4",
   "provenance": []
  },
  "kernelspec": {
   "display_name": "Python 3",
   "name": "python3"
  },
  "language_info": {
   "name": "python"
  }
 },
 "nbformat": 4,
 "nbformat_minor": 0
}
