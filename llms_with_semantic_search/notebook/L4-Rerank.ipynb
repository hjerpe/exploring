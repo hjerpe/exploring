{
 "cells": [
  {
   "cell_type": "markdown",
   "id": "c64a04db",
   "metadata": {},
   "source": [
    "# ReRank"
   ]
  },
  {
   "attachments": {},
   "cell_type": "markdown",
   "id": "ee8ea5da",
   "metadata": {},
   "source": [
    "## Setup\n",
    "\n",
    "Load needed API keys and relevant Python libaries."
   ]
  },
  {
   "cell_type": "code",
   "execution_count": null,
   "id": "892d575a",
   "metadata": {},
   "outputs": [],
   "source": [
    "import os\n",
    "from dotenv import load_dotenv, find_dotenv\n",
    "_ = load_dotenv(find_dotenv()) # read local .env file"
   ]
  },
  {
   "cell_type": "code",
   "execution_count": null,
   "id": "b5531c84",
   "metadata": {},
   "outputs": [],
   "source": [
    "import cohere\n",
    "co = cohere.Client(os.environ['COHERE_API_KEY'])"
   ]
  },
  {
   "cell_type": "code",
   "execution_count": null,
   "id": "5a1f160a",
   "metadata": {},
   "outputs": [],
   "source": [
    "import weaviate\n",
    "auth_config = weaviate.auth.AuthApiKey(\n",
    "    api_key=os.environ['WEAVIATE_API_KEY'])"
   ]
  },
  {
   "cell_type": "code",
   "execution_count": null,
   "id": "f542b1f1",
   "metadata": {},
   "outputs": [],
   "source": [
    "client = weaviate.Client(\n",
    "    url=os.environ['WEAVIATE_API_URL'],\n",
    "    auth_client_secret=auth_config,\n",
    "    additional_headers={\n",
    "        \"X-Cohere-Api-Key\": os.environ['COHERE_API_KEY'],\n",
    "    }\n",
    ")"
   ]
  },
  {
   "cell_type": "markdown",
   "id": "496d24b8",
   "metadata": {},
   "source": [
    "## Dense Retrieval"
   ]
  },
  {
   "cell_type": "code",
   "execution_count": null,
   "id": "3277881e",
   "metadata": {},
   "outputs": [],
   "source": [
    "from utils import dense_retrieval"
   ]
  },
  {
   "cell_type": "code",
   "execution_count": null,
   "id": "e10ee5c0",
   "metadata": {},
   "outputs": [],
   "source": [
    "query = \"What is the capital of Canada?\""
   ]
  },
  {
   "cell_type": "code",
   "execution_count": null,
   "id": "956651e3",
   "metadata": {},
   "outputs": [],
   "source": [
    "dense_retrieval_results = dense_retrieval(query, client)"
   ]
  },
  {
   "cell_type": "code",
   "execution_count": null,
   "id": "327c7e31",
   "metadata": {},
   "outputs": [],
   "source": [
    "from utils import print_result"
   ]
  },
  {
   "cell_type": "code",
   "execution_count": null,
   "id": "a7809680",
   "metadata": {},
   "outputs": [],
   "source": [
    "print_result(dense_retrieval_results)"
   ]
  },
  {
   "cell_type": "markdown",
   "id": "f606b84a",
   "metadata": {},
   "source": [
    "## Improving Keyword Search with ReRank"
   ]
  },
  {
   "cell_type": "code",
   "execution_count": null,
   "id": "57763f0b",
   "metadata": {},
   "outputs": [],
   "source": [
    "from utils import keyword_search"
   ]
  },
  {
   "cell_type": "code",
   "execution_count": null,
   "id": "ea4dc682",
   "metadata": {},
   "outputs": [],
   "source": [
    "query_1 = \"What is the capital of Canada?\""
   ]
  },
  {
   "cell_type": "code",
   "execution_count": null,
   "id": "c4098066",
   "metadata": {},
   "outputs": [],
   "source": [
    "query_1 = \"What is the capital of Canada?\"\n",
    "results = keyword_search(query_1,\n",
    "                         client,\n",
    "                         properties=[\"text\", \"title\", \"url\", \"views\", \"lang\", \"_additional {distance}\"],\n",
    "                         num_results=3\n",
    "                        )\n",
    "\n",
    "for i, result in enumerate(results):\n",
    "    print(f\"i:{i}\")\n",
    "    print(result.get('title'))\n",
    "    print(result.get('text'))"
   ]
  },
  {
   "cell_type": "code",
   "execution_count": null,
   "id": "ca70e52b",
   "metadata": {},
   "outputs": [],
   "source": [
    "query_1 = \"What is the capital of Canada?\"\n",
    "results = keyword_search(query_1,\n",
    "                         client,\n",
    "                         properties=[\"text\", \"title\", \"url\", \"views\", \"lang\", \"_additional {distance}\"],\n",
    "                         num_results=500\n",
    "                        )\n",
    "\n",
    "for i, result in enumerate(results):\n",
    "    print(f\"i:{i}\")\n",
    "    print(result.get('title'))\n",
    "    #print(result.get('text'))"
   ]
  },
  {
   "cell_type": "code",
   "execution_count": null,
   "id": "2278d2b1",
   "metadata": {},
   "outputs": [],
   "source": [
    "def rerank_responses(query, responses, num_responses=10):\n",
    "    reranked_responses = co.rerank(\n",
    "        model = 'rerank-english-v2.0',\n",
    "        query = query,\n",
    "        documents = responses,\n",
    "        top_n = num_responses,\n",
    "        )\n",
    "    return reranked_responses"
   ]
  },
  {
   "cell_type": "code",
   "execution_count": null,
   "id": "33acfb1f",
   "metadata": {},
   "outputs": [],
   "source": [
    "texts = [result.get('text') for result in results]\n",
    "reranked_text = rerank_responses(query_1, texts)"
   ]
  },
  {
   "cell_type": "code",
   "execution_count": null,
   "id": "d4232baa",
   "metadata": {},
   "outputs": [],
   "source": [
    "for i, rerank_result in enumerate(reranked_text):\n",
    "    print(f\"i:{i}\")\n",
    "    print(f\"{rerank_result}\")\n",
    "    print()"
   ]
  },
  {
   "cell_type": "markdown",
   "id": "41e00584",
   "metadata": {},
   "source": [
    "## Improving Dense Retrieval with ReRank"
   ]
  },
  {
   "cell_type": "code",
   "execution_count": null,
   "id": "b59cda61",
   "metadata": {},
   "outputs": [],
   "source": [
    "from utils import dense_retrieval"
   ]
  },
  {
   "cell_type": "code",
   "execution_count": null,
   "id": "2a59997e",
   "metadata": {},
   "outputs": [],
   "source": [
    "query_2 = \"Who is the tallest person in history?\""
   ]
  },
  {
   "cell_type": "code",
   "execution_count": null,
   "id": "3db97b86",
   "metadata": {},
   "outputs": [],
   "source": [
    "results = dense_retrieval(query_2,client)"
   ]
  },
  {
   "cell_type": "code",
   "execution_count": null,
   "id": "9fdbabf9",
   "metadata": {},
   "outputs": [],
   "source": [
    "for i, result in enumerate(results):\n",
    "    print(f\"i:{i}\")\n",
    "    print(result.get('title'))\n",
    "    print(result.get('text'))\n",
    "    print()"
   ]
  },
  {
   "cell_type": "code",
   "execution_count": null,
   "id": "923ad1f9",
   "metadata": {},
   "outputs": [],
   "source": [
    "texts = [result.get('text') for result in results]\n",
    "reranked_text = rerank_responses(query_2, texts)"
   ]
  },
  {
   "cell_type": "code",
   "execution_count": null,
   "id": "3bc9612a",
   "metadata": {},
   "outputs": [],
   "source": [
    "for i, rerank_result in enumerate(reranked_text):\n",
    "    print(f\"i:{i}\")\n",
    "    print(f\"{rerank_result}\")\n",
    "    print()"
   ]
  },
  {
   "cell_type": "code",
   "execution_count": null,
   "id": "681f1f81",
   "metadata": {},
   "outputs": [],
   "source": []
  },
  {
   "cell_type": "code",
   "execution_count": null,
   "id": "ed284361",
   "metadata": {},
   "outputs": [],
   "source": []
  }
 ],
 "metadata": {
  "kernelspec": {
   "display_name": "Python 3 (ipykernel)",
   "language": "python",
   "name": "python3"
  },
  "language_info": {
   "codemirror_mode": {
    "name": "ipython",
    "version": 3
   },
   "file_extension": ".py",
   "mimetype": "text/x-python",
   "name": "python",
   "nbconvert_exporter": "python",
   "pygments_lexer": "ipython3",
   "version": "3.10.12"
  }
 },
 "nbformat": 4,
 "nbformat_minor": 5
}
