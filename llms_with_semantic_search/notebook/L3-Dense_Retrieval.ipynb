{
 "cells": [
  {
   "attachments": {},
   "cell_type": "markdown",
   "id": "d6ad5809",
   "metadata": {},
   "source": [
    "# Dense Retrieval"
   ]
  },
  {
   "cell_type": "markdown",
   "id": "a4f830ed",
   "metadata": {
    "vscode": {
     "languageId": "plaintext"
    }
   },
   "source": [
    "## Setup\n",
    "\n",
    "Load needed API keys and relevant Python libaries."
   ]
  },
  {
   "cell_type": "code",
   "execution_count": null,
   "id": "da45dcb4",
   "metadata": {},
   "outputs": [],
   "source": [
    "import os\n",
    "from dotenv import load_dotenv, find_dotenv\n",
    "_ = load_dotenv(find_dotenv()) # read local .env file"
   ]
  },
  {
   "cell_type": "code",
   "execution_count": null,
   "id": "bbea1848",
   "metadata": {},
   "outputs": [],
   "source": [
    "import cohere\n",
    "co = cohere.Client(os.environ['COHERE_API_KEY'])"
   ]
  },
  {
   "cell_type": "code",
   "execution_count": null,
   "id": "be4c1300",
   "metadata": {},
   "outputs": [],
   "source": [
    "import weaviate\n",
    "auth_config = weaviate.auth.AuthApiKey(\n",
    "    api_key=os.environ['WEAVIATE_API_KEY'])"
   ]
  },
  {
   "cell_type": "code",
   "execution_count": null,
   "id": "ba51420a",
   "metadata": {},
   "outputs": [],
   "source": [
    "client = weaviate.Client(\n",
    "    url=os.environ['WEAVIATE_API_URL'],\n",
    "    auth_client_secret=auth_config,\n",
    "    additional_headers={\n",
    "        \"X-Cohere-Api-Key\": os.environ['COHERE_API_KEY'],\n",
    "    }\n",
    ")\n",
    "client.is_ready() #check if True"
   ]
  },
  {
   "cell_type": "markdown",
   "id": "97d3ce25",
   "metadata": {},
   "source": [
    "## Part 1: Vector Database for semantic Search"
   ]
  },
  {
   "cell_type": "code",
   "execution_count": null,
   "id": "b45c2235",
   "metadata": {},
   "outputs": [],
   "source": [
    "def dense_retrieval(query, \n",
    "                    results_lang='en', \n",
    "                    properties = [\"text\", \"title\", \"url\", \"views\", \"lang\", \"_additional {distance}\"],\n",
    "                    num_results=5):\n",
    "\n",
    "    nearText = {\"concepts\": [query]}\n",
    "    \n",
    "    # To filter by language\n",
    "    where_filter = {\n",
    "    \"path\": [\"lang\"],\n",
    "    \"operator\": \"Equal\",\n",
    "    \"valueString\": results_lang\n",
    "    }\n",
    "    response = (\n",
    "        client.query\n",
    "        .get(\"Articles\", properties)\n",
    "        .with_near_text(nearText)\n",
    "        .with_where(where_filter)\n",
    "        .with_limit(num_results)\n",
    "        .do()\n",
    "    )\n",
    "\n",
    "    result = response['data']['Get']['Articles']\n",
    "\n",
    "    return result"
   ]
  },
  {
   "cell_type": "code",
   "execution_count": null,
   "id": "6fc783fc",
   "metadata": {},
   "outputs": [],
   "source": [
    "from utils import print_result"
   ]
  },
  {
   "cell_type": "markdown",
   "id": "565cbb19",
   "metadata": {},
   "source": [
    "### Bacic Query"
   ]
  },
  {
   "cell_type": "code",
   "execution_count": null,
   "id": "412d3a92",
   "metadata": {},
   "outputs": [],
   "source": [
    "query = \"Who wrote Hamlet?\"\n",
    "dense_retrieval_results = dense_retrieval(query)\n",
    "print_result(dense_retrieval_results)"
   ]
  },
  {
   "attachments": {},
   "cell_type": "markdown",
   "id": "2853666b",
   "metadata": {},
   "source": [
    "### Medium Query"
   ]
  },
  {
   "cell_type": "code",
   "execution_count": null,
   "id": "586c4f02",
   "metadata": {},
   "outputs": [],
   "source": [
    "query = \"What is the capital of Canada?\"\n",
    "dense_retrieval_results = dense_retrieval(query)\n",
    "print_result(dense_retrieval_results)"
   ]
  },
  {
   "cell_type": "code",
   "execution_count": null,
   "id": "5c17bdc1",
   "metadata": {},
   "outputs": [],
   "source": [
    "from utils import keyword_search\n",
    "\n",
    "query = \"What is the capital of Canada?\"\n",
    "keyword_search_results = keyword_search(query, client)\n",
    "print_result(keyword_search_results)"
   ]
  },
  {
   "attachments": {},
   "cell_type": "markdown",
   "id": "6db9e823",
   "metadata": {},
   "source": [
    "### Complicated Query"
   ]
  },
  {
   "cell_type": "code",
   "execution_count": null,
   "id": "d368dca8",
   "metadata": {},
   "outputs": [],
   "source": [
    "from utils import keyword_search\n",
    "\n",
    "query = \"Tallest person in history?\"\n",
    "keyword_search_results = keyword_search(query, client)\n",
    "print_result(keyword_search_results)"
   ]
  },
  {
   "cell_type": "code",
   "execution_count": null,
   "id": "8fda3a4b",
   "metadata": {},
   "outputs": [],
   "source": [
    "query = \"Tallest person in history\"\n",
    "dense_retrieval_results = dense_retrieval(query)\n",
    "print_result(dense_retrieval_results)"
   ]
  },
  {
   "cell_type": "code",
   "execution_count": null,
   "id": "0f026892",
   "metadata": {},
   "outputs": [],
   "source": [
    "query = \"أطول رجل في التاريخ\"\n",
    "dense_retrieval_results = dense_retrieval(query)\n",
    "print_result(dense_retrieval_results)"
   ]
  },
  {
   "cell_type": "code",
   "execution_count": null,
   "id": "7e86585b",
   "metadata": {},
   "outputs": [],
   "source": [
    "query = \"film about a time travel paradox\"\n",
    "dense_retrieval_results = dense_retrieval(query)\n",
    "print_result(dense_retrieval_results)"
   ]
  },
  {
   "cell_type": "markdown",
   "id": "bc61895a",
   "metadata": {},
   "source": [
    "## Part 2: Building Semantic Search from Scratch\n",
    "\n",
    "### Get the text archive:"
   ]
  },
  {
   "cell_type": "code",
   "execution_count": null,
   "id": "9869a841",
   "metadata": {},
   "outputs": [],
   "source": [
    "from annoy import AnnoyIndex\n",
    "import numpy as np\n",
    "import pandas as pd\n",
    "import re"
   ]
  },
  {
   "cell_type": "code",
   "execution_count": null,
   "id": "c64135f4",
   "metadata": {},
   "outputs": [],
   "source": [
    "text = \"\"\"\n",
    "Interstellar is a 2014 epic science fiction film co-written, directed, and produced by Christopher Nolan.\n",
    "It stars Matthew McConaughey, Anne Hathaway, Jessica Chastain, Bill Irwin, Ellen Burstyn, Matt Damon, and Michael Caine.\n",
    "Set in a dystopian future where humanity is struggling to survive, the film follows a group of astronauts who travel through a wormhole near Saturn in search of a new home for mankind.\n",
    "\n",
    "Brothers Christopher and Jonathan Nolan wrote the screenplay, which had its origins in a script Jonathan developed in 2007.\n",
    "Caltech theoretical physicist and 2017 Nobel laureate in Physics[4] Kip Thorne was an executive producer, acted as a scientific consultant, and wrote a tie-in book, The Science of Interstellar.\n",
    "Cinematographer Hoyte van Hoytema shot it on 35 mm movie film in the Panavision anamorphic format and IMAX 70 mm.\n",
    "Principal photography began in late 2013 and took place in Alberta, Iceland, and Los Angeles.\n",
    "Interstellar uses extensive practical and miniature effects and the company Double Negative created additional digital effects.\n",
    "\n",
    "Interstellar premiered on October 26, 2014, in Los Angeles.\n",
    "In the United States, it was first released on film stock, expanding to venues using digital projectors.\n",
    "The film had a worldwide gross over $677 million (and $773 million with subsequent re-releases), making it the tenth-highest grossing film of 2014.\n",
    "It received acclaim for its performances, direction, screenplay, musical score, visual effects, ambition, themes, and emotional weight.\n",
    "It has also received praise from many astronomers for its scientific accuracy and portrayal of theoretical astrophysics. Since its premiere, Interstellar gained a cult following,[5] and now is regarded by many sci-fi experts as one of the best science-fiction films of all time.\n",
    "Interstellar was nominated for five awards at the 87th Academy Awards, winning Best Visual Effects, and received numerous other accolades\"\"\""
   ]
  },
  {
   "cell_type": "markdown",
   "id": "1b0a70eb",
   "metadata": {},
   "source": [
    "### Chunking: "
   ]
  },
  {
   "cell_type": "code",
   "execution_count": null,
   "id": "c53e54a6",
   "metadata": {},
   "outputs": [],
   "source": [
    "# Split into a list of sentences\n",
    "texts = text.split('.')\n",
    "\n",
    "# Clean up to remove empty spaces and new lines\n",
    "texts = np.array([t.strip(' \\n') for t in texts])"
   ]
  },
  {
   "cell_type": "code",
   "execution_count": null,
   "id": "3a63e977",
   "metadata": {},
   "outputs": [],
   "source": [
    "texts"
   ]
  },
  {
   "cell_type": "code",
   "execution_count": null,
   "id": "bf64aec6",
   "metadata": {},
   "outputs": [],
   "source": [
    "# Split into a list of paragraphs\n",
    "texts = text.split('\\n\\n')\n",
    "\n",
    "# Clean up to remove empty spaces and new lines\n",
    "texts = np.array([t.strip(' \\n') for t in texts])"
   ]
  },
  {
   "cell_type": "code",
   "execution_count": null,
   "id": "757dd414",
   "metadata": {},
   "outputs": [],
   "source": [
    "texts"
   ]
  },
  {
   "cell_type": "code",
   "execution_count": null,
   "id": "48650dd5",
   "metadata": {},
   "outputs": [],
   "source": [
    "# Split into a list of sentences\n",
    "texts = text.split('.')\n",
    "\n",
    "# Clean up to remove empty spaces and new lines\n",
    "texts = np.array([t.strip(' \\n') for t in texts])"
   ]
  },
  {
   "cell_type": "code",
   "execution_count": null,
   "id": "56d1e1ff",
   "metadata": {},
   "outputs": [],
   "source": [
    "title = 'Interstellar (film)'\n",
    "\n",
    "texts = np.array([f\"{title} {t}\" for t in texts])"
   ]
  },
  {
   "cell_type": "code",
   "execution_count": null,
   "id": "631916ea",
   "metadata": {},
   "outputs": [],
   "source": [
    "texts"
   ]
  },
  {
   "cell_type": "markdown",
   "id": "915e58b4",
   "metadata": {},
   "source": [
    "### Get the embeddings:"
   ]
  },
  {
   "cell_type": "code",
   "execution_count": null,
   "id": "d6c9bffe",
   "metadata": {},
   "outputs": [],
   "source": [
    "response = co.embed(\n",
    "    texts=texts.tolist()\n",
    ").embeddings"
   ]
  },
  {
   "cell_type": "code",
   "execution_count": null,
   "id": "a7ea15eb",
   "metadata": {},
   "outputs": [],
   "source": [
    "embeds = np.array(response)\n",
    "embeds.shape"
   ]
  },
  {
   "cell_type": "markdown",
   "id": "03ffa2de",
   "metadata": {},
   "source": [
    "### Create the search index:"
   ]
  },
  {
   "cell_type": "code",
   "execution_count": null,
   "id": "15de3421",
   "metadata": {},
   "outputs": [],
   "source": [
    "search_index = AnnoyIndex(embeds.shape[1], 'angular')\n",
    "# Add all the vectors to the search index\n",
    "for i in range(len(embeds)):\n",
    "    search_index.add_item(i, embeds[i])\n",
    "\n",
    "search_index.build(10) # 10 trees\n",
    "search_index.save('test.ann')"
   ]
  },
  {
   "cell_type": "code",
   "execution_count": null,
   "id": "95e6c476",
   "metadata": {},
   "outputs": [],
   "source": [
    "pd.set_option('display.max_colwidth', None)\n",
    "\n",
    "def search(query):\n",
    "\n",
    "  # Get the query's embedding\n",
    "  query_embed = co.embed(texts=[query]).embeddings\n",
    "\n",
    "  # Retrieve the nearest neighbors\n",
    "  similar_item_ids = search_index.get_nns_by_vector(query_embed[0],\n",
    "                                                    3,\n",
    "                                                  include_distances=True)\n",
    "  # Format the results\n",
    "  results = pd.DataFrame(data={'texts': texts[similar_item_ids[0]],\n",
    "                              'distance': similar_item_ids[1]})\n",
    "\n",
    "  print(texts[similar_item_ids[0]])\n",
    "    \n",
    "  return results"
   ]
  },
  {
   "cell_type": "code",
   "execution_count": null,
   "id": "cd5f738b",
   "metadata": {},
   "outputs": [],
   "source": [
    "query = \"How much did the film make?\"\n",
    "search(query)"
   ]
  },
  {
   "cell_type": "code",
   "execution_count": null,
   "id": "8279d765",
   "metadata": {},
   "outputs": [],
   "source": []
  }
 ],
 "metadata": {
  "kernelspec": {
   "display_name": "Python 3 (ipykernel)",
   "language": "python",
   "name": "python3"
  },
  "language_info": {
   "codemirror_mode": {
    "name": "ipython",
    "version": 3
   },
   "file_extension": ".py",
   "mimetype": "text/x-python",
   "name": "python",
   "nbconvert_exporter": "python",
   "pygments_lexer": "ipython3",
   "version": "3.10.12"
  }
 },
 "nbformat": 4,
 "nbformat_minor": 5
}
