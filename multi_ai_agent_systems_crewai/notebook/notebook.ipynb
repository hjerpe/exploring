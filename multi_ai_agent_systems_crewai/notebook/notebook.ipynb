{
 "cells": [
  {
   "cell_type": "markdown",
   "id": "4f4ac009",
   "metadata": {},
   "source": [
    "You can download the `requirements.txt` for this course from the workspace of this lab. `File --> Open...`"
   ]
  },
  {
   "cell_type": "markdown",
   "id": "b09d43b9",
   "metadata": {},
   "source": [
    "# L2: Create Agents to Research and Write an Article\n",
    "\n",
    "In this lesson, you will be introduced to the foundational concepts of multi-agent systems and get an overview of the crewAI framework."
   ]
  },
  {
   "cell_type": "markdown",
   "id": "8c33dd79",
   "metadata": {},
   "source": [
    "The libraries are already installed in the classroom. If you're running this notebook on your own machine, you can install the following:\n",
    "```Python\n",
    "!pip install crewai==0.28.8 crewai_tools==0.1.6 langchain_community==0.0.29\n",
    "```"
   ]
  },
  {
   "cell_type": "code",
   "execution_count": null,
   "id": "0a0f4f8b",
   "metadata": {
    "height": 64
   },
   "outputs": [],
   "source": [
    "# Warning control\n",
    "import warnings\n",
    "warnings.filterwarnings('ignore')"
   ]
  },
  {
   "cell_type": "markdown",
   "id": "faf85be7",
   "metadata": {},
   "source": [
    "- Import from the crewAI libray."
   ]
  },
  {
   "cell_type": "code",
   "execution_count": null,
   "id": "3fb8f1e8",
   "metadata": {
    "height": 30
   },
   "outputs": [],
   "source": [
    "from crewai import Agent, Task, Crew"
   ]
  },
  {
   "cell_type": "markdown",
   "id": "bd2179ed",
   "metadata": {},
   "source": [
    "- As a LLM for your agents, you'll be using OpenAI's `gpt-3.5-turbo`.\n",
    "\n",
    "**Optional Note:** crewAI also allow other popular models to be used as a LLM for your Agents. You can see some of the examples at the [bottom of the notebook](#1)."
   ]
  },
  {
   "cell_type": "code",
   "execution_count": null,
   "id": "f0fc7530",
   "metadata": {
    "height": 98
   },
   "outputs": [],
   "source": [
    "import os\n",
    "from utils import get_openai_api_key\n",
    "\n",
    "openai_api_key = get_openai_api_key()\n",
    "os.environ[\"OPENAI_MODEL_NAME\"] = 'gpt-3.5-turbo'"
   ]
  },
  {
   "cell_type": "markdown",
   "id": "8c3f6e59",
   "metadata": {},
   "source": [
    "## Creating Agents\n",
    "\n",
    "- Define your Agents, and provide them a `role`, `goal` and `backstory`.\n",
    "- It has been seen that LLMs perform better when they are role playing."
   ]
  },
  {
   "cell_type": "markdown",
   "id": "88c62313",
   "metadata": {},
   "source": [
    "### Agent: Planner\n",
    "\n",
    "**Note**: The benefit of using _multiple strings_ :\n",
    "```Python\n",
    "varname = \"line 1 of text\"\n",
    "          \"line 2 of text\"\n",
    "```\n",
    "\n",
    "versus the _triple quote docstring_:\n",
    "```Python\n",
    "varname = \"\"\"line 1 of text\n",
    "             line 2 of text\n",
    "          \"\"\"\n",
    "```\n",
    "is that it can avoid adding those whitespaces and newline characters, making it better formatted to be passed to the LLM."
   ]
  },
  {
   "cell_type": "code",
   "execution_count": null,
   "id": "307a9d14",
   "metadata": {
    "height": 234
   },
   "outputs": [],
   "source": [
    "planner = Agent(\n",
    "    role=\"Content Planner\",\n",
    "    goal=\"Plan engaging and factually accurate content on {topic}\",\n",
    "    backstory=\"You're working on planning a blog article \"\n",
    "              \"about the topic: {topic}.\"\n",
    "              \"You collect information that helps the \"\n",
    "              \"audience learn something \"\n",
    "              \"and make informed decisions. \"\n",
    "              \"Your work is the basis for \"\n",
    "              \"the Content Writer to write an article on this topic.\",\n",
    "    allow_delegation=False,\n",
    "\tverbose=True\n",
    ")"
   ]
  },
  {
   "cell_type": "markdown",
   "id": "859144c0",
   "metadata": {},
   "source": [
    "### Agent: Writer"
   ]
  },
  {
   "cell_type": "code",
   "execution_count": null,
   "id": "726efba5",
   "metadata": {
    "height": 370
   },
   "outputs": [],
   "source": [
    "writer = Agent(\n",
    "    role=\"Content Writer\",\n",
    "    goal=\"Write insightful and factually accurate \"\n",
    "         \"opinion piece about the topic: {topic}\",\n",
    "    backstory=\"You're working on a writing \"\n",
    "              \"a new opinion piece about the topic: {topic}. \"\n",
    "              \"You base your writing on the work of \"\n",
    "              \"the Content Planner, who provides an outline \"\n",
    "              \"and relevant context about the topic. \"\n",
    "              \"You follow the main objectives and \"\n",
    "              \"direction of the outline, \"\n",
    "              \"as provide by the Content Planner. \"\n",
    "              \"You also provide objective and impartial insights \"\n",
    "              \"and back them up with information \"\n",
    "              \"provide by the Content Planner. \"\n",
    "              \"You acknowledge in your opinion piece \"\n",
    "              \"when your statements are opinions \"\n",
    "              \"as opposed to objective statements.\",\n",
    "    allow_delegation=False,\n",
    "    verbose=True\n",
    ")"
   ]
  },
  {
   "cell_type": "markdown",
   "id": "53247daf",
   "metadata": {},
   "source": [
    "### Agent: Editor"
   ]
  },
  {
   "cell_type": "code",
   "execution_count": null,
   "id": "496dfc73",
   "metadata": {
    "height": 268
   },
   "outputs": [],
   "source": [
    "editor = Agent(\n",
    "    role=\"Editor\",\n",
    "    goal=\"Edit a given blog post to align with \"\n",
    "         \"the writing style of the organization. \",\n",
    "    backstory=\"You are an editor who receives a blog post \"\n",
    "              \"from the Content Writer. \"\n",
    "              \"Your goal is to review the blog post \"\n",
    "              \"to ensure that it follows journalistic best practices,\"\n",
    "              \"provides balanced viewpoints \"\n",
    "              \"when providing opinions or assertions, \"\n",
    "              \"and also avoids major controversial topics \"\n",
    "              \"or opinions when possible.\",\n",
    "    allow_delegation=False,\n",
    "    verbose=True\n",
    ")"
   ]
  },
  {
   "cell_type": "markdown",
   "id": "3a35cfd1",
   "metadata": {},
   "source": [
    "## Creating Tasks\n",
    "\n",
    "- Define your Tasks, and provide them a `description`, `expected_output` and `agent`."
   ]
  },
  {
   "cell_type": "markdown",
   "id": "ee555209",
   "metadata": {},
   "source": [
    "### Task: Plan"
   ]
  },
  {
   "cell_type": "code",
   "execution_count": null,
   "id": "8b0780ac",
   "metadata": {
    "height": 268
   },
   "outputs": [],
   "source": [
    "plan = Task(\n",
    "    description=(\n",
    "        \"1. Prioritize the latest trends, key players, \"\n",
    "            \"and noteworthy news on {topic}.\\n\"\n",
    "        \"2. Identify the target audience, considering \"\n",
    "            \"their interests and pain points.\\n\"\n",
    "        \"3. Develop a detailed content outline including \"\n",
    "            \"an introduction, key points, and a call to action.\\n\"\n",
    "        \"4. Include SEO keywords and relevant data or sources.\"\n",
    "    ),\n",
    "    expected_output=\"A comprehensive content plan document \"\n",
    "        \"with an outline, audience analysis, \"\n",
    "        \"SEO keywords, and resources.\",\n",
    "    agent=planner,\n",
    ")"
   ]
  },
  {
   "cell_type": "markdown",
   "id": "67f23bcd",
   "metadata": {},
   "source": [
    "### Task: Write"
   ]
  },
  {
   "cell_type": "code",
   "execution_count": null,
   "id": "f64e9948",
   "metadata": {
    "height": 319
   },
   "outputs": [],
   "source": [
    "write = Task(\n",
    "    description=(\n",
    "        \"1. Use the content plan to craft a compelling \"\n",
    "            \"blog post on {topic}.\\n\"\n",
    "        \"2. Incorporate SEO keywords naturally.\\n\"\n",
    "\t\t\"3. Sections/Subtitles are properly named \"\n",
    "            \"in an engaging manner.\\n\"\n",
    "        \"4. Ensure the post is structured with an \"\n",
    "            \"engaging introduction, insightful body, \"\n",
    "            \"and a summarizing conclusion.\\n\"\n",
    "        \"5. Proofread for grammatical errors and \"\n",
    "            \"alignment with the brand's voice.\\n\"\n",
    "    ),\n",
    "    expected_output=\"A well-written blog post \"\n",
    "        \"in markdown format, ready for publication, \"\n",
    "        \"each section should have 2 or 3 paragraphs.\",\n",
    "    agent=writer,\n",
    ")"
   ]
  },
  {
   "cell_type": "markdown",
   "id": "92ea527b",
   "metadata": {},
   "source": [
    "### Task: Edit"
   ]
  },
  {
   "cell_type": "code",
   "execution_count": null,
   "id": "828be559",
   "metadata": {
    "height": 166
   },
   "outputs": [],
   "source": [
    "edit = Task(\n",
    "    description=(\"Proofread the given blog post for \"\n",
    "                 \"grammatical errors and \"\n",
    "                 \"alignment with the brand's voice.\"),\n",
    "    expected_output=\"A well-written blog post in markdown format, \"\n",
    "                    \"ready for publication, \"\n",
    "                    \"each section should have 2 or 3 paragraphs.\",\n",
    "    agent=editor\n",
    ")"
   ]
  },
  {
   "cell_type": "markdown",
   "id": "c3952eaf",
   "metadata": {},
   "source": [
    "## Creating the Crew\n",
    "\n",
    "- Create your crew of Agents\n",
    "- Pass the tasks to be performed by those agents.\n",
    "    - **Note**: *For this simple example*, the tasks will be performed sequentially (i.e they are dependent on each other), so the _order_ of the task in the list _matters_.\n",
    "- `verbose=2` allows you to see all the logs of the execution. "
   ]
  },
  {
   "cell_type": "code",
   "execution_count": null,
   "id": "067ab2fb",
   "metadata": {
    "height": 98
   },
   "outputs": [],
   "source": [
    "crew = Crew(\n",
    "    agents=[planner, writer, editor],\n",
    "    tasks=[plan, write, edit],\n",
    "    verbose=2\n",
    ")"
   ]
  },
  {
   "cell_type": "markdown",
   "id": "c3ec3c59",
   "metadata": {},
   "source": [
    "## Running the Crew"
   ]
  },
  {
   "cell_type": "markdown",
   "id": "9476d6f6",
   "metadata": {},
   "source": [
    "**Note**: LLMs can provide different outputs for they same input, so what you get might be different than what you see in the video."
   ]
  },
  {
   "cell_type": "code",
   "execution_count": null,
   "id": "0fe64b20",
   "metadata": {
    "height": 30
   },
   "outputs": [],
   "source": [
    "result = crew.kickoff(inputs={\"topic\": \"Artificial Intelligence\"})"
   ]
  },
  {
   "cell_type": "markdown",
   "id": "c9b6c970",
   "metadata": {},
   "source": [
    "- Display the results of your execution as markdown in the notebook."
   ]
  },
  {
   "cell_type": "code",
   "execution_count": null,
   "id": "016e10f6",
   "metadata": {
    "height": 47
   },
   "outputs": [],
   "source": [
    "from IPython.display import Markdown\n",
    "Markdown(result)"
   ]
  },
  {
   "cell_type": "markdown",
   "id": "a81fa830",
   "metadata": {},
   "source": [
    "## Try it Yourself\n",
    "\n",
    "- Pass in a topic of your choice and see what the agents come up with!"
   ]
  },
  {
   "cell_type": "code",
   "execution_count": null,
   "id": "2f3a005a",
   "metadata": {
    "height": 47
   },
   "outputs": [],
   "source": [
    "topic = \"Writing a thriller\"\n",
    "result = crew.kickoff(inputs={\"topic\": topic})"
   ]
  },
  {
   "cell_type": "code",
   "execution_count": null,
   "id": "3b782df6",
   "metadata": {
    "height": 30
   },
   "outputs": [],
   "source": [
    "Markdown(result)"
   ]
  },
  {
   "cell_type": "markdown",
   "id": "77caec48",
   "metadata": {},
   "source": [
    "<a name='1'></a>\n",
    " ## Other Popular Models as LLM for your Agents"
   ]
  },
  {
   "cell_type": "markdown",
   "id": "7b9488ea",
   "metadata": {},
   "source": [
    "#### Hugging Face (HuggingFaceHub endpoint)\n",
    "\n",
    "```Python\n",
    "from langchain_community.llms import HuggingFaceHub\n",
    "\n",
    "llm = HuggingFaceHub(\n",
    "    repo_id=\"HuggingFaceH4/zephyr-7b-beta\",\n",
    "    huggingfacehub_api_token=\"<HF_TOKEN_HERE>\",\n",
    "    task=\"text-generation\",\n",
    ")\n",
    "\n",
    "### you will pass \"llm\" to your agent function\n",
    "```"
   ]
  },
  {
   "cell_type": "markdown",
   "id": "03af7d53",
   "metadata": {},
   "source": [
    "#### Mistral API\n",
    "\n",
    "```Python\n",
    "OPENAI_API_KEY=your-mistral-api-key\n",
    "OPENAI_API_BASE=https://api.mistral.ai/v1\n",
    "OPENAI_MODEL_NAME=\"mistral-small\"\n",
    "```"
   ]
  },
  {
   "cell_type": "markdown",
   "id": "dab42dd8",
   "metadata": {},
   "source": [
    "#### Cohere\n",
    "\n",
    "```Python\n",
    "from langchain_community.chat_models import ChatCohere\n",
    "# Initialize language model\n",
    "os.environ[\"COHERE_API_KEY\"] = \"your-cohere-api-key\"\n",
    "llm = ChatCohere()\n",
    "\n",
    "### you will pass \"llm\" to your agent function\n",
    "```"
   ]
  },
  {
   "cell_type": "markdown",
   "id": "eabae545",
   "metadata": {},
   "source": [
    "### For using Llama locally with Ollama and more, checkout the crewAI documentation on [Connecting to any LLM](https://docs.crewai.com/how-to/LLM-Connections/)."
   ]
  },
  {
   "cell_type": "code",
   "execution_count": null,
   "id": "eec4b779",
   "metadata": {
    "height": 30
   },
   "outputs": [],
   "source": []
  },
  {
   "cell_type": "code",
   "execution_count": null,
   "id": "4af8ccb1",
   "metadata": {
    "height": 30
   },
   "outputs": [],
   "source": []
  },
  {
   "cell_type": "code",
   "execution_count": null,
   "id": "5d427e3a",
   "metadata": {
    "height": 30
   },
   "outputs": [],
   "source": []
  },
  {
   "cell_type": "markdown",
   "id": "ca29ca44",
   "metadata": {
    "id": "FbWoGOis4KoG"
   },
   "source": [
    "# L3: Multi-agent Customer Support Automation\n",
    "\n",
    "In this lesson, you will learn about the six key elements which help make Agents perform even better:\n",
    "- Role Playing\n",
    "- Focus\n",
    "- Tools\n",
    "- Cooperation\n",
    "- Guardrails\n",
    "- Memory"
   ]
  },
  {
   "cell_type": "markdown",
   "id": "83a5c2e1",
   "metadata": {},
   "source": [
    "The libraries are already installed in the classroom. If you're running this notebook on your own machine, you can install the following:\n",
    "```Python\n",
    "!pip install crewai==0.28.8 crewai_tools==0.1.6 langchain_community==0.0.29\n",
    "```"
   ]
  },
  {
   "cell_type": "code",
   "execution_count": null,
   "id": "50d9cab3",
   "metadata": {
    "height": 64,
    "id": "_LQ5_lop4KJq"
   },
   "outputs": [],
   "source": [
    "# Warning control\n",
    "import warnings\n",
    "warnings.filterwarnings('ignore')"
   ]
  },
  {
   "cell_type": "markdown",
   "id": "d11e9c97",
   "metadata": {},
   "source": [
    "- Import libraries, API and LLM"
   ]
  },
  {
   "cell_type": "code",
   "execution_count": null,
   "id": "c17f5fac",
   "metadata": {
    "height": 30
   },
   "outputs": [],
   "source": [
    "from crewai import Agent, Task, Crew"
   ]
  },
  {
   "cell_type": "code",
   "execution_count": null,
   "id": "b3f30f1e",
   "metadata": {
    "height": 98
   },
   "outputs": [],
   "source": [
    "import os\n",
    "from utils import get_openai_api_key\n",
    "\n",
    "openai_api_key = get_openai_api_key()\n",
    "os.environ[\"OPENAI_MODEL_NAME\"] = 'gpt-3.5-turbo'\n",
    "os.environ[\"OPENAI_MODEL_NAME\"] = 'gpt-4o'"
   ]
  },
  {
   "cell_type": "markdown",
   "id": "26d65b7b",
   "metadata": {},
   "source": [
    "## Role Playing, Focus and Cooperation"
   ]
  },
  {
   "cell_type": "code",
   "execution_count": null,
   "id": "6eabd784",
   "metadata": {
    "height": 285
   },
   "outputs": [],
   "source": [
    "support_agent = Agent(\n",
    "    role=\"Senior Support Representative\",\n",
    "\tgoal=\"Be the most friendly and helpful \"\n",
    "        \"support representative in your team\",\n",
    "\tbackstory=(\n",
    "\t\t\"You work at crewAI (https://crewai.com) and \"\n",
    "        \" are now working on providing \"\n",
    "\t\t\"support to {customer}, a super important customer \"\n",
    "        \" for your company.\"\n",
    "\t\t\"You need to make sure that you provide the best support!\"\n",
    "\t\t\"Make sure to provide full complete answers, \"\n",
    "        \" and make no assumptions.\"\n",
    "\t),\n",
    "\tallow_delegation=False,\n",
    "\tverbose=True\n",
    ")"
   ]
  },
  {
   "cell_type": "markdown",
   "id": "8ec19ad8",
   "metadata": {},
   "source": [
    "- By not setting `allow_delegation=False`, `allow_delegation` takes its default value of being `True`.\n",
    "- This means the agent _can_ delegate its work to another agent which is better suited to do a particular task. "
   ]
  },
  {
   "cell_type": "code",
   "execution_count": null,
   "id": "e7aa8db1",
   "metadata": {
    "height": 285
   },
   "outputs": [],
   "source": [
    "support_quality_assurance_agent = Agent(\n",
    "\trole=\"Support Quality Assurance Specialist\",\n",
    "\tgoal=\"Get recognition for providing the \"\n",
    "    \"best support quality assurance in your team\",\n",
    "\tbackstory=(\n",
    "\t\t\"You work at crewAI (https://crewai.com) and \"\n",
    "        \"are now working with your team \"\n",
    "\t\t\"on a request from {customer} ensuring that \"\n",
    "        \"the support representative is \"\n",
    "\t\t\"providing the best support possible.\\n\"\n",
    "\t\t\"You need to make sure that the support representative \"\n",
    "        \"is providing full\"\n",
    "\t\t\"complete answers, and make no assumptions.\"\n",
    "\t),\n",
    "\tverbose=True\n",
    ")"
   ]
  },
  {
   "cell_type": "markdown",
   "id": "88baad8c",
   "metadata": {},
   "source": [
    "* **Role Playing**: Both agents have been given a role, goal and backstory.\n",
    "* **Focus**: Both agents have been prompted to get into the character of the roles they are playing.\n",
    "* **Cooperation**: Support Quality Assurance Agent can delegate work back to the Support Agent, allowing for these agents to work together."
   ]
  },
  {
   "cell_type": "markdown",
   "id": "89905dfa",
   "metadata": {},
   "source": [
    "## Tools, Guardrails and Memory\n",
    "\n",
    "### Tools"
   ]
  },
  {
   "cell_type": "markdown",
   "id": "bc84b43f",
   "metadata": {},
   "source": [
    "- Import CrewAI tools"
   ]
  },
  {
   "cell_type": "code",
   "execution_count": null,
   "id": "31a1526f",
   "metadata": {
    "height": 64
   },
   "outputs": [],
   "source": [
    "from crewai_tools import SerperDevTool, \\\n",
    "                         ScrapeWebsiteTool, \\\n",
    "                         WebsiteSearchTool"
   ]
  },
  {
   "cell_type": "markdown",
   "id": "062e1787",
   "metadata": {},
   "source": [
    "### Possible Custom Tools\n",
    "- Load customer data\n",
    "- Tap into previous conversations\n",
    "- Load data from a CRM\n",
    "- Checking existing bug reports\n",
    "- Checking existing feature requests\n",
    "- Checking ongoing tickets\n",
    "- ... and more"
   ]
  },
  {
   "cell_type": "markdown",
   "id": "ec1e8c73",
   "metadata": {},
   "source": [
    "- Some ways of using CrewAI tools.\n",
    "\n",
    "```Python\n",
    "search_tool = SerperDevTool()\n",
    "scrape_tool = ScrapeWebsiteTool()\n",
    "```"
   ]
  },
  {
   "cell_type": "markdown",
   "id": "8c3aa8b3",
   "metadata": {},
   "source": [
    "- Instantiate a document scraper tool.\n",
    "- The tool will scrape a page (only 1 URL) of the CrewAI documentation."
   ]
  },
  {
   "cell_type": "code",
   "execution_count": null,
   "id": "651d2d1a",
   "metadata": {
    "height": 64
   },
   "outputs": [],
   "source": [
    "docs_scrape_tool = ScrapeWebsiteTool(\n",
    "    website_url=\"https://docs.crewai.com/how-to/Creating-a-Crew-and-kick-it-off/\"\n",
    ")"
   ]
  },
  {
   "cell_type": "markdown",
   "id": "4ab868e9",
   "metadata": {},
   "source": [
    "##### Different Ways to Give Agents Tools\n",
    "\n",
    "- Agent Level: The Agent can use the Tool(s) on any Task it performs.\n",
    "- Task Level: The Agent will only use the Tool(s) when performing that specific Task.\n",
    "\n",
    "**Note**: Task Tools override the Agent Tools."
   ]
  },
  {
   "cell_type": "markdown",
   "id": "0ef00dcb",
   "metadata": {},
   "source": [
    "### Creating Tasks\n",
    "- You are passing the Tool on the Task Level."
   ]
  },
  {
   "cell_type": "code",
   "execution_count": null,
   "id": "68185fb8",
   "metadata": {
    "height": 421
   },
   "outputs": [],
   "source": [
    "inquiry_resolution = Task(\n",
    "    description=(\n",
    "        \"{customer} just reached out with a super important ask:\\n\"\n",
    "\t    \"{inquiry}\\n\\n\"\n",
    "        \"{person} from {customer} is the one that reached out. \"\n",
    "\t\t\"Make sure to use everything you know \"\n",
    "        \"to provide the best support possible.\"\n",
    "\t\t\"You must strive to provide a complete \"\n",
    "        \"and accurate response to the customer's inquiry.\"\n",
    "    ),\n",
    "    expected_output=(\n",
    "\t    \"A detailed, informative response to the \"\n",
    "        \"customer's inquiry that addresses \"\n",
    "        \"all aspects of their question.\\n\"\n",
    "        \"The response should include references \"\n",
    "        \"to everything you used to find the answer, \"\n",
    "        \"including external data or solutions. \"\n",
    "        \"Ensure the answer is complete, \"\n",
    "\t\t\"leaving no questions unanswered, and maintain a helpful and friendly \"\n",
    "\t\t\"tone throughout.\"\n",
    "    ),\n",
    "\ttools=[docs_scrape_tool],\n",
    "    agent=support_agent,\n",
    ")"
   ]
  },
  {
   "cell_type": "markdown",
   "id": "2c836f13",
   "metadata": {},
   "source": [
    "- `quality_assurance_review` is not using any Tool(s)\n",
    "- Here the QA Agent will only review the work of the Support Agent"
   ]
  },
  {
   "cell_type": "code",
   "execution_count": null,
   "id": "c4c821e5",
   "metadata": {
    "height": 438
   },
   "outputs": [],
   "source": [
    "quality_assurance_review = Task(\n",
    "    description=(\n",
    "        \"Review the response drafted by the Senior Support Representative for {customer}'s inquiry. \"\n",
    "        \"Ensure that the answer is comprehensive, accurate, and adheres to the \"\n",
    "\t\t\"high-quality standards expected for customer support.\\n\"\n",
    "        \"Verify that all parts of the customer's inquiry \"\n",
    "        \"have been addressed \"\n",
    "\t\t\"thoroughly, with a helpful and friendly tone.\\n\"\n",
    "        \"Check for references and sources used to \"\n",
    "        \" find the information, \"\n",
    "\t\t\"ensuring the response is well-supported and \"\n",
    "        \"leaves no questions unanswered.\"\n",
    "    ),\n",
    "    expected_output=(\n",
    "        \"A final, detailed, and informative response \"\n",
    "        \"ready to be sent to the customer.\\n\"\n",
    "        \"This response should fully address the \"\n",
    "        \"customer's inquiry, incorporating all \"\n",
    "\t\t\"relevant feedback and improvements.\\n\"\n",
    "\t\t\"Don't be too formal, we are a chill and cool company \"\n",
    "\t    \"but maintain a professional and friendly tone throughout.\"\n",
    "    ),\n",
    "    agent=support_quality_assurance_agent,\n",
    ")\n"
   ]
  },
  {
   "cell_type": "markdown",
   "id": "93c05868",
   "metadata": {},
   "source": [
    "### Creating the Crew\n",
    "\n",
    "#### Memory\n",
    "- Setting `memory=True` when putting the crew together enables Memory."
   ]
  },
  {
   "cell_type": "code",
   "execution_count": null,
   "id": "a449f00b",
   "metadata": {
    "height": 115
   },
   "outputs": [],
   "source": [
    "crew = Crew(\n",
    "  agents=[support_agent, support_quality_assurance_agent],\n",
    "  tasks=[inquiry_resolution, quality_assurance_review],\n",
    "  verbose=2,\n",
    "  memory=True\n",
    ")"
   ]
  },
  {
   "cell_type": "markdown",
   "id": "3c6202ed",
   "metadata": {},
   "source": [
    "### Running the Crew\n",
    "\n",
    "**Note**: LLMs can provide different outputs for they same input, so what you get might be different than what you see in the video.\n",
    "\n",
    "#### Guardrails\n",
    "- By running the execution below, you can see that the agents and the responses are within the scope of what we expect from them."
   ]
  },
  {
   "cell_type": "code",
   "execution_count": null,
   "id": "a0524dda",
   "metadata": {
    "height": 166
   },
   "outputs": [],
   "source": [
    "inputs = {\n",
    "    \"customer\": \"DeepLearningAI\",\n",
    "    \"person\": \"Andrew Ng\",\n",
    "    \"inquiry\": \"I need help with setting up a Crew \"\n",
    "               \"and kicking it off, specifically \"\n",
    "               \"how can I add memory to my crew? \"\n",
    "               \"Can you provide guidance? \"\n",
    "               \"Furthermore, can I use my own memory in conjunction with the crew tools?\"\n",
    "}\n",
    "result = crew.kickoff(inputs=inputs)"
   ]
  },
  {
   "cell_type": "markdown",
   "id": "fc2e6375",
   "metadata": {},
   "source": [
    "- Display the final result as Markdown."
   ]
  },
  {
   "cell_type": "code",
   "execution_count": null,
   "id": "69ce8bdb",
   "metadata": {
    "height": 47
   },
   "outputs": [],
   "source": [
    "from IPython.display import Markdown\n",
    "Markdown(result)"
   ]
  },
  {
   "cell_type": "code",
   "execution_count": null,
   "id": "d7da46af",
   "metadata": {
    "height": 30
   },
   "outputs": [],
   "source": []
  },
  {
   "cell_type": "code",
   "execution_count": null,
   "id": "78806b82",
   "metadata": {
    "height": 30
   },
   "outputs": [],
   "source": []
  },
  {
   "cell_type": "markdown",
   "id": "84d97738",
   "metadata": {
    "id": "FbWoGOis4KoG"
   },
   "source": [
    "# L4: Tools for a Customer Outreach Campaign\n",
    "\n",
    "In this lesson, you will learn more about Tools. You'll focus on three key elements of Tools:\n",
    "- Versatility\n",
    "- Fault Tolerance\n",
    "- Caching"
   ]
  },
  {
   "cell_type": "markdown",
   "id": "3c608cb6",
   "metadata": {},
   "source": [
    "The libraries are already installed in the classroom. If you're running this notebook on your own machine, you can install the following:\n",
    "```Python\n",
    "!pip install crewai==0.28.8 crewai_tools==0.1.6 langchain_community==0.0.29\n",
    "```"
   ]
  },
  {
   "cell_type": "code",
   "execution_count": null,
   "id": "115bfb98",
   "metadata": {
    "height": 64,
    "id": "_LQ5_lop4KJq"
   },
   "outputs": [],
   "source": [
    "# Warning control\n",
    "import warnings\n",
    "warnings.filterwarnings('ignore')"
   ]
  },
  {
   "cell_type": "markdown",
   "id": "21b92dc4",
   "metadata": {},
   "source": [
    "- Import libraries, APIs and LLM\n",
    "- [Serper](https://serper.dev)"
   ]
  },
  {
   "cell_type": "code",
   "execution_count": null,
   "id": "aeeae5da",
   "metadata": {
    "height": 30
   },
   "outputs": [],
   "source": [
    "from crewai import Agent, Task, Crew"
   ]
  },
  {
   "cell_type": "markdown",
   "id": "6459aa80",
   "metadata": {},
   "source": [
    "**Note**: \n",
    "- The video uses `gpt-4-turbo`, but due to certain constraints, and in order to offer this course for free to everyone, the code you'll run here will use `gpt-3.5-turbo`.\n",
    "- You can use `gpt-4-turbo` when you run the notebook _locally_ (using `gpt-4-turbo` will not work on the platform)\n",
    "- Thank you for your understanding!"
   ]
  },
  {
   "cell_type": "code",
   "execution_count": null,
   "id": "46fd5393",
   "metadata": {
    "height": 132
   },
   "outputs": [],
   "source": [
    "import os\n",
    "from utils import get_openai_api_key, pretty_print_result\n",
    "from utils import get_serper_api_key\n",
    "\n",
    "openai_api_key = get_openai_api_key()\n",
    "os.environ[\"OPENAI_MODEL_NAME\"] = 'gpt-3.5-turbo'\n",
    "os.environ[\"OPENAI_MODEL_NAME\"] = 'gpt-4o'\n",
    "os.environ[\"SERPER_API_KEY\"] = get_serper_api_key()"
   ]
  },
  {
   "cell_type": "markdown",
   "id": "538d406a",
   "metadata": {},
   "source": [
    "## Creating Agents"
   ]
  },
  {
   "cell_type": "code",
   "execution_count": null,
   "id": "9745ce3e",
   "metadata": {
    "height": 319
   },
   "outputs": [],
   "source": [
    "sales_rep_agent = Agent(\n",
    "    role=\"Sales Representative\",\n",
    "    goal=\"Identify high-value leads that match \"\n",
    "         \"our ideal customer profile\",\n",
    "    # backstory=(\n",
    "    #     \"As a part of the dynamic sales team at CrewAI, \"\n",
    "    #     \"your mission is to scour \"\n",
    "    #     \"the digital landscape for potential leads. \"\n",
    "    #     \"Armed with cutting-edge tools \"\n",
    "    #     \"and a strategic mindset, you analyze data, \"\n",
    "    #     \"trends, and interactions to \"\n",
    "    #     \"unearth opportunities that others might overlook. \"\n",
    "    #     \"Your work is crucial in paving the way \"\n",
    "    #     \"for meaningful engagements and driving the company's growth.\"\n",
    "    # ),\n",
    "    backstory=(\n",
    "        \"As a part of the innovative team at SavoryAI, \"\n",
    "        \"your mission is to navigate the culinary landscape for potential recipe enthusiasts. \"\n",
    "        \"Equipped with our advanced natural language processing technology and a strategic mindset, \"\n",
    "        \"you explore data, trends, and user interactions to uncover opportunities that others might overlook. \"\n",
    "        \"Your work is crucial in paving the way for delightful and effortless cooking experiences, \"\n",
    "        \"driving meaningful engagements, and contributing to the growth of SavoryAI. \"\n",
    "        \"Together, we aim to simplify and inspire home cooking, making it an enjoyable journey for everyone.\"\n",
    "    ),\n",
    "    allow_delegation=False,\n",
    "    verbose=True\n",
    ")"
   ]
  },
  {
   "cell_type": "code",
   "execution_count": null,
   "id": "9ab92cdf",
   "metadata": {
    "height": 302
   },
   "outputs": [],
   "source": [
    "lead_sales_rep_agent = Agent(\n",
    "    role=\"Lead Sales Representative\",\n",
    "    goal=\"Nurture leads with personalized, compelling communications\",\n",
    "    # backstory=(\n",
    "    #     \"Within the vibrant ecosystem of CrewAI's sales department, \"\n",
    "    #     \"you stand out as the bridge between potential clients \"\n",
    "    #     \"and the solutions they need.\"\n",
    "    #     \"By creating engaging, personalized messages, \"\n",
    "    #     \"you not only inform leads about our offerings \"\n",
    "    #     \"but also make them feel seen and heard.\"\n",
    "    #     \"Your role is pivotal in converting interest \"\n",
    "    #     \"into action, guiding leads through the journey \"\n",
    "    #     \"from curiosity to commitment.\"\n",
    "    # ),\n",
    "    backstory=(\n",
    "        \"Within the vibrant ecosystem of SavoryAI's sales department, \"\n",
    "        \"you stand out as the bridge between potential clients \"\n",
    "        \"and the solutions they need.\"\n",
    "        \"By creating engaging, personalized messages, \"\n",
    "        \"you not only inform leads about our offerings \"\n",
    "        \"but also make them feel seen and heard.\"\n",
    "        \"Your role is pivotal in converting interest \"\n",
    "        \"into action, guiding leads through the journey \"\n",
    "        \"from curiosity to commitment.\"\n",
    "    ),\n",
    "    allow_delegation=False,\n",
    "    verbose=True\n",
    ")"
   ]
  },
  {
   "cell_type": "markdown",
   "id": "0440011c",
   "metadata": {},
   "source": [
    "## Creating Tools\n",
    "\n",
    "### crewAI Tools"
   ]
  },
  {
   "cell_type": "code",
   "execution_count": null,
   "id": "03a48c8f",
   "metadata": {
    "height": 64
   },
   "outputs": [],
   "source": [
    "from crewai_tools import DirectoryReadTool, \\\n",
    "                         FileReadTool, \\\n",
    "                         SerperDevTool"
   ]
  },
  {
   "cell_type": "code",
   "execution_count": null,
   "id": "f997fd76",
   "metadata": {
    "height": 64
   },
   "outputs": [],
   "source": [
    "directory_read_tool = DirectoryReadTool(directory='./instructions')\n",
    "file_read_tool = FileReadTool()\n",
    "search_tool = SerperDevTool()"
   ]
  },
  {
   "cell_type": "markdown",
   "id": "25a13665",
   "metadata": {},
   "source": [
    "### Custom Tool\n",
    "- Create a custom tool using crewAi's [BaseTool](https://docs.crewai.com/core-concepts/Tools/#subclassing-basetool) class"
   ]
  },
  {
   "cell_type": "code",
   "execution_count": null,
   "id": "85f4e221",
   "metadata": {
    "height": 30
   },
   "outputs": [],
   "source": [
    "from crewai_tools import BaseTool"
   ]
  },
  {
   "cell_type": "markdown",
   "id": "50bce6ae",
   "metadata": {},
   "source": [
    "- Every Tool needs to have a `name` and a `description`.\n",
    "- For simplicity and classroom purposes, `SentimentAnalysisTool` will return `positive` for every text.\n",
    "- When running locally, you can customize the code with your logic in the `_run` function."
   ]
  },
  {
   "cell_type": "code",
   "execution_count": null,
   "id": "d511813d",
   "metadata": {
    "height": 149
   },
   "outputs": [],
   "source": [
    "class SentimentAnalysisTool(BaseTool):\n",
    "    name: str =\"Sentiment Analysis Tool\"\n",
    "    description: str = (\"Analyzes the sentiment of text \"\n",
    "         \"to ensure positive and engaging communication.\")\n",
    "    \n",
    "    def _run(self, text: str) -> str:\n",
    "        # Your custom code tool goes here\n",
    "        return \"positive\""
   ]
  },
  {
   "cell_type": "code",
   "execution_count": null,
   "id": "47985db1",
   "metadata": {
    "height": 30
   },
   "outputs": [],
   "source": [
    "sentiment_analysis_tool = SentimentAnalysisTool()"
   ]
  },
  {
   "cell_type": "markdown",
   "id": "1aec684d",
   "metadata": {},
   "source": [
    "## Creating Tasks\n",
    "\n",
    "- The Lead Profiling Task is using crewAI Tools."
   ]
  },
  {
   "cell_type": "code",
   "execution_count": null,
   "id": "dce004f5",
   "metadata": {
    "height": 455
   },
   "outputs": [],
   "source": [
    "lead_profiling_task = Task(\n",
    "    description=(\n",
    "        \"Conduct an in-depth analysis of {lead_name}, \"\n",
    "        \"a company in the {industry} sector \"\n",
    "        \"that recently showed interest in our solutions. \"\n",
    "        \"Utilize all available data sources \"\n",
    "        \"to compile a detailed profile, \"\n",
    "        \"focusing on key decision-makers, recent business \"\n",
    "        \"developments, and potential needs \"\n",
    "        \"that align with our offerings. \"\n",
    "        \"This task is crucial for tailoring \"\n",
    "        \"our engagement strategy effectively.\\n\"\n",
    "        \"Don't make assumptions and \"\n",
    "        \"only use information you absolutely sure about.\"\n",
    "    ),\n",
    "    expected_output=(\n",
    "        \"A comprehensive report on {lead_name}, \"\n",
    "        \"including company background, \"\n",
    "        \"key personnel, recent milestones, and identified needs. \"\n",
    "        \"Highlight potential areas where \"\n",
    "        \"our solutions can provide value, \"\n",
    "        \"and suggest personalized engagement strategies.\"\n",
    "    ),\n",
    "    tools=[directory_read_tool, file_read_tool, search_tool],\n",
    "    agent=sales_rep_agent,\n",
    ")"
   ]
  },
  {
   "cell_type": "markdown",
   "id": "17c918f5",
   "metadata": {},
   "source": [
    "- The Personalized Outreach Task is using your custom Tool `SentimentAnalysisTool`, as well as crewAI's `SerperDevTool` (search_tool)."
   ]
  },
  {
   "cell_type": "code",
   "execution_count": null,
   "id": "af8e28ba",
   "metadata": {
    "height": 506
   },
   "outputs": [],
   "source": [
    "personalized_outreach_task = Task(\n",
    "    description=(\n",
    "        \"Using the insights gathered from \"\n",
    "        \"the lead profiling report on {lead_name}, \"\n",
    "        \"craft a personalized outreach campaign \"\n",
    "        \"aimed at {key_decision_maker}, \"\n",
    "        \"the {position} of {lead_name}. \"\n",
    "        \"The campaign should address their recent {milestone} \"\n",
    "        \"and how our solutions can support their goals. \"\n",
    "        \"Your communication must resonate \"\n",
    "        \"with {lead_name}'s company culture and values, \"\n",
    "        \"demonstrating a deep understanding of \"\n",
    "        \"their business and needs.\\n\"\n",
    "        \"Don't make assumptions and only \"\n",
    "        \"use information you absolutely sure about.\"\n",
    "    ),\n",
    "    expected_output=(\n",
    "        \"A series of personalized email drafts \"\n",
    "        \"tailored to {lead_name}, \"\n",
    "        \"specifically targeting {key_decision_maker}.\"\n",
    "        \"Each draft should include \"\n",
    "        \"a compelling narrative that connects our solutions \"\n",
    "        \"with their recent achievements and future goals. \"\n",
    "        \"Ensure the tone is engaging, professional, \"\n",
    "        \"and aligned with {lead_name}'s corporate identity.\"\n",
    "    ),\n",
    "    tools=[sentiment_analysis_tool, search_tool],\n",
    "    agent=lead_sales_rep_agent,\n",
    ")"
   ]
  },
  {
   "cell_type": "markdown",
   "id": "2b48e79b",
   "metadata": {},
   "source": [
    "## Creating the Crew"
   ]
  },
  {
   "cell_type": "code",
   "execution_count": null,
   "id": "f5b3a86e",
   "metadata": {
    "height": 183
   },
   "outputs": [],
   "source": [
    "crew = Crew(\n",
    "    agents=[sales_rep_agent, \n",
    "            lead_sales_rep_agent],\n",
    "    \n",
    "    tasks=[lead_profiling_task, \n",
    "           personalized_outreach_task],\n",
    "\t\n",
    "    verbose=2,\n",
    "\tmemory=True\n",
    ")"
   ]
  },
  {
   "cell_type": "markdown",
   "id": "7e3587de",
   "metadata": {},
   "source": [
    "## Running the Crew\n",
    "\n",
    "**Note**: LLMs can provide different outputs for they same input, so what you get might be different than what you see in the video."
   ]
  },
  {
   "cell_type": "code",
   "execution_count": null,
   "id": "dfc176cb",
   "metadata": {
    "height": 166
   },
   "outputs": [],
   "source": [
    "inputs = {\n",
    "    # \"lead_name\": \"DeepLearningAI\",\n",
    "    # \"industry\": \"Online Learning Platform\",\n",
    "    # \"key_decision_maker\": \"Andrew Ng\",\n",
    "    # \"position\": \"CEO\",\n",
    "    # \"milestone\": \"product launch\"\n",
    "    \"lead_name\": \"https://www.koket.se/, a Swedish grocery chain\",\n",
    "    \"industry\": \"media and entertainment sector\",\n",
    "    \"key_decision_maker\": \"Not available\",\n",
    "    \"position\": \"Customer Experience Managers\",\n",
    "    \"milestone\": \"product launch\"\n",
    "}\n",
    "\n",
    "result = crew.kickoff(inputs=inputs)"
   ]
  },
  {
   "cell_type": "code",
   "execution_count": null,
   "id": "12edc4a5",
   "metadata": {},
   "outputs": [],
   "source": []
  },
  {
   "cell_type": "markdown",
   "id": "d62d200b",
   "metadata": {},
   "source": [
    "- Display the final result as Markdown."
   ]
  },
  {
   "cell_type": "code",
   "execution_count": null,
   "id": "5630c87f",
   "metadata": {
    "height": 47
   },
   "outputs": [],
   "source": [
    "from IPython.display import Markdown\n",
    "Markdown(result)"
   ]
  },
  {
   "cell_type": "code",
   "execution_count": null,
   "id": "57c6091d",
   "metadata": {
    "height": 30
   },
   "outputs": [],
   "source": []
  },
  {
   "cell_type": "code",
   "execution_count": null,
   "id": "c5ab32bb",
   "metadata": {
    "height": 30
   },
   "outputs": [],
   "source": []
  },
  {
   "cell_type": "markdown",
   "id": "3c5856c8",
   "metadata": {},
   "source": [
    "# L5: Automate Event Planning\n",
    "\n",
    "In this lesson, you will learn more about Tasks."
   ]
  },
  {
   "cell_type": "markdown",
   "id": "1729451e",
   "metadata": {},
   "source": [
    "The libraries are already installed in the classroom. If you're running this notebook on your own machine, you can install the following:\n",
    "```Python\n",
    "!pip install crewai==0.28.8 crewai_tools==0.1.6 langchain_community==0.0.29\n",
    "```"
   ]
  },
  {
   "cell_type": "code",
   "execution_count": null,
   "id": "fd421a40",
   "metadata": {
    "height": 64
   },
   "outputs": [],
   "source": [
    "# Warning control\n",
    "import warnings\n",
    "warnings.filterwarnings('ignore')"
   ]
  },
  {
   "cell_type": "markdown",
   "id": "6b52abe9",
   "metadata": {},
   "source": [
    "- Import libraries, APIs and LLM"
   ]
  },
  {
   "cell_type": "code",
   "execution_count": null,
   "id": "046862bf",
   "metadata": {
    "height": 30
   },
   "outputs": [],
   "source": [
    "from crewai import Agent, Crew, Task"
   ]
  },
  {
   "cell_type": "markdown",
   "id": "810e39ab",
   "metadata": {},
   "source": [
    "**Note**: \n",
    "- The video uses `gpt-4-turbo`, but due to certain constraints, and in order to offer this course for free to everyone, the code you'll run here will use `gpt-3.5-turbo`.\n",
    "- You can use `gpt-4-turbo` when you run the notebook _locally_ (using `gpt-4-turbo` will not work on the platform)\n",
    "- Thank you for your understanding!"
   ]
  },
  {
   "cell_type": "code",
   "execution_count": null,
   "id": "a44b1f25",
   "metadata": {
    "height": 115
   },
   "outputs": [],
   "source": [
    "import os\n",
    "from utils import get_openai_api_key,get_serper_api_key\n",
    "\n",
    "openai_api_key = get_openai_api_key()\n",
    "os.environ[\"OPENAI_MODEL_NAME\"] = 'gpt-3.5-turbo'\n",
    "os.environ[\"SERPER_API_KEY\"] = get_serper_api_key()"
   ]
  },
  {
   "cell_type": "markdown",
   "id": "9201a71c",
   "metadata": {},
   "source": [
    "## crewAI Tools"
   ]
  },
  {
   "cell_type": "code",
   "execution_count": null,
   "id": "1a6092fe",
   "metadata": {
    "height": 98
   },
   "outputs": [],
   "source": [
    "from crewai_tools import ScrapeWebsiteTool, SerperDevTool\n",
    "\n",
    "# Initialize the tools\n",
    "search_tool = SerperDevTool()\n",
    "scrape_tool = ScrapeWebsiteTool()"
   ]
  },
  {
   "cell_type": "markdown",
   "id": "b9d647ff",
   "metadata": {},
   "source": [
    "## Creating Agents"
   ]
  },
  {
   "cell_type": "code",
   "execution_count": null,
   "id": "5fb2ad4e",
   "metadata": {
    "height": 268
   },
   "outputs": [],
   "source": [
    "# Agent 1: Venue Coordinator\n",
    "venue_coordinator = Agent(\n",
    "    role=\"Venue Coordinator\",\n",
    "    goal=\"Identify and book an appropriate venue \"\n",
    "    \"based on event requirements\",\n",
    "    tools=[search_tool, scrape_tool],\n",
    "    verbose=True,\n",
    "    backstory=(\n",
    "        \"With a keen sense of space and \"\n",
    "        \"understanding of event logistics, \"\n",
    "        \"you excel at finding and securing \"\n",
    "        \"the perfect venue that fits the event's theme, \"\n",
    "        \"size, and budget constraints.\"\n",
    "    )\n",
    ")"
   ]
  },
  {
   "cell_type": "code",
   "execution_count": null,
   "id": "288d2e85",
   "metadata": {
    "height": 285
   },
   "outputs": [],
   "source": [
    " # Agent 2: Logistics Manager\n",
    "logistics_manager = Agent(\n",
    "    role='Logistics Manager',\n",
    "    goal=(\n",
    "        \"Manage all logistics for the event \"\n",
    "        \"including catering and equipmen\"\n",
    "    ),\n",
    "    tools=[search_tool, scrape_tool],\n",
    "    verbose=True,\n",
    "    backstory=(\n",
    "        \"Organized and detail-oriented, \"\n",
    "        \"you ensure that every logistical aspect of the event \"\n",
    "        \"from catering to equipment setup \"\n",
    "        \"is flawlessly executed to create a seamless experience.\"\n",
    "    )\n",
    ")"
   ]
  },
  {
   "cell_type": "code",
   "execution_count": null,
   "id": "3301e671",
   "metadata": {
    "height": 251
   },
   "outputs": [],
   "source": [
    "# Agent 3: Marketing and Communications Agent\n",
    "marketing_communications_agent = Agent(\n",
    "    role=\"Marketing and Communications Agent\",\n",
    "    goal=\"Effectively market the event and \"\n",
    "         \"communicate with participants\",\n",
    "    tools=[search_tool, scrape_tool],\n",
    "    verbose=True,\n",
    "    backstory=(\n",
    "        \"Creative and communicative, \"\n",
    "        \"you craft compelling messages and \"\n",
    "        \"engage with potential attendees \"\n",
    "        \"to maximize event exposure and participation.\"\n",
    "    )\n",
    ")"
   ]
  },
  {
   "cell_type": "markdown",
   "id": "ba441ef9",
   "metadata": {},
   "source": [
    "## Creating Venue Pydantic Object\n",
    "\n",
    "- Create a class `VenueDetails` using [Pydantic BaseModel](https://docs.pydantic.dev/latest/api/base_model/).\n",
    "- Agents will populate this object with information about different venues by creating different instances of it."
   ]
  },
  {
   "cell_type": "code",
   "execution_count": null,
   "id": "af80ab5a",
   "metadata": {
    "height": 149
   },
   "outputs": [],
   "source": [
    "from pydantic import BaseModel\n",
    "# Define a Pydantic model for venue details \n",
    "# (demonstrating Output as Pydantic)\n",
    "class VenueDetails(BaseModel):\n",
    "    name: str\n",
    "    address: str\n",
    "    capacity: int\n",
    "    booking_status: str"
   ]
  },
  {
   "cell_type": "markdown",
   "id": "a388d5f1",
   "metadata": {},
   "source": [
    "## Creating Tasks\n",
    "- By using `output_json`, you can specify the structure of the output you want.\n",
    "- By using `output_file`, you can get your output in a file.\n",
    "- By setting `human_input=True`, the task will ask for human feedback (whether you like the results or not) before finalising it."
   ]
  },
  {
   "cell_type": "code",
   "execution_count": null,
   "id": "551a2f6f",
   "metadata": {
    "height": 200
   },
   "outputs": [],
   "source": [
    "venue_task = Task(\n",
    "    description=\"Find a venue in {event_city} \"\n",
    "                \"that meets criteria for {event_topic}.\",\n",
    "    expected_output=\"All the details of a specifically chosen\"\n",
    "                    \"venue you found to accommodate the event.\",\n",
    "    human_input=True,\n",
    "    output_json=VenueDetails,\n",
    "    output_file=\"venue_details.json\",  \n",
    "      # Outputs the venue details as a JSON file\n",
    "    agent=venue_coordinator\n",
    ")"
   ]
  },
  {
   "cell_type": "markdown",
   "id": "d5d25b60",
   "metadata": {},
   "source": [
    "- By setting `async_execution=True`, it means the task can run in parallel with the tasks which come after it."
   ]
  },
  {
   "cell_type": "code",
   "execution_count": null,
   "id": "d889f639",
   "metadata": {
    "height": 200
   },
   "outputs": [],
   "source": [
    "logistics_task = Task(\n",
    "    description=\"Coordinate catering and \"\n",
    "                 \"equipment for an event \"\n",
    "                 \"with {expected_participants} participants \"\n",
    "                 \"on {tentative_date}.\",\n",
    "    expected_output=\"Confirmation of all logistics arrangements \"\n",
    "                    \"including catering and equipment setup.\",\n",
    "    human_input=True,\n",
    "    async_execution=True,\n",
    "    agent=logistics_manager\n",
    ")"
   ]
  },
  {
   "cell_type": "code",
   "execution_count": null,
   "id": "96f6e3e9",
   "metadata": {
    "height": 183
   },
   "outputs": [],
   "source": [
    "marketing_task = Task(\n",
    "    description=\"Promote the {event_topic} \"\n",
    "                \"aiming to engage at least\"\n",
    "                \"{expected_participants} potential attendees.\",\n",
    "    expected_output=\"Report on marketing activities \"\n",
    "                    \"and attendee engagement formatted as markdown.\",\n",
    "    async_execution=True,\n",
    "    output_file=\"marketing_report.md\",  # Outputs the report as a text file\n",
    "    agent=marketing_communications_agent\n",
    ")"
   ]
  },
  {
   "cell_type": "markdown",
   "id": "fcf49659",
   "metadata": {},
   "source": [
    "## Creating the Crew"
   ]
  },
  {
   "cell_type": "markdown",
   "id": "3b6011a4",
   "metadata": {},
   "source": [
    "**Note**: Since you set `async_execution=True` for `logistics_task` and `marketing_task` tasks, now the order for them does not matter in the `tasks` list."
   ]
  },
  {
   "cell_type": "code",
   "execution_count": null,
   "id": "d0d26fe6",
   "metadata": {
    "height": 217
   },
   "outputs": [],
   "source": [
    "# Define the crew with agents and tasks\n",
    "event_management_crew = Crew(\n",
    "    agents=[venue_coordinator, \n",
    "            logistics_manager, \n",
    "            marketing_communications_agent],\n",
    "    \n",
    "    tasks=[venue_task, \n",
    "           logistics_task, \n",
    "           marketing_task],\n",
    "    \n",
    "    verbose=True\n",
    ")"
   ]
  },
  {
   "cell_type": "markdown",
   "id": "453a1926",
   "metadata": {},
   "source": [
    "## Running the Crew\n",
    "\n",
    "- Set the inputs for the execution of the crew."
   ]
  },
  {
   "cell_type": "code",
   "execution_count": null,
   "id": "d2e9b8ad",
   "metadata": {
    "height": 200
   },
   "outputs": [],
   "source": [
    "event_details = {\n",
    "    'event_topic': \"Tech Innovation Conference\",\n",
    "    'event_description': \"A gathering of tech innovators \"\n",
    "                         \"and industry leaders \"\n",
    "                         \"to explore future technologies.\",\n",
    "    'event_city': \"San Francisco\",\n",
    "    'tentative_date': \"2024-09-15\",\n",
    "    'expected_participants': 500,\n",
    "    'budget': 20000,\n",
    "    'venue_type': \"Conference Hall\"\n",
    "}\n",
    "event_details = {\n",
    "    'event_topic': \"Wine tasting to meet friends\",\n",
    "    'event_description': \"A gathering of people wanting to meet new friends and socialize.\",\n",
    "    'event_city': \"Stockholm\",\n",
    "    'tentative_date': \"2024-09-15\",\n",
    "    'expected_participants': 100,\n",
    "    'budget': 20000,\n",
    "    'venue_type': \"Restaurant or bar\"\n",
    "}\n",
    "event_details = {\n",
    "    'event_topic': \"Birthday number 36\",\n",
    "    'event_description': \"Picnic on a park with bubbles and games.\",\n",
    "    'event_city': \"Stockholm\",\n",
    "    'tentative_date': \"2024-07-27\",\n",
    "    'expected_participants': 20,\n",
    "    'budget': 2000,\n",
    "    'venue_type': \"Outside\"\n",
    "}"
   ]
  },
  {
   "cell_type": "markdown",
   "id": "32472a8e",
   "metadata": {},
   "source": [
    "**Note 1**: LLMs can provide different outputs for they same input, so what you get might be different than what you see in the video."
   ]
  },
  {
   "cell_type": "markdown",
   "id": "5b242cba",
   "metadata": {},
   "source": [
    "**Note 2**: \n",
    "- Since you set `human_input=True` for some tasks, the execution will ask for your input before it finishes running.\n",
    "- When it asks for feedback, use your mouse pointer to first click in the text box before typing anything."
   ]
  },
  {
   "cell_type": "code",
   "execution_count": null,
   "id": "5434542e",
   "metadata": {
    "height": 30
   },
   "outputs": [],
   "source": [
    "result = event_management_crew.kickoff(inputs=event_details)"
   ]
  },
  {
   "cell_type": "markdown",
   "id": "c4e376d0",
   "metadata": {},
   "source": [
    "- Display the generated `venue_details.json` file."
   ]
  },
  {
   "cell_type": "code",
   "execution_count": null,
   "id": "7413511b",
   "metadata": {
    "height": 132
   },
   "outputs": [],
   "source": [
    "import json\n",
    "from pprint import pprint\n",
    "\n",
    "with open('venue_details.json') as f:\n",
    "   data = json.load(f)\n",
    "\n",
    "pprint(data)"
   ]
  },
  {
   "cell_type": "markdown",
   "id": "c16c32cc",
   "metadata": {},
   "source": [
    "- Display the generated `marketing_report.md` file.\n",
    "\n",
    "**Note**: After `kickoff` execution has successfully ran, wait an extra 45 seconds for the `marketing_report.md` file to be generated. If you try to run the code below before the file has been generated, your output would look like:\n",
    "\n",
    "```\n",
    "marketing_report.md\n",
    "```\n",
    "\n",
    "If you see this output, wait some more and than try again."
   ]
  },
  {
   "cell_type": "code",
   "execution_count": null,
   "id": "d9e67a76",
   "metadata": {
    "height": 47
   },
   "outputs": [],
   "source": [
    "from IPython.display import Markdown\n",
    "Markdown(\"marketing_report.md\")"
   ]
  },
  {
   "cell_type": "code",
   "execution_count": null,
   "id": "a37efc84",
   "metadata": {
    "height": 30
   },
   "outputs": [],
   "source": []
  },
  {
   "cell_type": "code",
   "execution_count": null,
   "id": "eb3e686e",
   "metadata": {
    "height": 30
   },
   "outputs": [],
   "source": []
  },
  {
   "cell_type": "markdown",
   "id": "32528d4d",
   "metadata": {},
   "source": [
    "# L6: Multi-agent Collaboration for Financial Analysis\n",
    "\n",
    "In this lesson, you will learn ways for making agents collaborate with each other."
   ]
  },
  {
   "cell_type": "markdown",
   "id": "c86db215",
   "metadata": {},
   "source": [
    "The libraries are already installed in the classroom. If you're running this notebook on your own machine, you can install the following:\n",
    "```Python\n",
    "!pip install crewai==0.28.8 crewai_tools==0.1.6 langchain_community==0.0.29\n",
    "```"
   ]
  },
  {
   "cell_type": "code",
   "execution_count": null,
   "id": "343068da",
   "metadata": {
    "height": 64
   },
   "outputs": [],
   "source": [
    "# Warning control\n",
    "import warnings\n",
    "warnings.filterwarnings('ignore')"
   ]
  },
  {
   "cell_type": "markdown",
   "id": "b110d351",
   "metadata": {},
   "source": [
    "- Import libraries, APIs and LLM"
   ]
  },
  {
   "cell_type": "code",
   "execution_count": null,
   "id": "7cc3a26d",
   "metadata": {
    "height": 30
   },
   "outputs": [],
   "source": [
    "from crewai import Agent, Task, Crew"
   ]
  },
  {
   "cell_type": "markdown",
   "id": "69e5011d",
   "metadata": {},
   "source": [
    "**Note**: \n",
    "- The video uses `gpt-4-turbo`, but due to certain constraints, and in order to offer this course for free to everyone, the code you'll run here will use `gpt-3.5-turbo`.\n",
    "- You can use `gpt-4-turbo` when you run the notebook _locally_ (using `gpt-4-turbo` will not work on the platform)\n",
    "- Thank you for your understanding!"
   ]
  },
  {
   "cell_type": "code",
   "execution_count": null,
   "id": "825f4c13",
   "metadata": {
    "height": 115
   },
   "outputs": [],
   "source": [
    "import os\n",
    "from utils import get_openai_api_key, get_serper_api_key\n",
    "\n",
    "openai_api_key = get_openai_api_key()\n",
    "os.environ[\"OPENAI_MODEL_NAME\"] = 'gpt-3.5-turbo'\n",
    "os.environ[\"SERPER_API_KEY\"] = get_serper_api_key()"
   ]
  },
  {
   "cell_type": "markdown",
   "id": "2afc5a27",
   "metadata": {},
   "source": [
    "## crewAI Tools"
   ]
  },
  {
   "cell_type": "code",
   "execution_count": null,
   "id": "dc72c7d9",
   "metadata": {
    "height": 81
   },
   "outputs": [],
   "source": [
    "from crewai_tools import ScrapeWebsiteTool, SerperDevTool\n",
    "\n",
    "search_tool = SerperDevTool()\n",
    "scrape_tool = ScrapeWebsiteTool()"
   ]
  },
  {
   "cell_type": "markdown",
   "id": "ccf8b21b",
   "metadata": {},
   "source": [
    "## Creating Agents"
   ]
  },
  {
   "cell_type": "code",
   "execution_count": null,
   "id": "4f2ec1bd",
   "metadata": {
    "height": 234
   },
   "outputs": [],
   "source": [
    "data_analyst_agent = Agent(\n",
    "    role=\"Data Analyst\",\n",
    "    goal=\"Monitor and analyze market data in real-time \"\n",
    "         \"to identify trends and predict market movements.\",\n",
    "    backstory=\"Specializing in financial markets, this agent \"\n",
    "              \"uses statistical modeling and machine learning \"\n",
    "              \"to provide crucial insights. With a knack for data, \"\n",
    "              \"the Data Analyst Agent is the cornerstone for \"\n",
    "              \"informing trading decisions.\",\n",
    "    verbose=True,\n",
    "    allow_delegation=True,\n",
    "    tools = [scrape_tool, search_tool]\n",
    ")"
   ]
  },
  {
   "cell_type": "code",
   "execution_count": null,
   "id": "f6cd8d98",
   "metadata": {
    "height": 234
   },
   "outputs": [],
   "source": [
    "trading_strategy_agent = Agent(\n",
    "    role=\"Trading Strategy Developer\",\n",
    "    goal=\"Develop and test various trading strategies based \"\n",
    "         \"on insights from the Data Analyst Agent.\",\n",
    "    backstory=\"Equipped with a deep understanding of financial \"\n",
    "              \"markets and quantitative analysis, this agent \"\n",
    "              \"devises and refines trading strategies. It evaluates \"\n",
    "              \"the performance of different approaches to determine \"\n",
    "              \"the most profitable and risk-averse options.\",\n",
    "    verbose=True,\n",
    "    allow_delegation=True,\n",
    "    tools = [scrape_tool, search_tool]\n",
    ")"
   ]
  },
  {
   "cell_type": "code",
   "execution_count": null,
   "id": "1e29e282",
   "metadata": {
    "height": 234
   },
   "outputs": [],
   "source": [
    "execution_agent = Agent(\n",
    "    role=\"Trade Advisor\",\n",
    "    goal=\"Suggest optimal trade execution strategies \"\n",
    "         \"based on approved trading strategies.\",\n",
    "    backstory=\"This agent specializes in analyzing the timing, price, \"\n",
    "              \"and logistical details of potential trades. By evaluating \"\n",
    "              \"these factors, it provides well-founded suggestions for \"\n",
    "              \"when and how trades should be executed to maximize \"\n",
    "              \"efficiency and adherence to strategy.\",\n",
    "    verbose=True,\n",
    "    allow_delegation=True,\n",
    "    tools = [scrape_tool, search_tool]\n",
    ")"
   ]
  },
  {
   "cell_type": "code",
   "execution_count": null,
   "id": "2e0429c4",
   "metadata": {
    "height": 234
   },
   "outputs": [],
   "source": [
    "risk_management_agent = Agent(\n",
    "    role=\"Risk Advisor\",\n",
    "    goal=\"Evaluate and provide insights on the risks \"\n",
    "         \"associated with potential trading activities.\",\n",
    "    backstory=\"Armed with a deep understanding of risk assessment models \"\n",
    "              \"and market dynamics, this agent scrutinizes the potential \"\n",
    "              \"risks of proposed trades. It offers a detailed analysis of \"\n",
    "              \"risk exposure and suggests safeguards to ensure that \"\n",
    "              \"trading activities align with the firm’s risk tolerance.\",\n",
    "    verbose=True,\n",
    "    allow_delegation=True,\n",
    "    tools = [scrape_tool, search_tool]\n",
    ")"
   ]
  },
  {
   "cell_type": "markdown",
   "id": "3409973e",
   "metadata": {},
   "source": [
    "## Creating Tasks"
   ]
  },
  {
   "cell_type": "code",
   "execution_count": null,
   "id": "c8774a14",
   "metadata": {
    "height": 251
   },
   "outputs": [],
   "source": [
    "# Task for Data Analyst Agent: Analyze Market Data\n",
    "data_analysis_task = Task(\n",
    "    description=(\n",
    "        \"Continuously monitor and analyze market data for \"\n",
    "        \"the selected stock ({stock_selection}). \"\n",
    "        \"Use statistical modeling and machine learning to \"\n",
    "        \"identify trends and predict market movements.\"\n",
    "    ),\n",
    "    expected_output=(\n",
    "        \"Insights and alerts about significant market \"\n",
    "        \"opportunities or threats for {stock_selection}.\"\n",
    "    ),\n",
    "    agent=data_analyst_agent,\n",
    ")"
   ]
  },
  {
   "cell_type": "code",
   "execution_count": null,
   "id": "22b70950",
   "metadata": {
    "height": 268
   },
   "outputs": [],
   "source": [
    "# Task for Trading Strategy Agent: Develop Trading Strategies\n",
    "strategy_development_task = Task(\n",
    "    description=(\n",
    "        \"Develop and refine trading strategies based on \"\n",
    "        \"the insights from the Data Analyst and \"\n",
    "        \"user-defined risk tolerance ({risk_tolerance}). \"\n",
    "        \"Consider trading preferences ({trading_strategy_preference}).\"\n",
    "    ),\n",
    "    expected_output=(\n",
    "        \"A set of potential trading strategies for {stock_selection} \"\n",
    "        \"that align with the user's risk tolerance.\"\n",
    "    ),\n",
    "    agent=trading_strategy_agent,\n",
    ")\n"
   ]
  },
  {
   "cell_type": "code",
   "execution_count": null,
   "id": "ae907608",
   "metadata": {
    "height": 251
   },
   "outputs": [],
   "source": [
    "# Task for Trade Advisor Agent: Plan Trade Execution\n",
    "execution_planning_task = Task(\n",
    "    description=(\n",
    "        \"Analyze approved trading strategies to determine the \"\n",
    "        \"best execution methods for {stock_selection}, \"\n",
    "        \"considering current market conditions and optimal pricing.\"\n",
    "    ),\n",
    "    expected_output=(\n",
    "        \"Detailed execution plans suggesting how and when to \"\n",
    "        \"execute trades for {stock_selection}.\"\n",
    "    ),\n",
    "    agent=execution_agent,\n",
    ")\n"
   ]
  },
  {
   "cell_type": "code",
   "execution_count": null,
   "id": "6e54cc2c",
   "metadata": {
    "height": 251
   },
   "outputs": [],
   "source": [
    "# Task for Risk Advisor Agent: Assess Trading Risks\n",
    "risk_assessment_task = Task(\n",
    "    description=(\n",
    "        \"Evaluate the risks associated with the proposed trading \"\n",
    "        \"strategies and execution plans for {stock_selection}. \"\n",
    "        \"Provide a detailed analysis of potential risks \"\n",
    "        \"and suggest mitigation strategies.\"\n",
    "    ),\n",
    "    expected_output=(\n",
    "        \"A comprehensive risk analysis report detailing potential \"\n",
    "        \"risks and mitigation recommendations for {stock_selection}.\"\n",
    "    ),\n",
    "    agent=risk_management_agent,\n",
    ")"
   ]
  },
  {
   "cell_type": "markdown",
   "id": "7af4dbf7",
   "metadata": {},
   "source": [
    "## Creating the Crew\n",
    "- The `Process` class helps to delegate the workflow to the Agents (kind of like a Manager at work)\n",
    "- In the example below, it will run this hierarchically.\n",
    "- `manager_llm` lets you choose the \"manager\" LLM you want to use."
   ]
  },
  {
   "cell_type": "code",
   "execution_count": null,
   "id": "7361c87f",
   "metadata": {
    "height": 353
   },
   "outputs": [],
   "source": [
    "from crewai import Crew, Process\n",
    "from langchain_openai import ChatOpenAI\n",
    "\n",
    "# Define the crew with agents and tasks\n",
    "financial_trading_crew = Crew(\n",
    "    agents=[data_analyst_agent, \n",
    "            trading_strategy_agent, \n",
    "            execution_agent, \n",
    "            risk_management_agent],\n",
    "    \n",
    "    tasks=[data_analysis_task, \n",
    "           strategy_development_task, \n",
    "           execution_planning_task, \n",
    "           risk_assessment_task],\n",
    "    \n",
    "    manager_llm=ChatOpenAI(model=\"gpt-3.5-turbo\", \n",
    "                           temperature=0.7),\n",
    "    process=Process.hierarchical,\n",
    "    verbose=True\n",
    ")"
   ]
  },
  {
   "cell_type": "markdown",
   "id": "29324fff",
   "metadata": {},
   "source": [
    "## Running the Crew\n",
    "\n",
    "- Set the inputs for the execution of the crew."
   ]
  },
  {
   "cell_type": "code",
   "execution_count": null,
   "id": "f5501645",
   "metadata": {
    "height": 149
   },
   "outputs": [],
   "source": [
    "# Example data for kicking off the process\n",
    "financial_trading_inputs = {\n",
    "    'stock_selection': 'AAPL',\n",
    "    'initial_capital': '100000',\n",
    "    'risk_tolerance': 'Medium',\n",
    "    'trading_strategy_preference': 'Day Trading',\n",
    "    'news_impact_consideration': True\n",
    "}"
   ]
  },
  {
   "cell_type": "markdown",
   "id": "678b54ca",
   "metadata": {},
   "source": [
    "**Note**: LLMs can provide different outputs for they same input, so what you get might be different than what you see in the video."
   ]
  },
  {
   "cell_type": "code",
   "execution_count": null,
   "id": "ef8305db",
   "metadata": {
    "height": 47
   },
   "outputs": [],
   "source": [
    "### this execution will take some time to run\n",
    "result = financial_trading_crew.kickoff(inputs=financial_trading_inputs)"
   ]
  },
  {
   "cell_type": "markdown",
   "id": "f63beef8",
   "metadata": {},
   "source": [
    "- Display the final result as Markdown."
   ]
  },
  {
   "cell_type": "code",
   "execution_count": null,
   "id": "0647e7a4",
   "metadata": {
    "height": 47
   },
   "outputs": [],
   "source": [
    "from IPython.display import Markdown\n",
    "Markdown(result)"
   ]
  },
  {
   "cell_type": "code",
   "execution_count": null,
   "id": "4d12c9e7",
   "metadata": {
    "height": 30
   },
   "outputs": [],
   "source": []
  },
  {
   "cell_type": "code",
   "execution_count": null,
   "id": "468cd9d3",
   "metadata": {
    "height": 30
   },
   "outputs": [],
   "source": []
  },
  {
   "cell_type": "markdown",
   "id": "a5d66a12",
   "metadata": {},
   "source": [
    "# L7: Build a Crew to Tailor Job Applications\n",
    "\n",
    "In this lesson, you will built your first multi-agent system."
   ]
  },
  {
   "cell_type": "markdown",
   "id": "817ad26f",
   "metadata": {},
   "source": [
    "The libraries are already installed in the classroom. If you're running this notebook on your own machine, you can install the following:\n",
    "```Python\n",
    "!pip install crewai==0.28.8 crewai_tools==0.1.6 langchain_community==0.0.29\n",
    "```"
   ]
  },
  {
   "cell_type": "code",
   "execution_count": null,
   "id": "58c1e87a",
   "metadata": {
    "height": 64
   },
   "outputs": [],
   "source": [
    "# Warning control\n",
    "import warnings\n",
    "warnings.filterwarnings('ignore')"
   ]
  },
  {
   "cell_type": "markdown",
   "id": "897e3e0c",
   "metadata": {},
   "source": [
    "- Import libraries, APIs and LLM"
   ]
  },
  {
   "cell_type": "code",
   "execution_count": null,
   "id": "32598558",
   "metadata": {
    "height": 30
   },
   "outputs": [],
   "source": [
    "from crewai import Agent, Task, Crew"
   ]
  },
  {
   "cell_type": "markdown",
   "id": "4475bb46",
   "metadata": {},
   "source": [
    "**Note**: \n",
    "- The video uses `gpt-4-turbo`, but due to certain constraints, and in order to offer this course for free to everyone, the code you'll run here will use `gpt-3.5-turbo`.\n",
    "- You can use `gpt-4-turbo` when you run the notebook _locally_ (using `gpt-4-turbo` will not work on the platform)\n",
    "- Thank you for your understanding!"
   ]
  },
  {
   "cell_type": "code",
   "execution_count": null,
   "id": "81a901e2",
   "metadata": {
    "height": 115
   },
   "outputs": [],
   "source": [
    "import os\n",
    "from utils import get_openai_api_key, get_serper_api_key\n",
    "\n",
    "openai_api_key = get_openai_api_key()\n",
    "os.environ[\"OPENAI_MODEL_NAME\"] = 'gpt-3.5-turbo'\n",
    "os.environ[\"SERPER_API_KEY\"] = get_serper_api_key()"
   ]
  },
  {
   "cell_type": "markdown",
   "id": "683f0126",
   "metadata": {},
   "source": [
    "## crewAI Tools"
   ]
  },
  {
   "cell_type": "code",
   "execution_count": null,
   "id": "471a5d8c",
   "metadata": {
    "height": 200
   },
   "outputs": [],
   "source": [
    "from crewai_tools import (\n",
    "  FileReadTool,\n",
    "  ScrapeWebsiteTool,\n",
    "  MDXSearchTool,\n",
    "  SerperDevTool\n",
    ")\n",
    "\n",
    "search_tool = SerperDevTool()\n",
    "scrape_tool = ScrapeWebsiteTool()\n",
    "read_resume = FileReadTool(file_path='./fake_resume.md')\n",
    "semantic_search_resume = MDXSearchTool(mdx='./fake_resume.md')"
   ]
  },
  {
   "cell_type": "markdown",
   "id": "1d0488e8",
   "metadata": {},
   "source": [
    "- Uncomment and run the cell below if you wish to view `fake_resume.md` in the notebook."
   ]
  },
  {
   "cell_type": "code",
   "execution_count": null,
   "id": "ca10e937",
   "metadata": {
    "height": 47
   },
   "outputs": [],
   "source": [
    "# from IPython.display import Markdown, display\n",
    "# display(Markdown(\"./fake_resume.md\"))"
   ]
  },
  {
   "cell_type": "markdown",
   "id": "2f1fe99d",
   "metadata": {},
   "source": [
    "## Creating Agents"
   ]
  },
  {
   "cell_type": "code",
   "execution_count": null,
   "id": "df751b01",
   "metadata": {
    "height": 302
   },
   "outputs": [],
   "source": [
    "# Agent 1: Researcher\n",
    "researcher = Agent(\n",
    "    role=\"Tech Job Researcher\",\n",
    "    goal=\"Make sure to do amazing analysis on \"\n",
    "         \"job posting to help job applicants\",\n",
    "    tools = [scrape_tool, search_tool],\n",
    "    verbose=True,\n",
    "    backstory=(\n",
    "        \"As a Job Researcher, your prowess in \"\n",
    "        \"navigating and extracting critical \"\n",
    "        \"information from job postings is unmatched.\"\n",
    "        \"Your skills help pinpoint the necessary \"\n",
    "        \"qualifications and skills sought \"\n",
    "        \"by employers, forming the foundation for \"\n",
    "        \"effective application tailoring.\"\n",
    "    )\n",
    ")"
   ]
  },
  {
   "cell_type": "code",
   "execution_count": null,
   "id": "a80ab772",
   "metadata": {
    "height": 285
   },
   "outputs": [],
   "source": [
    "# Agent 2: Profiler\n",
    "profiler = Agent(\n",
    "    role=\"Personal Profiler for Engineers\",\n",
    "    goal=\"Do increditble research on job applicants \"\n",
    "         \"to help them stand out in the job market\",\n",
    "    tools = [scrape_tool, search_tool,\n",
    "             read_resume, semantic_search_resume],\n",
    "    verbose=True,\n",
    "    backstory=(\n",
    "        \"Equipped with analytical prowess, you dissect \"\n",
    "        \"and synthesize information \"\n",
    "        \"from diverse sources to craft comprehensive \"\n",
    "        \"personal and professional profiles, laying the \"\n",
    "        \"groundwork for personalized resume enhancements.\"\n",
    "    )\n",
    ")"
   ]
  },
  {
   "cell_type": "code",
   "execution_count": null,
   "id": "2a2da6fa",
   "metadata": {
    "height": 268
   },
   "outputs": [],
   "source": [
    "# Agent 3: Resume Strategist\n",
    "resume_strategist = Agent(\n",
    "    role=\"Resume Strategist for Engineers\",\n",
    "    goal=\"Find all the best ways to make a \"\n",
    "         \"resume stand out in the job market.\",\n",
    "    tools = [scrape_tool, search_tool,\n",
    "             read_resume, semantic_search_resume],\n",
    "    verbose=True,\n",
    "    backstory=(\n",
    "        \"With a strategic mind and an eye for detail, you \"\n",
    "        \"excel at refining resumes to highlight the most \"\n",
    "        \"relevant skills and experiences, ensuring they \"\n",
    "        \"resonate perfectly with the job's requirements.\"\n",
    "    )\n",
    ")"
   ]
  },
  {
   "cell_type": "code",
   "execution_count": null,
   "id": "39851100",
   "metadata": {
    "height": 285
   },
   "outputs": [],
   "source": [
    "# Agent 4: Interview Preparer\n",
    "interview_preparer = Agent(\n",
    "    role=\"Engineering Interview Preparer\",\n",
    "    goal=\"Create interview questions and talking points \"\n",
    "         \"based on the resume and job requirements\",\n",
    "    tools = [scrape_tool, search_tool,\n",
    "             read_resume, semantic_search_resume],\n",
    "    verbose=True,\n",
    "    backstory=(\n",
    "        \"Your role is crucial in anticipating the dynamics of \"\n",
    "        \"interviews. With your ability to formulate key questions \"\n",
    "        \"and talking points, you prepare candidates for success, \"\n",
    "        \"ensuring they can confidently address all aspects of the \"\n",
    "        \"job they are applying for.\"\n",
    "    )\n",
    ")"
   ]
  },
  {
   "cell_type": "markdown",
   "id": "3030f189",
   "metadata": {},
   "source": [
    "## Creating Tasks"
   ]
  },
  {
   "cell_type": "code",
   "execution_count": null,
   "id": "826e8338",
   "metadata": {
    "height": 268
   },
   "outputs": [],
   "source": [
    "# Task for Researcher Agent: Extract Job Requirements\n",
    "research_task = Task(\n",
    "    description=(\n",
    "        \"Analyze the job posting URL provided ({job_posting_url}) \"\n",
    "        \"to extract key skills, experiences, and qualifications \"\n",
    "        \"required. Use the tools to gather content and identify \"\n",
    "        \"and categorize the requirements.\"\n",
    "    ),\n",
    "    expected_output=(\n",
    "        \"A structured list of job requirements, including necessary \"\n",
    "        \"skills, qualifications, and experiences.\"\n",
    "    ),\n",
    "    agent=researcher,\n",
    "    async_execution=True\n",
    ")"
   ]
  },
  {
   "cell_type": "code",
   "execution_count": null,
   "id": "5af0f343",
   "metadata": {
    "height": 285
   },
   "outputs": [],
   "source": [
    "# Task for Profiler Agent: Compile Comprehensive Profile\n",
    "profile_task = Task(\n",
    "    description=(\n",
    "        \"Compile a detailed personal and professional profile \"\n",
    "        \"using the GitHub ({github_url}) URLs, and personal write-up \"\n",
    "        \"({personal_writeup}). Utilize tools to extract and \"\n",
    "        \"synthesize information from these sources.\"\n",
    "    ),\n",
    "    expected_output=(\n",
    "        \"A comprehensive profile document that includes skills, \"\n",
    "        \"project experiences, contributions, interests, and \"\n",
    "        \"communication style.\"\n",
    "    ),\n",
    "    agent=profiler,\n",
    "    async_execution=True\n",
    ")"
   ]
  },
  {
   "cell_type": "markdown",
   "id": "0f65440c",
   "metadata": {},
   "source": [
    "- You can pass a list of tasks as `context` to a task.\n",
    "- The task then takes into account the output of those tasks in its execution.\n",
    "- The task will not run until it has the output(s) from those tasks."
   ]
  },
  {
   "cell_type": "code",
   "execution_count": null,
   "id": "09529578",
   "metadata": {
    "height": 353
   },
   "outputs": [],
   "source": [
    "# Task for Resume Strategist Agent: Align Resume with Job Requirements\n",
    "resume_strategy_task = Task(\n",
    "    description=(\n",
    "        \"Using the profile and job requirements obtained from \"\n",
    "        \"previous tasks, tailor the resume to highlight the most \"\n",
    "        \"relevant areas. Employ tools to adjust and enhance the \"\n",
    "        \"resume content. Make sure this is the best resume even but \"\n",
    "        \"don't make up any information. Update every section, \"\n",
    "        \"inlcuding the initial summary, work experience, skills, \"\n",
    "        \"and education. All to better reflrect the candidates \"\n",
    "        \"abilities and how it matches the job posting.\"\n",
    "    ),\n",
    "    expected_output=(\n",
    "        \"An updated resume that effectively highlights the candidate's \"\n",
    "        \"qualifications and experiences relevant to the job.\"\n",
    "    ),\n",
    "    output_file=\"tailored_resume.md\",\n",
    "    context=[research_task, profile_task],\n",
    "    agent=resume_strategist\n",
    ")"
   ]
  },
  {
   "cell_type": "code",
   "execution_count": null,
   "id": "1e979ae8",
   "metadata": {
    "height": 336
   },
   "outputs": [],
   "source": [
    "# Task for Interview Preparer Agent: Develop Interview Materials\n",
    "interview_preparation_task = Task(\n",
    "    description=(\n",
    "        \"Create a set of potential interview questions and talking \"\n",
    "        \"points based on the tailored resume and job requirements. \"\n",
    "        \"Utilize tools to generate relevant questions and discussion \"\n",
    "        \"points. Make sure to use these question and talking points to \"\n",
    "        \"help the candiadte highlight the main points of the resume \"\n",
    "        \"and how it matches the job posting.\"\n",
    "    ),\n",
    "    expected_output=(\n",
    "        \"A document containing key questions and talking points \"\n",
    "        \"that the candidate should prepare for the initial interview.\"\n",
    "    ),\n",
    "    output_file=\"interview_materials.md\",\n",
    "    context=[research_task, profile_task, resume_strategy_task],\n",
    "    agent=interview_preparer\n",
    ")\n"
   ]
  },
  {
   "cell_type": "markdown",
   "id": "8340fd49",
   "metadata": {},
   "source": [
    "## Creating the Crew"
   ]
  },
  {
   "cell_type": "code",
   "execution_count": null,
   "id": "96ea4228",
   "metadata": {
    "height": 234
   },
   "outputs": [],
   "source": [
    "job_application_crew = Crew(\n",
    "    agents=[researcher,\n",
    "            profiler,\n",
    "            resume_strategist,\n",
    "            interview_preparer],\n",
    "\n",
    "    tasks=[research_task,\n",
    "           profile_task,\n",
    "           resume_strategy_task,\n",
    "           interview_preparation_task],\n",
    "\n",
    "    verbose=True\n",
    ")"
   ]
  },
  {
   "cell_type": "markdown",
   "id": "f9d4c43b",
   "metadata": {},
   "source": [
    "## Running the Crew\n",
    "\n",
    "- Set the inputs for the execution of the crew."
   ]
  },
  {
   "cell_type": "code",
   "execution_count": null,
   "id": "bfbfc856",
   "metadata": {
    "height": 217
   },
   "outputs": [],
   "source": [
    "job_application_inputs = {\n",
    "    'job_posting_url': 'https://jobs.lever.co/AIFund/6c82e23e-d954-4dd8-a734-c0c2c5ee00f1?lever-origin=applied&lever-source%5B%5D=AI+Fund',\n",
    "    'github_url': 'https://github.com/joaomdmoura',\n",
    "    'personal_writeup': \"\"\"Noah is an accomplished Software\n",
    "    Engineering Leader with 18 years of experience, specializing in\n",
    "    managing remote and in-office teams, and expert in multiple\n",
    "    programming languages and frameworks. He holds an MBA and a strong\n",
    "    background in AI and data science. Noah has successfully led\n",
    "    major tech initiatives and startups, proving his ability to drive\n",
    "    innovation and growth in the tech industry. Ideal for leadership\n",
    "    roles that require a strategic and innovative approach.\"\"\"\n",
    "}"
   ]
  },
  {
   "cell_type": "markdown",
   "id": "bf1f9147",
   "metadata": {},
   "source": [
    "**Note**: LLMs can provide different outputs for they same input, so what you get might be different than what you see in the video."
   ]
  },
  {
   "cell_type": "code",
   "execution_count": null,
   "id": "cc9f2b6c",
   "metadata": {
    "height": 47
   },
   "outputs": [],
   "source": [
    "### this execution will take a few minutes to run\n",
    "result = job_application_crew.kickoff(inputs=job_application_inputs)"
   ]
  },
  {
   "cell_type": "markdown",
   "id": "40b9292c",
   "metadata": {},
   "source": [
    "- Dislplay the generated `tailored_resume.md` file."
   ]
  },
  {
   "cell_type": "code",
   "execution_count": null,
   "id": "b686a29d",
   "metadata": {
    "height": 47
   },
   "outputs": [],
   "source": [
    "from IPython.display import Markdown, display\n",
    "display(Markdown(\"./tailored_resume.md\"))"
   ]
  },
  {
   "cell_type": "markdown",
   "id": "6e7cfe3a",
   "metadata": {},
   "source": [
    "- Dislplay the generated `interview_materials.md` file."
   ]
  },
  {
   "cell_type": "code",
   "execution_count": null,
   "id": "68fc78dd",
   "metadata": {
    "height": 30
   },
   "outputs": [],
   "source": [
    "display(Markdown(\"./interview_materials.md\"))"
   ]
  }
 ],
 "metadata": {
  "kernelspec": {
   "display_name": "default_venv",
   "language": "python",
   "name": "python3"
  },
  "language_info": {
   "name": "python",
   "version": "3.10.12"
  }
 },
 "nbformat": 4,
 "nbformat_minor": 5
}
